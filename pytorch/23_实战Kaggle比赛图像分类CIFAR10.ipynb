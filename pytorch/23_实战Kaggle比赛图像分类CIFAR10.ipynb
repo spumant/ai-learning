{
 "cells": [
  {
   "cell_type": "code",
   "execution_count": 1,
   "metadata": {
    "collapsed": true
   },
   "outputs": [],
   "source": [
    "import collections\n",
    "import math\n",
    "import os\n",
    "import shutil\n",
    "import pandas as pd\n",
    "import torch\n",
    "import torchvision\n",
    "from torch import nn\n",
    "from d2l import torch as d2l"
   ]
  },
  {
   "cell_type": "code",
   "execution_count": 2,
   "outputs": [],
   "source": [
    "# 我们提供包含前1000个训练图像和5个随即测试图像的数据集的小规模样本\n",
    "# cifar10_tiny是cifar10中每一个类把前面一千个训练图片拿出来，测试是每一个类挑五个图片\n",
    "d2l.DATA_HUB['cifar10_tiny'] = (d2l.DATA_URL + 'kaggle_cifar10_tiny.zip',\n",
    "                                '2068874e4b9a9f0fb07ebe0ad2b29754449ccacd')"
   ],
   "metadata": {
    "collapsed": false
   }
  },
  {
   "cell_type": "code",
   "execution_count": 3,
   "outputs": [],
   "source": [
    "demo = True"
   ],
   "metadata": {
    "collapsed": false
   }
  },
  {
   "cell_type": "code",
   "execution_count": 4,
   "outputs": [
    {
     "name": "stdout",
     "output_type": "stream",
     "text": [
      "Downloading ..\\data\\kaggle_cifar10_tiny.zip from http://d2l-data.s3-accelerate.amazonaws.com/kaggle_cifar10_tiny.zip...\n"
     ]
    }
   ],
   "source": [
    "if demo:\n",
    "    data_dir = d2l.download_extract('cifar10_tiny')\n",
    "else:\n",
    "    data_dir = '../data/cifar-10'"
   ],
   "metadata": {
    "collapsed": false
   }
  },
  {
   "cell_type": "code",
   "execution_count": 5,
   "outputs": [],
   "source": [
    "# 整理数据集\n",
    "def read_csv_labels(fname):\n",
    "    \"\"\"读取 'fname' 来给标签字典返回一个文件名。\"\"\"\n",
    "    with open(fname, 'r') as f:\n",
    "        lines = f.readlines()[1:]  # 一行一行读进来，每一行为列表中一个元素\n",
    "    tokens = [l.rstrip().split(',') for l in lines]  # 遍历列表每一个元素，切分\n",
    "    return dict(((name, label) for name, label in tokens))"
   ],
   "metadata": {
    "collapsed": false
   }
  },
  {
   "cell_type": "code",
   "execution_count": 6,
   "outputs": [
    {
     "data": {
      "text/plain": "{'1': 'frog',\n '2': 'truck',\n '3': 'truck',\n '4': 'deer',\n '5': 'automobile',\n '6': 'automobile',\n '7': 'bird',\n '8': 'horse',\n '9': 'ship',\n '10': 'cat',\n '11': 'deer',\n '12': 'horse',\n '13': 'horse',\n '14': 'bird',\n '15': 'truck',\n '16': 'truck',\n '17': 'truck',\n '18': 'cat',\n '19': 'bird',\n '20': 'frog',\n '21': 'deer',\n '22': 'cat',\n '23': 'frog',\n '24': 'frog',\n '25': 'bird',\n '26': 'frog',\n '27': 'cat',\n '28': 'dog',\n '29': 'deer',\n '30': 'airplane',\n '31': 'airplane',\n '32': 'truck',\n '33': 'automobile',\n '34': 'cat',\n '35': 'deer',\n '36': 'airplane',\n '37': 'cat',\n '38': 'horse',\n '39': 'cat',\n '40': 'cat',\n '41': 'dog',\n '42': 'bird',\n '43': 'bird',\n '44': 'horse',\n '45': 'automobile',\n '46': 'automobile',\n '47': 'automobile',\n '48': 'bird',\n '49': 'bird',\n '50': 'airplane',\n '51': 'truck',\n '52': 'dog',\n '53': 'horse',\n '54': 'truck',\n '55': 'bird',\n '56': 'bird',\n '57': 'dog',\n '58': 'bird',\n '59': 'deer',\n '60': 'cat',\n '61': 'automobile',\n '62': 'automobile',\n '63': 'ship',\n '64': 'bird',\n '65': 'automobile',\n '66': 'automobile',\n '67': 'deer',\n '68': 'truck',\n '69': 'horse',\n '70': 'ship',\n '71': 'dog',\n '72': 'truck',\n '73': 'frog',\n '74': 'horse',\n '75': 'cat',\n '76': 'automobile',\n '77': 'truck',\n '78': 'airplane',\n '79': 'cat',\n '80': 'automobile',\n '81': 'cat',\n '82': 'dog',\n '83': 'deer',\n '84': 'dog',\n '85': 'horse',\n '86': 'horse',\n '87': 'deer',\n '88': 'horse',\n '89': 'truck',\n '90': 'deer',\n '91': 'bird',\n '92': 'cat',\n '93': 'ship',\n '94': 'airplane',\n '95': 'automobile',\n '96': 'frog',\n '97': 'automobile',\n '98': 'automobile',\n '99': 'deer',\n '100': 'automobile',\n '101': 'ship',\n '102': 'cat',\n '103': 'truck',\n '104': 'frog',\n '105': 'frog',\n '106': 'automobile',\n '107': 'ship',\n '108': 'dog',\n '109': 'bird',\n '110': 'truck',\n '111': 'truck',\n '112': 'ship',\n '113': 'automobile',\n '114': 'horse',\n '115': 'horse',\n '116': 'airplane',\n '117': 'airplane',\n '118': 'frog',\n '119': 'truck',\n '120': 'automobile',\n '121': 'bird',\n '122': 'bird',\n '123': 'truck',\n '124': 'bird',\n '125': 'frog',\n '126': 'frog',\n '127': 'automobile',\n '128': 'truck',\n '129': 'dog',\n '130': 'airplane',\n '131': 'deer',\n '132': 'horse',\n '133': 'frog',\n '134': 'horse',\n '135': 'automobile',\n '136': 'ship',\n '137': 'automobile',\n '138': 'automobile',\n '139': 'bird',\n '140': 'ship',\n '141': 'automobile',\n '142': 'cat',\n '143': 'cat',\n '144': 'frog',\n '145': 'bird',\n '146': 'deer',\n '147': 'truck',\n '148': 'truck',\n '149': 'dog',\n '150': 'deer',\n '151': 'cat',\n '152': 'frog',\n '153': 'horse',\n '154': 'deer',\n '155': 'frog',\n '156': 'ship',\n '157': 'dog',\n '158': 'dog',\n '159': 'deer',\n '160': 'cat',\n '161': 'automobile',\n '162': 'ship',\n '163': 'deer',\n '164': 'horse',\n '165': 'frog',\n '166': 'airplane',\n '167': 'truck',\n '168': 'dog',\n '169': 'automobile',\n '170': 'cat',\n '171': 'ship',\n '172': 'bird',\n '173': 'horse',\n '174': 'dog',\n '175': 'cat',\n '176': 'deer',\n '177': 'automobile',\n '178': 'dog',\n '179': 'horse',\n '180': 'airplane',\n '181': 'deer',\n '182': 'horse',\n '183': 'dog',\n '184': 'dog',\n '185': 'automobile',\n '186': 'airplane',\n '187': 'truck',\n '188': 'frog',\n '189': 'truck',\n '190': 'airplane',\n '191': 'ship',\n '192': 'horse',\n '193': 'ship',\n '194': 'ship',\n '195': 'bird',\n '196': 'dog',\n '197': 'bird',\n '198': 'cat',\n '199': 'dog',\n '200': 'airplane',\n '201': 'frog',\n '202': 'automobile',\n '203': 'truck',\n '204': 'cat',\n '205': 'frog',\n '206': 'truck',\n '207': 'automobile',\n '208': 'cat',\n '209': 'truck',\n '210': 'frog',\n '211': 'frog',\n '212': 'horse',\n '213': 'automobile',\n '214': 'airplane',\n '215': 'truck',\n '216': 'dog',\n '217': 'ship',\n '218': 'dog',\n '219': 'bird',\n '220': 'truck',\n '221': 'airplane',\n '222': 'ship',\n '223': 'ship',\n '224': 'airplane',\n '225': 'frog',\n '226': 'truck',\n '227': 'automobile',\n '228': 'automobile',\n '229': 'frog',\n '230': 'cat',\n '231': 'horse',\n '232': 'frog',\n '233': 'frog',\n '234': 'airplane',\n '235': 'frog',\n '236': 'frog',\n '237': 'automobile',\n '238': 'horse',\n '239': 'automobile',\n '240': 'dog',\n '241': 'ship',\n '242': 'cat',\n '243': 'frog',\n '244': 'frog',\n '245': 'ship',\n '246': 'frog',\n '247': 'ship',\n '248': 'deer',\n '249': 'frog',\n '250': 'frog',\n '251': 'automobile',\n '252': 'cat',\n '253': 'ship',\n '254': 'cat',\n '255': 'deer',\n '256': 'automobile',\n '257': 'horse',\n '258': 'automobile',\n '259': 'cat',\n '260': 'ship',\n '261': 'dog',\n '262': 'automobile',\n '263': 'automobile',\n '264': 'deer',\n '265': 'airplane',\n '266': 'truck',\n '267': 'cat',\n '268': 'horse',\n '269': 'deer',\n '270': 'truck',\n '271': 'truck',\n '272': 'bird',\n '273': 'deer',\n '274': 'truck',\n '275': 'truck',\n '276': 'automobile',\n '277': 'airplane',\n '278': 'dog',\n '279': 'truck',\n '280': 'airplane',\n '281': 'ship',\n '282': 'bird',\n '283': 'automobile',\n '284': 'bird',\n '285': 'airplane',\n '286': 'dog',\n '287': 'frog',\n '288': 'cat',\n '289': 'bird',\n '290': 'horse',\n '291': 'ship',\n '292': 'ship',\n '293': 'frog',\n '294': 'airplane',\n '295': 'horse',\n '296': 'truck',\n '297': 'deer',\n '298': 'dog',\n '299': 'frog',\n '300': 'deer',\n '301': 'bird',\n '302': 'automobile',\n '303': 'automobile',\n '304': 'bird',\n '305': 'automobile',\n '306': 'dog',\n '307': 'truck',\n '308': 'truck',\n '309': 'airplane',\n '310': 'ship',\n '311': 'deer',\n '312': 'automobile',\n '313': 'automobile',\n '314': 'frog',\n '315': 'cat',\n '316': 'cat',\n '317': 'truck',\n '318': 'airplane',\n '319': 'horse',\n '320': 'truck',\n '321': 'horse',\n '322': 'horse',\n '323': 'truck',\n '324': 'automobile',\n '325': 'dog',\n '326': 'automobile',\n '327': 'frog',\n '328': 'frog',\n '329': 'ship',\n '330': 'horse',\n '331': 'automobile',\n '332': 'cat',\n '333': 'airplane',\n '334': 'cat',\n '335': 'cat',\n '336': 'bird',\n '337': 'deer',\n '338': 'dog',\n '339': 'horse',\n '340': 'dog',\n '341': 'truck',\n '342': 'airplane',\n '343': 'cat',\n '344': 'deer',\n '345': 'airplane',\n '346': 'deer',\n '347': 'deer',\n '348': 'frog',\n '349': 'airplane',\n '350': 'airplane',\n '351': 'frog',\n '352': 'frog',\n '353': 'airplane',\n '354': 'ship',\n '355': 'automobile',\n '356': 'frog',\n '357': 'bird',\n '358': 'truck',\n '359': 'bird',\n '360': 'dog',\n '361': 'truck',\n '362': 'frog',\n '363': 'horse',\n '364': 'deer',\n '365': 'automobile',\n '366': 'ship',\n '367': 'horse',\n '368': 'cat',\n '369': 'frog',\n '370': 'truck',\n '371': 'cat',\n '372': 'airplane',\n '373': 'deer',\n '374': 'airplane',\n '375': 'dog',\n '376': 'automobile',\n '377': 'airplane',\n '378': 'cat',\n '379': 'deer',\n '380': 'ship',\n '381': 'dog',\n '382': 'deer',\n '383': 'horse',\n '384': 'bird',\n '385': 'cat',\n '386': 'truck',\n '387': 'horse',\n '388': 'frog',\n '389': 'horse',\n '390': 'automobile',\n '391': 'deer',\n '392': 'horse',\n '393': 'airplane',\n '394': 'automobile',\n '395': 'horse',\n '396': 'cat',\n '397': 'automobile',\n '398': 'ship',\n '399': 'deer',\n '400': 'deer',\n '401': 'bird',\n '402': 'airplane',\n '403': 'bird',\n '404': 'bird',\n '405': 'airplane',\n '406': 'airplane',\n '407': 'truck',\n '408': 'airplane',\n '409': 'truck',\n '410': 'frog',\n '411': 'ship',\n '412': 'bird',\n '413': 'horse',\n '414': 'horse',\n '415': 'deer',\n '416': 'airplane',\n '417': 'cat',\n '418': 'airplane',\n '419': 'ship',\n '420': 'truck',\n '421': 'deer',\n '422': 'bird',\n '423': 'horse',\n '424': 'bird',\n '425': 'dog',\n '426': 'bird',\n '427': 'dog',\n '428': 'automobile',\n '429': 'truck',\n '430': 'deer',\n '431': 'ship',\n '432': 'dog',\n '433': 'automobile',\n '434': 'horse',\n '435': 'deer',\n '436': 'deer',\n '437': 'airplane',\n '438': 'frog',\n '439': 'truck',\n '440': 'airplane',\n '441': 'horse',\n '442': 'ship',\n '443': 'ship',\n '444': 'truck',\n '445': 'truck',\n '446': 'cat',\n '447': 'cat',\n '448': 'deer',\n '449': 'airplane',\n '450': 'deer',\n '451': 'dog',\n '452': 'frog',\n '453': 'frog',\n '454': 'airplane',\n '455': 'automobile',\n '456': 'airplane',\n '457': 'ship',\n '458': 'airplane',\n '459': 'deer',\n '460': 'ship',\n '461': 'ship',\n '462': 'automobile',\n '463': 'dog',\n '464': 'bird',\n '465': 'frog',\n '466': 'ship',\n '467': 'automobile',\n '468': 'airplane',\n '469': 'airplane',\n '470': 'horse',\n '471': 'horse',\n '472': 'dog',\n '473': 'truck',\n '474': 'frog',\n '475': 'bird',\n '476': 'ship',\n '477': 'cat',\n '478': 'deer',\n '479': 'horse',\n '480': 'cat',\n '481': 'truck',\n '482': 'airplane',\n '483': 'automobile',\n '484': 'bird',\n '485': 'deer',\n '486': 'ship',\n '487': 'automobile',\n '488': 'ship',\n '489': 'frog',\n '490': 'deer',\n '491': 'deer',\n '492': 'dog',\n '493': 'horse',\n '494': 'automobile',\n '495': 'cat',\n '496': 'truck',\n '497': 'ship',\n '498': 'airplane',\n '499': 'automobile',\n '500': 'horse',\n '501': 'dog',\n '502': 'ship',\n '503': 'bird',\n '504': 'ship',\n '505': 'airplane',\n '506': 'deer',\n '507': 'automobile',\n '508': 'ship',\n '509': 'truck',\n '510': 'ship',\n '511': 'bird',\n '512': 'truck',\n '513': 'truck',\n '514': 'bird',\n '515': 'horse',\n '516': 'dog',\n '517': 'horse',\n '518': 'cat',\n '519': 'ship',\n '520': 'ship',\n '521': 'deer',\n '522': 'deer',\n '523': 'bird',\n '524': 'horse',\n '525': 'automobile',\n '526': 'frog',\n '527': 'deer',\n '528': 'airplane',\n '529': 'deer',\n '530': 'frog',\n '531': 'truck',\n '532': 'horse',\n '533': 'frog',\n '534': 'bird',\n '535': 'dog',\n '536': 'dog',\n '537': 'automobile',\n '538': 'horse',\n '539': 'bird',\n '540': 'bird',\n '541': 'bird',\n '542': 'truck',\n '543': 'dog',\n '544': 'deer',\n '545': 'bird',\n '546': 'horse',\n '547': 'ship',\n '548': 'automobile',\n '549': 'cat',\n '550': 'deer',\n '551': 'cat',\n '552': 'horse',\n '553': 'frog',\n '554': 'truck',\n '555': 'ship',\n '556': 'airplane',\n '557': 'frog',\n '558': 'airplane',\n '559': 'bird',\n '560': 'bird',\n '561': 'bird',\n '562': 'automobile',\n '563': 'ship',\n '564': 'deer',\n '565': 'airplane',\n '566': 'automobile',\n '567': 'ship',\n '568': 'ship',\n '569': 'automobile',\n '570': 'dog',\n '571': 'horse',\n '572': 'frog',\n '573': 'deer',\n '574': 'dog',\n '575': 'ship',\n '576': 'horse',\n '577': 'automobile',\n '578': 'truck',\n '579': 'automobile',\n '580': 'truck',\n '581': 'ship',\n '582': 'deer',\n '583': 'horse',\n '584': 'cat',\n '585': 'ship',\n '586': 'ship',\n '587': 'bird',\n '588': 'frog',\n '589': 'frog',\n '590': 'horse',\n '591': 'automobile',\n '592': 'frog',\n '593': 'ship',\n '594': 'automobile',\n '595': 'truck',\n '596': 'horse',\n '597': 'ship',\n '598': 'cat',\n '599': 'airplane',\n '600': 'automobile',\n '601': 'airplane',\n '602': 'ship',\n '603': 'ship',\n '604': 'cat',\n '605': 'airplane',\n '606': 'airplane',\n '607': 'automobile',\n '608': 'dog',\n '609': 'airplane',\n '610': 'ship',\n '611': 'ship',\n '612': 'horse',\n '613': 'truck',\n '614': 'truck',\n '615': 'airplane',\n '616': 'truck',\n '617': 'deer',\n '618': 'automobile',\n '619': 'cat',\n '620': 'frog',\n '621': 'frog',\n '622': 'deer',\n '623': 'deer',\n '624': 'horse',\n '625': 'dog',\n '626': 'frog',\n '627': 'airplane',\n '628': 'ship',\n '629': 'airplane',\n '630': 'cat',\n '631': 'bird',\n '632': 'ship',\n '633': 'deer',\n '634': 'frog',\n '635': 'truck',\n '636': 'truck',\n '637': 'horse',\n '638': 'airplane',\n '639': 'cat',\n '640': 'cat',\n '641': 'frog',\n '642': 'horse',\n '643': 'deer',\n '644': 'truck',\n '645': 'automobile',\n '646': 'frog',\n '647': 'bird',\n '648': 'horse',\n '649': 'bird',\n '650': 'bird',\n '651': 'airplane',\n '652': 'frog',\n '653': 'horse',\n '654': 'dog',\n '655': 'horse',\n '656': 'frog',\n '657': 'ship',\n '658': 'truck',\n '659': 'airplane',\n '660': 'truck',\n '661': 'deer',\n '662': 'deer',\n '663': 'horse',\n '664': 'airplane',\n '665': 'truck',\n '666': 'deer',\n '667': 'truck',\n '668': 'frog',\n '669': 'truck',\n '670': 'deer',\n '671': 'dog',\n '672': 'horse',\n '673': 'truck',\n '674': 'bird',\n '675': 'deer',\n '676': 'dog',\n '677': 'automobile',\n '678': 'deer',\n '679': 'cat',\n '680': 'truck',\n '681': 'frog',\n '682': 'dog',\n '683': 'frog',\n '684': 'truck',\n '685': 'cat',\n '686': 'cat',\n '687': 'dog',\n '688': 'airplane',\n '689': 'horse',\n '690': 'bird',\n '691': 'automobile',\n '692': 'cat',\n '693': 'frog',\n '694': 'deer',\n '695': 'airplane',\n '696': 'airplane',\n '697': 'bird',\n '698': 'dog',\n '699': 'airplane',\n '700': 'automobile',\n '701': 'airplane',\n '702': 'bird',\n '703': 'cat',\n '704': 'truck',\n '705': 'ship',\n '706': 'deer',\n '707': 'truck',\n '708': 'ship',\n '709': 'airplane',\n '710': 'bird',\n '711': 'frog',\n '712': 'deer',\n '713': 'deer',\n '714': 'airplane',\n '715': 'automobile',\n '716': 'ship',\n '717': 'ship',\n '718': 'cat',\n '719': 'frog',\n '720': 'truck',\n '721': 'frog',\n '722': 'frog',\n '723': 'horse',\n '724': 'ship',\n '725': 'bird',\n '726': 'deer',\n '727': 'dog',\n '728': 'horse',\n '729': 'frog',\n '730': 'dog',\n '731': 'cat',\n '732': 'airplane',\n '733': 'dog',\n '734': 'airplane',\n '735': 'dog',\n '736': 'airplane',\n '737': 'ship',\n '738': 'bird',\n '739': 'frog',\n '740': 'horse',\n '741': 'cat',\n '742': 'ship',\n '743': 'bird',\n '744': 'automobile',\n '745': 'horse',\n '746': 'frog',\n '747': 'horse',\n '748': 'automobile',\n '749': 'airplane',\n '750': 'truck',\n '751': 'dog',\n '752': 'dog',\n '753': 'airplane',\n '754': 'automobile',\n '755': 'horse',\n '756': 'frog',\n '757': 'truck',\n '758': 'airplane',\n '759': 'deer',\n '760': 'horse',\n '761': 'horse',\n '762': 'automobile',\n '763': 'dog',\n '764': 'truck',\n '765': 'deer',\n '766': 'airplane',\n '767': 'ship',\n '768': 'dog',\n '769': 'truck',\n '770': 'truck',\n '771': 'frog',\n '772': 'horse',\n '773': 'automobile',\n '774': 'ship',\n '775': 'cat',\n '776': 'bird',\n '777': 'cat',\n '778': 'ship',\n '779': 'bird',\n '780': 'bird',\n '781': 'deer',\n '782': 'frog',\n '783': 'airplane',\n '784': 'airplane',\n '785': 'dog',\n '786': 'cat',\n '787': 'ship',\n '788': 'bird',\n '789': 'cat',\n '790': 'horse',\n '791': 'bird',\n '792': 'truck',\n '793': 'cat',\n '794': 'ship',\n '795': 'horse',\n '796': 'ship',\n '797': 'bird',\n '798': 'horse',\n '799': 'truck',\n '800': 'airplane',\n '801': 'bird',\n '802': 'cat',\n '803': 'bird',\n '804': 'bird',\n '805': 'bird',\n '806': 'cat',\n '807': 'cat',\n '808': 'frog',\n '809': 'bird',\n '810': 'cat',\n '811': 'bird',\n '812': 'ship',\n '813': 'airplane',\n '814': 'dog',\n '815': 'dog',\n '816': 'automobile',\n '817': 'deer',\n '818': 'dog',\n '819': 'frog',\n '820': 'frog',\n '821': 'bird',\n '822': 'horse',\n '823': 'airplane',\n '824': 'automobile',\n '825': 'horse',\n '826': 'horse',\n '827': 'ship',\n '828': 'bird',\n '829': 'truck',\n '830': 'bird',\n '831': 'bird',\n '832': 'deer',\n '833': 'bird',\n '834': 'automobile',\n '835': 'automobile',\n '836': 'automobile',\n '837': 'frog',\n '838': 'frog',\n '839': 'frog',\n '840': 'dog',\n '841': 'automobile',\n '842': 'automobile',\n '843': 'horse',\n '844': 'airplane',\n '845': 'deer',\n '846': 'cat',\n '847': 'cat',\n '848': 'horse',\n '849': 'automobile',\n '850': 'bird',\n '851': 'cat',\n '852': 'dog',\n '853': 'dog',\n '854': 'dog',\n '855': 'frog',\n '856': 'automobile',\n '857': 'deer',\n '858': 'cat',\n '859': 'horse',\n '860': 'ship',\n '861': 'ship',\n '862': 'cat',\n '863': 'frog',\n '864': 'frog',\n '865': 'bird',\n '866': 'cat',\n '867': 'airplane',\n '868': 'truck',\n '869': 'deer',\n '870': 'cat',\n '871': 'ship',\n '872': 'airplane',\n '873': 'airplane',\n '874': 'automobile',\n '875': 'automobile',\n '876': 'dog',\n '877': 'deer',\n '878': 'truck',\n '879': 'cat',\n '880': 'automobile',\n '881': 'ship',\n '882': 'truck',\n '883': 'cat',\n '884': 'truck',\n '885': 'truck',\n '886': 'bird',\n '887': 'truck',\n '888': 'deer',\n '889': 'ship',\n '890': 'bird',\n '891': 'truck',\n '892': 'ship',\n '893': 'ship',\n '894': 'automobile',\n '895': 'dog',\n '896': 'cat',\n '897': 'frog',\n '898': 'ship',\n '899': 'horse',\n '900': 'frog',\n '901': 'truck',\n '902': 'ship',\n '903': 'airplane',\n '904': 'frog',\n '905': 'deer',\n '906': 'airplane',\n '907': 'airplane',\n '908': 'bird',\n '909': 'dog',\n '910': 'ship',\n '911': 'bird',\n '912': 'airplane',\n '913': 'bird',\n '914': 'horse',\n '915': 'frog',\n '916': 'truck',\n '917': 'horse',\n '918': 'automobile',\n '919': 'dog',\n '920': 'dog',\n '921': 'frog',\n '922': 'frog',\n '923': 'cat',\n '924': 'frog',\n '925': 'bird',\n '926': 'deer',\n '927': 'horse',\n '928': 'airplane',\n '929': 'dog',\n '930': 'frog',\n '931': 'deer',\n '932': 'frog',\n '933': 'dog',\n '934': 'bird',\n '935': 'deer',\n '936': 'frog',\n '937': 'automobile',\n '938': 'frog',\n '939': 'airplane',\n '940': 'deer',\n '941': 'airplane',\n '942': 'cat',\n '943': 'automobile',\n '944': 'ship',\n '945': 'dog',\n '946': 'deer',\n '947': 'deer',\n '948': 'automobile',\n '949': 'horse',\n '950': 'cat',\n '951': 'truck',\n '952': 'deer',\n '953': 'horse',\n '954': 'truck',\n '955': 'horse',\n '956': 'cat',\n '957': 'horse',\n '958': 'bird',\n '959': 'ship',\n '960': 'deer',\n '961': 'frog',\n '962': 'frog',\n '963': 'automobile',\n '964': 'bird',\n '965': 'truck',\n '966': 'airplane',\n '967': 'deer',\n '968': 'ship',\n '969': 'horse',\n '970': 'cat',\n '971': 'truck',\n '972': 'ship',\n '973': 'horse',\n '974': 'horse',\n '975': 'airplane',\n '976': 'bird',\n '977': 'deer',\n '978': 'automobile',\n '979': 'automobile',\n '980': 'deer',\n '981': 'automobile',\n '982': 'dog',\n '983': 'deer',\n '984': 'airplane',\n '985': 'dog',\n '986': 'frog',\n '987': 'bird',\n '988': 'ship',\n '989': 'dog',\n '990': 'airplane',\n '991': 'bird',\n '992': 'automobile',\n '993': 'cat',\n '994': 'dog',\n '995': 'horse',\n '996': 'cat',\n '997': 'dog',\n '998': 'automobile',\n '999': 'cat',\n '1000': 'dog'}"
     },
     "execution_count": 6,
     "metadata": {},
     "output_type": "execute_result"
    }
   ],
   "source": [
    "labels = read_csv_labels(os.path.join(data_dir, 'trainLabels.csv'))\n",
    "labels"
   ],
   "metadata": {
    "collapsed": false
   }
  },
  {
   "cell_type": "code",
   "execution_count": 7,
   "outputs": [],
   "source": [
    "# 将验证集从原始的训练集中拆分出来\n",
    "# train文件夹下有所有train的图片，test文件夹下有所有test图片\n",
    "# 把train文件夹下所有类的图片创建一个类名文件夹，然后搬到对应文件夹下\n",
    "def copyfile(filename, target_dir):\n",
    "    \"\"\"将文件复制到目标目录\"\"\"\n",
    "    os.makedirs(target_dir, exist_ok=True)\n",
    "    shutil.copy(filename, target_dir)"
   ],
   "metadata": {
    "collapsed": false
   }
  },
  {
   "cell_type": "code",
   "execution_count": 8,
   "outputs": [],
   "source": [
    "def reorg_train_valid(data_dir, labels, valid_ratio):\n",
    "    n = collections.Counter(labels.values()).most_common()[-1][1]\n",
    "    n_valid_per_label = max(1, math.floor(n * valid_ratio))\n",
    "    label_count = {}\n",
    "    for train_file in os.listdir(os.path.join(data_dir, 'train')):\n",
    "        label = labels[train_file.split('.')[0]]\n",
    "        fname = os.path.join(data_dir, 'train', train_file)\n",
    "        copyfile(fname, os.path.join(data_dir, 'train_valid_test', 'train_valid', label))\n",
    "        if label not in label_count or label_count[label] < n_valid_per_label:\n",
    "            copyfile(fname, os.path.join(data_dir, 'train_valid_test', 'valid', label))\n",
    "            label_count[label] = label_count.get(label, 0) + 1\n",
    "        else:\n",
    "            copyfile(fname, os.path.join(data_dir, 'train_valid_test', 'train', label))\n",
    "    return n_valid_per_label"
   ],
   "metadata": {
    "collapsed": false
   }
  },
  {
   "cell_type": "code",
   "execution_count": 9,
   "outputs": [],
   "source": [
    "# 在预测期间整理测试集，以方便读取\n",
    "def reorg_test(data_dir):\n",
    "    for test_file in os.listdir(os.path.join(data_dir, 'test')):\n",
    "        copyfile(os.path.join(data_dir, 'test', test_file),\n",
    "                 os.path.join(data_dir, 'train_valid_test', 'test', 'unknown'))  # unknown为 test文件夹里面的一个文件夹"
   ],
   "metadata": {
    "collapsed": false
   }
  },
  {
   "cell_type": "code",
   "execution_count": 10,
   "outputs": [],
   "source": [
    "# 调用前面定义的函数，前面只是定义函数，这里是调用\n",
    "def reorg_cifar10_data(data_dir, valid_ratio):\n",
    "    labels = read_csv_labels(os.path.join(data_dir, 'trainLabels.csv'))\n",
    "    reorg_train_valid(data_dir, labels, valid_ratio)\n",
    "    reorg_test(data_dir)"
   ],
   "metadata": {
    "collapsed": false
   }
  },
  {
   "cell_type": "code",
   "execution_count": 11,
   "outputs": [],
   "source": [
    "batch_size = 32 if demo else 128\n",
    "valid_ratio = 0.1  # train 数据里面百分之九十用来训练，剩下百分之十用来验证\n",
    "reorg_cifar10_data(data_dir, valid_ratio)"
   ],
   "metadata": {
    "collapsed": false
   }
  },
  {
   "cell_type": "code",
   "execution_count": 12,
   "outputs": [],
   "source": [
    "# 图像增广\n",
    "transform_train = torchvision.transforms.Compose([\n",
    "    torchvision.transforms.Resize(40),\n",
    "    torchvision.transforms.RandomResizedCrop(32, scale=(0.64, 1.0), ratio=(1.0, 1.0)),\n",
    "    torchvision.transforms.RandomHorizontalFlip(),\n",
    "    torchvision.transforms.ToTensor(),\n",
    "    torchvision.transforms.Normalize([0.4914, 0.4822, 0.4465],\n",
    "                                     [0.2023, 0.1994, 0.2010])])\n",
    "\n",
    "transform_test = torchvision.transforms.Compose([\n",
    "    torchvision.transforms.ToTensor(),\n",
    "    torchvision.transforms.Normalize([0.4914, 0.4822, 0.4465],\n",
    "                                     [0.2023, 0.1994, 0.2010])])"
   ],
   "metadata": {
    "collapsed": false
   }
  },
  {
   "cell_type": "code",
   "execution_count": 13,
   "outputs": [],
   "source": [
    "# 读取由原始图像组成的数据集\n",
    "train_ds, train_valid_ds = [\n",
    "    torchvision.datasets.ImageFolder(\n",
    "        os.path.join(data_dir, 'train_valid_test', folder),\n",
    "        transform=transform_train) for folder in ['train', 'train_valid']]\n",
    "\n",
    "valid_ds, test_ds = [\n",
    "    torchvision.datasets.ImageFolder(\n",
    "        os.path.join(data_dir, 'train_valid_test', folder),\n",
    "        transform=transform_test) for folder in ['valid', 'test']]"
   ],
   "metadata": {
    "collapsed": false
   }
  },
  {
   "cell_type": "code",
   "execution_count": 14,
   "outputs": [],
   "source": [
    "# 指定上面定义的所有图像增广操作\n",
    "train_iter, train_valid_iter = [\n",
    "    torch.utils.data.DataLoader(dataset, batch_size, shuffle=True, drop_last=True)\n",
    "    for dataset in (train_ds, train_valid_ds)]"
   ],
   "metadata": {
    "collapsed": false
   }
  },
  {
   "cell_type": "code",
   "execution_count": 15,
   "outputs": [],
   "source": [
    "valid_iter = torch.utils.data.DataLoader(valid_ds, batch_size, shuffle=False, drop_last=True)\n",
    "test_iter = torch.utils.data.DataLoader(test_ds, batch_size, shuffle=False, drop_last=False)"
   ],
   "metadata": {
    "collapsed": false
   }
  },
  {
   "cell_type": "code",
   "execution_count": 16,
   "outputs": [],
   "source": [
    "# 模型\n",
    "def get_net():\n",
    "    num_classes = 10\n",
    "    net = d2l.resnet18(num_classes, 3)  # 3表示数值三通道，彩色图片\n",
    "    return net"
   ],
   "metadata": {
    "collapsed": false
   }
  },
  {
   "cell_type": "code",
   "execution_count": 17,
   "outputs": [],
   "source": [
    "loss = nn.CrossEntropyLoss(reduction=\"none\")  # reduction=\"none\" 表示不要把loss加起来sum"
   ],
   "metadata": {
    "collapsed": false
   }
  },
  {
   "cell_type": "code",
   "execution_count": 18,
   "outputs": [],
   "source": [
    "# 训练函数\n",
    "def train(net, train_iter, valid_iter, num_epoch, lr, wd, devices, lr_period,\n",
    "          lr_decay):  # 每隔一段时间的lr_period把学习率lr_decay降低点\n",
    "    trainer = torch.optim.SGD(net.parameters(), lr=lr, momentum=0.9, weight_decay=wd)\n",
    "    scheduler = torch.optim.lr_scheduler.StepLR(trainer, lr_period, lr_decay)\n",
    "    num_batches, timer = len(train_iter), d2l.Timer()\n",
    "    legend = ['train loss', 'train acc']\n",
    "    if valid_iter is not None:\n",
    "        legend.append('valid acc')\n",
    "    animator = d2l.Animator(xlabel='epoch', xlim=[1, num_epochs], legend=legend)\n",
    "    net = nn.DataParallel(net, device_ids=devices).to(devices[0])\n",
    "    for epoch in range(num_epochs):\n",
    "        net.train()\n",
    "        metric = d2l.Accumulator(3)\n",
    "        for i, (features, labels) in enumerate(train_iter):\n",
    "            timer.start()\n",
    "            l, acc = d2l.train_batch_ch13(net, features, labels, loss, trainer, devices)\n",
    "            metric.add(l, acc, labels.shape[0])\n",
    "            timer.stop()\n",
    "            if (i + 1) % (num_batches // 5) == 0 or i == num_batches - 1:\n",
    "                animator.add(epoch + (i + 1) / num_batches, (metric[0] / metric[2], metric[1] / metric[2], None))\n",
    "        if valid_iter is not None:\n",
    "            valid_acc = d2l.evaluate_accuracy_gpu(net, valid_iter)\n",
    "            animator.add(epoch + 1, (None, None, valid_acc))\n",
    "        scheduler.step()\n",
    "    measures = (f'train loss {metric[0] / metric[2]:.3f},'\n",
    "                f'train acc {metric[1] / metric[2]:.3f}')\n",
    "    if valid_iter is not None:\n",
    "        measures += f', valid acc {valid_acc:.3f}'\n",
    "    print(measures + f'\\n{metric[2] * num_epochs / timer.sum():.1f}'\n",
    "                     f' examples/sec on {str(devices)}')"
   ],
   "metadata": {
    "collapsed": false
   }
  },
  {
   "cell_type": "code",
   "execution_count": 19,
   "outputs": [
    {
     "name": "stdout",
     "output_type": "stream",
     "text": [
      "train loss 0.638,train acc 0.780, valid acc 0.500\n",
      "618.4 examples/sec on [device(type='cuda', index=0)]\n"
     ]
    },
    {
     "data": {
      "text/plain": "<Figure size 350x250 with 1 Axes>",
      "image/svg+xml": "<?xml version=\"1.0\" encoding=\"utf-8\" standalone=\"no\"?>\n<!DOCTYPE svg PUBLIC \"-//W3C//DTD SVG 1.1//EN\"\n  \"http://www.w3.org/Graphics/SVG/1.1/DTD/svg11.dtd\">\n<svg xmlns:xlink=\"http://www.w3.org/1999/xlink\" width=\"238.965625pt\" height=\"183.35625pt\" viewBox=\"0 0 238.965625 183.35625\" xmlns=\"http://www.w3.org/2000/svg\" version=\"1.1\">\n <metadata>\n  <rdf:RDF xmlns:dc=\"http://purl.org/dc/elements/1.1/\" xmlns:cc=\"http://creativecommons.org/ns#\" xmlns:rdf=\"http://www.w3.org/1999/02/22-rdf-syntax-ns#\">\n   <cc:Work>\n    <dc:type rdf:resource=\"http://purl.org/dc/dcmitype/StillImage\"/>\n    <dc:date>2023-04-22T12:02:23.761173</dc:date>\n    <dc:format>image/svg+xml</dc:format>\n    <dc:creator>\n     <cc:Agent>\n      <dc:title>Matplotlib v3.5.1, https://matplotlib.org/</dc:title>\n     </cc:Agent>\n    </dc:creator>\n   </cc:Work>\n  </rdf:RDF>\n </metadata>\n <defs>\n  <style type=\"text/css\">*{stroke-linejoin: round; stroke-linecap: butt}</style>\n </defs>\n <g id=\"figure_1\">\n  <g id=\"patch_1\">\n   <path d=\"M 0 183.35625 \nL 238.965625 183.35625 \nL 238.965625 0 \nL 0 0 \nz\n\" style=\"fill: #ffffff\"/>\n  </g>\n  <g id=\"axes_1\">\n   <g id=\"patch_2\">\n    <path d=\"M 30.103125 145.8 \nL 225.403125 145.8 \nL 225.403125 7.2 \nL 30.103125 7.2 \nz\n\" style=\"fill: #ffffff\"/>\n   </g>\n   <g id=\"matplotlib.axis_1\">\n    <g id=\"xtick_1\">\n     <g id=\"line2d_1\">\n      <path d=\"M 71.218914 145.8 \nL 71.218914 7.2 \n\" clip-path=\"url(#pfab9b1b83f)\" style=\"fill: none; stroke: #b0b0b0; stroke-width: 0.8; stroke-linecap: square\"/>\n     </g>\n     <g id=\"line2d_2\">\n      <defs>\n       <path id=\"m539660adc0\" d=\"M 0 0 \nL 0 3.5 \n\" style=\"stroke: #000000; stroke-width: 0.8\"/>\n      </defs>\n      <g>\n       <use xlink:href=\"#m539660adc0\" x=\"71.218914\" y=\"145.8\" style=\"stroke: #000000; stroke-width: 0.8\"/>\n      </g>\n     </g>\n     <g id=\"text_1\">\n      <!-- 5 -->\n      <g transform=\"translate(68.037664 160.398438)scale(0.1 -0.1)\">\n       <defs>\n        <path id=\"DejaVuSans-35\" d=\"M 691 4666 \nL 3169 4666 \nL 3169 4134 \nL 1269 4134 \nL 1269 2991 \nQ 1406 3038 1543 3061 \nQ 1681 3084 1819 3084 \nQ 2600 3084 3056 2656 \nQ 3513 2228 3513 1497 \nQ 3513 744 3044 326 \nQ 2575 -91 1722 -91 \nQ 1428 -91 1123 -41 \nQ 819 9 494 109 \nL 494 744 \nQ 775 591 1075 516 \nQ 1375 441 1709 441 \nQ 2250 441 2565 725 \nQ 2881 1009 2881 1497 \nQ 2881 1984 2565 2268 \nQ 2250 2553 1709 2553 \nQ 1456 2553 1204 2497 \nQ 953 2441 691 2322 \nL 691 4666 \nz\n\" transform=\"scale(0.015625)\"/>\n       </defs>\n       <use xlink:href=\"#DejaVuSans-35\"/>\n      </g>\n     </g>\n    </g>\n    <g id=\"xtick_2\">\n     <g id=\"line2d_3\">\n      <path d=\"M 122.613651 145.8 \nL 122.613651 7.2 \n\" clip-path=\"url(#pfab9b1b83f)\" style=\"fill: none; stroke: #b0b0b0; stroke-width: 0.8; stroke-linecap: square\"/>\n     </g>\n     <g id=\"line2d_4\">\n      <g>\n       <use xlink:href=\"#m539660adc0\" x=\"122.613651\" y=\"145.8\" style=\"stroke: #000000; stroke-width: 0.8\"/>\n      </g>\n     </g>\n     <g id=\"text_2\">\n      <!-- 10 -->\n      <g transform=\"translate(116.251151 160.398438)scale(0.1 -0.1)\">\n       <defs>\n        <path id=\"DejaVuSans-31\" d=\"M 794 531 \nL 1825 531 \nL 1825 4091 \nL 703 3866 \nL 703 4441 \nL 1819 4666 \nL 2450 4666 \nL 2450 531 \nL 3481 531 \nL 3481 0 \nL 794 0 \nL 794 531 \nz\n\" transform=\"scale(0.015625)\"/>\n        <path id=\"DejaVuSans-30\" d=\"M 2034 4250 \nQ 1547 4250 1301 3770 \nQ 1056 3291 1056 2328 \nQ 1056 1369 1301 889 \nQ 1547 409 2034 409 \nQ 2525 409 2770 889 \nQ 3016 1369 3016 2328 \nQ 3016 3291 2770 3770 \nQ 2525 4250 2034 4250 \nz\nM 2034 4750 \nQ 2819 4750 3233 4129 \nQ 3647 3509 3647 2328 \nQ 3647 1150 3233 529 \nQ 2819 -91 2034 -91 \nQ 1250 -91 836 529 \nQ 422 1150 422 2328 \nQ 422 3509 836 4129 \nQ 1250 4750 2034 4750 \nz\n\" transform=\"scale(0.015625)\"/>\n       </defs>\n       <use xlink:href=\"#DejaVuSans-31\"/>\n       <use xlink:href=\"#DejaVuSans-30\" x=\"63.623047\"/>\n      </g>\n     </g>\n    </g>\n    <g id=\"xtick_3\">\n     <g id=\"line2d_5\">\n      <path d=\"M 174.008388 145.8 \nL 174.008388 7.2 \n\" clip-path=\"url(#pfab9b1b83f)\" style=\"fill: none; stroke: #b0b0b0; stroke-width: 0.8; stroke-linecap: square\"/>\n     </g>\n     <g id=\"line2d_6\">\n      <g>\n       <use xlink:href=\"#m539660adc0\" x=\"174.008388\" y=\"145.8\" style=\"stroke: #000000; stroke-width: 0.8\"/>\n      </g>\n     </g>\n     <g id=\"text_3\">\n      <!-- 15 -->\n      <g transform=\"translate(167.645888 160.398438)scale(0.1 -0.1)\">\n       <use xlink:href=\"#DejaVuSans-31\"/>\n       <use xlink:href=\"#DejaVuSans-35\" x=\"63.623047\"/>\n      </g>\n     </g>\n    </g>\n    <g id=\"xtick_4\">\n     <g id=\"line2d_7\">\n      <path d=\"M 225.403125 145.8 \nL 225.403125 7.2 \n\" clip-path=\"url(#pfab9b1b83f)\" style=\"fill: none; stroke: #b0b0b0; stroke-width: 0.8; stroke-linecap: square\"/>\n     </g>\n     <g id=\"line2d_8\">\n      <g>\n       <use xlink:href=\"#m539660adc0\" x=\"225.403125\" y=\"145.8\" style=\"stroke: #000000; stroke-width: 0.8\"/>\n      </g>\n     </g>\n     <g id=\"text_4\">\n      <!-- 20 -->\n      <g transform=\"translate(219.040625 160.398438)scale(0.1 -0.1)\">\n       <defs>\n        <path id=\"DejaVuSans-32\" d=\"M 1228 531 \nL 3431 531 \nL 3431 0 \nL 469 0 \nL 469 531 \nQ 828 903 1448 1529 \nQ 2069 2156 2228 2338 \nQ 2531 2678 2651 2914 \nQ 2772 3150 2772 3378 \nQ 2772 3750 2511 3984 \nQ 2250 4219 1831 4219 \nQ 1534 4219 1204 4116 \nQ 875 4013 500 3803 \nL 500 4441 \nQ 881 4594 1212 4672 \nQ 1544 4750 1819 4750 \nQ 2544 4750 2975 4387 \nQ 3406 4025 3406 3419 \nQ 3406 3131 3298 2873 \nQ 3191 2616 2906 2266 \nQ 2828 2175 2409 1742 \nQ 1991 1309 1228 531 \nz\n\" transform=\"scale(0.015625)\"/>\n       </defs>\n       <use xlink:href=\"#DejaVuSans-32\"/>\n       <use xlink:href=\"#DejaVuSans-30\" x=\"63.623047\"/>\n      </g>\n     </g>\n    </g>\n    <g id=\"text_5\">\n     <!-- epoch -->\n     <g transform=\"translate(112.525 174.076563)scale(0.1 -0.1)\">\n      <defs>\n       <path id=\"DejaVuSans-65\" d=\"M 3597 1894 \nL 3597 1613 \nL 953 1613 \nQ 991 1019 1311 708 \nQ 1631 397 2203 397 \nQ 2534 397 2845 478 \nQ 3156 559 3463 722 \nL 3463 178 \nQ 3153 47 2828 -22 \nQ 2503 -91 2169 -91 \nQ 1331 -91 842 396 \nQ 353 884 353 1716 \nQ 353 2575 817 3079 \nQ 1281 3584 2069 3584 \nQ 2775 3584 3186 3129 \nQ 3597 2675 3597 1894 \nz\nM 3022 2063 \nQ 3016 2534 2758 2815 \nQ 2500 3097 2075 3097 \nQ 1594 3097 1305 2825 \nQ 1016 2553 972 2059 \nL 3022 2063 \nz\n\" transform=\"scale(0.015625)\"/>\n       <path id=\"DejaVuSans-70\" d=\"M 1159 525 \nL 1159 -1331 \nL 581 -1331 \nL 581 3500 \nL 1159 3500 \nL 1159 2969 \nQ 1341 3281 1617 3432 \nQ 1894 3584 2278 3584 \nQ 2916 3584 3314 3078 \nQ 3713 2572 3713 1747 \nQ 3713 922 3314 415 \nQ 2916 -91 2278 -91 \nQ 1894 -91 1617 61 \nQ 1341 213 1159 525 \nz\nM 3116 1747 \nQ 3116 2381 2855 2742 \nQ 2594 3103 2138 3103 \nQ 1681 3103 1420 2742 \nQ 1159 2381 1159 1747 \nQ 1159 1113 1420 752 \nQ 1681 391 2138 391 \nQ 2594 391 2855 752 \nQ 3116 1113 3116 1747 \nz\n\" transform=\"scale(0.015625)\"/>\n       <path id=\"DejaVuSans-6f\" d=\"M 1959 3097 \nQ 1497 3097 1228 2736 \nQ 959 2375 959 1747 \nQ 959 1119 1226 758 \nQ 1494 397 1959 397 \nQ 2419 397 2687 759 \nQ 2956 1122 2956 1747 \nQ 2956 2369 2687 2733 \nQ 2419 3097 1959 3097 \nz\nM 1959 3584 \nQ 2709 3584 3137 3096 \nQ 3566 2609 3566 1747 \nQ 3566 888 3137 398 \nQ 2709 -91 1959 -91 \nQ 1206 -91 779 398 \nQ 353 888 353 1747 \nQ 353 2609 779 3096 \nQ 1206 3584 1959 3584 \nz\n\" transform=\"scale(0.015625)\"/>\n       <path id=\"DejaVuSans-63\" d=\"M 3122 3366 \nL 3122 2828 \nQ 2878 2963 2633 3030 \nQ 2388 3097 2138 3097 \nQ 1578 3097 1268 2742 \nQ 959 2388 959 1747 \nQ 959 1106 1268 751 \nQ 1578 397 2138 397 \nQ 2388 397 2633 464 \nQ 2878 531 3122 666 \nL 3122 134 \nQ 2881 22 2623 -34 \nQ 2366 -91 2075 -91 \nQ 1284 -91 818 406 \nQ 353 903 353 1747 \nQ 353 2603 823 3093 \nQ 1294 3584 2113 3584 \nQ 2378 3584 2631 3529 \nQ 2884 3475 3122 3366 \nz\n\" transform=\"scale(0.015625)\"/>\n       <path id=\"DejaVuSans-68\" d=\"M 3513 2113 \nL 3513 0 \nL 2938 0 \nL 2938 2094 \nQ 2938 2591 2744 2837 \nQ 2550 3084 2163 3084 \nQ 1697 3084 1428 2787 \nQ 1159 2491 1159 1978 \nL 1159 0 \nL 581 0 \nL 581 4863 \nL 1159 4863 \nL 1159 2956 \nQ 1366 3272 1645 3428 \nQ 1925 3584 2291 3584 \nQ 2894 3584 3203 3211 \nQ 3513 2838 3513 2113 \nz\n\" transform=\"scale(0.015625)\"/>\n      </defs>\n      <use xlink:href=\"#DejaVuSans-65\"/>\n      <use xlink:href=\"#DejaVuSans-70\" x=\"61.523438\"/>\n      <use xlink:href=\"#DejaVuSans-6f\" x=\"125\"/>\n      <use xlink:href=\"#DejaVuSans-63\" x=\"186.181641\"/>\n      <use xlink:href=\"#DejaVuSans-68\" x=\"241.162109\"/>\n     </g>\n    </g>\n   </g>\n   <g id=\"matplotlib.axis_2\">\n    <g id=\"ytick_1\">\n     <g id=\"line2d_9\">\n      <path d=\"M 30.103125 117.990177 \nL 225.403125 117.990177 \n\" clip-path=\"url(#pfab9b1b83f)\" style=\"fill: none; stroke: #b0b0b0; stroke-width: 0.8; stroke-linecap: square\"/>\n     </g>\n     <g id=\"line2d_10\">\n      <defs>\n       <path id=\"mdb63305b68\" d=\"M 0 0 \nL -3.5 0 \n\" style=\"stroke: #000000; stroke-width: 0.8\"/>\n      </defs>\n      <g>\n       <use xlink:href=\"#mdb63305b68\" x=\"30.103125\" y=\"117.990177\" style=\"stroke: #000000; stroke-width: 0.8\"/>\n      </g>\n     </g>\n     <g id=\"text_6\">\n      <!-- 0.5 -->\n      <g transform=\"translate(7.2 121.789396)scale(0.1 -0.1)\">\n       <defs>\n        <path id=\"DejaVuSans-2e\" d=\"M 684 794 \nL 1344 794 \nL 1344 0 \nL 684 0 \nL 684 794 \nz\n\" transform=\"scale(0.015625)\"/>\n       </defs>\n       <use xlink:href=\"#DejaVuSans-30\"/>\n       <use xlink:href=\"#DejaVuSans-2e\" x=\"63.623047\"/>\n       <use xlink:href=\"#DejaVuSans-35\" x=\"95.410156\"/>\n      </g>\n     </g>\n    </g>\n    <g id=\"ytick_2\">\n     <g id=\"line2d_11\">\n      <path d=\"M 30.103125 89.310414 \nL 225.403125 89.310414 \n\" clip-path=\"url(#pfab9b1b83f)\" style=\"fill: none; stroke: #b0b0b0; stroke-width: 0.8; stroke-linecap: square\"/>\n     </g>\n     <g id=\"line2d_12\">\n      <g>\n       <use xlink:href=\"#mdb63305b68\" x=\"30.103125\" y=\"89.310414\" style=\"stroke: #000000; stroke-width: 0.8\"/>\n      </g>\n     </g>\n     <g id=\"text_7\">\n      <!-- 1.0 -->\n      <g transform=\"translate(7.2 93.109633)scale(0.1 -0.1)\">\n       <use xlink:href=\"#DejaVuSans-31\"/>\n       <use xlink:href=\"#DejaVuSans-2e\" x=\"63.623047\"/>\n       <use xlink:href=\"#DejaVuSans-30\" x=\"95.410156\"/>\n      </g>\n     </g>\n    </g>\n    <g id=\"ytick_3\">\n     <g id=\"line2d_13\">\n      <path d=\"M 30.103125 60.63065 \nL 225.403125 60.63065 \n\" clip-path=\"url(#pfab9b1b83f)\" style=\"fill: none; stroke: #b0b0b0; stroke-width: 0.8; stroke-linecap: square\"/>\n     </g>\n     <g id=\"line2d_14\">\n      <g>\n       <use xlink:href=\"#mdb63305b68\" x=\"30.103125\" y=\"60.63065\" style=\"stroke: #000000; stroke-width: 0.8\"/>\n      </g>\n     </g>\n     <g id=\"text_8\">\n      <!-- 1.5 -->\n      <g transform=\"translate(7.2 64.429869)scale(0.1 -0.1)\">\n       <use xlink:href=\"#DejaVuSans-31\"/>\n       <use xlink:href=\"#DejaVuSans-2e\" x=\"63.623047\"/>\n       <use xlink:href=\"#DejaVuSans-35\" x=\"95.410156\"/>\n      </g>\n     </g>\n    </g>\n    <g id=\"ytick_4\">\n     <g id=\"line2d_15\">\n      <path d=\"M 30.103125 31.950887 \nL 225.403125 31.950887 \n\" clip-path=\"url(#pfab9b1b83f)\" style=\"fill: none; stroke: #b0b0b0; stroke-width: 0.8; stroke-linecap: square\"/>\n     </g>\n     <g id=\"line2d_16\">\n      <g>\n       <use xlink:href=\"#mdb63305b68\" x=\"30.103125\" y=\"31.950887\" style=\"stroke: #000000; stroke-width: 0.8\"/>\n      </g>\n     </g>\n     <g id=\"text_9\">\n      <!-- 2.0 -->\n      <g transform=\"translate(7.2 35.750106)scale(0.1 -0.1)\">\n       <use xlink:href=\"#DejaVuSans-32\"/>\n       <use xlink:href=\"#DejaVuSans-2e\" x=\"63.623047\"/>\n       <use xlink:href=\"#DejaVuSans-30\" x=\"95.410156\"/>\n      </g>\n     </g>\n    </g>\n   </g>\n   <g id=\"line2d_17\">\n    <path d=\"M 21.659704 15.752781 \nL 23.49523 13.718326 \nL 25.330757 13.5 \nL 27.166283 16.178804 \nL 29.001809 18.211022 \nL 30.103125 18.509139 \nL 31.938651 35.775516 \nL 33.774178 31.945361 \nL 35.609704 32.584255 \nL 37.44523 31.492935 \nL 39.280757 31.036035 \nL 40.382072 32.495078 \nL 42.217599 39.049222 \nL 44.053125 41.423137 \nL 45.888651 41.797911 \nL 47.724178 39.13739 \nL 49.559704 37.945999 \nL 50.66102 38.62193 \nL 52.496546 53.525498 \nL 54.332072 47.647848 \nL 56.167599 48.718383 \nL 58.003125 49.32982 \nL 59.838651 50.481106 \nL 60.939967 50.090226 \nL 62.775493 53.95176 \nL 64.61102 57.124762 \nL 66.446546 58.767036 \nL 68.282072 57.681403 \nL 70.117599 57.039228 \nL 71.218914 56.397568 \nL 73.054441 64.292349 \nL 74.889967 64.114711 \nL 76.725493 59.968876 \nL 78.56102 57.894704 \nL 80.396546 56.464773 \nL 81.497862 56.307543 \nL 83.333388 69.334644 \nL 85.168914 65.389987 \nL 87.004441 61.015312 \nL 88.839967 61.033462 \nL 90.675493 59.976345 \nL 91.776809 60.062124 \nL 93.612336 74.05659 \nL 95.447862 71.754353 \nL 97.283388 71.145732 \nL 99.118914 66.964084 \nL 100.954441 65.695371 \nL 102.055757 64.63296 \nL 103.891283 77.308495 \nL 105.726809 73.176696 \nL 107.562336 69.300312 \nL 109.397862 69.599472 \nL 111.233388 69.013734 \nL 112.334704 69.275893 \nL 114.17023 83.953171 \nL 116.005757 82.454845 \nL 117.841283 79.436454 \nL 119.676809 79.137951 \nL 121.512336 77.03517 \nL 122.613651 77.92935 \nL 124.449178 67.118983 \nL 126.284704 73.242167 \nL 128.12023 77.341802 \nL 129.955757 76.571295 \nL 131.791283 76.267613 \nL 132.892599 75.306131 \nL 134.728125 84.284224 \nL 136.563651 84.583601 \nL 138.399178 85.14698 \nL 140.234704 84.586511 \nL 142.07023 84.46837 \nL 143.171546 84.786054 \nL 145.007072 91.917413 \nL 146.842599 90.700025 \nL 148.678125 89.735599 \nL 150.513651 88.768002 \nL 152.349178 88.058506 \nL 153.450493 87.63326 \nL 155.28602 93.642565 \nL 157.121546 93.532514 \nL 158.957072 93.916273 \nL 160.792599 92.132438 \nL 162.628125 91.6949 \nL 163.729441 90.849347 \nL 165.564967 100.161791 \nL 167.400493 102.422055 \nL 169.23602 100.742946 \nL 171.071546 98.786221 \nL 172.907072 98.220927 \nL 174.008388 98.095226 \nL 175.843914 93.182448 \nL 177.679441 95.064111 \nL 179.514967 96.769846 \nL 181.350493 98.269729 \nL 183.18602 98.147664 \nL 184.287336 97.945789 \nL 186.122862 109.374401 \nL 187.958388 105.699169 \nL 189.793914 104.92107 \nL 191.629441 105.305403 \nL 193.464967 104.696367 \nL 194.566283 104.353634 \nL 196.401809 105.393997 \nL 198.237336 106.402579 \nL 200.072862 108.862903 \nL 201.908388 109.519004 \nL 203.743914 106.75775 \nL 204.84523 106.607923 \nL 206.680757 109.246386 \nL 208.516283 110.697697 \nL 210.351809 106.798477 \nL 212.187336 107.226782 \nL 214.022862 108.038249 \nL 215.124178 108.157045 \nL 216.959704 113.723809 \nL 218.79523 112.044572 \nL 220.630757 112.064998 \nL 222.466283 112.915798 \nL 224.301809 109.733025 \nL 225.403125 110.082303 \n\" clip-path=\"url(#pfab9b1b83f)\" style=\"fill: none; stroke: #1f77b4; stroke-width: 1.5; stroke-linecap: square\"/>\n   </g>\n   <g id=\"line2d_18\">\n    <path d=\"M 21.659704 139.5 \nL 23.49523 137.349018 \nL 25.330757 136.990521 \nL 27.166283 135.556533 \nL 29.001809 135.198035 \nL 30.103125 135.018787 \nL 31.938651 132.330059 \nL 33.774178 131.613065 \nL 35.609704 131.374067 \nL 37.44523 131.344192 \nL 39.280757 131.397967 \nL 40.382072 130.985695 \nL 42.217599 126.952603 \nL 44.053125 127.848846 \nL 45.888651 127.4306 \nL 47.724178 128.834713 \nL 49.559704 129.175285 \nL 50.66102 128.617054 \nL 52.496546 121.216651 \nL 54.332072 124.263876 \nL 56.167599 125.160118 \nL 58.003125 125.160118 \nL 59.838651 125.518615 \nL 60.939967 125.800292 \nL 62.775493 124.443124 \nL 64.61102 124.084627 \nL 66.446546 122.650639 \nL 68.282072 122.740263 \nL 70.117599 123.295934 \nL 71.218914 123.367633 \nL 73.054441 117.273183 \nL 74.889967 119.065669 \nL 76.725493 121.097152 \nL 78.56102 121.933645 \nL 80.396546 122.435541 \nL 81.497862 122.47139 \nL 83.333388 118.707171 \nL 85.168914 120.14116 \nL 87.004441 121.814146 \nL 88.839967 121.216651 \nL 90.675493 121.503448 \nL 91.776809 121.383096 \nL 93.612336 116.197692 \nL 95.447862 116.914686 \nL 97.283388 117.392682 \nL 99.118914 119.693038 \nL 100.954441 119.495865 \nL 102.055757 119.718645 \nL 103.891283 114.763704 \nL 105.726809 116.197692 \nL 107.562336 117.512181 \nL 109.397862 117.721305 \nL 111.233388 118.061877 \nL 112.334704 117.92616 \nL 114.17023 113.688213 \nL 116.005757 112.254225 \nL 117.841283 113.688213 \nL 119.676809 114.04671 \nL 121.512336 115.122201 \nL 122.613651 114.725294 \nL 124.449178 117.63168 \nL 126.284704 114.942953 \nL 128.12023 113.688213 \nL 129.955757 114.225958 \nL 131.791283 114.548606 \nL 132.892599 115.173415 \nL 134.728125 110.820237 \nL 136.563651 111.895728 \nL 138.399178 111.895728 \nL 140.234704 111.895728 \nL 142.07023 111.967427 \nL 143.171546 111.716479 \nL 145.007072 108.310757 \nL 146.842599 109.207 \nL 148.678125 109.505747 \nL 150.513651 110.103242 \nL 152.349178 110.676838 \nL 153.450493 110.564167 \nL 155.28602 109.386248 \nL 157.121546 107.773012 \nL 158.957072 108.788753 \nL 160.792599 109.117376 \nL 162.628125 109.744745 \nL 163.729441 110.244081 \nL 165.564967 105.084284 \nL 167.400493 104.905035 \nL 169.23602 104.725787 \nL 171.071546 106.249399 \nL 172.907072 106.374873 \nL 174.008388 106.339023 \nL 175.843914 110.461739 \nL 177.679441 108.669254 \nL 179.514967 108.191258 \nL 181.350493 106.876769 \nL 183.18602 106.374873 \nL 184.287336 106.467058 \nL 186.122862 103.650296 \nL 187.958388 105.263532 \nL 189.793914 103.889294 \nL 191.629441 103.650296 \nL 193.464967 103.865394 \nL 194.566283 103.906365 \nL 196.401809 103.291799 \nL 198.237336 103.650296 \nL 200.072862 102.694304 \nL 201.908388 102.395556 \nL 203.743914 103.506897 \nL 204.84523 103.650296 \nL 206.680757 101.140816 \nL 208.516283 100.782319 \nL 210.351809 102.455305 \nL 212.187336 102.843677 \nL 214.022862 102.646504 \nL 215.124178 102.626018 \nL 216.959704 101.140816 \nL 218.79523 100.782319 \nL 220.630757 101.021317 \nL 222.466283 100.782319 \nL 224.301809 102.216307 \nL 225.403125 101.921828 \n\" clip-path=\"url(#pfab9b1b83f)\" style=\"fill: none; stroke-dasharray: 5.55,2.4; stroke-dashoffset: 0; stroke: #bf00bf; stroke-width: 1.5\"/>\n   </g>\n   <g id=\"line2d_19\">\n    <path d=\"M 30.103125 134.122544 \nL 40.382072 138.603757 \nL 50.66102 129.641331 \nL 60.939967 131.433817 \nL 71.218914 126.056361 \nL 81.497862 127.848846 \nL 91.776809 129.641331 \nL 102.055757 137.707515 \nL 112.334704 127.848846 \nL 122.613651 123.367633 \nL 132.892599 124.263876 \nL 143.171546 131.433817 \nL 153.450493 128.745089 \nL 163.729441 124.263876 \nL 174.008388 121.575148 \nL 184.287336 121.575148 \nL 194.566283 126.952603 \nL 204.84523 126.056361 \nL 215.124178 131.433817 \nL 225.403125 117.990177 \n\" clip-path=\"url(#pfab9b1b83f)\" style=\"fill: none; stroke-dasharray: 9.6,2.4,1.5,2.4; stroke-dashoffset: 0; stroke: #008000; stroke-width: 1.5\"/>\n   </g>\n   <g id=\"patch_3\">\n    <path d=\"M 30.103125 145.8 \nL 30.103125 7.2 \n\" style=\"fill: none; stroke: #000000; stroke-width: 0.8; stroke-linejoin: miter; stroke-linecap: square\"/>\n   </g>\n   <g id=\"patch_4\">\n    <path d=\"M 225.403125 145.8 \nL 225.403125 7.2 \n\" style=\"fill: none; stroke: #000000; stroke-width: 0.8; stroke-linejoin: miter; stroke-linecap: square\"/>\n   </g>\n   <g id=\"patch_5\">\n    <path d=\"M 30.103125 145.8 \nL 225.403125 145.8 \n\" style=\"fill: none; stroke: #000000; stroke-width: 0.8; stroke-linejoin: miter; stroke-linecap: square\"/>\n   </g>\n   <g id=\"patch_6\">\n    <path d=\"M 30.103125 7.2 \nL 225.403125 7.2 \n\" style=\"fill: none; stroke: #000000; stroke-width: 0.8; stroke-linejoin: miter; stroke-linecap: square\"/>\n   </g>\n   <g id=\"legend_1\">\n    <g id=\"patch_7\">\n     <path d=\"M 140.634375 59.234375 \nL 218.403125 59.234375 \nQ 220.403125 59.234375 220.403125 57.234375 \nL 220.403125 14.2 \nQ 220.403125 12.2 218.403125 12.2 \nL 140.634375 12.2 \nQ 138.634375 12.2 138.634375 14.2 \nL 138.634375 57.234375 \nQ 138.634375 59.234375 140.634375 59.234375 \nz\n\" style=\"fill: #ffffff; opacity: 0.8; stroke: #cccccc; stroke-linejoin: miter\"/>\n    </g>\n    <g id=\"line2d_20\">\n     <path d=\"M 142.634375 20.298438 \nL 152.634375 20.298438 \nL 162.634375 20.298438 \n\" style=\"fill: none; stroke: #1f77b4; stroke-width: 1.5; stroke-linecap: square\"/>\n    </g>\n    <g id=\"text_10\">\n     <!-- train loss -->\n     <g transform=\"translate(170.634375 23.798438)scale(0.1 -0.1)\">\n      <defs>\n       <path id=\"DejaVuSans-74\" d=\"M 1172 4494 \nL 1172 3500 \nL 2356 3500 \nL 2356 3053 \nL 1172 3053 \nL 1172 1153 \nQ 1172 725 1289 603 \nQ 1406 481 1766 481 \nL 2356 481 \nL 2356 0 \nL 1766 0 \nQ 1100 0 847 248 \nQ 594 497 594 1153 \nL 594 3053 \nL 172 3053 \nL 172 3500 \nL 594 3500 \nL 594 4494 \nL 1172 4494 \nz\n\" transform=\"scale(0.015625)\"/>\n       <path id=\"DejaVuSans-72\" d=\"M 2631 2963 \nQ 2534 3019 2420 3045 \nQ 2306 3072 2169 3072 \nQ 1681 3072 1420 2755 \nQ 1159 2438 1159 1844 \nL 1159 0 \nL 581 0 \nL 581 3500 \nL 1159 3500 \nL 1159 2956 \nQ 1341 3275 1631 3429 \nQ 1922 3584 2338 3584 \nQ 2397 3584 2469 3576 \nQ 2541 3569 2628 3553 \nL 2631 2963 \nz\n\" transform=\"scale(0.015625)\"/>\n       <path id=\"DejaVuSans-61\" d=\"M 2194 1759 \nQ 1497 1759 1228 1600 \nQ 959 1441 959 1056 \nQ 959 750 1161 570 \nQ 1363 391 1709 391 \nQ 2188 391 2477 730 \nQ 2766 1069 2766 1631 \nL 2766 1759 \nL 2194 1759 \nz\nM 3341 1997 \nL 3341 0 \nL 2766 0 \nL 2766 531 \nQ 2569 213 2275 61 \nQ 1981 -91 1556 -91 \nQ 1019 -91 701 211 \nQ 384 513 384 1019 \nQ 384 1609 779 1909 \nQ 1175 2209 1959 2209 \nL 2766 2209 \nL 2766 2266 \nQ 2766 2663 2505 2880 \nQ 2244 3097 1772 3097 \nQ 1472 3097 1187 3025 \nQ 903 2953 641 2809 \nL 641 3341 \nQ 956 3463 1253 3523 \nQ 1550 3584 1831 3584 \nQ 2591 3584 2966 3190 \nQ 3341 2797 3341 1997 \nz\n\" transform=\"scale(0.015625)\"/>\n       <path id=\"DejaVuSans-69\" d=\"M 603 3500 \nL 1178 3500 \nL 1178 0 \nL 603 0 \nL 603 3500 \nz\nM 603 4863 \nL 1178 4863 \nL 1178 4134 \nL 603 4134 \nL 603 4863 \nz\n\" transform=\"scale(0.015625)\"/>\n       <path id=\"DejaVuSans-6e\" d=\"M 3513 2113 \nL 3513 0 \nL 2938 0 \nL 2938 2094 \nQ 2938 2591 2744 2837 \nQ 2550 3084 2163 3084 \nQ 1697 3084 1428 2787 \nQ 1159 2491 1159 1978 \nL 1159 0 \nL 581 0 \nL 581 3500 \nL 1159 3500 \nL 1159 2956 \nQ 1366 3272 1645 3428 \nQ 1925 3584 2291 3584 \nQ 2894 3584 3203 3211 \nQ 3513 2838 3513 2113 \nz\n\" transform=\"scale(0.015625)\"/>\n       <path id=\"DejaVuSans-20\" transform=\"scale(0.015625)\"/>\n       <path id=\"DejaVuSans-6c\" d=\"M 603 4863 \nL 1178 4863 \nL 1178 0 \nL 603 0 \nL 603 4863 \nz\n\" transform=\"scale(0.015625)\"/>\n       <path id=\"DejaVuSans-73\" d=\"M 2834 3397 \nL 2834 2853 \nQ 2591 2978 2328 3040 \nQ 2066 3103 1784 3103 \nQ 1356 3103 1142 2972 \nQ 928 2841 928 2578 \nQ 928 2378 1081 2264 \nQ 1234 2150 1697 2047 \nL 1894 2003 \nQ 2506 1872 2764 1633 \nQ 3022 1394 3022 966 \nQ 3022 478 2636 193 \nQ 2250 -91 1575 -91 \nQ 1294 -91 989 -36 \nQ 684 19 347 128 \nL 347 722 \nQ 666 556 975 473 \nQ 1284 391 1588 391 \nQ 1994 391 2212 530 \nQ 2431 669 2431 922 \nQ 2431 1156 2273 1281 \nQ 2116 1406 1581 1522 \nL 1381 1569 \nQ 847 1681 609 1914 \nQ 372 2147 372 2553 \nQ 372 3047 722 3315 \nQ 1072 3584 1716 3584 \nQ 2034 3584 2315 3537 \nQ 2597 3491 2834 3397 \nz\n\" transform=\"scale(0.015625)\"/>\n      </defs>\n      <use xlink:href=\"#DejaVuSans-74\"/>\n      <use xlink:href=\"#DejaVuSans-72\" x=\"39.208984\"/>\n      <use xlink:href=\"#DejaVuSans-61\" x=\"80.322266\"/>\n      <use xlink:href=\"#DejaVuSans-69\" x=\"141.601562\"/>\n      <use xlink:href=\"#DejaVuSans-6e\" x=\"169.384766\"/>\n      <use xlink:href=\"#DejaVuSans-20\" x=\"232.763672\"/>\n      <use xlink:href=\"#DejaVuSans-6c\" x=\"264.550781\"/>\n      <use xlink:href=\"#DejaVuSans-6f\" x=\"292.333984\"/>\n      <use xlink:href=\"#DejaVuSans-73\" x=\"353.515625\"/>\n      <use xlink:href=\"#DejaVuSans-73\" x=\"405.615234\"/>\n     </g>\n    </g>\n    <g id=\"line2d_21\">\n     <path d=\"M 142.634375 34.976563 \nL 152.634375 34.976563 \nL 162.634375 34.976563 \n\" style=\"fill: none; stroke-dasharray: 5.55,2.4; stroke-dashoffset: 0; stroke: #bf00bf; stroke-width: 1.5\"/>\n    </g>\n    <g id=\"text_11\">\n     <!-- train acc -->\n     <g transform=\"translate(170.634375 38.476563)scale(0.1 -0.1)\">\n      <use xlink:href=\"#DejaVuSans-74\"/>\n      <use xlink:href=\"#DejaVuSans-72\" x=\"39.208984\"/>\n      <use xlink:href=\"#DejaVuSans-61\" x=\"80.322266\"/>\n      <use xlink:href=\"#DejaVuSans-69\" x=\"141.601562\"/>\n      <use xlink:href=\"#DejaVuSans-6e\" x=\"169.384766\"/>\n      <use xlink:href=\"#DejaVuSans-20\" x=\"232.763672\"/>\n      <use xlink:href=\"#DejaVuSans-61\" x=\"264.550781\"/>\n      <use xlink:href=\"#DejaVuSans-63\" x=\"325.830078\"/>\n      <use xlink:href=\"#DejaVuSans-63\" x=\"380.810547\"/>\n     </g>\n    </g>\n    <g id=\"line2d_22\">\n     <path d=\"M 142.634375 49.654688 \nL 152.634375 49.654688 \nL 162.634375 49.654688 \n\" style=\"fill: none; stroke-dasharray: 9.6,2.4,1.5,2.4; stroke-dashoffset: 0; stroke: #008000; stroke-width: 1.5\"/>\n    </g>\n    <g id=\"text_12\">\n     <!-- valid acc -->\n     <g transform=\"translate(170.634375 53.154688)scale(0.1 -0.1)\">\n      <defs>\n       <path id=\"DejaVuSans-76\" d=\"M 191 3500 \nL 800 3500 \nL 1894 563 \nL 2988 3500 \nL 3597 3500 \nL 2284 0 \nL 1503 0 \nL 191 3500 \nz\n\" transform=\"scale(0.015625)\"/>\n       <path id=\"DejaVuSans-64\" d=\"M 2906 2969 \nL 2906 4863 \nL 3481 4863 \nL 3481 0 \nL 2906 0 \nL 2906 525 \nQ 2725 213 2448 61 \nQ 2172 -91 1784 -91 \nQ 1150 -91 751 415 \nQ 353 922 353 1747 \nQ 353 2572 751 3078 \nQ 1150 3584 1784 3584 \nQ 2172 3584 2448 3432 \nQ 2725 3281 2906 2969 \nz\nM 947 1747 \nQ 947 1113 1208 752 \nQ 1469 391 1925 391 \nQ 2381 391 2643 752 \nQ 2906 1113 2906 1747 \nQ 2906 2381 2643 2742 \nQ 2381 3103 1925 3103 \nQ 1469 3103 1208 2742 \nQ 947 2381 947 1747 \nz\n\" transform=\"scale(0.015625)\"/>\n      </defs>\n      <use xlink:href=\"#DejaVuSans-76\"/>\n      <use xlink:href=\"#DejaVuSans-61\" x=\"59.179688\"/>\n      <use xlink:href=\"#DejaVuSans-6c\" x=\"120.458984\"/>\n      <use xlink:href=\"#DejaVuSans-69\" x=\"148.242188\"/>\n      <use xlink:href=\"#DejaVuSans-64\" x=\"176.025391\"/>\n      <use xlink:href=\"#DejaVuSans-20\" x=\"239.501953\"/>\n      <use xlink:href=\"#DejaVuSans-61\" x=\"271.289062\"/>\n      <use xlink:href=\"#DejaVuSans-63\" x=\"332.568359\"/>\n      <use xlink:href=\"#DejaVuSans-63\" x=\"387.548828\"/>\n     </g>\n    </g>\n   </g>\n  </g>\n </g>\n <defs>\n  <clipPath id=\"pfab9b1b83f\">\n   <rect x=\"30.103125\" y=\"7.2\" width=\"195.3\" height=\"138.6\"/>\n  </clipPath>\n </defs>\n</svg>\n"
     },
     "metadata": {},
     "output_type": "display_data"
    }
   ],
   "source": [
    "# 训练和验证模型\n",
    "devices, num_epochs, lr, wd = d2l.try_all_gpus(), 20, 2e-4, 5e-4\n",
    "lr_period, lr_decay, net = 4, 0.9, get_net()\n",
    "train(net, train_iter, valid_iter, num_epochs, lr, wd, devices, lr_period, lr_decay)"
   ],
   "metadata": {
    "collapsed": false
   }
  },
  {
   "cell_type": "code",
   "execution_count": 20,
   "outputs": [
    {
     "name": "stdout",
     "output_type": "stream",
     "text": [
      "train loss 0.562,train acc 0.802\n",
      "903.5 examples/sec on [device(type='cuda', index=0)]\n"
     ]
    },
    {
     "data": {
      "text/plain": "<Figure size 350x250 with 1 Axes>",
      "image/svg+xml": "<?xml version=\"1.0\" encoding=\"utf-8\" standalone=\"no\"?>\n<!DOCTYPE svg PUBLIC \"-//W3C//DTD SVG 1.1//EN\"\n  \"http://www.w3.org/Graphics/SVG/1.1/DTD/svg11.dtd\">\n<svg xmlns:xlink=\"http://www.w3.org/1999/xlink\" width=\"238.965625pt\" height=\"183.35625pt\" viewBox=\"0 0 238.965625 183.35625\" xmlns=\"http://www.w3.org/2000/svg\" version=\"1.1\">\n <metadata>\n  <rdf:RDF xmlns:dc=\"http://purl.org/dc/elements/1.1/\" xmlns:cc=\"http://creativecommons.org/ns#\" xmlns:rdf=\"http://www.w3.org/1999/02/22-rdf-syntax-ns#\">\n   <cc:Work>\n    <dc:type rdf:resource=\"http://purl.org/dc/dcmitype/StillImage\"/>\n    <dc:date>2023-04-22T12:29:54.099892</dc:date>\n    <dc:format>image/svg+xml</dc:format>\n    <dc:creator>\n     <cc:Agent>\n      <dc:title>Matplotlib v3.5.1, https://matplotlib.org/</dc:title>\n     </cc:Agent>\n    </dc:creator>\n   </cc:Work>\n  </rdf:RDF>\n </metadata>\n <defs>\n  <style type=\"text/css\">*{stroke-linejoin: round; stroke-linecap: butt}</style>\n </defs>\n <g id=\"figure_1\">\n  <g id=\"patch_1\">\n   <path d=\"M 0 183.35625 \nL 238.965625 183.35625 \nL 238.965625 0 \nL 0 0 \nz\n\" style=\"fill: #ffffff\"/>\n  </g>\n  <g id=\"axes_1\">\n   <g id=\"patch_2\">\n    <path d=\"M 30.103125 145.8 \nL 225.403125 145.8 \nL 225.403125 7.2 \nL 30.103125 7.2 \nz\n\" style=\"fill: #ffffff\"/>\n   </g>\n   <g id=\"matplotlib.axis_1\">\n    <g id=\"xtick_1\">\n     <g id=\"line2d_1\">\n      <path d=\"M 71.218914 145.8 \nL 71.218914 7.2 \n\" clip-path=\"url(#p4cdfd40728)\" style=\"fill: none; stroke: #b0b0b0; stroke-width: 0.8; stroke-linecap: square\"/>\n     </g>\n     <g id=\"line2d_2\">\n      <defs>\n       <path id=\"mcdf38551c5\" d=\"M 0 0 \nL 0 3.5 \n\" style=\"stroke: #000000; stroke-width: 0.8\"/>\n      </defs>\n      <g>\n       <use xlink:href=\"#mcdf38551c5\" x=\"71.218914\" y=\"145.8\" style=\"stroke: #000000; stroke-width: 0.8\"/>\n      </g>\n     </g>\n     <g id=\"text_1\">\n      <!-- 5 -->\n      <g transform=\"translate(68.037664 160.398438)scale(0.1 -0.1)\">\n       <defs>\n        <path id=\"DejaVuSans-35\" d=\"M 691 4666 \nL 3169 4666 \nL 3169 4134 \nL 1269 4134 \nL 1269 2991 \nQ 1406 3038 1543 3061 \nQ 1681 3084 1819 3084 \nQ 2600 3084 3056 2656 \nQ 3513 2228 3513 1497 \nQ 3513 744 3044 326 \nQ 2575 -91 1722 -91 \nQ 1428 -91 1123 -41 \nQ 819 9 494 109 \nL 494 744 \nQ 775 591 1075 516 \nQ 1375 441 1709 441 \nQ 2250 441 2565 725 \nQ 2881 1009 2881 1497 \nQ 2881 1984 2565 2268 \nQ 2250 2553 1709 2553 \nQ 1456 2553 1204 2497 \nQ 953 2441 691 2322 \nL 691 4666 \nz\n\" transform=\"scale(0.015625)\"/>\n       </defs>\n       <use xlink:href=\"#DejaVuSans-35\"/>\n      </g>\n     </g>\n    </g>\n    <g id=\"xtick_2\">\n     <g id=\"line2d_3\">\n      <path d=\"M 122.613651 145.8 \nL 122.613651 7.2 \n\" clip-path=\"url(#p4cdfd40728)\" style=\"fill: none; stroke: #b0b0b0; stroke-width: 0.8; stroke-linecap: square\"/>\n     </g>\n     <g id=\"line2d_4\">\n      <g>\n       <use xlink:href=\"#mcdf38551c5\" x=\"122.613651\" y=\"145.8\" style=\"stroke: #000000; stroke-width: 0.8\"/>\n      </g>\n     </g>\n     <g id=\"text_2\">\n      <!-- 10 -->\n      <g transform=\"translate(116.251151 160.398438)scale(0.1 -0.1)\">\n       <defs>\n        <path id=\"DejaVuSans-31\" d=\"M 794 531 \nL 1825 531 \nL 1825 4091 \nL 703 3866 \nL 703 4441 \nL 1819 4666 \nL 2450 4666 \nL 2450 531 \nL 3481 531 \nL 3481 0 \nL 794 0 \nL 794 531 \nz\n\" transform=\"scale(0.015625)\"/>\n        <path id=\"DejaVuSans-30\" d=\"M 2034 4250 \nQ 1547 4250 1301 3770 \nQ 1056 3291 1056 2328 \nQ 1056 1369 1301 889 \nQ 1547 409 2034 409 \nQ 2525 409 2770 889 \nQ 3016 1369 3016 2328 \nQ 3016 3291 2770 3770 \nQ 2525 4250 2034 4250 \nz\nM 2034 4750 \nQ 2819 4750 3233 4129 \nQ 3647 3509 3647 2328 \nQ 3647 1150 3233 529 \nQ 2819 -91 2034 -91 \nQ 1250 -91 836 529 \nQ 422 1150 422 2328 \nQ 422 3509 836 4129 \nQ 1250 4750 2034 4750 \nz\n\" transform=\"scale(0.015625)\"/>\n       </defs>\n       <use xlink:href=\"#DejaVuSans-31\"/>\n       <use xlink:href=\"#DejaVuSans-30\" x=\"63.623047\"/>\n      </g>\n     </g>\n    </g>\n    <g id=\"xtick_3\">\n     <g id=\"line2d_5\">\n      <path d=\"M 174.008388 145.8 \nL 174.008388 7.2 \n\" clip-path=\"url(#p4cdfd40728)\" style=\"fill: none; stroke: #b0b0b0; stroke-width: 0.8; stroke-linecap: square\"/>\n     </g>\n     <g id=\"line2d_6\">\n      <g>\n       <use xlink:href=\"#mcdf38551c5\" x=\"174.008388\" y=\"145.8\" style=\"stroke: #000000; stroke-width: 0.8\"/>\n      </g>\n     </g>\n     <g id=\"text_3\">\n      <!-- 15 -->\n      <g transform=\"translate(167.645888 160.398438)scale(0.1 -0.1)\">\n       <use xlink:href=\"#DejaVuSans-31\"/>\n       <use xlink:href=\"#DejaVuSans-35\" x=\"63.623047\"/>\n      </g>\n     </g>\n    </g>\n    <g id=\"xtick_4\">\n     <g id=\"line2d_7\">\n      <path d=\"M 225.403125 145.8 \nL 225.403125 7.2 \n\" clip-path=\"url(#p4cdfd40728)\" style=\"fill: none; stroke: #b0b0b0; stroke-width: 0.8; stroke-linecap: square\"/>\n     </g>\n     <g id=\"line2d_8\">\n      <g>\n       <use xlink:href=\"#mcdf38551c5\" x=\"225.403125\" y=\"145.8\" style=\"stroke: #000000; stroke-width: 0.8\"/>\n      </g>\n     </g>\n     <g id=\"text_4\">\n      <!-- 20 -->\n      <g transform=\"translate(219.040625 160.398438)scale(0.1 -0.1)\">\n       <defs>\n        <path id=\"DejaVuSans-32\" d=\"M 1228 531 \nL 3431 531 \nL 3431 0 \nL 469 0 \nL 469 531 \nQ 828 903 1448 1529 \nQ 2069 2156 2228 2338 \nQ 2531 2678 2651 2914 \nQ 2772 3150 2772 3378 \nQ 2772 3750 2511 3984 \nQ 2250 4219 1831 4219 \nQ 1534 4219 1204 4116 \nQ 875 4013 500 3803 \nL 500 4441 \nQ 881 4594 1212 4672 \nQ 1544 4750 1819 4750 \nQ 2544 4750 2975 4387 \nQ 3406 4025 3406 3419 \nQ 3406 3131 3298 2873 \nQ 3191 2616 2906 2266 \nQ 2828 2175 2409 1742 \nQ 1991 1309 1228 531 \nz\n\" transform=\"scale(0.015625)\"/>\n       </defs>\n       <use xlink:href=\"#DejaVuSans-32\"/>\n       <use xlink:href=\"#DejaVuSans-30\" x=\"63.623047\"/>\n      </g>\n     </g>\n    </g>\n    <g id=\"text_5\">\n     <!-- epoch -->\n     <g transform=\"translate(112.525 174.076563)scale(0.1 -0.1)\">\n      <defs>\n       <path id=\"DejaVuSans-65\" d=\"M 3597 1894 \nL 3597 1613 \nL 953 1613 \nQ 991 1019 1311 708 \nQ 1631 397 2203 397 \nQ 2534 397 2845 478 \nQ 3156 559 3463 722 \nL 3463 178 \nQ 3153 47 2828 -22 \nQ 2503 -91 2169 -91 \nQ 1331 -91 842 396 \nQ 353 884 353 1716 \nQ 353 2575 817 3079 \nQ 1281 3584 2069 3584 \nQ 2775 3584 3186 3129 \nQ 3597 2675 3597 1894 \nz\nM 3022 2063 \nQ 3016 2534 2758 2815 \nQ 2500 3097 2075 3097 \nQ 1594 3097 1305 2825 \nQ 1016 2553 972 2059 \nL 3022 2063 \nz\n\" transform=\"scale(0.015625)\"/>\n       <path id=\"DejaVuSans-70\" d=\"M 1159 525 \nL 1159 -1331 \nL 581 -1331 \nL 581 3500 \nL 1159 3500 \nL 1159 2969 \nQ 1341 3281 1617 3432 \nQ 1894 3584 2278 3584 \nQ 2916 3584 3314 3078 \nQ 3713 2572 3713 1747 \nQ 3713 922 3314 415 \nQ 2916 -91 2278 -91 \nQ 1894 -91 1617 61 \nQ 1341 213 1159 525 \nz\nM 3116 1747 \nQ 3116 2381 2855 2742 \nQ 2594 3103 2138 3103 \nQ 1681 3103 1420 2742 \nQ 1159 2381 1159 1747 \nQ 1159 1113 1420 752 \nQ 1681 391 2138 391 \nQ 2594 391 2855 752 \nQ 3116 1113 3116 1747 \nz\n\" transform=\"scale(0.015625)\"/>\n       <path id=\"DejaVuSans-6f\" d=\"M 1959 3097 \nQ 1497 3097 1228 2736 \nQ 959 2375 959 1747 \nQ 959 1119 1226 758 \nQ 1494 397 1959 397 \nQ 2419 397 2687 759 \nQ 2956 1122 2956 1747 \nQ 2956 2369 2687 2733 \nQ 2419 3097 1959 3097 \nz\nM 1959 3584 \nQ 2709 3584 3137 3096 \nQ 3566 2609 3566 1747 \nQ 3566 888 3137 398 \nQ 2709 -91 1959 -91 \nQ 1206 -91 779 398 \nQ 353 888 353 1747 \nQ 353 2609 779 3096 \nQ 1206 3584 1959 3584 \nz\n\" transform=\"scale(0.015625)\"/>\n       <path id=\"DejaVuSans-63\" d=\"M 3122 3366 \nL 3122 2828 \nQ 2878 2963 2633 3030 \nQ 2388 3097 2138 3097 \nQ 1578 3097 1268 2742 \nQ 959 2388 959 1747 \nQ 959 1106 1268 751 \nQ 1578 397 2138 397 \nQ 2388 397 2633 464 \nQ 2878 531 3122 666 \nL 3122 134 \nQ 2881 22 2623 -34 \nQ 2366 -91 2075 -91 \nQ 1284 -91 818 406 \nQ 353 903 353 1747 \nQ 353 2603 823 3093 \nQ 1294 3584 2113 3584 \nQ 2378 3584 2631 3529 \nQ 2884 3475 3122 3366 \nz\n\" transform=\"scale(0.015625)\"/>\n       <path id=\"DejaVuSans-68\" d=\"M 3513 2113 \nL 3513 0 \nL 2938 0 \nL 2938 2094 \nQ 2938 2591 2744 2837 \nQ 2550 3084 2163 3084 \nQ 1697 3084 1428 2787 \nQ 1159 2491 1159 1978 \nL 1159 0 \nL 581 0 \nL 581 4863 \nL 1159 4863 \nL 1159 2956 \nQ 1366 3272 1645 3428 \nQ 1925 3584 2291 3584 \nQ 2894 3584 3203 3211 \nQ 3513 2838 3513 2113 \nz\n\" transform=\"scale(0.015625)\"/>\n      </defs>\n      <use xlink:href=\"#DejaVuSans-65\"/>\n      <use xlink:href=\"#DejaVuSans-70\" x=\"61.523438\"/>\n      <use xlink:href=\"#DejaVuSans-6f\" x=\"125\"/>\n      <use xlink:href=\"#DejaVuSans-63\" x=\"186.181641\"/>\n      <use xlink:href=\"#DejaVuSans-68\" x=\"241.162109\"/>\n     </g>\n    </g>\n   </g>\n   <g id=\"matplotlib.axis_2\">\n    <g id=\"ytick_1\">\n     <g id=\"line2d_9\">\n      <path d=\"M 30.103125 118.026072 \nL 225.403125 118.026072 \n\" clip-path=\"url(#p4cdfd40728)\" style=\"fill: none; stroke: #b0b0b0; stroke-width: 0.8; stroke-linecap: square\"/>\n     </g>\n     <g id=\"line2d_10\">\n      <defs>\n       <path id=\"m6c9fcf4434\" d=\"M 0 0 \nL -3.5 0 \n\" style=\"stroke: #000000; stroke-width: 0.8\"/>\n      </defs>\n      <g>\n       <use xlink:href=\"#m6c9fcf4434\" x=\"30.103125\" y=\"118.026072\" style=\"stroke: #000000; stroke-width: 0.8\"/>\n      </g>\n     </g>\n     <g id=\"text_6\">\n      <!-- 0.5 -->\n      <g transform=\"translate(7.2 121.825291)scale(0.1 -0.1)\">\n       <defs>\n        <path id=\"DejaVuSans-2e\" d=\"M 684 794 \nL 1344 794 \nL 1344 0 \nL 684 0 \nL 684 794 \nz\n\" transform=\"scale(0.015625)\"/>\n       </defs>\n       <use xlink:href=\"#DejaVuSans-30\"/>\n       <use xlink:href=\"#DejaVuSans-2e\" x=\"63.623047\"/>\n       <use xlink:href=\"#DejaVuSans-35\" x=\"95.410156\"/>\n      </g>\n     </g>\n    </g>\n    <g id=\"ytick_2\">\n     <g id=\"line2d_11\">\n      <path d=\"M 30.103125 89.394169 \nL 225.403125 89.394169 \n\" clip-path=\"url(#p4cdfd40728)\" style=\"fill: none; stroke: #b0b0b0; stroke-width: 0.8; stroke-linecap: square\"/>\n     </g>\n     <g id=\"line2d_12\">\n      <g>\n       <use xlink:href=\"#m6c9fcf4434\" x=\"30.103125\" y=\"89.394169\" style=\"stroke: #000000; stroke-width: 0.8\"/>\n      </g>\n     </g>\n     <g id=\"text_7\">\n      <!-- 1.0 -->\n      <g transform=\"translate(7.2 93.193387)scale(0.1 -0.1)\">\n       <use xlink:href=\"#DejaVuSans-31\"/>\n       <use xlink:href=\"#DejaVuSans-2e\" x=\"63.623047\"/>\n       <use xlink:href=\"#DejaVuSans-30\" x=\"95.410156\"/>\n      </g>\n     </g>\n    </g>\n    <g id=\"ytick_3\">\n     <g id=\"line2d_13\">\n      <path d=\"M 30.103125 60.762265 \nL 225.403125 60.762265 \n\" clip-path=\"url(#p4cdfd40728)\" style=\"fill: none; stroke: #b0b0b0; stroke-width: 0.8; stroke-linecap: square\"/>\n     </g>\n     <g id=\"line2d_14\">\n      <g>\n       <use xlink:href=\"#m6c9fcf4434\" x=\"30.103125\" y=\"60.762265\" style=\"stroke: #000000; stroke-width: 0.8\"/>\n      </g>\n     </g>\n     <g id=\"text_8\">\n      <!-- 1.5 -->\n      <g transform=\"translate(7.2 64.561484)scale(0.1 -0.1)\">\n       <use xlink:href=\"#DejaVuSans-31\"/>\n       <use xlink:href=\"#DejaVuSans-2e\" x=\"63.623047\"/>\n       <use xlink:href=\"#DejaVuSans-35\" x=\"95.410156\"/>\n      </g>\n     </g>\n    </g>\n    <g id=\"ytick_4\">\n     <g id=\"line2d_15\">\n      <path d=\"M 30.103125 32.130361 \nL 225.403125 32.130361 \n\" clip-path=\"url(#p4cdfd40728)\" style=\"fill: none; stroke: #b0b0b0; stroke-width: 0.8; stroke-linecap: square\"/>\n     </g>\n     <g id=\"line2d_16\">\n      <g>\n       <use xlink:href=\"#m6c9fcf4434\" x=\"30.103125\" y=\"32.130361\" style=\"stroke: #000000; stroke-width: 0.8\"/>\n      </g>\n     </g>\n     <g id=\"text_9\">\n      <!-- 2.0 -->\n      <g transform=\"translate(7.2 35.92958)scale(0.1 -0.1)\">\n       <use xlink:href=\"#DejaVuSans-32\"/>\n       <use xlink:href=\"#DejaVuSans-2e\" x=\"63.623047\"/>\n       <use xlink:href=\"#DejaVuSans-30\" x=\"95.410156\"/>\n      </g>\n     </g>\n    </g>\n   </g>\n   <g id=\"line2d_17\">\n    <path d=\"M 21.813651 13.5 \nL 23.803125 20.286044 \nL 25.792599 22.194278 \nL 27.782072 23.261716 \nL 29.771546 25.626597 \nL 30.103125 25.490335 \nL 32.092599 38.079416 \nL 34.082072 37.696227 \nL 36.071546 37.052255 \nL 38.06102 38.00781 \nL 40.050493 37.983155 \nL 40.382072 38.005677 \nL 42.371546 46.823964 \nL 44.36102 41.913169 \nL 46.350493 41.071351 \nL 48.339967 42.395595 \nL 50.329441 42.08721 \nL 50.66102 41.196974 \nL 52.650493 45.786033 \nL 54.639967 46.737949 \nL 56.629441 45.213878 \nL 58.618914 46.615994 \nL 60.608388 45.903505 \nL 60.939967 46.16478 \nL 62.929441 59.080762 \nL 64.918914 55.805237 \nL 66.908388 53.19239 \nL 68.897862 53.12675 \nL 70.887336 53.621207 \nL 71.218914 54.142724 \nL 73.208388 58.473065 \nL 75.197862 56.339498 \nL 77.187336 56.790876 \nL 79.176809 55.58583 \nL 81.166283 54.904853 \nL 81.497862 55.163256 \nL 83.487336 67.143379 \nL 85.476809 65.619365 \nL 87.466283 64.383647 \nL 89.455757 63.359382 \nL 91.44523 63.595113 \nL 91.776809 63.756741 \nL 93.766283 66.344295 \nL 95.755757 62.29458 \nL 97.74523 61.825788 \nL 99.734704 62.965963 \nL 101.724178 63.108271 \nL 102.055757 63.758702 \nL 104.04523 70.797824 \nL 106.034704 74.218473 \nL 108.024178 74.041767 \nL 110.013651 74.003869 \nL 112.003125 73.109209 \nL 112.334704 72.097977 \nL 114.324178 75.501668 \nL 116.313651 74.840861 \nL 118.303125 73.238315 \nL 120.292599 73.856827 \nL 122.282072 76.013133 \nL 122.613651 75.895601 \nL 124.603125 88.469301 \nL 126.592599 84.279801 \nL 128.582072 85.115416 \nL 130.571546 85.162867 \nL 132.56102 82.996487 \nL 132.892599 83.131748 \nL 134.882072 83.029648 \nL 136.871546 77.578006 \nL 138.86102 78.642796 \nL 140.850493 79.083173 \nL 142.839967 78.584212 \nL 143.171546 78.103195 \nL 145.16102 82.853908 \nL 147.150493 84.244578 \nL 149.139967 84.240612 \nL 151.129441 83.025948 \nL 153.118914 83.000372 \nL 153.450493 83.131186 \nL 155.439967 96.054346 \nL 157.429441 94.402858 \nL 159.418914 93.692309 \nL 161.408388 93.934771 \nL 163.397862 92.617981 \nL 163.729441 91.917089 \nL 165.718914 100.302633 \nL 167.708388 98.906581 \nL 169.697862 99.584652 \nL 171.687336 96.711658 \nL 173.676809 96.332495 \nL 174.008388 96.428668 \nL 175.997862 104.18603 \nL 177.987336 95.470077 \nL 179.976809 98.573834 \nL 181.966283 99.050471 \nL 183.955757 98.262218 \nL 184.287336 98.762456 \nL 186.276809 104.203167 \nL 188.266283 104.741561 \nL 190.255757 103.023104 \nL 192.24523 101.583595 \nL 194.234704 100.119814 \nL 194.566283 100.457176 \nL 196.555757 105.715111 \nL 198.54523 106.651595 \nL 200.534704 103.496391 \nL 202.524178 102.721125 \nL 204.513651 100.342521 \nL 204.84523 100.517603 \nL 206.834704 112.026032 \nL 208.824178 112.176977 \nL 210.813651 112.028869 \nL 212.803125 112.337382 \nL 214.792599 110.940172 \nL 215.124178 111.040496 \nL 217.113651 114.253507 \nL 219.103125 115.738963 \nL 221.092599 115.190557 \nL 223.082072 113.945013 \nL 225.071546 114.230384 \nL 225.403125 114.456176 \n\" clip-path=\"url(#p4cdfd40728)\" style=\"fill: none; stroke: #1f77b4; stroke-width: 1.5; stroke-linecap: square\"/>\n   </g>\n   <g id=\"line2d_18\">\n    <path d=\"M 21.813651 139.5 \nL 23.803125 135.921012 \nL 25.792599 134.728016 \nL 27.782072 134.877141 \nL 29.771546 133.892919 \nL 30.103125 133.84289 \nL 32.092599 126.675293 \nL 34.082072 127.57004 \nL 36.071546 128.166538 \nL 38.06102 128.390225 \nL 40.050493 128.703386 \nL 40.382072 128.878487 \nL 42.371546 126.078795 \nL 44.36102 127.420916 \nL 46.350493 127.669456 \nL 48.339967 128.017414 \nL 50.329441 128.166538 \nL 50.66102 128.18578 \nL 52.650493 128.166538 \nL 54.639967 128.166538 \nL 56.629441 128.365371 \nL 58.618914 126.749855 \nL 60.608388 127.212141 \nL 60.939967 127.031268 \nL 62.929441 121.903309 \nL 64.918914 124.736675 \nL 66.908388 125.581714 \nL 68.897862 125.407735 \nL 70.887336 125.124398 \nL 71.218914 124.837695 \nL 73.208388 122.499807 \nL 75.197862 123.543679 \nL 77.187336 123.096305 \nL 79.176809 123.170867 \nL 81.166283 123.394554 \nL 81.497862 123.221377 \nL 83.487336 118.324321 \nL 85.476809 118.473446 \nL 87.466283 118.920819 \nL 89.455757 119.59188 \nL 91.44523 119.934866 \nL 91.776809 119.584664 \nL 93.766283 120.412064 \nL 95.755757 121.903309 \nL 97.74523 121.406228 \nL 99.734704 120.934 \nL 101.724178 120.889263 \nL 102.055757 120.68145 \nL 104.04523 115.341831 \nL 106.034704 114.894458 \nL 108.024178 115.242415 \nL 110.013651 115.565518 \nL 112.003125 116.236578 \nL 112.334704 116.467481 \nL 114.324178 117.429574 \nL 116.313651 116.385703 \nL 118.303125 117.230742 \nL 120.292599 116.385703 \nL 122.282072 115.341831 \nL 122.613651 115.42842 \nL 124.603125 109.078602 \nL 126.592599 112.210217 \nL 128.582072 111.663427 \nL 130.571546 111.837406 \nL 132.56102 112.83654 \nL 132.892599 112.715316 \nL 134.882072 111.762843 \nL 136.871546 114.745333 \nL 138.86102 114.148835 \nL 140.850493 113.850586 \nL 142.839967 113.731287 \nL 143.171546 114.100731 \nL 145.16102 112.359341 \nL 147.150493 112.359341 \nL 149.139967 112.458758 \nL 151.129441 112.881277 \nL 153.118914 112.955839 \nL 153.450493 113.003944 \nL 155.439967 107.885606 \nL 157.429441 108.33298 \nL 159.418914 108.780353 \nL 161.408388 108.407542 \nL 163.397862 109.018953 \nL 163.729441 109.078602 \nL 165.718914 105.499614 \nL 167.708388 106.394361 \nL 169.697862 106.294945 \nL 171.687336 107.438233 \nL 173.676809 107.647007 \nL 174.008388 107.346834 \nL 175.997862 104.306618 \nL 177.987336 107.885606 \nL 179.976809 106.294945 \nL 181.966283 106.543486 \nL 183.955757 106.87156 \nL 184.287336 106.654127 \nL 186.276809 103.71012 \nL 188.266283 103.262747 \nL 190.255757 104.406035 \nL 192.24523 105.275928 \nL 194.234704 106.215412 \nL 194.566283 106.250047 \nL 196.555757 102.517124 \nL 198.54523 102.815373 \nL 200.534704 104.903116 \nL 202.524178 105.126803 \nL 204.513651 105.738214 \nL 204.84523 105.672791 \nL 206.834704 101.324128 \nL 208.824178 100.72763 \nL 210.813651 101.224712 \nL 212.803125 100.802193 \nL 214.792599 101.443428 \nL 215.124178 101.401096 \nL 217.113651 99.534635 \nL 219.103125 100.131133 \nL 221.092599 100.628214 \nL 223.082072 100.951317 \nL 225.071546 100.90658 \nL 225.403125 100.708389 \n\" clip-path=\"url(#p4cdfd40728)\" style=\"fill: none; stroke-dasharray: 5.55,2.4; stroke-dashoffset: 0; stroke: #bf00bf; stroke-width: 1.5\"/>\n   </g>\n   <g id=\"line2d_19\"/>\n   <g id=\"patch_3\">\n    <path d=\"M 30.103125 145.8 \nL 30.103125 7.2 \n\" style=\"fill: none; stroke: #000000; stroke-width: 0.8; stroke-linejoin: miter; stroke-linecap: square\"/>\n   </g>\n   <g id=\"patch_4\">\n    <path d=\"M 225.403125 145.8 \nL 225.403125 7.2 \n\" style=\"fill: none; stroke: #000000; stroke-width: 0.8; stroke-linejoin: miter; stroke-linecap: square\"/>\n   </g>\n   <g id=\"patch_5\">\n    <path d=\"M 30.103125 145.8 \nL 225.403125 145.8 \n\" style=\"fill: none; stroke: #000000; stroke-width: 0.8; stroke-linejoin: miter; stroke-linecap: square\"/>\n   </g>\n   <g id=\"patch_6\">\n    <path d=\"M 30.103125 7.2 \nL 225.403125 7.2 \n\" style=\"fill: none; stroke: #000000; stroke-width: 0.8; stroke-linejoin: miter; stroke-linecap: square\"/>\n   </g>\n   <g id=\"legend_1\">\n    <g id=\"patch_7\">\n     <path d=\"M 140.634375 44.55625 \nL 218.403125 44.55625 \nQ 220.403125 44.55625 220.403125 42.55625 \nL 220.403125 14.2 \nQ 220.403125 12.2 218.403125 12.2 \nL 140.634375 12.2 \nQ 138.634375 12.2 138.634375 14.2 \nL 138.634375 42.55625 \nQ 138.634375 44.55625 140.634375 44.55625 \nz\n\" style=\"fill: #ffffff; opacity: 0.8; stroke: #cccccc; stroke-linejoin: miter\"/>\n    </g>\n    <g id=\"line2d_20\">\n     <path d=\"M 142.634375 20.298438 \nL 152.634375 20.298438 \nL 162.634375 20.298438 \n\" style=\"fill: none; stroke: #1f77b4; stroke-width: 1.5; stroke-linecap: square\"/>\n    </g>\n    <g id=\"text_10\">\n     <!-- train loss -->\n     <g transform=\"translate(170.634375 23.798438)scale(0.1 -0.1)\">\n      <defs>\n       <path id=\"DejaVuSans-74\" d=\"M 1172 4494 \nL 1172 3500 \nL 2356 3500 \nL 2356 3053 \nL 1172 3053 \nL 1172 1153 \nQ 1172 725 1289 603 \nQ 1406 481 1766 481 \nL 2356 481 \nL 2356 0 \nL 1766 0 \nQ 1100 0 847 248 \nQ 594 497 594 1153 \nL 594 3053 \nL 172 3053 \nL 172 3500 \nL 594 3500 \nL 594 4494 \nL 1172 4494 \nz\n\" transform=\"scale(0.015625)\"/>\n       <path id=\"DejaVuSans-72\" d=\"M 2631 2963 \nQ 2534 3019 2420 3045 \nQ 2306 3072 2169 3072 \nQ 1681 3072 1420 2755 \nQ 1159 2438 1159 1844 \nL 1159 0 \nL 581 0 \nL 581 3500 \nL 1159 3500 \nL 1159 2956 \nQ 1341 3275 1631 3429 \nQ 1922 3584 2338 3584 \nQ 2397 3584 2469 3576 \nQ 2541 3569 2628 3553 \nL 2631 2963 \nz\n\" transform=\"scale(0.015625)\"/>\n       <path id=\"DejaVuSans-61\" d=\"M 2194 1759 \nQ 1497 1759 1228 1600 \nQ 959 1441 959 1056 \nQ 959 750 1161 570 \nQ 1363 391 1709 391 \nQ 2188 391 2477 730 \nQ 2766 1069 2766 1631 \nL 2766 1759 \nL 2194 1759 \nz\nM 3341 1997 \nL 3341 0 \nL 2766 0 \nL 2766 531 \nQ 2569 213 2275 61 \nQ 1981 -91 1556 -91 \nQ 1019 -91 701 211 \nQ 384 513 384 1019 \nQ 384 1609 779 1909 \nQ 1175 2209 1959 2209 \nL 2766 2209 \nL 2766 2266 \nQ 2766 2663 2505 2880 \nQ 2244 3097 1772 3097 \nQ 1472 3097 1187 3025 \nQ 903 2953 641 2809 \nL 641 3341 \nQ 956 3463 1253 3523 \nQ 1550 3584 1831 3584 \nQ 2591 3584 2966 3190 \nQ 3341 2797 3341 1997 \nz\n\" transform=\"scale(0.015625)\"/>\n       <path id=\"DejaVuSans-69\" d=\"M 603 3500 \nL 1178 3500 \nL 1178 0 \nL 603 0 \nL 603 3500 \nz\nM 603 4863 \nL 1178 4863 \nL 1178 4134 \nL 603 4134 \nL 603 4863 \nz\n\" transform=\"scale(0.015625)\"/>\n       <path id=\"DejaVuSans-6e\" d=\"M 3513 2113 \nL 3513 0 \nL 2938 0 \nL 2938 2094 \nQ 2938 2591 2744 2837 \nQ 2550 3084 2163 3084 \nQ 1697 3084 1428 2787 \nQ 1159 2491 1159 1978 \nL 1159 0 \nL 581 0 \nL 581 3500 \nL 1159 3500 \nL 1159 2956 \nQ 1366 3272 1645 3428 \nQ 1925 3584 2291 3584 \nQ 2894 3584 3203 3211 \nQ 3513 2838 3513 2113 \nz\n\" transform=\"scale(0.015625)\"/>\n       <path id=\"DejaVuSans-20\" transform=\"scale(0.015625)\"/>\n       <path id=\"DejaVuSans-6c\" d=\"M 603 4863 \nL 1178 4863 \nL 1178 0 \nL 603 0 \nL 603 4863 \nz\n\" transform=\"scale(0.015625)\"/>\n       <path id=\"DejaVuSans-73\" d=\"M 2834 3397 \nL 2834 2853 \nQ 2591 2978 2328 3040 \nQ 2066 3103 1784 3103 \nQ 1356 3103 1142 2972 \nQ 928 2841 928 2578 \nQ 928 2378 1081 2264 \nQ 1234 2150 1697 2047 \nL 1894 2003 \nQ 2506 1872 2764 1633 \nQ 3022 1394 3022 966 \nQ 3022 478 2636 193 \nQ 2250 -91 1575 -91 \nQ 1294 -91 989 -36 \nQ 684 19 347 128 \nL 347 722 \nQ 666 556 975 473 \nQ 1284 391 1588 391 \nQ 1994 391 2212 530 \nQ 2431 669 2431 922 \nQ 2431 1156 2273 1281 \nQ 2116 1406 1581 1522 \nL 1381 1569 \nQ 847 1681 609 1914 \nQ 372 2147 372 2553 \nQ 372 3047 722 3315 \nQ 1072 3584 1716 3584 \nQ 2034 3584 2315 3537 \nQ 2597 3491 2834 3397 \nz\n\" transform=\"scale(0.015625)\"/>\n      </defs>\n      <use xlink:href=\"#DejaVuSans-74\"/>\n      <use xlink:href=\"#DejaVuSans-72\" x=\"39.208984\"/>\n      <use xlink:href=\"#DejaVuSans-61\" x=\"80.322266\"/>\n      <use xlink:href=\"#DejaVuSans-69\" x=\"141.601562\"/>\n      <use xlink:href=\"#DejaVuSans-6e\" x=\"169.384766\"/>\n      <use xlink:href=\"#DejaVuSans-20\" x=\"232.763672\"/>\n      <use xlink:href=\"#DejaVuSans-6c\" x=\"264.550781\"/>\n      <use xlink:href=\"#DejaVuSans-6f\" x=\"292.333984\"/>\n      <use xlink:href=\"#DejaVuSans-73\" x=\"353.515625\"/>\n      <use xlink:href=\"#DejaVuSans-73\" x=\"405.615234\"/>\n     </g>\n    </g>\n    <g id=\"line2d_21\">\n     <path d=\"M 142.634375 34.976562 \nL 152.634375 34.976562 \nL 162.634375 34.976562 \n\" style=\"fill: none; stroke-dasharray: 5.55,2.4; stroke-dashoffset: 0; stroke: #bf00bf; stroke-width: 1.5\"/>\n    </g>\n    <g id=\"text_11\">\n     <!-- train acc -->\n     <g transform=\"translate(170.634375 38.476562)scale(0.1 -0.1)\">\n      <use xlink:href=\"#DejaVuSans-74\"/>\n      <use xlink:href=\"#DejaVuSans-72\" x=\"39.208984\"/>\n      <use xlink:href=\"#DejaVuSans-61\" x=\"80.322266\"/>\n      <use xlink:href=\"#DejaVuSans-69\" x=\"141.601562\"/>\n      <use xlink:href=\"#DejaVuSans-6e\" x=\"169.384766\"/>\n      <use xlink:href=\"#DejaVuSans-20\" x=\"232.763672\"/>\n      <use xlink:href=\"#DejaVuSans-61\" x=\"264.550781\"/>\n      <use xlink:href=\"#DejaVuSans-63\" x=\"325.830078\"/>\n      <use xlink:href=\"#DejaVuSans-63\" x=\"380.810547\"/>\n     </g>\n    </g>\n   </g>\n  </g>\n </g>\n <defs>\n  <clipPath id=\"p4cdfd40728\">\n   <rect x=\"30.103125\" y=\"7.2\" width=\"195.3\" height=\"138.6\"/>\n  </clipPath>\n </defs>\n</svg>\n"
     },
     "metadata": {},
     "output_type": "display_data"
    }
   ],
   "source": [
    "# 对测试集进行分类并提交结果\n",
    "net, preds = get_net(), []\n",
    "train(net, train_valid_iter, None, num_epochs, lr, wd, devices, lr_period, lr_decay)\n",
    "for X, _ in test_iter:\n",
    "    y_hat = net(X.to(devices[0]))\n",
    "    preds.extend(y_hat.argmax(dim=1).type(torch.int32).cpu().numpy())\n",
    "sorted_ids = list(range(1, len(test_ds) + 1))\n",
    "sorted_ids.sort(key=lambda x: str(x))\n",
    "df = pd.DataFrame({'id': sorted_ids, 'label': preds})\n",
    "df['label'] = df['label'].apply(lambda x: train_valid_ds.classes[x])\n",
    "df.to_csv('submission.csv', index=False)"
   ],
   "metadata": {
    "collapsed": false
   }
  },
  {
   "cell_type": "code",
   "execution_count": null,
   "outputs": [],
   "source": [],
   "metadata": {
    "collapsed": false
   }
  }
 ],
 "metadata": {
  "kernelspec": {
   "display_name": "Python 3",
   "language": "python",
   "name": "python3"
  },
  "language_info": {
   "codemirror_mode": {
    "name": "ipython",
    "version": 2
   },
   "file_extension": ".py",
   "mimetype": "text/x-python",
   "name": "python",
   "nbconvert_exporter": "python",
   "pygments_lexer": "ipython2",
   "version": "2.7.6"
  }
 },
 "nbformat": 4,
 "nbformat_minor": 0
}
