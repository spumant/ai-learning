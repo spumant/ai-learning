{
 "cells": [
  {
   "cell_type": "code",
   "execution_count": 2,
   "metadata": {
    "collapsed": true,
    "pycharm": {
     "name": "#%%\n"
    }
   },
   "outputs": [],
   "source": [
    "import matplotlib.pyplot as plt\n",
    "from sklearn.datasets import load_iris\n",
    "from sklearn.decomposition import PCA"
   ]
  },
  {
   "cell_type": "code",
   "execution_count": 3,
   "outputs": [],
   "source": [
    "iris = load_iris()"
   ],
   "metadata": {
    "collapsed": false,
    "pycharm": {
     "name": "#%%\n"
    }
   }
  },
  {
   "cell_type": "code",
   "execution_count": 4,
   "outputs": [],
   "source": [
    "y = iris.target\n",
    "X = iris.data"
   ],
   "metadata": {
    "collapsed": false,
    "pycharm": {
     "name": "#%%\n"
    }
   }
  },
  {
   "cell_type": "code",
   "execution_count": 5,
   "outputs": [
    {
     "data": {
      "text/plain": "(150, 4)"
     },
     "execution_count": 5,
     "metadata": {},
     "output_type": "execute_result"
    }
   ],
   "source": [
    "# X作为数组，X是几维\n",
    "X.shape"
   ],
   "metadata": {
    "collapsed": false,
    "pycharm": {
     "name": "#%%\n"
    }
   }
  },
  {
   "cell_type": "code",
   "execution_count": 6,
   "outputs": [],
   "source": [
    "import pandas as pd"
   ],
   "metadata": {
    "collapsed": false,
    "pycharm": {
     "name": "#%%\n"
    }
   }
  },
  {
   "cell_type": "code",
   "execution_count": 7,
   "outputs": [
    {
     "data": {
      "text/plain": "       0    1    2    3\n0    5.1  3.5  1.4  0.2\n1    4.9  3.0  1.4  0.2\n2    4.7  3.2  1.3  0.2\n3    4.6  3.1  1.5  0.2\n4    5.0  3.6  1.4  0.2\n..   ...  ...  ...  ...\n145  6.7  3.0  5.2  2.3\n146  6.3  2.5  5.0  1.9\n147  6.5  3.0  5.2  2.0\n148  6.2  3.4  5.4  2.3\n149  5.9  3.0  5.1  1.8\n\n[150 rows x 4 columns]",
      "text/html": "<div>\n<style scoped>\n    .dataframe tbody tr th:only-of-type {\n        vertical-align: middle;\n    }\n\n    .dataframe tbody tr th {\n        vertical-align: top;\n    }\n\n    .dataframe thead th {\n        text-align: right;\n    }\n</style>\n<table border=\"1\" class=\"dataframe\">\n  <thead>\n    <tr style=\"text-align: right;\">\n      <th></th>\n      <th>0</th>\n      <th>1</th>\n      <th>2</th>\n      <th>3</th>\n    </tr>\n  </thead>\n  <tbody>\n    <tr>\n      <th>0</th>\n      <td>5.1</td>\n      <td>3.5</td>\n      <td>1.4</td>\n      <td>0.2</td>\n    </tr>\n    <tr>\n      <th>1</th>\n      <td>4.9</td>\n      <td>3.0</td>\n      <td>1.4</td>\n      <td>0.2</td>\n    </tr>\n    <tr>\n      <th>2</th>\n      <td>4.7</td>\n      <td>3.2</td>\n      <td>1.3</td>\n      <td>0.2</td>\n    </tr>\n    <tr>\n      <th>3</th>\n      <td>4.6</td>\n      <td>3.1</td>\n      <td>1.5</td>\n      <td>0.2</td>\n    </tr>\n    <tr>\n      <th>4</th>\n      <td>5.0</td>\n      <td>3.6</td>\n      <td>1.4</td>\n      <td>0.2</td>\n    </tr>\n    <tr>\n      <th>...</th>\n      <td>...</td>\n      <td>...</td>\n      <td>...</td>\n      <td>...</td>\n    </tr>\n    <tr>\n      <th>145</th>\n      <td>6.7</td>\n      <td>3.0</td>\n      <td>5.2</td>\n      <td>2.3</td>\n    </tr>\n    <tr>\n      <th>146</th>\n      <td>6.3</td>\n      <td>2.5</td>\n      <td>5.0</td>\n      <td>1.9</td>\n    </tr>\n    <tr>\n      <th>147</th>\n      <td>6.5</td>\n      <td>3.0</td>\n      <td>5.2</td>\n      <td>2.0</td>\n    </tr>\n    <tr>\n      <th>148</th>\n      <td>6.2</td>\n      <td>3.4</td>\n      <td>5.4</td>\n      <td>2.3</td>\n    </tr>\n    <tr>\n      <th>149</th>\n      <td>5.9</td>\n      <td>3.0</td>\n      <td>5.1</td>\n      <td>1.8</td>\n    </tr>\n  </tbody>\n</table>\n<p>150 rows × 4 columns</p>\n</div>"
     },
     "execution_count": 7,
     "metadata": {},
     "output_type": "execute_result"
    }
   ],
   "source": [
    "# X作为特征矩阵，X是几维\n",
    "pd.DataFrame(X)"
   ],
   "metadata": {
    "collapsed": false,
    "pycharm": {
     "name": "#%%\n"
    }
   }
  },
  {
   "cell_type": "code",
   "execution_count": 8,
   "outputs": [
    {
     "data": {
      "text/plain": "array([0, 0, 0, 0, 0, 0, 0, 0, 0, 0, 0, 0, 0, 0, 0, 0, 0, 0, 0, 0, 0, 0,\n       0, 0, 0, 0, 0, 0, 0, 0, 0, 0, 0, 0, 0, 0, 0, 0, 0, 0, 0, 0, 0, 0,\n       0, 0, 0, 0, 0, 0, 1, 1, 1, 1, 1, 1, 1, 1, 1, 1, 1, 1, 1, 1, 1, 1,\n       1, 1, 1, 1, 1, 1, 1, 1, 1, 1, 1, 1, 1, 1, 1, 1, 1, 1, 1, 1, 1, 1,\n       1, 1, 1, 1, 1, 1, 1, 1, 1, 1, 1, 1, 2, 2, 2, 2, 2, 2, 2, 2, 2, 2,\n       2, 2, 2, 2, 2, 2, 2, 2, 2, 2, 2, 2, 2, 2, 2, 2, 2, 2, 2, 2, 2, 2,\n       2, 2, 2, 2, 2, 2, 2, 2, 2, 2, 2, 2, 2, 2, 2, 2, 2, 2])"
     },
     "execution_count": 8,
     "metadata": {},
     "output_type": "execute_result"
    }
   ],
   "source": [
    "y"
   ],
   "metadata": {
    "collapsed": false,
    "pycharm": {
     "name": "#%%\n"
    }
   }
  },
  {
   "cell_type": "code",
   "execution_count": 9,
   "outputs": [],
   "source": [
    "pca = PCA(n_components=2)  # 实例化\n",
    "pca = pca.fit(X)  # 拟合模型\n",
    "X_dr = pca.transform(X)  # 获取新矩阵"
   ],
   "metadata": {
    "collapsed": false,
    "pycharm": {
     "name": "#%%\n"
    }
   }
  },
  {
   "cell_type": "code",
   "execution_count": 10,
   "outputs": [
    {
     "data": {
      "text/plain": "array([[-2.68412563,  0.31939725],\n       [-2.71414169, -0.17700123],\n       [-2.88899057, -0.14494943],\n       [-2.74534286, -0.31829898],\n       [-2.72871654,  0.32675451],\n       [-2.28085963,  0.74133045],\n       [-2.82053775, -0.08946138],\n       [-2.62614497,  0.16338496],\n       [-2.88638273, -0.57831175],\n       [-2.6727558 , -0.11377425],\n       [-2.50694709,  0.6450689 ],\n       [-2.61275523,  0.01472994],\n       [-2.78610927, -0.235112  ],\n       [-3.22380374, -0.51139459],\n       [-2.64475039,  1.17876464],\n       [-2.38603903,  1.33806233],\n       [-2.62352788,  0.81067951],\n       [-2.64829671,  0.31184914],\n       [-2.19982032,  0.87283904],\n       [-2.5879864 ,  0.51356031],\n       [-2.31025622,  0.39134594],\n       [-2.54370523,  0.43299606],\n       [-3.21593942,  0.13346807],\n       [-2.30273318,  0.09870885],\n       [-2.35575405, -0.03728186],\n       [-2.50666891, -0.14601688],\n       [-2.46882007,  0.13095149],\n       [-2.56231991,  0.36771886],\n       [-2.63953472,  0.31203998],\n       [-2.63198939, -0.19696122],\n       [-2.58739848, -0.20431849],\n       [-2.4099325 ,  0.41092426],\n       [-2.64886233,  0.81336382],\n       [-2.59873675,  1.09314576],\n       [-2.63692688, -0.12132235],\n       [-2.86624165,  0.06936447],\n       [-2.62523805,  0.59937002],\n       [-2.80068412,  0.26864374],\n       [-2.98050204, -0.48795834],\n       [-2.59000631,  0.22904384],\n       [-2.77010243,  0.26352753],\n       [-2.84936871, -0.94096057],\n       [-2.99740655, -0.34192606],\n       [-2.40561449,  0.18887143],\n       [-2.20948924,  0.43666314],\n       [-2.71445143, -0.2502082 ],\n       [-2.53814826,  0.50377114],\n       [-2.83946217, -0.22794557],\n       [-2.54308575,  0.57941002],\n       [-2.70335978,  0.10770608],\n       [ 1.28482569,  0.68516047],\n       [ 0.93248853,  0.31833364],\n       [ 1.46430232,  0.50426282],\n       [ 0.18331772, -0.82795901],\n       [ 1.08810326,  0.07459068],\n       [ 0.64166908, -0.41824687],\n       [ 1.09506066,  0.28346827],\n       [-0.74912267, -1.00489096],\n       [ 1.04413183,  0.2283619 ],\n       [-0.0087454 , -0.72308191],\n       [-0.50784088, -1.26597119],\n       [ 0.51169856, -0.10398124],\n       [ 0.26497651, -0.55003646],\n       [ 0.98493451, -0.12481785],\n       [-0.17392537, -0.25485421],\n       [ 0.92786078,  0.46717949],\n       [ 0.66028376, -0.35296967],\n       [ 0.23610499, -0.33361077],\n       [ 0.94473373, -0.54314555],\n       [ 0.04522698, -0.58383438],\n       [ 1.11628318, -0.08461685],\n       [ 0.35788842, -0.06892503],\n       [ 1.29818388, -0.32778731],\n       [ 0.92172892, -0.18273779],\n       [ 0.71485333,  0.14905594],\n       [ 0.90017437,  0.32850447],\n       [ 1.33202444,  0.24444088],\n       [ 1.55780216,  0.26749545],\n       [ 0.81329065, -0.1633503 ],\n       [-0.30558378, -0.36826219],\n       [-0.06812649, -0.70517213],\n       [-0.18962247, -0.68028676],\n       [ 0.13642871, -0.31403244],\n       [ 1.38002644, -0.42095429],\n       [ 0.58800644, -0.48428742],\n       [ 0.80685831,  0.19418231],\n       [ 1.22069088,  0.40761959],\n       [ 0.81509524, -0.37203706],\n       [ 0.24595768, -0.2685244 ],\n       [ 0.16641322, -0.68192672],\n       [ 0.46480029, -0.67071154],\n       [ 0.8908152 , -0.03446444],\n       [ 0.23054802, -0.40438585],\n       [-0.70453176, -1.01224823],\n       [ 0.35698149, -0.50491009],\n       [ 0.33193448, -0.21265468],\n       [ 0.37621565, -0.29321893],\n       [ 0.64257601,  0.01773819],\n       [-0.90646986, -0.75609337],\n       [ 0.29900084, -0.34889781],\n       [ 2.53119273, -0.00984911],\n       [ 1.41523588, -0.57491635],\n       [ 2.61667602,  0.34390315],\n       [ 1.97153105, -0.1797279 ],\n       [ 2.35000592, -0.04026095],\n       [ 3.39703874,  0.55083667],\n       [ 0.52123224, -1.19275873],\n       [ 2.93258707,  0.3555    ],\n       [ 2.32122882, -0.2438315 ],\n       [ 2.91675097,  0.78279195],\n       [ 1.66177415,  0.24222841],\n       [ 1.80340195, -0.21563762],\n       [ 2.1655918 ,  0.21627559],\n       [ 1.34616358, -0.77681835],\n       [ 1.58592822, -0.53964071],\n       [ 1.90445637,  0.11925069],\n       [ 1.94968906,  0.04194326],\n       [ 3.48705536,  1.17573933],\n       [ 3.79564542,  0.25732297],\n       [ 1.30079171, -0.76114964],\n       [ 2.42781791,  0.37819601],\n       [ 1.19900111, -0.60609153],\n       [ 3.49992004,  0.4606741 ],\n       [ 1.38876613, -0.20439933],\n       [ 2.2754305 ,  0.33499061],\n       [ 2.61409047,  0.56090136],\n       [ 1.25850816, -0.17970479],\n       [ 1.29113206, -0.11666865],\n       [ 2.12360872, -0.20972948],\n       [ 2.38800302,  0.4646398 ],\n       [ 2.84167278,  0.37526917],\n       [ 3.23067366,  1.37416509],\n       [ 2.15943764, -0.21727758],\n       [ 1.44416124, -0.14341341],\n       [ 1.78129481, -0.49990168],\n       [ 3.07649993,  0.68808568],\n       [ 2.14424331,  0.1400642 ],\n       [ 1.90509815,  0.04930053],\n       [ 1.16932634, -0.16499026],\n       [ 2.10761114,  0.37228787],\n       [ 2.31415471,  0.18365128],\n       [ 1.9222678 ,  0.40920347],\n       [ 1.41523588, -0.57491635],\n       [ 2.56301338,  0.2778626 ],\n       [ 2.41874618,  0.3047982 ],\n       [ 1.94410979,  0.1875323 ],\n       [ 1.52716661, -0.37531698],\n       [ 1.76434572,  0.07885885],\n       [ 1.90094161,  0.11662796],\n       [ 1.39018886, -0.28266094]])"
     },
     "execution_count": 10,
     "metadata": {},
     "output_type": "execute_result"
    }
   ],
   "source": [
    "X_dr"
   ],
   "metadata": {
    "collapsed": false,
    "pycharm": {
     "name": "#%%\n"
    }
   }
  },
  {
   "cell_type": "code",
   "execution_count": 11,
   "outputs": [
    {
     "data": {
      "text/plain": "(150, 2)"
     },
     "execution_count": 11,
     "metadata": {},
     "output_type": "execute_result"
    }
   ],
   "source": [
    "X_dr.shape"
   ],
   "metadata": {
    "collapsed": false,
    "pycharm": {
     "name": "#%%\n"
    }
   }
  },
  {
   "cell_type": "code",
   "execution_count": 12,
   "outputs": [
    {
     "data": {
      "text/plain": "<Figure size 640x480 with 1 Axes>",
      "image/png": "[encoded data removed]"
     },
     "metadata": {},
     "output_type": "display_data"
    }
   ],
   "source": [
    "plt.figure()  # 现在我要画图了，给我一个画布吧\n",
    "plt.scatter(X_dr[y == 0, 0], X_dr[y == 0, 1], c=\"red\", label=iris.target_names[0])\n",
    "plt.scatter(X_dr[y == 1, 0], X_dr[y == 1, 1], c=\"black\", label=iris.target_names[1])\n",
    "plt.scatter(X_dr[y == 2, 0], X_dr[y == 2, 1], c=\"orange\", label=iris.target_names[2])\n",
    "plt.legend()\n",
    "plt.title('PCA of IRIS dataset')\n",
    "plt.show()"
   ],
   "metadata": {
    "collapsed": false,
    "pycharm": {
     "name": "#%%\n"
    }
   }
  },
  {
   "cell_type": "code",
   "execution_count": 23,
   "outputs": [
    {
     "data": {
      "text/plain": "array(['setosa', 'versicolor', 'virginica'], dtype='<U10')"
     },
     "execution_count": 23,
     "metadata": {},
     "output_type": "execute_result"
    }
   ],
   "source": [
    "colors = ['red', 'black', 'orange']\n",
    "iris.target_names"
   ],
   "metadata": {
    "collapsed": false,
    "pycharm": {
     "name": "#%%\n"
    }
   }
  },
  {
   "cell_type": "code",
   "execution_count": null,
   "outputs": [],
   "source": [
    "plt.figure()\n",
    "for i in [0, 1, 2]:\n",
    "    plt.scatter(X_dr[y == i, 0]\n",
    "                , X_dr[y == i, 1]\n",
    "                , alpha=.7\n",
    "                , c=colors[i]\n",
    "                , label=iris.target_names[i]\n",
    "                )\n",
    "plt.legend()\n",
    "plt.title('PCA of IRIS dataset')\n",
    "plt.show()"
   ],
   "metadata": {
    "collapsed": false,
    "pycharm": {
     "name": "#%%\n"
    }
   }
  },
  {
   "cell_type": "code",
   "execution_count": 14,
   "outputs": [
    {
     "data": {
      "text/plain": "array([4.22824171, 0.24267075])"
     },
     "execution_count": 14,
     "metadata": {},
     "output_type": "execute_result"
    }
   ],
   "source": [
    "#属性explained_variance_，查看降维后每个新特征向量上所带的信息量大小（可解释性方差的大小）\n",
    "pca.explained_variance_"
   ],
   "metadata": {
    "collapsed": false,
    "pycharm": {
     "name": "#%%\n"
    }
   }
  },
  {
   "cell_type": "code",
   "execution_count": 15,
   "outputs": [
    {
     "data": {
      "text/plain": "array([0.92461872, 0.05306648])"
     },
     "execution_count": 15,
     "metadata": {},
     "output_type": "execute_result"
    }
   ],
   "source": [
    "#属性explained_variance_ratio，查看降维后每个新特征向量所占的信息量占原始数据总信息量的百分比\n",
    "#又叫做可解释方差贡献率\n",
    "pca.explained_variance_ratio_\n",
    "#大部分信息都被有效地集中在了第一个特征上"
   ],
   "metadata": {
    "collapsed": false,
    "pycharm": {
     "name": "#%%\n"
    }
   }
  },
  {
   "cell_type": "code",
   "execution_count": 16,
   "outputs": [
    {
     "data": {
      "text/plain": "0.977685206318795"
     },
     "execution_count": 16,
     "metadata": {},
     "output_type": "execute_result"
    }
   ],
   "source": [
    "pca.explained_variance_ratio_.sum()"
   ],
   "metadata": {
    "collapsed": false,
    "pycharm": {
     "name": "#%%\n"
    }
   }
  },
  {
   "cell_type": "code",
   "execution_count": 17,
   "outputs": [
    {
     "data": {
      "text/plain": "<Figure size 640x480 with 1 Axes>",
      "image/png": "[encoded data removed]"
     },
     "metadata": {},
     "output_type": "display_data"
    }
   ],
   "source": [
    "import numpy as np\n",
    "\n",
    "pca_line = PCA().fit(X)\n",
    "plt.plot([1, 2, 3, 4], np.cumsum(pca_line.explained_variance_ratio_))\n",
    "plt.xticks([1, 2, 3, 4])  #这是为了限制坐标轴显示为整数\n",
    "plt.xlabel(\"number of components after dimension reduction\")\n",
    "plt.ylabel(\"cumulative explained variance ratio\")\n",
    "plt.show()"
   ],
   "metadata": {
    "collapsed": false,
    "pycharm": {
     "name": "#%%\n"
    }
   }
  },
  {
   "cell_type": "code",
   "execution_count": 18,
   "outputs": [],
   "source": [
    "pca_mle = PCA(n_components='mle')\n",
    "X_mle = pca_mle.fit_transform(X)"
   ],
   "metadata": {
    "collapsed": false,
    "pycharm": {
     "name": "#%%\n"
    }
   }
  },
  {
   "cell_type": "code",
   "execution_count": 19,
   "outputs": [
    {
     "data": {
      "text/plain": "array([[-2.68412563,  0.31939725, -0.02791483],\n       [-2.71414169, -0.17700123, -0.21046427],\n       [-2.88899057, -0.14494943,  0.01790026],\n       [-2.74534286, -0.31829898,  0.03155937],\n       [-2.72871654,  0.32675451,  0.09007924],\n       [-2.28085963,  0.74133045,  0.16867766],\n       [-2.82053775, -0.08946138,  0.25789216],\n       [-2.62614497,  0.16338496, -0.02187932],\n       [-2.88638273, -0.57831175,  0.02075957],\n       [-2.6727558 , -0.11377425, -0.19763272],\n       [-2.50694709,  0.6450689 , -0.07531801],\n       [-2.61275523,  0.01472994,  0.10215026],\n       [-2.78610927, -0.235112  , -0.20684443],\n       [-3.22380374, -0.51139459,  0.06129967],\n       [-2.64475039,  1.17876464, -0.15162752],\n       [-2.38603903,  1.33806233,  0.2777769 ],\n       [-2.62352788,  0.81067951,  0.13818323],\n       [-2.64829671,  0.31184914,  0.02666832],\n       [-2.19982032,  0.87283904, -0.12030552],\n       [-2.5879864 ,  0.51356031,  0.21366517],\n       [-2.31025622,  0.39134594, -0.23944404],\n       [-2.54370523,  0.43299606,  0.20845723],\n       [-3.21593942,  0.13346807,  0.29239675],\n       [-2.30273318,  0.09870885,  0.03912326],\n       [-2.35575405, -0.03728186,  0.12502108],\n       [-2.50666891, -0.14601688, -0.25342004],\n       [-2.46882007,  0.13095149,  0.09491058],\n       [-2.56231991,  0.36771886, -0.07849421],\n       [-2.63953472,  0.31203998, -0.1459089 ],\n       [-2.63198939, -0.19696122,  0.04077108],\n       [-2.58739848, -0.20431849, -0.07722299],\n       [-2.4099325 ,  0.41092426, -0.14552497],\n       [-2.64886233,  0.81336382,  0.22566915],\n       [-2.59873675,  1.09314576,  0.15781081],\n       [-2.63692688, -0.12132235, -0.14304958],\n       [-2.86624165,  0.06936447, -0.16433231],\n       [-2.62523805,  0.59937002, -0.26835038],\n       [-2.80068412,  0.26864374,  0.09369908],\n       [-2.98050204, -0.48795834,  0.07292705],\n       [-2.59000631,  0.22904384, -0.0800823 ],\n       [-2.77010243,  0.26352753,  0.07724769],\n       [-2.84936871, -0.94096057, -0.34923038],\n       [-2.99740655, -0.34192606,  0.19250921],\n       [-2.40561449,  0.18887143,  0.26386795],\n       [-2.20948924,  0.43666314,  0.29874275],\n       [-2.71445143, -0.2502082 , -0.09767814],\n       [-2.53814826,  0.50377114,  0.16670564],\n       [-2.83946217, -0.22794557,  0.08372685],\n       [-2.54308575,  0.57941002, -0.01711502],\n       [-2.70335978,  0.10770608, -0.08929401],\n       [ 1.28482569,  0.68516047, -0.40656803],\n       [ 0.93248853,  0.31833364, -0.01801419],\n       [ 1.46430232,  0.50426282, -0.33832576],\n       [ 0.18331772, -0.82795901, -0.17959139],\n       [ 1.08810326,  0.07459068, -0.3077579 ],\n       [ 0.64166908, -0.41824687,  0.04107609],\n       [ 1.09506066,  0.28346827,  0.16981024],\n       [-0.74912267, -1.00489096,  0.01230292],\n       [ 1.04413183,  0.2283619 , -0.41533608],\n       [-0.0087454 , -0.72308191,  0.28114143],\n       [-0.50784088, -1.26597119, -0.26981718],\n       [ 0.51169856, -0.10398124,  0.13054775],\n       [ 0.26497651, -0.55003646, -0.69414683],\n       [ 0.98493451, -0.12481785, -0.06211441],\n       [-0.17392537, -0.25485421,  0.09045769],\n       [ 0.92786078,  0.46717949, -0.31462098],\n       [ 0.66028376, -0.35296967,  0.32802753],\n       [ 0.23610499, -0.33361077, -0.27116184],\n       [ 0.94473373, -0.54314555, -0.49951905],\n       [ 0.04522698, -0.58383438, -0.2350021 ],\n       [ 1.11628318, -0.08461685,  0.45962099],\n       [ 0.35788842, -0.06892503, -0.22985389],\n       [ 1.29818388, -0.32778731, -0.34785435],\n       [ 0.92172892, -0.18273779, -0.23107178],\n       [ 0.71485333,  0.14905594, -0.32180094],\n       [ 0.90017437,  0.32850447, -0.31620907],\n       [ 1.33202444,  0.24444088, -0.52170278],\n       [ 1.55780216,  0.26749545, -0.16492098],\n       [ 0.81329065, -0.1633503 ,  0.0354245 ],\n       [-0.30558378, -0.36826219, -0.31849158],\n       [-0.06812649, -0.70517213, -0.24421381],\n       [-0.18962247, -0.68028676, -0.30642056],\n       [ 0.13642871, -0.31403244, -0.17724277],\n       [ 1.38002644, -0.42095429,  0.01616713],\n       [ 0.58800644, -0.48428742,  0.4444335 ],\n       [ 0.80685831,  0.19418231,  0.38896306],\n       [ 1.22069088,  0.40761959, -0.23716701],\n       [ 0.81509524, -0.37203706, -0.61472084],\n       [ 0.24595768, -0.2685244 ,  0.18836681],\n       [ 0.16641322, -0.68192672, -0.06000923],\n       [ 0.46480029, -0.67071154, -0.02430686],\n       [ 0.8908152 , -0.03446444, -0.00994693],\n       [ 0.23054802, -0.40438585, -0.22941024],\n       [-0.70453176, -1.01224823, -0.10569115],\n       [ 0.35698149, -0.50491009,  0.01661717],\n       [ 0.33193448, -0.21265468,  0.08320429],\n       [ 0.37621565, -0.29321893,  0.07799635],\n       [ 0.64257601,  0.01773819, -0.20539497],\n       [-0.90646986, -0.75609337, -0.01259965],\n       [ 0.29900084, -0.34889781,  0.01058166],\n       [ 2.53119273, -0.00984911,  0.76016543],\n       [ 1.41523588, -0.57491635,  0.29632253],\n       [ 2.61667602,  0.34390315, -0.11078788],\n       [ 1.97153105, -0.1797279 ,  0.10842466],\n       [ 2.35000592, -0.04026095,  0.28538956],\n       [ 3.39703874,  0.55083667, -0.34843756],\n       [ 0.52123224, -1.19275873,  0.5456593 ],\n       [ 2.93258707,  0.3555    , -0.42023994],\n       [ 2.32122882, -0.2438315 , -0.34830439],\n       [ 2.91675097,  0.78279195,  0.42333542],\n       [ 1.66177415,  0.24222841,  0.24244019],\n       [ 1.80340195, -0.21563762, -0.03764817],\n       [ 2.1655918 ,  0.21627559,  0.03332664],\n       [ 1.34616358, -0.77681835,  0.28190288],\n       [ 1.58592822, -0.53964071,  0.62902933],\n       [ 1.90445637,  0.11925069,  0.47963982],\n       [ 1.94968906,  0.04194326,  0.04418617],\n       [ 3.48705536,  1.17573933,  0.13389487],\n       [ 3.79564542,  0.25732297, -0.51376776],\n       [ 1.30079171, -0.76114964, -0.34499504],\n       [ 2.42781791,  0.37819601,  0.21911932],\n       [ 1.19900111, -0.60609153,  0.51185551],\n       [ 3.49992004,  0.4606741 , -0.57318224],\n       [ 1.38876613, -0.20439933, -0.06452276],\n       [ 2.2754305 ,  0.33499061,  0.28615009],\n       [ 2.61409047,  0.56090136, -0.20553452],\n       [ 1.25850816, -0.17970479,  0.0458477 ],\n       [ 1.29113206, -0.11666865,  0.23125646],\n       [ 2.12360872, -0.20972948,  0.15418002],\n       [ 2.38800302,  0.4646398 , -0.44953019],\n       [ 2.84167278,  0.37526917, -0.49889808],\n       [ 3.23067366,  1.37416509, -0.11454821],\n       [ 2.15943764, -0.21727758,  0.20876317],\n       [ 1.44416124, -0.14341341, -0.15323389],\n       [ 1.78129481, -0.49990168, -0.17287519],\n       [ 3.07649993,  0.68808568, -0.33559229],\n       [ 2.14424331,  0.1400642 ,  0.73487894],\n       [ 1.90509815,  0.04930053,  0.16218024],\n       [ 1.16932634, -0.16499026,  0.28183584],\n       [ 2.10761114,  0.37228787,  0.02729113],\n       [ 2.31415471,  0.18365128,  0.32269375],\n       [ 1.9222678 ,  0.40920347,  0.1135866 ],\n       [ 1.41523588, -0.57491635,  0.29632253],\n       [ 2.56301338,  0.2778626 ,  0.29256952],\n       [ 2.41874618,  0.3047982 ,  0.50448266],\n       [ 1.94410979,  0.1875323 ,  0.17782509],\n       [ 1.52716661, -0.37531698, -0.12189817],\n       [ 1.76434572,  0.07885885,  0.13048163],\n       [ 1.90094161,  0.11662796,  0.72325156],\n       [ 1.39018886, -0.28266094,  0.36290965]])"
     },
     "execution_count": 19,
     "metadata": {},
     "output_type": "execute_result"
    }
   ],
   "source": [
    "X_mle"
   ],
   "metadata": {
    "collapsed": false,
    "pycharm": {
     "name": "#%%\n"
    }
   }
  },
  {
   "cell_type": "code",
   "execution_count": 20,
   "outputs": [
    {
     "data": {
      "text/plain": "0.9947878161267247"
     },
     "execution_count": 20,
     "metadata": {},
     "output_type": "execute_result"
    }
   ],
   "source": [
    "pca_mle.explained_variance_ratio_.sum()"
   ],
   "metadata": {
    "collapsed": false,
    "pycharm": {
     "name": "#%%\n"
    }
   }
  },
  {
   "cell_type": "code",
   "execution_count": 21,
   "outputs": [],
   "source": [
    "pca_f = PCA(n_components=0.97, svd_solver='full')\n",
    "pca_f = pca_f.fit(X)\n",
    "X_f = pca_f.transform(X)"
   ],
   "metadata": {
    "collapsed": false,
    "pycharm": {
     "name": "#%%\n"
    }
   }
  },
  {
   "cell_type": "code",
   "execution_count": 22,
   "outputs": [
    {
     "data": {
      "text/plain": "array([0.92461872, 0.05306648])"
     },
     "execution_count": 22,
     "metadata": {},
     "output_type": "execute_result"
    }
   ],
   "source": [
    "pca_f.explained_variance_ratio_"
   ],
   "metadata": {
    "collapsed": false,
    "pycharm": {
     "name": "#%%\n"
    }
   }
  },
  {
   "cell_type": "code",
   "execution_count": 24,
   "outputs": [
    {
     "data": {
      "text/plain": "array([[ 0.36138659, -0.08452251,  0.85667061,  0.3582892 ],\n       [ 0.65658877,  0.73016143, -0.17337266, -0.07548102]])"
     },
     "execution_count": 24,
     "metadata": {},
     "output_type": "execute_result"
    }
   ],
   "source": [
    "PCA(2).fit(X).components_"
   ],
   "metadata": {
    "collapsed": false,
    "pycharm": {
     "name": "#%%\n"
    }
   }
  },
  {
   "cell_type": "code",
   "execution_count": 25,
   "outputs": [
    {
     "data": {
      "text/plain": "(2, 4)"
     },
     "execution_count": 25,
     "metadata": {},
     "output_type": "execute_result"
    }
   ],
   "source": [
    "PCA(2).fit(X).components_.shape"
   ],
   "metadata": {
    "collapsed": false,
    "pycharm": {
     "name": "#%%\n"
    }
   }
  },
  {
   "cell_type": "code",
   "execution_count": null,
   "outputs": [],
   "source": [],
   "metadata": {
    "collapsed": false,
    "pycharm": {
     "name": "#%%\n"
    }
   }
  }
 ],
 "metadata": {
  "kernelspec": {
   "display_name": "Python 3",
   "language": "python",
   "name": "python3"
  },
  "language_info": {
   "codemirror_mode": {
    "name": "ipython",
    "version": 2
   },
   "file_extension": ".py",
   "mimetype": "text/x-python",
   "name": "python",
   "nbconvert_exporter": "python",
   "pygments_lexer": "ipython2",
   "version": "2.7.6"
  }
 },
 "nbformat": 4,
 "nbformat_minor": 0
}
