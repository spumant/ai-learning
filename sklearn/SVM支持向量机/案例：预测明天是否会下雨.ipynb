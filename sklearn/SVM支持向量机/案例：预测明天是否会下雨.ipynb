{
 "cells": [
  {
   "cell_type": "code",
   "execution_count": 1,
   "metadata": {
    "collapsed": true,
    "ExecuteTime": {
     "start_time": "2023-07-01T14:30:23.898614Z",
     "end_time": "2023-07-01T14:30:28.355867Z"
    }
   },
   "outputs": [],
   "source": [
    "import pandas as pd\n",
    "import numpy as np\n",
    "from sklearn.model_selection import train_test_split"
   ]
  },
  {
   "cell_type": "code",
   "execution_count": 2,
   "outputs": [],
   "source": [
    "weather = pd.read_csv(\"D:\\python\\code5\\AIlearning\\sklearn\\SVM支持向量机\\weatherAUS5000.csv\", index_col=0)"
   ],
   "metadata": {
    "collapsed": false,
    "ExecuteTime": {
     "start_time": "2023-07-01T14:30:28.357862Z",
     "end_time": "2023-07-01T14:30:28.409031Z"
    }
   }
  },
  {
   "cell_type": "code",
   "execution_count": 3,
   "outputs": [
    {
     "data": {
      "text/plain": "         Date  Location  MinTemp  MaxTemp  Rainfall  Evaporation  Sunshine  \\\n0  2015-03-24  Adelaide     12.3     19.3       0.0          5.0       NaN   \n1  2011-07-12  Adelaide      7.9     11.4       0.0          1.0       0.5   \n2  2010-02-08  Adelaide     24.0     38.1       0.0         23.4      13.0   \n3  2016-09-19  Adelaide      6.7     16.4       0.4          NaN       NaN   \n4  2014-03-05  Adelaide     16.7     24.8       0.0          6.6      11.7   \n\n  WindGustDir  WindGustSpeed WindDir9am  ... WindSpeed3pm  Humidity9am  \\\n0           S           39.0          S  ...         19.0         59.0   \n1           N           20.0        NNE  ...          7.0         70.0   \n2          SE           39.0        NNE  ...         19.0         36.0   \n3           N           31.0          N  ...         15.0         65.0   \n4           S           37.0          S  ...         24.0         61.0   \n\n   Humidity3pm  Pressure9am  Pressure3pm  Cloud9am  Cloud3pm  Temp9am  \\\n0         47.0       1022.2       1021.4       NaN       NaN     15.1   \n1         59.0       1028.7       1025.7       NaN       NaN      8.4   \n2         24.0       1018.0       1016.0       NaN       NaN     32.4   \n3         40.0       1014.4       1010.0       NaN       NaN     11.2   \n4         48.0       1019.3       1018.9       NaN       NaN     20.8   \n\n   Temp3pm  RainTomorrow  \n0     17.7            No  \n1     11.3            No  \n2     37.4            No  \n3     15.9            No  \n4     23.7            No  \n\n[5 rows x 22 columns]",
      "text/html": "<div>\n<style scoped>\n    .dataframe tbody tr th:only-of-type {\n        vertical-align: middle;\n    }\n\n    .dataframe tbody tr th {\n        vertical-align: top;\n    }\n\n    .dataframe thead th {\n        text-align: right;\n    }\n</style>\n<table border=\"1\" class=\"dataframe\">\n  <thead>\n    <tr style=\"text-align: right;\">\n      <th></th>\n      <th>Date</th>\n      <th>Location</th>\n      <th>MinTemp</th>\n      <th>MaxTemp</th>\n      <th>Rainfall</th>\n      <th>Evaporation</th>\n      <th>Sunshine</th>\n      <th>WindGustDir</th>\n      <th>WindGustSpeed</th>\n      <th>WindDir9am</th>\n      <th>...</th>\n      <th>WindSpeed3pm</th>\n      <th>Humidity9am</th>\n      <th>Humidity3pm</th>\n      <th>Pressure9am</th>\n      <th>Pressure3pm</th>\n      <th>Cloud9am</th>\n      <th>Cloud3pm</th>\n      <th>Temp9am</th>\n      <th>Temp3pm</th>\n      <th>RainTomorrow</th>\n    </tr>\n  </thead>\n  <tbody>\n    <tr>\n      <th>0</th>\n      <td>2015-03-24</td>\n      <td>Adelaide</td>\n      <td>12.3</td>\n      <td>19.3</td>\n      <td>0.0</td>\n      <td>5.0</td>\n      <td>NaN</td>\n      <td>S</td>\n      <td>39.0</td>\n      <td>S</td>\n      <td>...</td>\n      <td>19.0</td>\n      <td>59.0</td>\n      <td>47.0</td>\n      <td>1022.2</td>\n      <td>1021.4</td>\n      <td>NaN</td>\n      <td>NaN</td>\n      <td>15.1</td>\n      <td>17.7</td>\n      <td>No</td>\n    </tr>\n    <tr>\n      <th>1</th>\n      <td>2011-07-12</td>\n      <td>Adelaide</td>\n      <td>7.9</td>\n      <td>11.4</td>\n      <td>0.0</td>\n      <td>1.0</td>\n      <td>0.5</td>\n      <td>N</td>\n      <td>20.0</td>\n      <td>NNE</td>\n      <td>...</td>\n      <td>7.0</td>\n      <td>70.0</td>\n      <td>59.0</td>\n      <td>1028.7</td>\n      <td>1025.7</td>\n      <td>NaN</td>\n      <td>NaN</td>\n      <td>8.4</td>\n      <td>11.3</td>\n      <td>No</td>\n    </tr>\n    <tr>\n      <th>2</th>\n      <td>2010-02-08</td>\n      <td>Adelaide</td>\n      <td>24.0</td>\n      <td>38.1</td>\n      <td>0.0</td>\n      <td>23.4</td>\n      <td>13.0</td>\n      <td>SE</td>\n      <td>39.0</td>\n      <td>NNE</td>\n      <td>...</td>\n      <td>19.0</td>\n      <td>36.0</td>\n      <td>24.0</td>\n      <td>1018.0</td>\n      <td>1016.0</td>\n      <td>NaN</td>\n      <td>NaN</td>\n      <td>32.4</td>\n      <td>37.4</td>\n      <td>No</td>\n    </tr>\n    <tr>\n      <th>3</th>\n      <td>2016-09-19</td>\n      <td>Adelaide</td>\n      <td>6.7</td>\n      <td>16.4</td>\n      <td>0.4</td>\n      <td>NaN</td>\n      <td>NaN</td>\n      <td>N</td>\n      <td>31.0</td>\n      <td>N</td>\n      <td>...</td>\n      <td>15.0</td>\n      <td>65.0</td>\n      <td>40.0</td>\n      <td>1014.4</td>\n      <td>1010.0</td>\n      <td>NaN</td>\n      <td>NaN</td>\n      <td>11.2</td>\n      <td>15.9</td>\n      <td>No</td>\n    </tr>\n    <tr>\n      <th>4</th>\n      <td>2014-03-05</td>\n      <td>Adelaide</td>\n      <td>16.7</td>\n      <td>24.8</td>\n      <td>0.0</td>\n      <td>6.6</td>\n      <td>11.7</td>\n      <td>S</td>\n      <td>37.0</td>\n      <td>S</td>\n      <td>...</td>\n      <td>24.0</td>\n      <td>61.0</td>\n      <td>48.0</td>\n      <td>1019.3</td>\n      <td>1018.9</td>\n      <td>NaN</td>\n      <td>NaN</td>\n      <td>20.8</td>\n      <td>23.7</td>\n      <td>No</td>\n    </tr>\n  </tbody>\n</table>\n<p>5 rows × 22 columns</p>\n</div>"
     },
     "execution_count": 3,
     "metadata": {},
     "output_type": "execute_result"
    }
   ],
   "source": [
    "weather.head()"
   ],
   "metadata": {
    "collapsed": false,
    "ExecuteTime": {
     "start_time": "2023-07-01T14:30:28.396027Z",
     "end_time": "2023-07-01T14:30:28.454028Z"
    }
   }
  },
  {
   "cell_type": "code",
   "execution_count": 4,
   "outputs": [],
   "source": [
    "X = weather.iloc[:, :-1]\n",
    "Y = weather.iloc[:, -1]"
   ],
   "metadata": {
    "collapsed": false,
    "ExecuteTime": {
     "start_time": "2023-07-01T14:30:28.438030Z",
     "end_time": "2023-07-01T14:30:28.495360Z"
    }
   }
  },
  {
   "cell_type": "code",
   "execution_count": 5,
   "outputs": [
    {
     "data": {
      "text/plain": "(5000, 21)"
     },
     "execution_count": 5,
     "metadata": {},
     "output_type": "execute_result"
    }
   ],
   "source": [
    "X.shape"
   ],
   "metadata": {
    "collapsed": false,
    "ExecuteTime": {
     "start_time": "2023-07-01T14:30:28.453026Z",
     "end_time": "2023-07-01T14:30:28.552444Z"
    }
   }
  },
  {
   "cell_type": "code",
   "execution_count": 6,
   "outputs": [
    {
     "name": "stdout",
     "output_type": "stream",
     "text": [
      "<class 'pandas.core.frame.DataFrame'>\n",
      "Int64Index: 5000 entries, 0 to 4999\n",
      "Data columns (total 21 columns):\n",
      " #   Column         Non-Null Count  Dtype  \n",
      "---  ------         --------------  -----  \n",
      " 0   Date           5000 non-null   object \n",
      " 1   Location       5000 non-null   object \n",
      " 2   MinTemp        4979 non-null   float64\n",
      " 3   MaxTemp        4987 non-null   float64\n",
      " 4   Rainfall       4950 non-null   float64\n",
      " 5   Evaporation    2841 non-null   float64\n",
      " 6   Sunshine       2571 non-null   float64\n",
      " 7   WindGustDir    4669 non-null   object \n",
      " 8   WindGustSpeed  4669 non-null   float64\n",
      " 9   WindDir9am     4651 non-null   object \n",
      " 10  WindDir3pm     4887 non-null   object \n",
      " 11  WindSpeed9am   4949 non-null   float64\n",
      " 12  WindSpeed3pm   4919 non-null   float64\n",
      " 13  Humidity9am    4936 non-null   float64\n",
      " 14  Humidity3pm    4880 non-null   float64\n",
      " 15  Pressure9am    4506 non-null   float64\n",
      " 16  Pressure3pm    4504 non-null   float64\n",
      " 17  Cloud9am       3111 non-null   float64\n",
      " 18  Cloud3pm       3012 non-null   float64\n",
      " 19  Temp9am        4967 non-null   float64\n",
      " 20  Temp3pm        4912 non-null   float64\n",
      "dtypes: float64(16), object(5)\n",
      "memory usage: 859.4+ KB\n"
     ]
    }
   ],
   "source": [
    "X.info()"
   ],
   "metadata": {
    "collapsed": false,
    "ExecuteTime": {
     "start_time": "2023-07-01T14:30:28.467028Z",
     "end_time": "2023-07-01T14:30:28.646945Z"
    }
   }
  },
  {
   "cell_type": "code",
   "execution_count": 7,
   "outputs": [
    {
     "data": {
      "text/plain": "Date             0.0000\nLocation         0.0000\nMinTemp          0.0042\nMaxTemp          0.0026\nRainfall         0.0100\nEvaporation      0.4318\nSunshine         0.4858\nWindGustDir      0.0662\nWindGustSpeed    0.0662\nWindDir9am       0.0698\nWindDir3pm       0.0226\nWindSpeed9am     0.0102\nWindSpeed3pm     0.0162\nHumidity9am      0.0128\nHumidity3pm      0.0240\nPressure9am      0.0988\nPressure3pm      0.0992\nCloud9am         0.3778\nCloud3pm         0.3976\nTemp9am          0.0066\nTemp3pm          0.0176\ndtype: float64"
     },
     "execution_count": 7,
     "metadata": {},
     "output_type": "execute_result"
    }
   ],
   "source": [
    "X.isnull().mean()"
   ],
   "metadata": {
    "collapsed": false,
    "ExecuteTime": {
     "start_time": "2023-07-01T14:30:28.499443Z",
     "end_time": "2023-07-01T14:30:28.647943Z"
    }
   }
  },
  {
   "cell_type": "code",
   "execution_count": 8,
   "outputs": [
    {
     "data": {
      "text/plain": "array(['No', 'Yes'], dtype=object)"
     },
     "execution_count": 8,
     "metadata": {},
     "output_type": "execute_result"
    }
   ],
   "source": [
    "np.unique(Y)"
   ],
   "metadata": {
    "collapsed": false,
    "ExecuteTime": {
     "start_time": "2023-07-01T14:30:28.517448Z",
     "end_time": "2023-07-01T14:30:28.648943Z"
    }
   }
  },
  {
   "cell_type": "code",
   "execution_count": 9,
   "outputs": [],
   "source": [
    "Xtrain, Xtest, Ytrain, Ytest = train_test_split(X, Y, test_size=0.3, random_state=420)"
   ],
   "metadata": {
    "collapsed": false,
    "ExecuteTime": {
     "start_time": "2023-07-01T14:30:28.533444Z",
     "end_time": "2023-07-01T14:30:28.648943Z"
    }
   }
  },
  {
   "cell_type": "code",
   "execution_count": 10,
   "outputs": [],
   "source": [
    "for i in [Xtrain, Ytrain, Xtest, Ytest]:\n",
    "    i.index = range(i.shape[0])"
   ],
   "metadata": {
    "collapsed": false,
    "ExecuteTime": {
     "start_time": "2023-07-01T14:30:28.552444Z",
     "end_time": "2023-07-01T14:30:28.648943Z"
    }
   }
  },
  {
   "cell_type": "code",
   "execution_count": 11,
   "outputs": [
    {
     "data": {
      "text/plain": "0        No\n1        No\n2        No\n3       Yes\n4        No\n       ... \n3495     No\n3496    Yes\n3497     No\n3498     No\n3499     No\nName: RainTomorrow, Length: 3500, dtype: object"
     },
     "execution_count": 11,
     "metadata": {},
     "output_type": "execute_result"
    }
   ],
   "source": [
    "Ytrain"
   ],
   "metadata": {
    "collapsed": false,
    "ExecuteTime": {
     "start_time": "2023-07-01T14:30:28.564443Z",
     "end_time": "2023-07-01T14:30:28.670412Z"
    }
   }
  },
  {
   "cell_type": "code",
   "execution_count": 12,
   "outputs": [
    {
     "data": {
      "text/plain": "No     2704\nYes     796\nName: RainTomorrow, dtype: int64"
     },
     "execution_count": 12,
     "metadata": {},
     "output_type": "execute_result"
    }
   ],
   "source": [
    "Ytrain.value_counts()"
   ],
   "metadata": {
    "collapsed": false,
    "ExecuteTime": {
     "start_time": "2023-07-01T14:30:28.580524Z",
     "end_time": "2023-07-01T14:30:28.671413Z"
    }
   }
  },
  {
   "cell_type": "code",
   "execution_count": 13,
   "outputs": [
    {
     "data": {
      "text/plain": "No     1157\nYes     343\nName: RainTomorrow, dtype: int64"
     },
     "execution_count": 13,
     "metadata": {},
     "output_type": "execute_result"
    }
   ],
   "source": [
    "Ytest.value_counts()"
   ],
   "metadata": {
    "collapsed": false,
    "ExecuteTime": {
     "start_time": "2023-07-01T14:30:28.595447Z",
     "end_time": "2023-07-01T14:30:28.672408Z"
    }
   }
  },
  {
   "cell_type": "code",
   "execution_count": 14,
   "outputs": [],
   "source": [
    "from sklearn.preprocessing import LabelEncoder\n",
    "\n",
    "encoder = LabelEncoder().fit(Ytrain)\n",
    "Ytrain = pd.DataFrame(encoder.transform(Ytrain))\n",
    "Ytest = pd.DataFrame(encoder.transform(Ytest))"
   ],
   "metadata": {
    "collapsed": false,
    "ExecuteTime": {
     "start_time": "2023-07-01T14:30:28.614867Z",
     "end_time": "2023-07-01T14:30:28.672408Z"
    }
   }
  },
  {
   "cell_type": "code",
   "execution_count": 15,
   "outputs": [
    {
     "data": {
      "text/plain": "   0\n0  0\n1  0\n2  0\n3  1\n4  0",
      "text/html": "<div>\n<style scoped>\n    .dataframe tbody tr th:only-of-type {\n        vertical-align: middle;\n    }\n\n    .dataframe tbody tr th {\n        vertical-align: top;\n    }\n\n    .dataframe thead th {\n        text-align: right;\n    }\n</style>\n<table border=\"1\" class=\"dataframe\">\n  <thead>\n    <tr style=\"text-align: right;\">\n      <th></th>\n      <th>0</th>\n    </tr>\n  </thead>\n  <tbody>\n    <tr>\n      <th>0</th>\n      <td>0</td>\n    </tr>\n    <tr>\n      <th>1</th>\n      <td>0</td>\n    </tr>\n    <tr>\n      <th>2</th>\n      <td>0</td>\n    </tr>\n    <tr>\n      <th>3</th>\n      <td>1</td>\n    </tr>\n    <tr>\n      <th>4</th>\n      <td>0</td>\n    </tr>\n  </tbody>\n</table>\n</div>"
     },
     "execution_count": 15,
     "metadata": {},
     "output_type": "execute_result"
    }
   ],
   "source": [
    "Ytrain.head()"
   ],
   "metadata": {
    "collapsed": false,
    "ExecuteTime": {
     "start_time": "2023-07-01T14:30:28.627869Z",
     "end_time": "2023-07-01T14:30:28.792660Z"
    }
   }
  },
  {
   "cell_type": "code",
   "execution_count": 16,
   "outputs": [
    {
     "data": {
      "text/plain": "   0\n0  0\n1  0\n2  1\n3  0\n4  0",
      "text/html": "<div>\n<style scoped>\n    .dataframe tbody tr th:only-of-type {\n        vertical-align: middle;\n    }\n\n    .dataframe tbody tr th {\n        vertical-align: top;\n    }\n\n    .dataframe thead th {\n        text-align: right;\n    }\n</style>\n<table border=\"1\" class=\"dataframe\">\n  <thead>\n    <tr style=\"text-align: right;\">\n      <th></th>\n      <th>0</th>\n    </tr>\n  </thead>\n  <tbody>\n    <tr>\n      <th>0</th>\n      <td>0</td>\n    </tr>\n    <tr>\n      <th>1</th>\n      <td>0</td>\n    </tr>\n    <tr>\n      <th>2</th>\n      <td>1</td>\n    </tr>\n    <tr>\n      <th>3</th>\n      <td>0</td>\n    </tr>\n    <tr>\n      <th>4</th>\n      <td>0</td>\n    </tr>\n  </tbody>\n</table>\n</div>"
     },
     "execution_count": 16,
     "metadata": {},
     "output_type": "execute_result"
    }
   ],
   "source": [
    "Ytest.head()"
   ],
   "metadata": {
    "collapsed": false,
    "ExecuteTime": {
     "start_time": "2023-07-01T14:30:28.644944Z",
     "end_time": "2023-07-01T14:30:28.819610Z"
    }
   }
  },
  {
   "cell_type": "code",
   "execution_count": 17,
   "outputs": [
    {
     "data": {
      "text/plain": "                count         mean        std    min        1%        5%  \\\nMinTemp        3486.0    12.225645   6.396243   -6.5    -1.715     1.800   \nMaxTemp        3489.0    23.245543   7.201839   -3.7     8.888    12.840   \nRainfall       3467.0     2.487049   7.949686    0.0     0.000     0.000   \nEvaporation    1983.0     5.619163   4.383098    0.0     0.400     0.800   \nSunshine       1790.0     7.508659   3.805841    0.0     0.000     0.345   \nWindGustSpeed  3263.0    39.858413  13.219607    9.0    15.000    20.000   \nWindSpeed9am   3466.0    14.046163   8.670472    0.0     0.000     0.000   \nWindSpeed3pm   3437.0    18.553390   8.611818    0.0     2.000     6.000   \nHumidity9am    3459.0    69.069095  18.787698    2.0    18.000    35.000   \nHumidity3pm    3408.0    51.651995  20.697872    2.0     9.000    17.000   \nPressure9am    3154.0  1017.622067   7.065236  985.1  1000.506  1006.100   \nPressure3pm    3154.0  1015.227077   7.032531  980.2   998.000  1004.000   \nCloud9am       2171.0     4.491939   2.858781    0.0     0.000     0.000   \nCloud3pm       2095.0     4.603819   2.655765    0.0     0.000     0.000   \nTemp9am        3481.0    16.989859   6.537552   -5.2     2.400     7.000   \nTemp3pm        3431.0    21.719003   7.031199   -4.1     7.460    11.500   \n\n                  10%     25%     50%     75%     90%       99%     max  \nMinTemp           4.1     7.7    12.0    16.7    20.9    25.900    29.0  \nMaxTemp          14.5    18.0    22.5    28.4    33.0    40.400    46.4  \nRainfall          0.0     0.0     0.0     0.8     6.6    41.272   115.8  \nEvaporation       1.4     2.6     4.8     7.4    10.2    20.600    56.0  \nSunshine          1.4     4.6     8.3    10.6    12.0    13.300    13.9  \nWindGustSpeed    24.0    31.0    39.0    48.0    57.0    76.000   117.0  \nWindSpeed9am      4.0     7.0    13.0    19.0    26.0    37.000    65.0  \nWindSpeed3pm      7.0    13.0    19.0    24.0    30.0    43.000    65.0  \nHumidity9am      45.0    57.0    70.0    83.0    94.0   100.000   100.0  \nHumidity3pm      23.0    37.0    52.0    66.0    79.0    98.000   100.0  \nPressure9am    1008.9  1012.8  1017.6  1022.3  1027.0  1033.247  1038.1  \nPressure3pm    1006.5  1010.3  1015.2  1020.0  1024.4  1030.800  1036.0  \nCloud9am          1.0     1.0     5.0     7.0     8.0     8.000     8.0  \nCloud3pm          1.0     2.0     5.0     7.0     8.0     8.000     8.0  \nTemp9am           9.0    12.2    16.6    21.6    26.0    31.000    38.0  \nTemp3pm          13.3    16.6    21.0    26.6    31.4    38.600    45.9  ",
      "text/html": "<div>\n<style scoped>\n    .dataframe tbody tr th:only-of-type {\n        vertical-align: middle;\n    }\n\n    .dataframe tbody tr th {\n        vertical-align: top;\n    }\n\n    .dataframe thead th {\n        text-align: right;\n    }\n</style>\n<table border=\"1\" class=\"dataframe\">\n  <thead>\n    <tr style=\"text-align: right;\">\n      <th></th>\n      <th>count</th>\n      <th>mean</th>\n      <th>std</th>\n      <th>min</th>\n      <th>1%</th>\n      <th>5%</th>\n      <th>10%</th>\n      <th>25%</th>\n      <th>50%</th>\n      <th>75%</th>\n      <th>90%</th>\n      <th>99%</th>\n      <th>max</th>\n    </tr>\n  </thead>\n  <tbody>\n    <tr>\n      <th>MinTemp</th>\n      <td>3486.0</td>\n      <td>12.225645</td>\n      <td>6.396243</td>\n      <td>-6.5</td>\n      <td>-1.715</td>\n      <td>1.800</td>\n      <td>4.1</td>\n      <td>7.7</td>\n      <td>12.0</td>\n      <td>16.7</td>\n      <td>20.9</td>\n      <td>25.900</td>\n      <td>29.0</td>\n    </tr>\n    <tr>\n      <th>MaxTemp</th>\n      <td>3489.0</td>\n      <td>23.245543</td>\n      <td>7.201839</td>\n      <td>-3.7</td>\n      <td>8.888</td>\n      <td>12.840</td>\n      <td>14.5</td>\n      <td>18.0</td>\n      <td>22.5</td>\n      <td>28.4</td>\n      <td>33.0</td>\n      <td>40.400</td>\n      <td>46.4</td>\n    </tr>\n    <tr>\n      <th>Rainfall</th>\n      <td>3467.0</td>\n      <td>2.487049</td>\n      <td>7.949686</td>\n      <td>0.0</td>\n      <td>0.000</td>\n      <td>0.000</td>\n      <td>0.0</td>\n      <td>0.0</td>\n      <td>0.0</td>\n      <td>0.8</td>\n      <td>6.6</td>\n      <td>41.272</td>\n      <td>115.8</td>\n    </tr>\n    <tr>\n      <th>Evaporation</th>\n      <td>1983.0</td>\n      <td>5.619163</td>\n      <td>4.383098</td>\n      <td>0.0</td>\n      <td>0.400</td>\n      <td>0.800</td>\n      <td>1.4</td>\n      <td>2.6</td>\n      <td>4.8</td>\n      <td>7.4</td>\n      <td>10.2</td>\n      <td>20.600</td>\n      <td>56.0</td>\n    </tr>\n    <tr>\n      <th>Sunshine</th>\n      <td>1790.0</td>\n      <td>7.508659</td>\n      <td>3.805841</td>\n      <td>0.0</td>\n      <td>0.000</td>\n      <td>0.345</td>\n      <td>1.4</td>\n      <td>4.6</td>\n      <td>8.3</td>\n      <td>10.6</td>\n      <td>12.0</td>\n      <td>13.300</td>\n      <td>13.9</td>\n    </tr>\n    <tr>\n      <th>WindGustSpeed</th>\n      <td>3263.0</td>\n      <td>39.858413</td>\n      <td>13.219607</td>\n      <td>9.0</td>\n      <td>15.000</td>\n      <td>20.000</td>\n      <td>24.0</td>\n      <td>31.0</td>\n      <td>39.0</td>\n      <td>48.0</td>\n      <td>57.0</td>\n      <td>76.000</td>\n      <td>117.0</td>\n    </tr>\n    <tr>\n      <th>WindSpeed9am</th>\n      <td>3466.0</td>\n      <td>14.046163</td>\n      <td>8.670472</td>\n      <td>0.0</td>\n      <td>0.000</td>\n      <td>0.000</td>\n      <td>4.0</td>\n      <td>7.0</td>\n      <td>13.0</td>\n      <td>19.0</td>\n      <td>26.0</td>\n      <td>37.000</td>\n      <td>65.0</td>\n    </tr>\n    <tr>\n      <th>WindSpeed3pm</th>\n      <td>3437.0</td>\n      <td>18.553390</td>\n      <td>8.611818</td>\n      <td>0.0</td>\n      <td>2.000</td>\n      <td>6.000</td>\n      <td>7.0</td>\n      <td>13.0</td>\n      <td>19.0</td>\n      <td>24.0</td>\n      <td>30.0</td>\n      <td>43.000</td>\n      <td>65.0</td>\n    </tr>\n    <tr>\n      <th>Humidity9am</th>\n      <td>3459.0</td>\n      <td>69.069095</td>\n      <td>18.787698</td>\n      <td>2.0</td>\n      <td>18.000</td>\n      <td>35.000</td>\n      <td>45.0</td>\n      <td>57.0</td>\n      <td>70.0</td>\n      <td>83.0</td>\n      <td>94.0</td>\n      <td>100.000</td>\n      <td>100.0</td>\n    </tr>\n    <tr>\n      <th>Humidity3pm</th>\n      <td>3408.0</td>\n      <td>51.651995</td>\n      <td>20.697872</td>\n      <td>2.0</td>\n      <td>9.000</td>\n      <td>17.000</td>\n      <td>23.0</td>\n      <td>37.0</td>\n      <td>52.0</td>\n      <td>66.0</td>\n      <td>79.0</td>\n      <td>98.000</td>\n      <td>100.0</td>\n    </tr>\n    <tr>\n      <th>Pressure9am</th>\n      <td>3154.0</td>\n      <td>1017.622067</td>\n      <td>7.065236</td>\n      <td>985.1</td>\n      <td>1000.506</td>\n      <td>1006.100</td>\n      <td>1008.9</td>\n      <td>1012.8</td>\n      <td>1017.6</td>\n      <td>1022.3</td>\n      <td>1027.0</td>\n      <td>1033.247</td>\n      <td>1038.1</td>\n    </tr>\n    <tr>\n      <th>Pressure3pm</th>\n      <td>3154.0</td>\n      <td>1015.227077</td>\n      <td>7.032531</td>\n      <td>980.2</td>\n      <td>998.000</td>\n      <td>1004.000</td>\n      <td>1006.5</td>\n      <td>1010.3</td>\n      <td>1015.2</td>\n      <td>1020.0</td>\n      <td>1024.4</td>\n      <td>1030.800</td>\n      <td>1036.0</td>\n    </tr>\n    <tr>\n      <th>Cloud9am</th>\n      <td>2171.0</td>\n      <td>4.491939</td>\n      <td>2.858781</td>\n      <td>0.0</td>\n      <td>0.000</td>\n      <td>0.000</td>\n      <td>1.0</td>\n      <td>1.0</td>\n      <td>5.0</td>\n      <td>7.0</td>\n      <td>8.0</td>\n      <td>8.000</td>\n      <td>8.0</td>\n    </tr>\n    <tr>\n      <th>Cloud3pm</th>\n      <td>2095.0</td>\n      <td>4.603819</td>\n      <td>2.655765</td>\n      <td>0.0</td>\n      <td>0.000</td>\n      <td>0.000</td>\n      <td>1.0</td>\n      <td>2.0</td>\n      <td>5.0</td>\n      <td>7.0</td>\n      <td>8.0</td>\n      <td>8.000</td>\n      <td>8.0</td>\n    </tr>\n    <tr>\n      <th>Temp9am</th>\n      <td>3481.0</td>\n      <td>16.989859</td>\n      <td>6.537552</td>\n      <td>-5.2</td>\n      <td>2.400</td>\n      <td>7.000</td>\n      <td>9.0</td>\n      <td>12.2</td>\n      <td>16.6</td>\n      <td>21.6</td>\n      <td>26.0</td>\n      <td>31.000</td>\n      <td>38.0</td>\n    </tr>\n    <tr>\n      <th>Temp3pm</th>\n      <td>3431.0</td>\n      <td>21.719003</td>\n      <td>7.031199</td>\n      <td>-4.1</td>\n      <td>7.460</td>\n      <td>11.500</td>\n      <td>13.3</td>\n      <td>16.6</td>\n      <td>21.0</td>\n      <td>26.6</td>\n      <td>31.4</td>\n      <td>38.600</td>\n      <td>45.9</td>\n    </tr>\n  </tbody>\n</table>\n</div>"
     },
     "execution_count": 17,
     "metadata": {},
     "output_type": "execute_result"
    }
   ],
   "source": [
    "Xtrain.describe([0.01, 0.05, 0.1, 0.25, 0.5, 0.75, 0.9, 0.99]).T"
   ],
   "metadata": {
    "collapsed": false,
    "ExecuteTime": {
     "start_time": "2023-07-01T14:30:28.660398Z",
     "end_time": "2023-07-01T14:30:28.821671Z"
    }
   }
  },
  {
   "cell_type": "code",
   "execution_count": 18,
   "outputs": [
    {
     "data": {
      "text/plain": "                count         mean        std    min        1%        5%  \\\nMinTemp        1493.0    11.916812   6.375377   -8.5    -2.024     1.600   \nMaxTemp        1498.0    22.906809   6.986043   -0.8     9.134    13.000   \nRainfall       1483.0     2.241807   7.988822    0.0     0.000     0.000   \nEvaporation     858.0     5.657809   4.105762    0.0     0.400     1.000   \nSunshine        781.0     7.677465   3.862294    0.0     0.000     0.300   \nWindGustSpeed  1406.0    40.044097  14.027052    9.0    15.000    20.000   \nWindSpeed9am   1483.0    13.986514   9.124337    0.0     0.000     0.000   \nWindSpeed3pm   1482.0    18.601215   8.850446    0.0     2.000     6.000   \nHumidity9am    1477.0    68.688558  18.876448    4.0    20.000    36.000   \nHumidity3pm    1472.0    51.431386  20.459957    2.0     8.710    18.000   \nPressure9am    1352.0  1017.763536   6.910275  988.5  1000.900  1006.255   \nPressure3pm    1350.0  1015.397926   6.916976  986.2   999.198  1003.900   \nCloud9am        940.0     4.494681   2.870468    0.0     0.000     0.000   \nCloud3pm        917.0     4.403490   2.731969    0.0     0.000     0.000   \nTemp9am        1486.0    16.751817   6.339816   -5.3     2.370     6.725   \nTemp3pm        1481.0    21.483660   6.770567   -1.2     8.540    11.800   \n\n                   10%     25%     50%     75%      90%       99%     max  \nMinTemp           3.70     7.3    11.8    16.5    20.48    25.316    28.3  \nMaxTemp          14.50    17.8    22.4    27.8    32.60    38.303    45.1  \nRainfall          0.00     0.0     0.0     0.8     5.20    35.372   108.2  \nEvaporation       1.60     2.8     4.8     7.6    10.40    19.458    38.8  \nSunshine          1.50     4.7     8.6    10.7    12.20    13.400    13.9  \nWindGustSpeed    24.00    30.0    39.0    48.0    57.00    78.000   122.0  \nWindSpeed9am      4.00     7.0    13.0    20.0    26.00    39.360    72.0  \nWindSpeed3pm      7.00    13.0    19.0    24.0    31.00    43.000    56.0  \nHumidity9am      44.00    57.0    69.0    82.0    95.00   100.000   100.0  \nHumidity3pm      23.00    37.0    52.0    66.0    78.00    96.290   100.0  \nPressure9am    1008.61  1013.2  1017.8  1022.3  1026.50  1033.449  1038.2  \nPressure3pm    1006.49  1010.9  1015.4  1020.0  1024.20  1031.151  1036.9  \nCloud9am          1.00     1.0     5.0     7.0     8.00     8.000     8.0  \nCloud3pm          1.00     2.0     5.0     7.0     8.00     8.000     8.0  \nTemp9am           9.00    12.1    16.5    21.3    25.45    30.200    35.1  \nTemp3pm          13.30    16.5    20.9    26.2    30.90    37.400    42.9  ",
      "text/html": "<div>\n<style scoped>\n    .dataframe tbody tr th:only-of-type {\n        vertical-align: middle;\n    }\n\n    .dataframe tbody tr th {\n        vertical-align: top;\n    }\n\n    .dataframe thead th {\n        text-align: right;\n    }\n</style>\n<table border=\"1\" class=\"dataframe\">\n  <thead>\n    <tr style=\"text-align: right;\">\n      <th></th>\n      <th>count</th>\n      <th>mean</th>\n      <th>std</th>\n      <th>min</th>\n      <th>1%</th>\n      <th>5%</th>\n      <th>10%</th>\n      <th>25%</th>\n      <th>50%</th>\n      <th>75%</th>\n      <th>90%</th>\n      <th>99%</th>\n      <th>max</th>\n    </tr>\n  </thead>\n  <tbody>\n    <tr>\n      <th>MinTemp</th>\n      <td>1493.0</td>\n      <td>11.916812</td>\n      <td>6.375377</td>\n      <td>-8.5</td>\n      <td>-2.024</td>\n      <td>1.600</td>\n      <td>3.70</td>\n      <td>7.3</td>\n      <td>11.8</td>\n      <td>16.5</td>\n      <td>20.48</td>\n      <td>25.316</td>\n      <td>28.3</td>\n    </tr>\n    <tr>\n      <th>MaxTemp</th>\n      <td>1498.0</td>\n      <td>22.906809</td>\n      <td>6.986043</td>\n      <td>-0.8</td>\n      <td>9.134</td>\n      <td>13.000</td>\n      <td>14.50</td>\n      <td>17.8</td>\n      <td>22.4</td>\n      <td>27.8</td>\n      <td>32.60</td>\n      <td>38.303</td>\n      <td>45.1</td>\n    </tr>\n    <tr>\n      <th>Rainfall</th>\n      <td>1483.0</td>\n      <td>2.241807</td>\n      <td>7.988822</td>\n      <td>0.0</td>\n      <td>0.000</td>\n      <td>0.000</td>\n      <td>0.00</td>\n      <td>0.0</td>\n      <td>0.0</td>\n      <td>0.8</td>\n      <td>5.20</td>\n      <td>35.372</td>\n      <td>108.2</td>\n    </tr>\n    <tr>\n      <th>Evaporation</th>\n      <td>858.0</td>\n      <td>5.657809</td>\n      <td>4.105762</td>\n      <td>0.0</td>\n      <td>0.400</td>\n      <td>1.000</td>\n      <td>1.60</td>\n      <td>2.8</td>\n      <td>4.8</td>\n      <td>7.6</td>\n      <td>10.40</td>\n      <td>19.458</td>\n      <td>38.8</td>\n    </tr>\n    <tr>\n      <th>Sunshine</th>\n      <td>781.0</td>\n      <td>7.677465</td>\n      <td>3.862294</td>\n      <td>0.0</td>\n      <td>0.000</td>\n      <td>0.300</td>\n      <td>1.50</td>\n      <td>4.7</td>\n      <td>8.6</td>\n      <td>10.7</td>\n      <td>12.20</td>\n      <td>13.400</td>\n      <td>13.9</td>\n    </tr>\n    <tr>\n      <th>WindGustSpeed</th>\n      <td>1406.0</td>\n      <td>40.044097</td>\n      <td>14.027052</td>\n      <td>9.0</td>\n      <td>15.000</td>\n      <td>20.000</td>\n      <td>24.00</td>\n      <td>30.0</td>\n      <td>39.0</td>\n      <td>48.0</td>\n      <td>57.00</td>\n      <td>78.000</td>\n      <td>122.0</td>\n    </tr>\n    <tr>\n      <th>WindSpeed9am</th>\n      <td>1483.0</td>\n      <td>13.986514</td>\n      <td>9.124337</td>\n      <td>0.0</td>\n      <td>0.000</td>\n      <td>0.000</td>\n      <td>4.00</td>\n      <td>7.0</td>\n      <td>13.0</td>\n      <td>20.0</td>\n      <td>26.00</td>\n      <td>39.360</td>\n      <td>72.0</td>\n    </tr>\n    <tr>\n      <th>WindSpeed3pm</th>\n      <td>1482.0</td>\n      <td>18.601215</td>\n      <td>8.850446</td>\n      <td>0.0</td>\n      <td>2.000</td>\n      <td>6.000</td>\n      <td>7.00</td>\n      <td>13.0</td>\n      <td>19.0</td>\n      <td>24.0</td>\n      <td>31.00</td>\n      <td>43.000</td>\n      <td>56.0</td>\n    </tr>\n    <tr>\n      <th>Humidity9am</th>\n      <td>1477.0</td>\n      <td>68.688558</td>\n      <td>18.876448</td>\n      <td>4.0</td>\n      <td>20.000</td>\n      <td>36.000</td>\n      <td>44.00</td>\n      <td>57.0</td>\n      <td>69.0</td>\n      <td>82.0</td>\n      <td>95.00</td>\n      <td>100.000</td>\n      <td>100.0</td>\n    </tr>\n    <tr>\n      <th>Humidity3pm</th>\n      <td>1472.0</td>\n      <td>51.431386</td>\n      <td>20.459957</td>\n      <td>2.0</td>\n      <td>8.710</td>\n      <td>18.000</td>\n      <td>23.00</td>\n      <td>37.0</td>\n      <td>52.0</td>\n      <td>66.0</td>\n      <td>78.00</td>\n      <td>96.290</td>\n      <td>100.0</td>\n    </tr>\n    <tr>\n      <th>Pressure9am</th>\n      <td>1352.0</td>\n      <td>1017.763536</td>\n      <td>6.910275</td>\n      <td>988.5</td>\n      <td>1000.900</td>\n      <td>1006.255</td>\n      <td>1008.61</td>\n      <td>1013.2</td>\n      <td>1017.8</td>\n      <td>1022.3</td>\n      <td>1026.50</td>\n      <td>1033.449</td>\n      <td>1038.2</td>\n    </tr>\n    <tr>\n      <th>Pressure3pm</th>\n      <td>1350.0</td>\n      <td>1015.397926</td>\n      <td>6.916976</td>\n      <td>986.2</td>\n      <td>999.198</td>\n      <td>1003.900</td>\n      <td>1006.49</td>\n      <td>1010.9</td>\n      <td>1015.4</td>\n      <td>1020.0</td>\n      <td>1024.20</td>\n      <td>1031.151</td>\n      <td>1036.9</td>\n    </tr>\n    <tr>\n      <th>Cloud9am</th>\n      <td>940.0</td>\n      <td>4.494681</td>\n      <td>2.870468</td>\n      <td>0.0</td>\n      <td>0.000</td>\n      <td>0.000</td>\n      <td>1.00</td>\n      <td>1.0</td>\n      <td>5.0</td>\n      <td>7.0</td>\n      <td>8.00</td>\n      <td>8.000</td>\n      <td>8.0</td>\n    </tr>\n    <tr>\n      <th>Cloud3pm</th>\n      <td>917.0</td>\n      <td>4.403490</td>\n      <td>2.731969</td>\n      <td>0.0</td>\n      <td>0.000</td>\n      <td>0.000</td>\n      <td>1.00</td>\n      <td>2.0</td>\n      <td>5.0</td>\n      <td>7.0</td>\n      <td>8.00</td>\n      <td>8.000</td>\n      <td>8.0</td>\n    </tr>\n    <tr>\n      <th>Temp9am</th>\n      <td>1486.0</td>\n      <td>16.751817</td>\n      <td>6.339816</td>\n      <td>-5.3</td>\n      <td>2.370</td>\n      <td>6.725</td>\n      <td>9.00</td>\n      <td>12.1</td>\n      <td>16.5</td>\n      <td>21.3</td>\n      <td>25.45</td>\n      <td>30.200</td>\n      <td>35.1</td>\n    </tr>\n    <tr>\n      <th>Temp3pm</th>\n      <td>1481.0</td>\n      <td>21.483660</td>\n      <td>6.770567</td>\n      <td>-1.2</td>\n      <td>8.540</td>\n      <td>11.800</td>\n      <td>13.30</td>\n      <td>16.5</td>\n      <td>20.9</td>\n      <td>26.2</td>\n      <td>30.90</td>\n      <td>37.400</td>\n      <td>42.9</td>\n    </tr>\n  </tbody>\n</table>\n</div>"
     },
     "execution_count": 18,
     "metadata": {},
     "output_type": "execute_result"
    }
   ],
   "source": [
    "Xtest.describe([0.01, 0.05, 0.1, 0.25, 0.5, 0.75, 0.9, 0.99]).T"
   ],
   "metadata": {
    "collapsed": false,
    "ExecuteTime": {
     "start_time": "2023-07-01T14:30:28.736407Z",
     "end_time": "2023-07-01T14:30:28.854932Z"
    }
   }
  },
  {
   "cell_type": "code",
   "execution_count": 19,
   "outputs": [
    {
     "data": {
      "text/plain": "Series([], Name: Cloud9am, dtype: float64)"
     },
     "execution_count": 19,
     "metadata": {},
     "output_type": "execute_result"
    }
   ],
   "source": [
    "#观察异常值是大量存在，还是少数存在\n",
    "Xtrain.loc[Xtrain.loc[:, \"Cloud9am\"] == 9, \"Cloud9am\"]"
   ],
   "metadata": {
    "collapsed": false,
    "ExecuteTime": {
     "start_time": "2023-07-01T14:30:28.797677Z",
     "end_time": "2023-07-01T14:30:28.895970Z"
    }
   }
  },
  {
   "cell_type": "code",
   "execution_count": 20,
   "outputs": [
    {
     "data": {
      "text/plain": "Series([], Name: Cloud9am, dtype: float64)"
     },
     "execution_count": 20,
     "metadata": {},
     "output_type": "execute_result"
    }
   ],
   "source": [
    "Xtest.loc[Xtest.loc[:, \"Cloud9am\"] == 9, \"Cloud9am\"]"
   ],
   "metadata": {
    "collapsed": false,
    "ExecuteTime": {
     "start_time": "2023-07-01T14:30:28.812582Z",
     "end_time": "2023-07-01T14:30:28.984985Z"
    }
   }
  },
  {
   "cell_type": "code",
   "execution_count": 21,
   "outputs": [
    {
     "data": {
      "text/plain": "Series([], Name: Cloud3pm, dtype: float64)"
     },
     "execution_count": 21,
     "metadata": {},
     "output_type": "execute_result"
    }
   ],
   "source": [
    "Xtest.loc[Xtest.loc[:, \"Cloud3pm\"] == 9, \"Cloud3pm\"]"
   ],
   "metadata": {
    "collapsed": false,
    "ExecuteTime": {
     "start_time": "2023-07-01T14:30:28.832103Z",
     "end_time": "2023-07-01T14:30:29.030446Z"
    }
   }
  },
  {
   "cell_type": "code",
   "execution_count": 22,
   "outputs": [],
   "source": [
    "# #少数存在，于是采取删除的策略\n",
    "# #注意如果删除特征矩阵，则必须连对应的标签一起删除，特征矩阵的行和标签的行必须要一一对应\n",
    "# Xtrain = Xtrain.drop(index=71737)\n",
    "# Ytrain = Ytrain.drop(index=71737)"
   ],
   "metadata": {
    "collapsed": false,
    "ExecuteTime": {
     "start_time": "2023-07-01T14:30:28.844335Z",
     "end_time": "2023-07-01T14:30:29.042798Z"
    }
   }
  },
  {
   "cell_type": "code",
   "execution_count": 23,
   "outputs": [],
   "source": [
    "# #删除完毕之后，观察原始的数据结构，确认删除正确\n",
    "# Xtrain.shape"
   ],
   "metadata": {
    "collapsed": false,
    "ExecuteTime": {
     "start_time": "2023-07-01T14:30:28.858853Z",
     "end_time": "2023-07-01T14:30:29.043807Z"
    }
   }
  },
  {
   "cell_type": "code",
   "execution_count": 24,
   "outputs": [],
   "source": [
    "# Xtest = Xtest.drop(index=[19646, 29632])\n",
    "# Ytest = Ytest.drop(index=[19646, 29632])\n",
    "# Xtest.shape"
   ],
   "metadata": {
    "collapsed": false,
    "ExecuteTime": {
     "start_time": "2023-07-01T14:30:28.874851Z",
     "end_time": "2023-07-01T14:30:29.043807Z"
    }
   }
  },
  {
   "cell_type": "code",
   "execution_count": 25,
   "outputs": [],
   "source": [
    "# #进行任何行删除之后，千万记得要恢复索引\n",
    "# for i in [Xtrain, Xtest, Ytrain, Ytest]:\n",
    "#     i.index = range(i.shape[0])"
   ],
   "metadata": {
    "collapsed": false,
    "ExecuteTime": {
     "start_time": "2023-07-01T14:30:28.891970Z",
     "end_time": "2023-07-01T14:30:29.044800Z"
    }
   }
  },
  {
   "cell_type": "code",
   "execution_count": 26,
   "outputs": [],
   "source": [
    "# Xtrain.head()"
   ],
   "metadata": {
    "collapsed": false,
    "ExecuteTime": {
     "start_time": "2023-07-01T14:30:28.906972Z",
     "end_time": "2023-07-01T14:30:29.136466Z"
    }
   }
  },
  {
   "cell_type": "code",
   "execution_count": 27,
   "outputs": [],
   "source": [
    "# Xtest.head()"
   ],
   "metadata": {
    "collapsed": false,
    "ExecuteTime": {
     "start_time": "2023-07-01T14:30:28.923973Z",
     "end_time": "2023-07-01T14:30:29.164838Z"
    }
   }
  },
  {
   "cell_type": "code",
   "execution_count": 28,
   "outputs": [],
   "source": [
    "Xtrainc = Xtrain.copy()"
   ],
   "metadata": {
    "collapsed": false,
    "ExecuteTime": {
     "start_time": "2023-07-01T14:30:28.939973Z",
     "end_time": "2023-07-01T14:30:29.164838Z"
    }
   }
  },
  {
   "cell_type": "code",
   "execution_count": 29,
   "outputs": [
    {
     "data": {
      "text/plain": "            Date  Location  MinTemp  MaxTemp  Rainfall  Evaporation  Sunshine  \\\n2796  2015-03-24  Adelaide     12.3     19.3       0.0          5.0       NaN   \n2975  2012-08-17  Adelaide      7.8     13.2      17.6          0.8       NaN   \n775   2013-03-16  Adelaide     17.4     23.8       NaN          NaN       9.7   \n861   2011-07-12  Adelaide      7.9     11.4       0.0          1.0       0.5   \n2906  2015-08-24  Adelaide      9.2     14.3       0.0          NaN       NaN   \n...          ...       ...      ...      ...       ...          ...       ...   \n2223  2009-05-08   Woomera      9.2     20.6       0.0          5.2      10.4   \n1984  2014-05-26   Woomera     15.5     23.6       0.0         24.0       NaN   \n1592  2012-01-10   Woomera     16.8     26.7       0.0         10.0       5.3   \n2824  2015-11-03   Woomera     16.2     28.5       7.8          4.2       4.5   \n1005  2010-05-14   Woomera      3.9     19.3       0.0          5.8      10.5   \n\n     WindGustDir  WindGustSpeed WindDir9am  ... WindSpeed9am  WindSpeed3pm  \\\n2796           S           39.0          S  ...         13.0          19.0   \n2975          SW           61.0         SW  ...         20.0          28.0   \n775          SSE           46.0          S  ...          9.0          19.0   \n861            N           20.0        NNE  ...          7.0           7.0   \n2906          SE           48.0         SE  ...         17.0          19.0   \n...          ...            ...        ...  ...          ...           ...   \n2223         ESE           37.0         SE  ...         19.0          19.0   \n1984         NNW           43.0        NNE  ...          9.0          26.0   \n1592          SW           46.0          S  ...         20.0          22.0   \n2824         WSW           80.0         NE  ...         26.0          50.0   \n1005          NE           33.0        ENE  ...         15.0          13.0   \n\n      Humidity9am  Humidity3pm  Pressure9am  Pressure3pm  Cloud9am  Cloud3pm  \\\n2796         59.0         47.0       1022.2       1021.4       NaN       NaN   \n2975         76.0         47.0       1012.5       1014.7       NaN       NaN   \n775          63.0         57.0       1019.9       1020.5       NaN       NaN   \n861          70.0         59.0       1028.7       1025.7       NaN       NaN   \n2906         64.0         42.0       1024.7       1024.1       NaN       NaN   \n...           ...          ...          ...          ...       ...       ...   \n2223         64.0         34.0       1030.5       1026.9       0.0       1.0   \n1984         49.0         37.0       1014.2       1010.3       7.0       7.0   \n1592         52.0         33.0       1019.1       1016.8       4.0       6.0   \n2824         76.0         53.0       1009.6       1006.8       6.0       7.0   \n1005         43.0         19.0       1020.2       1016.4       1.0       1.0   \n\n      Temp9am  Temp3pm  \n2796     15.1     17.7  \n2975      8.3     12.5  \n775      19.1     20.7  \n861       8.4     11.3  \n2906      9.9     13.4  \n...       ...      ...  \n2223     13.7     20.1  \n1984     18.0     21.5  \n1592     18.3     24.9  \n2824     20.5     26.2  \n1005     11.5     18.5  \n\n[3500 rows x 21 columns]",
      "text/html": "<div>\n<style scoped>\n    .dataframe tbody tr th:only-of-type {\n        vertical-align: middle;\n    }\n\n    .dataframe tbody tr th {\n        vertical-align: top;\n    }\n\n    .dataframe thead th {\n        text-align: right;\n    }\n</style>\n<table border=\"1\" class=\"dataframe\">\n  <thead>\n    <tr style=\"text-align: right;\">\n      <th></th>\n      <th>Date</th>\n      <th>Location</th>\n      <th>MinTemp</th>\n      <th>MaxTemp</th>\n      <th>Rainfall</th>\n      <th>Evaporation</th>\n      <th>Sunshine</th>\n      <th>WindGustDir</th>\n      <th>WindGustSpeed</th>\n      <th>WindDir9am</th>\n      <th>...</th>\n      <th>WindSpeed9am</th>\n      <th>WindSpeed3pm</th>\n      <th>Humidity9am</th>\n      <th>Humidity3pm</th>\n      <th>Pressure9am</th>\n      <th>Pressure3pm</th>\n      <th>Cloud9am</th>\n      <th>Cloud3pm</th>\n      <th>Temp9am</th>\n      <th>Temp3pm</th>\n    </tr>\n  </thead>\n  <tbody>\n    <tr>\n      <th>2796</th>\n      <td>2015-03-24</td>\n      <td>Adelaide</td>\n      <td>12.3</td>\n      <td>19.3</td>\n      <td>0.0</td>\n      <td>5.0</td>\n      <td>NaN</td>\n      <td>S</td>\n      <td>39.0</td>\n      <td>S</td>\n      <td>...</td>\n      <td>13.0</td>\n      <td>19.0</td>\n      <td>59.0</td>\n      <td>47.0</td>\n      <td>1022.2</td>\n      <td>1021.4</td>\n      <td>NaN</td>\n      <td>NaN</td>\n      <td>15.1</td>\n      <td>17.7</td>\n    </tr>\n    <tr>\n      <th>2975</th>\n      <td>2012-08-17</td>\n      <td>Adelaide</td>\n      <td>7.8</td>\n      <td>13.2</td>\n      <td>17.6</td>\n      <td>0.8</td>\n      <td>NaN</td>\n      <td>SW</td>\n      <td>61.0</td>\n      <td>SW</td>\n      <td>...</td>\n      <td>20.0</td>\n      <td>28.0</td>\n      <td>76.0</td>\n      <td>47.0</td>\n      <td>1012.5</td>\n      <td>1014.7</td>\n      <td>NaN</td>\n      <td>NaN</td>\n      <td>8.3</td>\n      <td>12.5</td>\n    </tr>\n    <tr>\n      <th>775</th>\n      <td>2013-03-16</td>\n      <td>Adelaide</td>\n      <td>17.4</td>\n      <td>23.8</td>\n      <td>NaN</td>\n      <td>NaN</td>\n      <td>9.7</td>\n      <td>SSE</td>\n      <td>46.0</td>\n      <td>S</td>\n      <td>...</td>\n      <td>9.0</td>\n      <td>19.0</td>\n      <td>63.0</td>\n      <td>57.0</td>\n      <td>1019.9</td>\n      <td>1020.5</td>\n      <td>NaN</td>\n      <td>NaN</td>\n      <td>19.1</td>\n      <td>20.7</td>\n    </tr>\n    <tr>\n      <th>861</th>\n      <td>2011-07-12</td>\n      <td>Adelaide</td>\n      <td>7.9</td>\n      <td>11.4</td>\n      <td>0.0</td>\n      <td>1.0</td>\n      <td>0.5</td>\n      <td>N</td>\n      <td>20.0</td>\n      <td>NNE</td>\n      <td>...</td>\n      <td>7.0</td>\n      <td>7.0</td>\n      <td>70.0</td>\n      <td>59.0</td>\n      <td>1028.7</td>\n      <td>1025.7</td>\n      <td>NaN</td>\n      <td>NaN</td>\n      <td>8.4</td>\n      <td>11.3</td>\n    </tr>\n    <tr>\n      <th>2906</th>\n      <td>2015-08-24</td>\n      <td>Adelaide</td>\n      <td>9.2</td>\n      <td>14.3</td>\n      <td>0.0</td>\n      <td>NaN</td>\n      <td>NaN</td>\n      <td>SE</td>\n      <td>48.0</td>\n      <td>SE</td>\n      <td>...</td>\n      <td>17.0</td>\n      <td>19.0</td>\n      <td>64.0</td>\n      <td>42.0</td>\n      <td>1024.7</td>\n      <td>1024.1</td>\n      <td>NaN</td>\n      <td>NaN</td>\n      <td>9.9</td>\n      <td>13.4</td>\n    </tr>\n    <tr>\n      <th>...</th>\n      <td>...</td>\n      <td>...</td>\n      <td>...</td>\n      <td>...</td>\n      <td>...</td>\n      <td>...</td>\n      <td>...</td>\n      <td>...</td>\n      <td>...</td>\n      <td>...</td>\n      <td>...</td>\n      <td>...</td>\n      <td>...</td>\n      <td>...</td>\n      <td>...</td>\n      <td>...</td>\n      <td>...</td>\n      <td>...</td>\n      <td>...</td>\n      <td>...</td>\n      <td>...</td>\n    </tr>\n    <tr>\n      <th>2223</th>\n      <td>2009-05-08</td>\n      <td>Woomera</td>\n      <td>9.2</td>\n      <td>20.6</td>\n      <td>0.0</td>\n      <td>5.2</td>\n      <td>10.4</td>\n      <td>ESE</td>\n      <td>37.0</td>\n      <td>SE</td>\n      <td>...</td>\n      <td>19.0</td>\n      <td>19.0</td>\n      <td>64.0</td>\n      <td>34.0</td>\n      <td>1030.5</td>\n      <td>1026.9</td>\n      <td>0.0</td>\n      <td>1.0</td>\n      <td>13.7</td>\n      <td>20.1</td>\n    </tr>\n    <tr>\n      <th>1984</th>\n      <td>2014-05-26</td>\n      <td>Woomera</td>\n      <td>15.5</td>\n      <td>23.6</td>\n      <td>0.0</td>\n      <td>24.0</td>\n      <td>NaN</td>\n      <td>NNW</td>\n      <td>43.0</td>\n      <td>NNE</td>\n      <td>...</td>\n      <td>9.0</td>\n      <td>26.0</td>\n      <td>49.0</td>\n      <td>37.0</td>\n      <td>1014.2</td>\n      <td>1010.3</td>\n      <td>7.0</td>\n      <td>7.0</td>\n      <td>18.0</td>\n      <td>21.5</td>\n    </tr>\n    <tr>\n      <th>1592</th>\n      <td>2012-01-10</td>\n      <td>Woomera</td>\n      <td>16.8</td>\n      <td>26.7</td>\n      <td>0.0</td>\n      <td>10.0</td>\n      <td>5.3</td>\n      <td>SW</td>\n      <td>46.0</td>\n      <td>S</td>\n      <td>...</td>\n      <td>20.0</td>\n      <td>22.0</td>\n      <td>52.0</td>\n      <td>33.0</td>\n      <td>1019.1</td>\n      <td>1016.8</td>\n      <td>4.0</td>\n      <td>6.0</td>\n      <td>18.3</td>\n      <td>24.9</td>\n    </tr>\n    <tr>\n      <th>2824</th>\n      <td>2015-11-03</td>\n      <td>Woomera</td>\n      <td>16.2</td>\n      <td>28.5</td>\n      <td>7.8</td>\n      <td>4.2</td>\n      <td>4.5</td>\n      <td>WSW</td>\n      <td>80.0</td>\n      <td>NE</td>\n      <td>...</td>\n      <td>26.0</td>\n      <td>50.0</td>\n      <td>76.0</td>\n      <td>53.0</td>\n      <td>1009.6</td>\n      <td>1006.8</td>\n      <td>6.0</td>\n      <td>7.0</td>\n      <td>20.5</td>\n      <td>26.2</td>\n    </tr>\n    <tr>\n      <th>1005</th>\n      <td>2010-05-14</td>\n      <td>Woomera</td>\n      <td>3.9</td>\n      <td>19.3</td>\n      <td>0.0</td>\n      <td>5.8</td>\n      <td>10.5</td>\n      <td>NE</td>\n      <td>33.0</td>\n      <td>ENE</td>\n      <td>...</td>\n      <td>15.0</td>\n      <td>13.0</td>\n      <td>43.0</td>\n      <td>19.0</td>\n      <td>1020.2</td>\n      <td>1016.4</td>\n      <td>1.0</td>\n      <td>1.0</td>\n      <td>11.5</td>\n      <td>18.5</td>\n    </tr>\n  </tbody>\n</table>\n<p>3500 rows × 21 columns</p>\n</div>"
     },
     "execution_count": 29,
     "metadata": {},
     "output_type": "execute_result"
    }
   ],
   "source": [
    "Xtrainc.sort_values(by=\"Location\")"
   ],
   "metadata": {
    "collapsed": false,
    "ExecuteTime": {
     "start_time": "2023-07-01T14:30:28.954973Z",
     "end_time": "2023-07-01T14:30:29.165841Z"
    }
   }
  },
  {
   "cell_type": "code",
   "execution_count": 30,
   "outputs": [
    {
     "data": {
      "text/plain": "2015-10-12    6\n2015-07-03    6\n2014-05-16    6\n2016-11-01    5\n2009-07-17    5\n             ..\n2012-05-20    1\n2016-08-26    1\n2011-02-02    1\n2012-08-05    1\n2013-01-13    1\nName: Date, Length: 2141, dtype: int64"
     },
     "execution_count": 30,
     "metadata": {},
     "output_type": "execute_result"
    }
   ],
   "source": [
    "Xtrain.iloc[:, 0].value_counts()\n",
    "#首先，日期不是独一无二的，日期有重复\n",
    "#其次，在我们分训练集和测试集之后，日期也不是连续的，而是分散的\n",
    "#某一年的某一天倾向于会下雨？或者倾向于不会下雨吗？\n",
    "#不是日期影响了下雨与否，反而更多的是这一天的日照时间，湿度，温度等等这些因素影响了是否会下雨\n",
    "#光看日期，其实感觉它对我们的判断并无直接影响\n",
    "#如果我们把它当作连续型变量处理，那算法会人为它是一系列1~3000左右的数字，不会意识到这是日期"
   ],
   "metadata": {
    "collapsed": false,
    "ExecuteTime": {
     "start_time": "2023-07-01T14:30:29.002972Z",
     "end_time": "2023-07-01T14:30:29.240090Z"
    }
   }
  },
  {
   "cell_type": "code",
   "execution_count": 31,
   "outputs": [
    {
     "data": {
      "text/plain": "2141"
     },
     "execution_count": 31,
     "metadata": {},
     "output_type": "execute_result"
    }
   ],
   "source": [
    "Xtrain.iloc[:, 0].value_counts().count()\n",
    "#如果我们把它当作分类型变量处理，类别太多，有2141类，如果换成数值型，会被直接当成连续型变量，如果做成哑变量，我们特征的维度会爆炸"
   ],
   "metadata": {
    "collapsed": false,
    "ExecuteTime": {
     "start_time": "2023-07-01T14:30:29.016142Z",
     "end_time": "2023-07-01T14:30:29.241094Z"
    }
   }
  },
  {
   "cell_type": "code",
   "execution_count": 32,
   "outputs": [
    {
     "data": {
      "text/plain": "0      0.0\n1      0.0\n2      0.0\n3      0.0\n4      0.0\n5      0.0\n6      0.0\n7      0.2\n8      0.0\n9      0.2\n10     1.0\n11     0.0\n12     0.2\n13     0.0\n14     0.0\n15     3.0\n16     0.2\n17     0.0\n18    35.2\n19     0.0\nName: Rainfall, dtype: float64"
     },
     "execution_count": 32,
     "metadata": {},
     "output_type": "execute_result"
    }
   ],
   "source": [
    "Xtrain[\"Rainfall\"].head(20)"
   ],
   "metadata": {
    "collapsed": false,
    "ExecuteTime": {
     "start_time": "2023-07-01T14:30:29.035790Z",
     "end_time": "2023-07-01T14:30:29.245088Z"
    }
   }
  },
  {
   "cell_type": "code",
   "execution_count": 33,
   "outputs": [
    {
     "data": {
      "text/plain": "33"
     },
     "execution_count": 33,
     "metadata": {},
     "output_type": "execute_result"
    }
   ],
   "source": [
    "Xtrain[\"Rainfall\"].isnull().sum()"
   ],
   "metadata": {
    "collapsed": false,
    "ExecuteTime": {
     "start_time": "2023-07-01T14:30:29.048802Z",
     "end_time": "2023-07-01T14:30:29.267095Z"
    }
   }
  },
  {
   "cell_type": "code",
   "execution_count": 34,
   "outputs": [],
   "source": [
    "Xtrain.loc[Xtrain[\"Rainfall\"] >= 1, \"RainToday\"] = \"Yes\"\n",
    "Xtrain.loc[Xtrain[\"Rainfall\"] < 1, \"RainToday\"] = \"No\"\n",
    "Xtrain.loc[Xtrain[\"Rainfall\"] == np.nan, \"RainToday\"] = np.nan"
   ],
   "metadata": {
    "collapsed": false,
    "ExecuteTime": {
     "start_time": "2023-07-01T14:30:29.063052Z",
     "end_time": "2023-07-01T14:30:29.308084Z"
    }
   }
  },
  {
   "cell_type": "code",
   "execution_count": 35,
   "outputs": [],
   "source": [
    "Xtest.loc[Xtest[\"Rainfall\"] >= 1, \"RainToday\"] = \"Yes\"\n",
    "Xtest.loc[Xtest[\"Rainfall\"] < 1, \"RainToday\"] = \"No\"\n",
    "Xtest.loc[Xtest[\"Rainfall\"] == np.nan, \"RainToday\"] = np.nan"
   ],
   "metadata": {
    "collapsed": false,
    "ExecuteTime": {
     "start_time": "2023-07-01T14:30:29.082054Z",
     "end_time": "2023-07-01T14:30:29.354237Z"
    }
   }
  },
  {
   "cell_type": "code",
   "execution_count": 36,
   "outputs": [
    {
     "data": {
      "text/plain": "         Date     Location  MinTemp  MaxTemp  Rainfall  Evaporation  Sunshine  \\\n0  2015-08-24    Katherine     17.5     36.0       0.0          8.8       NaN   \n1  2016-12-10  Tuggeranong      9.5     25.0       0.0          NaN       NaN   \n2  2010-04-18       Albany     13.0     22.6       0.0          3.8      10.4   \n3  2009-11-26         Sale     13.9     29.8       0.0          5.8       5.1   \n4  2014-04-25      Mildura      6.0     23.5       0.0          2.8       8.6   \n\n  WindGustDir  WindGustSpeed WindDir9am  ... WindSpeed3pm  Humidity9am  \\\n0         ESE           26.0        NNW  ...         15.0         57.0   \n1         NNW           33.0         NE  ...         17.0         59.0   \n2         NaN            NaN         NE  ...         31.0         79.0   \n3           S           37.0          N  ...         28.0         82.0   \n4         NNE           24.0          E  ...         15.0         58.0   \n\n   Humidity3pm  Pressure9am  Pressure3pm  Cloud9am  Cloud3pm  Temp9am  \\\n0          NaN       1016.8       1012.2       0.0       NaN     27.5   \n1         31.0       1020.4       1017.5       NaN       NaN     14.6   \n2         68.0       1020.3       1015.7       1.0       3.0     17.5   \n3         44.0       1012.5       1005.9       6.0       6.0     18.5   \n4         35.0       1019.8       1014.1       2.0       4.0     12.4   \n\n   Temp3pm  RainToday  \n0      NaN         No  \n1     23.6         No  \n2     20.8         No  \n3     27.5         No  \n4     22.4         No  \n\n[5 rows x 22 columns]",
      "text/html": "<div>\n<style scoped>\n    .dataframe tbody tr th:only-of-type {\n        vertical-align: middle;\n    }\n\n    .dataframe tbody tr th {\n        vertical-align: top;\n    }\n\n    .dataframe thead th {\n        text-align: right;\n    }\n</style>\n<table border=\"1\" class=\"dataframe\">\n  <thead>\n    <tr style=\"text-align: right;\">\n      <th></th>\n      <th>Date</th>\n      <th>Location</th>\n      <th>MinTemp</th>\n      <th>MaxTemp</th>\n      <th>Rainfall</th>\n      <th>Evaporation</th>\n      <th>Sunshine</th>\n      <th>WindGustDir</th>\n      <th>WindGustSpeed</th>\n      <th>WindDir9am</th>\n      <th>...</th>\n      <th>WindSpeed3pm</th>\n      <th>Humidity9am</th>\n      <th>Humidity3pm</th>\n      <th>Pressure9am</th>\n      <th>Pressure3pm</th>\n      <th>Cloud9am</th>\n      <th>Cloud3pm</th>\n      <th>Temp9am</th>\n      <th>Temp3pm</th>\n      <th>RainToday</th>\n    </tr>\n  </thead>\n  <tbody>\n    <tr>\n      <th>0</th>\n      <td>2015-08-24</td>\n      <td>Katherine</td>\n      <td>17.5</td>\n      <td>36.0</td>\n      <td>0.0</td>\n      <td>8.8</td>\n      <td>NaN</td>\n      <td>ESE</td>\n      <td>26.0</td>\n      <td>NNW</td>\n      <td>...</td>\n      <td>15.0</td>\n      <td>57.0</td>\n      <td>NaN</td>\n      <td>1016.8</td>\n      <td>1012.2</td>\n      <td>0.0</td>\n      <td>NaN</td>\n      <td>27.5</td>\n      <td>NaN</td>\n      <td>No</td>\n    </tr>\n    <tr>\n      <th>1</th>\n      <td>2016-12-10</td>\n      <td>Tuggeranong</td>\n      <td>9.5</td>\n      <td>25.0</td>\n      <td>0.0</td>\n      <td>NaN</td>\n      <td>NaN</td>\n      <td>NNW</td>\n      <td>33.0</td>\n      <td>NE</td>\n      <td>...</td>\n      <td>17.0</td>\n      <td>59.0</td>\n      <td>31.0</td>\n      <td>1020.4</td>\n      <td>1017.5</td>\n      <td>NaN</td>\n      <td>NaN</td>\n      <td>14.6</td>\n      <td>23.6</td>\n      <td>No</td>\n    </tr>\n    <tr>\n      <th>2</th>\n      <td>2010-04-18</td>\n      <td>Albany</td>\n      <td>13.0</td>\n      <td>22.6</td>\n      <td>0.0</td>\n      <td>3.8</td>\n      <td>10.4</td>\n      <td>NaN</td>\n      <td>NaN</td>\n      <td>NE</td>\n      <td>...</td>\n      <td>31.0</td>\n      <td>79.0</td>\n      <td>68.0</td>\n      <td>1020.3</td>\n      <td>1015.7</td>\n      <td>1.0</td>\n      <td>3.0</td>\n      <td>17.5</td>\n      <td>20.8</td>\n      <td>No</td>\n    </tr>\n    <tr>\n      <th>3</th>\n      <td>2009-11-26</td>\n      <td>Sale</td>\n      <td>13.9</td>\n      <td>29.8</td>\n      <td>0.0</td>\n      <td>5.8</td>\n      <td>5.1</td>\n      <td>S</td>\n      <td>37.0</td>\n      <td>N</td>\n      <td>...</td>\n      <td>28.0</td>\n      <td>82.0</td>\n      <td>44.0</td>\n      <td>1012.5</td>\n      <td>1005.9</td>\n      <td>6.0</td>\n      <td>6.0</td>\n      <td>18.5</td>\n      <td>27.5</td>\n      <td>No</td>\n    </tr>\n    <tr>\n      <th>4</th>\n      <td>2014-04-25</td>\n      <td>Mildura</td>\n      <td>6.0</td>\n      <td>23.5</td>\n      <td>0.0</td>\n      <td>2.8</td>\n      <td>8.6</td>\n      <td>NNE</td>\n      <td>24.0</td>\n      <td>E</td>\n      <td>...</td>\n      <td>15.0</td>\n      <td>58.0</td>\n      <td>35.0</td>\n      <td>1019.8</td>\n      <td>1014.1</td>\n      <td>2.0</td>\n      <td>4.0</td>\n      <td>12.4</td>\n      <td>22.4</td>\n      <td>No</td>\n    </tr>\n  </tbody>\n</table>\n<p>5 rows × 22 columns</p>\n</div>"
     },
     "execution_count": 36,
     "metadata": {},
     "output_type": "execute_result"
    }
   ],
   "source": [
    "Xtrain.head()"
   ],
   "metadata": {
    "collapsed": false,
    "ExecuteTime": {
     "start_time": "2023-07-01T14:30:29.117949Z",
     "end_time": "2023-07-01T14:30:29.393302Z"
    }
   }
  },
  {
   "cell_type": "code",
   "execution_count": 37,
   "outputs": [
    {
     "data": {
      "text/plain": "8"
     },
     "execution_count": 37,
     "metadata": {},
     "output_type": "execute_result"
    }
   ],
   "source": [
    "int(Xtrain.loc[0, \"Date\"].split(\"-\")[1])  #提取出月份"
   ],
   "metadata": {
    "collapsed": false,
    "ExecuteTime": {
     "start_time": "2023-07-01T14:30:29.124961Z",
     "end_time": "2023-07-01T14:30:29.394299Z"
    }
   }
  },
  {
   "cell_type": "code",
   "execution_count": 38,
   "outputs": [],
   "source": [
    "Xtrain[\"Date\"] = Xtrain[\"Date\"].apply(lambda x: int(x.split(\"-\")[1]))"
   ],
   "metadata": {
    "collapsed": false,
    "ExecuteTime": {
     "start_time": "2023-07-01T14:30:29.141470Z",
     "end_time": "2023-07-01T14:30:29.447809Z"
    }
   }
  },
  {
   "cell_type": "code",
   "execution_count": 39,
   "outputs": [],
   "source": [
    "#替换完毕后，我们需要修改列的名称\n",
    "#rename是比较少有的，可以用来修改单个列名的函数\n",
    "#我们通常都直接使用 df.columns = 某个列表 这样的形式来一次修改所有的列名\n",
    "#但rename允许我们只修改某个单独的列\n",
    "Xtrain = Xtrain.rename(columns={\"Date\": \"Month\"})"
   ],
   "metadata": {
    "collapsed": false,
    "ExecuteTime": {
     "start_time": "2023-07-01T14:30:29.159845Z",
     "end_time": "2023-07-01T14:30:29.447809Z"
    }
   }
  },
  {
   "cell_type": "code",
   "execution_count": 40,
   "outputs": [
    {
     "data": {
      "text/plain": "   Month     Location  MinTemp  MaxTemp  Rainfall  Evaporation  Sunshine  \\\n0      8    Katherine     17.5     36.0       0.0          8.8       NaN   \n1     12  Tuggeranong      9.5     25.0       0.0          NaN       NaN   \n2      4       Albany     13.0     22.6       0.0          3.8      10.4   \n3     11         Sale     13.9     29.8       0.0          5.8       5.1   \n4      4      Mildura      6.0     23.5       0.0          2.8       8.6   \n\n  WindGustDir  WindGustSpeed WindDir9am  ... WindSpeed3pm  Humidity9am  \\\n0         ESE           26.0        NNW  ...         15.0         57.0   \n1         NNW           33.0         NE  ...         17.0         59.0   \n2         NaN            NaN         NE  ...         31.0         79.0   \n3           S           37.0          N  ...         28.0         82.0   \n4         NNE           24.0          E  ...         15.0         58.0   \n\n   Humidity3pm  Pressure9am  Pressure3pm  Cloud9am  Cloud3pm  Temp9am  \\\n0          NaN       1016.8       1012.2       0.0       NaN     27.5   \n1         31.0       1020.4       1017.5       NaN       NaN     14.6   \n2         68.0       1020.3       1015.7       1.0       3.0     17.5   \n3         44.0       1012.5       1005.9       6.0       6.0     18.5   \n4         35.0       1019.8       1014.1       2.0       4.0     12.4   \n\n   Temp3pm  RainToday  \n0      NaN         No  \n1     23.6         No  \n2     20.8         No  \n3     27.5         No  \n4     22.4         No  \n\n[5 rows x 22 columns]",
      "text/html": "<div>\n<style scoped>\n    .dataframe tbody tr th:only-of-type {\n        vertical-align: middle;\n    }\n\n    .dataframe tbody tr th {\n        vertical-align: top;\n    }\n\n    .dataframe thead th {\n        text-align: right;\n    }\n</style>\n<table border=\"1\" class=\"dataframe\">\n  <thead>\n    <tr style=\"text-align: right;\">\n      <th></th>\n      <th>Month</th>\n      <th>Location</th>\n      <th>MinTemp</th>\n      <th>MaxTemp</th>\n      <th>Rainfall</th>\n      <th>Evaporation</th>\n      <th>Sunshine</th>\n      <th>WindGustDir</th>\n      <th>WindGustSpeed</th>\n      <th>WindDir9am</th>\n      <th>...</th>\n      <th>WindSpeed3pm</th>\n      <th>Humidity9am</th>\n      <th>Humidity3pm</th>\n      <th>Pressure9am</th>\n      <th>Pressure3pm</th>\n      <th>Cloud9am</th>\n      <th>Cloud3pm</th>\n      <th>Temp9am</th>\n      <th>Temp3pm</th>\n      <th>RainToday</th>\n    </tr>\n  </thead>\n  <tbody>\n    <tr>\n      <th>0</th>\n      <td>8</td>\n      <td>Katherine</td>\n      <td>17.5</td>\n      <td>36.0</td>\n      <td>0.0</td>\n      <td>8.8</td>\n      <td>NaN</td>\n      <td>ESE</td>\n      <td>26.0</td>\n      <td>NNW</td>\n      <td>...</td>\n      <td>15.0</td>\n      <td>57.0</td>\n      <td>NaN</td>\n      <td>1016.8</td>\n      <td>1012.2</td>\n      <td>0.0</td>\n      <td>NaN</td>\n      <td>27.5</td>\n      <td>NaN</td>\n      <td>No</td>\n    </tr>\n    <tr>\n      <th>1</th>\n      <td>12</td>\n      <td>Tuggeranong</td>\n      <td>9.5</td>\n      <td>25.0</td>\n      <td>0.0</td>\n      <td>NaN</td>\n      <td>NaN</td>\n      <td>NNW</td>\n      <td>33.0</td>\n      <td>NE</td>\n      <td>...</td>\n      <td>17.0</td>\n      <td>59.0</td>\n      <td>31.0</td>\n      <td>1020.4</td>\n      <td>1017.5</td>\n      <td>NaN</td>\n      <td>NaN</td>\n      <td>14.6</td>\n      <td>23.6</td>\n      <td>No</td>\n    </tr>\n    <tr>\n      <th>2</th>\n      <td>4</td>\n      <td>Albany</td>\n      <td>13.0</td>\n      <td>22.6</td>\n      <td>0.0</td>\n      <td>3.8</td>\n      <td>10.4</td>\n      <td>NaN</td>\n      <td>NaN</td>\n      <td>NE</td>\n      <td>...</td>\n      <td>31.0</td>\n      <td>79.0</td>\n      <td>68.0</td>\n      <td>1020.3</td>\n      <td>1015.7</td>\n      <td>1.0</td>\n      <td>3.0</td>\n      <td>17.5</td>\n      <td>20.8</td>\n      <td>No</td>\n    </tr>\n    <tr>\n      <th>3</th>\n      <td>11</td>\n      <td>Sale</td>\n      <td>13.9</td>\n      <td>29.8</td>\n      <td>0.0</td>\n      <td>5.8</td>\n      <td>5.1</td>\n      <td>S</td>\n      <td>37.0</td>\n      <td>N</td>\n      <td>...</td>\n      <td>28.0</td>\n      <td>82.0</td>\n      <td>44.0</td>\n      <td>1012.5</td>\n      <td>1005.9</td>\n      <td>6.0</td>\n      <td>6.0</td>\n      <td>18.5</td>\n      <td>27.5</td>\n      <td>No</td>\n    </tr>\n    <tr>\n      <th>4</th>\n      <td>4</td>\n      <td>Mildura</td>\n      <td>6.0</td>\n      <td>23.5</td>\n      <td>0.0</td>\n      <td>2.8</td>\n      <td>8.6</td>\n      <td>NNE</td>\n      <td>24.0</td>\n      <td>E</td>\n      <td>...</td>\n      <td>15.0</td>\n      <td>58.0</td>\n      <td>35.0</td>\n      <td>1019.8</td>\n      <td>1014.1</td>\n      <td>2.0</td>\n      <td>4.0</td>\n      <td>12.4</td>\n      <td>22.4</td>\n      <td>No</td>\n    </tr>\n  </tbody>\n</table>\n<p>5 rows × 22 columns</p>\n</div>"
     },
     "execution_count": 40,
     "metadata": {},
     "output_type": "execute_result"
    }
   ],
   "source": [
    "Xtrain.head()"
   ],
   "metadata": {
    "collapsed": false,
    "ExecuteTime": {
     "start_time": "2023-07-01T14:30:29.171834Z",
     "end_time": "2023-07-01T14:30:29.449810Z"
    }
   }
  },
  {
   "cell_type": "code",
   "execution_count": 41,
   "outputs": [],
   "source": [
    "Xtest[\"Date\"] = Xtest[\"Date\"].apply(lambda x: int(x.split(\"-\")[1]))\n",
    "Xtest = Xtest.rename(columns={\"Date\": \"Month\"})"
   ],
   "metadata": {
    "collapsed": false,
    "ExecuteTime": {
     "start_time": "2023-07-01T14:30:29.210351Z",
     "end_time": "2023-07-01T14:30:29.495907Z"
    }
   }
  },
  {
   "cell_type": "code",
   "execution_count": 42,
   "outputs": [
    {
     "data": {
      "text/plain": "   Month      Location  MinTemp  MaxTemp  Rainfall  Evaporation  Sunshine  \\\n0      1     NorahHead     22.0     27.8      25.2          NaN       NaN   \n1      3  MountGambier     12.0     18.6       2.2          3.0       7.8   \n2      3   MountGinini      9.1     13.3       NaN          NaN       NaN   \n3     10    Wollongong     13.1     20.3       0.0          NaN       NaN   \n4     11          Sale     12.2     20.0       0.4          NaN       NaN   \n\n  WindGustDir  WindGustSpeed WindDir9am  ... WindSpeed3pm  Humidity9am  \\\n0         SSW           57.0          S  ...         37.0         91.0   \n1          SW           52.0         SW  ...         28.0         88.0   \n2          NE           41.0        NaN  ...          NaN          NaN   \n3          SW           33.0          W  ...         24.0         40.0   \n4           E           33.0         SW  ...         19.0         92.0   \n\n   Humidity3pm  Pressure9am  Pressure3pm  Cloud9am  Cloud3pm  Temp9am  \\\n0         86.0       1006.6       1008.1       NaN       NaN     26.2   \n1         62.0       1020.2       1019.9       8.0       7.0     14.8   \n2          NaN          NaN          NaN       NaN       NaN      NaN   \n3         51.0       1021.3       1019.5       NaN       NaN     16.8   \n4         69.0       1015.6       1013.2       8.0       4.0     13.6   \n\n   Temp3pm  RainToday  \n0     23.1        Yes  \n1     17.5        Yes  \n2      NaN        NaN  \n3     19.6         No  \n4     19.0         No  \n\n[5 rows x 22 columns]",
      "text/html": "<div>\n<style scoped>\n    .dataframe tbody tr th:only-of-type {\n        vertical-align: middle;\n    }\n\n    .dataframe tbody tr th {\n        vertical-align: top;\n    }\n\n    .dataframe thead th {\n        text-align: right;\n    }\n</style>\n<table border=\"1\" class=\"dataframe\">\n  <thead>\n    <tr style=\"text-align: right;\">\n      <th></th>\n      <th>Month</th>\n      <th>Location</th>\n      <th>MinTemp</th>\n      <th>MaxTemp</th>\n      <th>Rainfall</th>\n      <th>Evaporation</th>\n      <th>Sunshine</th>\n      <th>WindGustDir</th>\n      <th>WindGustSpeed</th>\n      <th>WindDir9am</th>\n      <th>...</th>\n      <th>WindSpeed3pm</th>\n      <th>Humidity9am</th>\n      <th>Humidity3pm</th>\n      <th>Pressure9am</th>\n      <th>Pressure3pm</th>\n      <th>Cloud9am</th>\n      <th>Cloud3pm</th>\n      <th>Temp9am</th>\n      <th>Temp3pm</th>\n      <th>RainToday</th>\n    </tr>\n  </thead>\n  <tbody>\n    <tr>\n      <th>0</th>\n      <td>1</td>\n      <td>NorahHead</td>\n      <td>22.0</td>\n      <td>27.8</td>\n      <td>25.2</td>\n      <td>NaN</td>\n      <td>NaN</td>\n      <td>SSW</td>\n      <td>57.0</td>\n      <td>S</td>\n      <td>...</td>\n      <td>37.0</td>\n      <td>91.0</td>\n      <td>86.0</td>\n      <td>1006.6</td>\n      <td>1008.1</td>\n      <td>NaN</td>\n      <td>NaN</td>\n      <td>26.2</td>\n      <td>23.1</td>\n      <td>Yes</td>\n    </tr>\n    <tr>\n      <th>1</th>\n      <td>3</td>\n      <td>MountGambier</td>\n      <td>12.0</td>\n      <td>18.6</td>\n      <td>2.2</td>\n      <td>3.0</td>\n      <td>7.8</td>\n      <td>SW</td>\n      <td>52.0</td>\n      <td>SW</td>\n      <td>...</td>\n      <td>28.0</td>\n      <td>88.0</td>\n      <td>62.0</td>\n      <td>1020.2</td>\n      <td>1019.9</td>\n      <td>8.0</td>\n      <td>7.0</td>\n      <td>14.8</td>\n      <td>17.5</td>\n      <td>Yes</td>\n    </tr>\n    <tr>\n      <th>2</th>\n      <td>3</td>\n      <td>MountGinini</td>\n      <td>9.1</td>\n      <td>13.3</td>\n      <td>NaN</td>\n      <td>NaN</td>\n      <td>NaN</td>\n      <td>NE</td>\n      <td>41.0</td>\n      <td>NaN</td>\n      <td>...</td>\n      <td>NaN</td>\n      <td>NaN</td>\n      <td>NaN</td>\n      <td>NaN</td>\n      <td>NaN</td>\n      <td>NaN</td>\n      <td>NaN</td>\n      <td>NaN</td>\n      <td>NaN</td>\n      <td>NaN</td>\n    </tr>\n    <tr>\n      <th>3</th>\n      <td>10</td>\n      <td>Wollongong</td>\n      <td>13.1</td>\n      <td>20.3</td>\n      <td>0.0</td>\n      <td>NaN</td>\n      <td>NaN</td>\n      <td>SW</td>\n      <td>33.0</td>\n      <td>W</td>\n      <td>...</td>\n      <td>24.0</td>\n      <td>40.0</td>\n      <td>51.0</td>\n      <td>1021.3</td>\n      <td>1019.5</td>\n      <td>NaN</td>\n      <td>NaN</td>\n      <td>16.8</td>\n      <td>19.6</td>\n      <td>No</td>\n    </tr>\n    <tr>\n      <th>4</th>\n      <td>11</td>\n      <td>Sale</td>\n      <td>12.2</td>\n      <td>20.0</td>\n      <td>0.4</td>\n      <td>NaN</td>\n      <td>NaN</td>\n      <td>E</td>\n      <td>33.0</td>\n      <td>SW</td>\n      <td>...</td>\n      <td>19.0</td>\n      <td>92.0</td>\n      <td>69.0</td>\n      <td>1015.6</td>\n      <td>1013.2</td>\n      <td>8.0</td>\n      <td>4.0</td>\n      <td>13.6</td>\n      <td>19.0</td>\n      <td>No</td>\n    </tr>\n  </tbody>\n</table>\n<p>5 rows × 22 columns</p>\n</div>"
     },
     "execution_count": 42,
     "metadata": {},
     "output_type": "execute_result"
    }
   ],
   "source": [
    "Xtest.head()"
   ],
   "metadata": {
    "collapsed": false,
    "ExecuteTime": {
     "start_time": "2023-07-01T14:30:29.234671Z",
     "end_time": "2023-07-01T14:30:29.637953Z"
    }
   }
  },
  {
   "cell_type": "code",
   "execution_count": 43,
   "outputs": [],
   "source": [
    "cityll = pd.read_csv(r\"D:\\python\\code5\\AIlearning\\sklearn\\SVM支持向量机\\cityll.csv\", index_col=0)\n",
    "city_climate = pd.read_csv(r\"D:\\python\\code5\\AIlearning\\sklearn\\SVM支持向量机\\Cityclimate.csv\")"
   ],
   "metadata": {
    "collapsed": false,
    "ExecuteTime": {
     "start_time": "2023-07-01T14:30:29.283084Z",
     "end_time": "2023-07-01T14:30:29.646939Z"
    }
   }
  },
  {
   "cell_type": "code",
   "execution_count": 44,
   "outputs": [
    {
     "data": {
      "text/plain": "           City  Latitude  Longitude Latitudedir Longitudedir\n0      Adelaide  34.9285°  138.6007°          S,            E\n1        Albany  35.0275°  117.8840°          S,            E\n2        Albury  36.0737°  146.9135°          S,            E\n3       Wodonga  36.1241°  146.8818°          S,            E\n4  AliceSprings  23.6980°  133.8807°          S,            E",
      "text/html": "<div>\n<style scoped>\n    .dataframe tbody tr th:only-of-type {\n        vertical-align: middle;\n    }\n\n    .dataframe tbody tr th {\n        vertical-align: top;\n    }\n\n    .dataframe thead th {\n        text-align: right;\n    }\n</style>\n<table border=\"1\" class=\"dataframe\">\n  <thead>\n    <tr style=\"text-align: right;\">\n      <th></th>\n      <th>City</th>\n      <th>Latitude</th>\n      <th>Longitude</th>\n      <th>Latitudedir</th>\n      <th>Longitudedir</th>\n    </tr>\n  </thead>\n  <tbody>\n    <tr>\n      <th>0</th>\n      <td>Adelaide</td>\n      <td>34.9285°</td>\n      <td>138.6007°</td>\n      <td>S,</td>\n      <td>E</td>\n    </tr>\n    <tr>\n      <th>1</th>\n      <td>Albany</td>\n      <td>35.0275°</td>\n      <td>117.8840°</td>\n      <td>S,</td>\n      <td>E</td>\n    </tr>\n    <tr>\n      <th>2</th>\n      <td>Albury</td>\n      <td>36.0737°</td>\n      <td>146.9135°</td>\n      <td>S,</td>\n      <td>E</td>\n    </tr>\n    <tr>\n      <th>3</th>\n      <td>Wodonga</td>\n      <td>36.1241°</td>\n      <td>146.8818°</td>\n      <td>S,</td>\n      <td>E</td>\n    </tr>\n    <tr>\n      <th>4</th>\n      <td>AliceSprings</td>\n      <td>23.6980°</td>\n      <td>133.8807°</td>\n      <td>S,</td>\n      <td>E</td>\n    </tr>\n  </tbody>\n</table>\n</div>"
     },
     "execution_count": 44,
     "metadata": {},
     "output_type": "execute_result"
    }
   ],
   "source": [
    "cityll.head()"
   ],
   "metadata": {
    "collapsed": false,
    "ExecuteTime": {
     "start_time": "2023-07-01T14:30:29.313083Z",
     "end_time": "2023-07-01T14:30:29.646939Z"
    }
   }
  },
  {
   "cell_type": "code",
   "execution_count": 45,
   "outputs": [
    {
     "data": {
      "text/plain": "           City                      Climate\n0      Adelaide            Warm temperate   \n1        Albany            Mild temperate   \n2        Albury  Hot dry summer, cool winter\n3       Wodonga  Hot dry summer, cool winter\n4  AliceSprings  Hot dry summer, warm winter",
      "text/html": "<div>\n<style scoped>\n    .dataframe tbody tr th:only-of-type {\n        vertical-align: middle;\n    }\n\n    .dataframe tbody tr th {\n        vertical-align: top;\n    }\n\n    .dataframe thead th {\n        text-align: right;\n    }\n</style>\n<table border=\"1\" class=\"dataframe\">\n  <thead>\n    <tr style=\"text-align: right;\">\n      <th></th>\n      <th>City</th>\n      <th>Climate</th>\n    </tr>\n  </thead>\n  <tbody>\n    <tr>\n      <th>0</th>\n      <td>Adelaide</td>\n      <td>Warm temperate</td>\n    </tr>\n    <tr>\n      <th>1</th>\n      <td>Albany</td>\n      <td>Mild temperate</td>\n    </tr>\n    <tr>\n      <th>2</th>\n      <td>Albury</td>\n      <td>Hot dry summer, cool winter</td>\n    </tr>\n    <tr>\n      <th>3</th>\n      <td>Wodonga</td>\n      <td>Hot dry summer, cool winter</td>\n    </tr>\n    <tr>\n      <th>4</th>\n      <td>AliceSprings</td>\n      <td>Hot dry summer, warm winter</td>\n    </tr>\n  </tbody>\n</table>\n</div>"
     },
     "execution_count": 45,
     "metadata": {},
     "output_type": "execute_result"
    }
   ],
   "source": [
    "city_climate.head()"
   ],
   "metadata": {
    "collapsed": false,
    "ExecuteTime": {
     "start_time": "2023-07-01T14:30:29.336233Z",
     "end_time": "2023-07-01T14:30:29.647865Z"
    }
   }
  },
  {
   "cell_type": "code",
   "execution_count": 46,
   "outputs": [],
   "source": [
    "#去掉度数符号\n",
    "cityll[\"Latitudenum\"] = cityll[\"Latitude\"].apply(lambda x: float(x[:-1]))\n",
    "cityll[\"Longitudenum\"] = cityll[\"Longitude\"].apply(lambda x: float(x[:-1]))"
   ],
   "metadata": {
    "collapsed": false,
    "ExecuteTime": {
     "start_time": "2023-07-01T14:30:29.346235Z",
     "end_time": "2023-07-01T14:30:29.647865Z"
    }
   }
  },
  {
   "cell_type": "code",
   "execution_count": 47,
   "outputs": [],
   "source": [
    "#观察一下所有的经纬度方向都是一致的，全部是南纬，东经，因为澳大利亚在南半球，东半球\n",
    "#所以经纬度的方向我们可以舍弃了\n",
    "citylld = cityll.iloc[:, [0, 5, 6]]"
   ],
   "metadata": {
    "collapsed": false,
    "ExecuteTime": {
     "start_time": "2023-07-01T14:30:29.362254Z",
     "end_time": "2023-07-01T14:30:29.647865Z"
    }
   }
  },
  {
   "cell_type": "code",
   "execution_count": 48,
   "outputs": [
    {
     "name": "stderr",
     "output_type": "stream",
     "text": [
      "C:\\Users\\25338\\AppData\\Local\\Temp\\ipykernel_4812\\3468038776.py:2: SettingWithCopyWarning: \n",
      "A value is trying to be set on a copy of a slice from a DataFrame.\n",
      "Try using .loc[row_indexer,col_indexer] = value instead\n",
      "\n",
      "See the caveats in the documentation: https://pandas.pydata.org/pandas-docs/stable/user_guide/indexing.html#returning-a-view-versus-a-copy\n",
      "  citylld[\"climate\"] = city_climate.iloc[:, -1]\n"
     ]
    }
   ],
   "source": [
    "#将city_climate中的气候添加到我们的citylld中\n",
    "citylld[\"climate\"] = city_climate.iloc[:, -1]"
   ],
   "metadata": {
    "collapsed": false,
    "ExecuteTime": {
     "start_time": "2023-07-01T14:30:29.379304Z",
     "end_time": "2023-07-01T14:30:29.647865Z"
    }
   }
  },
  {
   "cell_type": "code",
   "execution_count": 49,
   "outputs": [
    {
     "data": {
      "text/plain": "           City  Latitudenum  Longitudenum                      climate\n0      Adelaide      34.9285      138.6007            Warm temperate   \n1        Albany      35.0275      117.8840            Mild temperate   \n2        Albury      36.0737      146.9135  Hot dry summer, cool winter\n3       Wodonga      36.1241      146.8818  Hot dry summer, cool winter\n4  AliceSprings      23.6980      133.8807  Hot dry summer, warm winter",
      "text/html": "<div>\n<style scoped>\n    .dataframe tbody tr th:only-of-type {\n        vertical-align: middle;\n    }\n\n    .dataframe tbody tr th {\n        vertical-align: top;\n    }\n\n    .dataframe thead th {\n        text-align: right;\n    }\n</style>\n<table border=\"1\" class=\"dataframe\">\n  <thead>\n    <tr style=\"text-align: right;\">\n      <th></th>\n      <th>City</th>\n      <th>Latitudenum</th>\n      <th>Longitudenum</th>\n      <th>climate</th>\n    </tr>\n  </thead>\n  <tbody>\n    <tr>\n      <th>0</th>\n      <td>Adelaide</td>\n      <td>34.9285</td>\n      <td>138.6007</td>\n      <td>Warm temperate</td>\n    </tr>\n    <tr>\n      <th>1</th>\n      <td>Albany</td>\n      <td>35.0275</td>\n      <td>117.8840</td>\n      <td>Mild temperate</td>\n    </tr>\n    <tr>\n      <th>2</th>\n      <td>Albury</td>\n      <td>36.0737</td>\n      <td>146.9135</td>\n      <td>Hot dry summer, cool winter</td>\n    </tr>\n    <tr>\n      <th>3</th>\n      <td>Wodonga</td>\n      <td>36.1241</td>\n      <td>146.8818</td>\n      <td>Hot dry summer, cool winter</td>\n    </tr>\n    <tr>\n      <th>4</th>\n      <td>AliceSprings</td>\n      <td>23.6980</td>\n      <td>133.8807</td>\n      <td>Hot dry summer, warm winter</td>\n    </tr>\n  </tbody>\n</table>\n</div>"
     },
     "execution_count": 49,
     "metadata": {},
     "output_type": "execute_result"
    }
   ],
   "source": [
    "citylld.head()"
   ],
   "metadata": {
    "collapsed": false,
    "ExecuteTime": {
     "start_time": "2023-07-01T14:30:29.400812Z",
     "end_time": "2023-07-01T14:30:29.660901Z"
    }
   }
  },
  {
   "cell_type": "code",
   "execution_count": 50,
   "outputs": [
    {
     "data": {
      "text/plain": "       City  Latitudenum  Longitudenum\n0  Canberra      35.2809      149.1300\n1    Sydney      33.8688      151.2093\n2     Perth      31.9505      115.8605\n3    Darwin      12.4634      130.8456\n4    Hobart      42.8821      147.3272",
      "text/html": "<div>\n<style scoped>\n    .dataframe tbody tr th:only-of-type {\n        vertical-align: middle;\n    }\n\n    .dataframe tbody tr th {\n        vertical-align: top;\n    }\n\n    .dataframe thead th {\n        text-align: right;\n    }\n</style>\n<table border=\"1\" class=\"dataframe\">\n  <thead>\n    <tr style=\"text-align: right;\">\n      <th></th>\n      <th>City</th>\n      <th>Latitudenum</th>\n      <th>Longitudenum</th>\n    </tr>\n  </thead>\n  <tbody>\n    <tr>\n      <th>0</th>\n      <td>Canberra</td>\n      <td>35.2809</td>\n      <td>149.1300</td>\n    </tr>\n    <tr>\n      <th>1</th>\n      <td>Sydney</td>\n      <td>33.8688</td>\n      <td>151.2093</td>\n    </tr>\n    <tr>\n      <th>2</th>\n      <td>Perth</td>\n      <td>31.9505</td>\n      <td>115.8605</td>\n    </tr>\n    <tr>\n      <th>3</th>\n      <td>Darwin</td>\n      <td>12.4634</td>\n      <td>130.8456</td>\n    </tr>\n    <tr>\n      <th>4</th>\n      <td>Hobart</td>\n      <td>42.8821</td>\n      <td>147.3272</td>\n    </tr>\n  </tbody>\n</table>\n</div>"
     },
     "execution_count": 50,
     "metadata": {},
     "output_type": "execute_result"
    }
   ],
   "source": [
    "samplecity = pd.read_csv(r\"D:\\python\\code5\\AIlearning\\sklearn\\SVM支持向量机\\samplecity.csv\", index_col=0)\n",
    "#我们对samplecity也执行同样的处理：去掉经纬度中度数的符号，并且舍弃我们的经纬度的方向\n",
    "samplecity[\"Latitudenum\"] = samplecity[\"Latitude\"].apply(lambda x: float(x[:-1]))\n",
    "samplecity[\"Longitudenum\"] = samplecity[\"Longitude\"].apply(lambda x: float(x[:-1]))\n",
    "samplecityd = samplecity.iloc[:, [0, 5, 6]]\n",
    "samplecityd.head()"
   ],
   "metadata": {
    "collapsed": false,
    "ExecuteTime": {
     "start_time": "2023-07-01T14:34:02.412898Z",
     "end_time": "2023-07-01T14:34:02.460356Z"
    }
   }
  },
  {
   "cell_type": "code",
   "execution_count": 51,
   "outputs": [
    {
     "name": "stderr",
     "output_type": "stream",
     "text": [
      "D:\\IDE\\Anaconda\\A\\envs\\dproject\\lib\\site-packages\\pandas\\core\\indexing.py:1597: SettingWithCopyWarning: \n",
      "A value is trying to be set on a copy of a slice from a DataFrame.\n",
      "Try using .loc[row_indexer,col_indexer] = value instead\n",
      "\n",
      "See the caveats in the documentation: https://pandas.pydata.org/pandas-docs/stable/user_guide/indexing.html#returning-a-view-versus-a-copy\n",
      "  self.obj[key] = value\n",
      "D:\\IDE\\Anaconda\\A\\envs\\dproject\\lib\\site-packages\\pandas\\core\\indexing.py:1676: SettingWithCopyWarning: \n",
      "A value is trying to be set on a copy of a slice from a DataFrame.\n",
      "Try using .loc[row_indexer,col_indexer] = value instead\n",
      "\n",
      "See the caveats in the documentation: https://pandas.pydata.org/pandas-docs/stable/user_guide/indexing.html#returning-a-view-versus-a-copy\n",
      "  self._setitem_single_column(ilocs[0], value, pi)\n"
     ]
    }
   ],
   "source": [
    "from math import radians, sin, cos, acos\n",
    "\n",
    "citylld.loc[:, \"slat\"] = citylld.iloc[:, 1].apply(lambda x: radians(x))\n",
    "citylld.loc[:, \"slon\"] = citylld.iloc[:, 2].apply(lambda x: radians(x))\n",
    "samplecityd.loc[:, \"elat\"] = samplecityd.iloc[:, 1].apply(lambda x: radians(x))\n",
    "samplecityd.loc[:, \"elon\"] = samplecityd.iloc[:, 2].apply(lambda x: radians(x))"
   ],
   "metadata": {
    "collapsed": false,
    "ExecuteTime": {
     "start_time": "2023-07-01T14:39:15.604307Z",
     "end_time": "2023-07-01T14:39:15.700241Z"
    }
   }
  },
  {
   "cell_type": "code",
   "execution_count": 53,
   "outputs": [
    {
     "data": {
      "text/plain": "            City  Latitudenum  Longitudenum  \\\n0       Adelaide      34.9285      138.6007   \n1         Albany      35.0275      117.8840   \n2         Albury      36.0737      146.9135   \n3        Wodonga      36.1241      146.8818   \n4   AliceSprings      23.6980      133.8807   \n..           ...          ...           ...   \n95    Wollongong      34.4278      150.8931   \n96       Wyndham      15.4825      128.1228   \n97        Yalgoo      28.3445      116.6851   \n98        Yulara      25.2335      130.9849   \n99         Uluru      25.3444      131.0369   \n\n                              climate      slat      slon  \n0                   Warm temperate     0.609617  2.419039  \n1                   Mild temperate     0.611345  2.057464  \n2         Hot dry summer, cool winter  0.629605  2.564124  \n3         Hot dry summer, cool winter  0.630484  2.563571  \n4         Hot dry summer, warm winter  0.413608  2.336659  \n..                                ...       ...       ...  \n95                  Warm temperate     0.600878  2.633581  \n96  High humidity summer, warm winter  0.270221  2.236165  \n97        Hot dry summer, cool winter  0.494705  2.036539  \n98        Hot dry summer, warm winter  0.440408  2.286118  \n99        Hot dry summer, warm winter  0.442343  2.287025  \n\n[100 rows x 6 columns]",
      "text/html": "<div>\n<style scoped>\n    .dataframe tbody tr th:only-of-type {\n        vertical-align: middle;\n    }\n\n    .dataframe tbody tr th {\n        vertical-align: top;\n    }\n\n    .dataframe thead th {\n        text-align: right;\n    }\n</style>\n<table border=\"1\" class=\"dataframe\">\n  <thead>\n    <tr style=\"text-align: right;\">\n      <th></th>\n      <th>City</th>\n      <th>Latitudenum</th>\n      <th>Longitudenum</th>\n      <th>climate</th>\n      <th>slat</th>\n      <th>slon</th>\n    </tr>\n  </thead>\n  <tbody>\n    <tr>\n      <th>0</th>\n      <td>Adelaide</td>\n      <td>34.9285</td>\n      <td>138.6007</td>\n      <td>Warm temperate</td>\n      <td>0.609617</td>\n      <td>2.419039</td>\n    </tr>\n    <tr>\n      <th>1</th>\n      <td>Albany</td>\n      <td>35.0275</td>\n      <td>117.8840</td>\n      <td>Mild temperate</td>\n      <td>0.611345</td>\n      <td>2.057464</td>\n    </tr>\n    <tr>\n      <th>2</th>\n      <td>Albury</td>\n      <td>36.0737</td>\n      <td>146.9135</td>\n      <td>Hot dry summer, cool winter</td>\n      <td>0.629605</td>\n      <td>2.564124</td>\n    </tr>\n    <tr>\n      <th>3</th>\n      <td>Wodonga</td>\n      <td>36.1241</td>\n      <td>146.8818</td>\n      <td>Hot dry summer, cool winter</td>\n      <td>0.630484</td>\n      <td>2.563571</td>\n    </tr>\n    <tr>\n      <th>4</th>\n      <td>AliceSprings</td>\n      <td>23.6980</td>\n      <td>133.8807</td>\n      <td>Hot dry summer, warm winter</td>\n      <td>0.413608</td>\n      <td>2.336659</td>\n    </tr>\n    <tr>\n      <th>...</th>\n      <td>...</td>\n      <td>...</td>\n      <td>...</td>\n      <td>...</td>\n      <td>...</td>\n      <td>...</td>\n    </tr>\n    <tr>\n      <th>95</th>\n      <td>Wollongong</td>\n      <td>34.4278</td>\n      <td>150.8931</td>\n      <td>Warm temperate</td>\n      <td>0.600878</td>\n      <td>2.633581</td>\n    </tr>\n    <tr>\n      <th>96</th>\n      <td>Wyndham</td>\n      <td>15.4825</td>\n      <td>128.1228</td>\n      <td>High humidity summer, warm winter</td>\n      <td>0.270221</td>\n      <td>2.236165</td>\n    </tr>\n    <tr>\n      <th>97</th>\n      <td>Yalgoo</td>\n      <td>28.3445</td>\n      <td>116.6851</td>\n      <td>Hot dry summer, cool winter</td>\n      <td>0.494705</td>\n      <td>2.036539</td>\n    </tr>\n    <tr>\n      <th>98</th>\n      <td>Yulara</td>\n      <td>25.2335</td>\n      <td>130.9849</td>\n      <td>Hot dry summer, warm winter</td>\n      <td>0.440408</td>\n      <td>2.286118</td>\n    </tr>\n    <tr>\n      <th>99</th>\n      <td>Uluru</td>\n      <td>25.3444</td>\n      <td>131.0369</td>\n      <td>Hot dry summer, warm winter</td>\n      <td>0.442343</td>\n      <td>2.287025</td>\n    </tr>\n  </tbody>\n</table>\n<p>100 rows × 6 columns</p>\n</div>"
     },
     "execution_count": 53,
     "metadata": {},
     "output_type": "execute_result"
    }
   ],
   "source": [
    "citylld"
   ],
   "metadata": {
    "collapsed": false,
    "ExecuteTime": {
     "start_time": "2023-07-01T14:40:03.536515Z",
     "end_time": "2023-07-01T14:40:03.572376Z"
    }
   }
  },
  {
   "cell_type": "code",
   "execution_count": 54,
   "outputs": [
    {
     "name": "stderr",
     "output_type": "stream",
     "text": [
      "D:\\IDE\\Anaconda\\A\\envs\\dproject\\lib\\site-packages\\pandas\\core\\indexing.py:1599: SettingWithCopyWarning: \n",
      "A value is trying to be set on a copy of a slice from a DataFrame.\n",
      "Try using .loc[row_indexer,col_indexer] = value instead\n",
      "\n",
      "See the caveats in the documentation: https://pandas.pydata.org/pandas-docs/stable/user_guide/indexing.html#returning-a-view-versus-a-copy\n",
      "  self.obj[key] = infer_fill_value(value)\n",
      "D:\\IDE\\Anaconda\\A\\envs\\dproject\\lib\\site-packages\\pandas\\core\\indexing.py:1720: SettingWithCopyWarning: \n",
      "A value is trying to be set on a copy of a slice from a DataFrame.\n",
      "Try using .loc[row_indexer,col_indexer] = value instead\n",
      "\n",
      "See the caveats in the documentation: https://pandas.pydata.org/pandas-docs/stable/user_guide/indexing.html#returning-a-view-versus-a-copy\n",
      "  self._setitem_single_column(loc, value, pi)\n",
      "D:\\IDE\\Anaconda\\A\\envs\\dproject\\lib\\site-packages\\pandas\\core\\arraylike.py:358: RuntimeWarning: invalid value encountered in arccos\n",
      "  result = getattr(ufunc, method)(*inputs, **kwargs)\n"
     ]
    }
   ],
   "source": [
    "import sys\n",
    "\n",
    "for i in range(samplecityd.shape[0]):\n",
    "    slat = citylld.loc[:, \"slat\"]\n",
    "    slon = citylld.loc[:, \"slon\"]\n",
    "    elat = samplecityd.loc[i, \"elat\"]\n",
    "    elon = samplecityd.loc[i, \"elon\"]\n",
    "    dist = 6371.01 * np.arccos(np.sin(slat) * np.sin(elat) +\n",
    "                               np.cos(slat) * np.cos(elat) * np.cos(slon.values - elon))\n",
    "    city_index = np.argsort(dist)[0]\n",
    "    #每次计算后，取距离最近的城市，然后将最近的城市和城市对应的气候都匹配到samplecityd中\n",
    "    samplecityd.loc[i, \"closest_city\"] = citylld.loc[city_index, \"City\"]\n",
    "    samplecityd.loc[i, \"climate\"] = citylld.loc[city_index, \"climate\"]"
   ],
   "metadata": {
    "collapsed": false,
    "ExecuteTime": {
     "start_time": "2023-07-01T14:41:22.414027Z",
     "end_time": "2023-07-01T14:41:22.502709Z"
    }
   }
  },
  {
   "cell_type": "code",
   "execution_count": 55,
   "outputs": [
    {
     "data": {
      "text/plain": "       City  Latitudenum  Longitudenum      elat      elon closest_city  \\\n0  Canberra      35.2809      149.1300  0.615768  2.602810     Canberra   \n1    Sydney      33.8688      151.2093  0.591122  2.639100       Sydney   \n2     Perth      31.9505      115.8605  0.557641  2.022147        Perth   \n3    Darwin      12.4634      130.8456  0.217527  2.283687       Darwin   \n4    Hobart      42.8821      147.3272  0.748434  2.571345       Hobart   \n\n                             climate  \n0                  Cool temperate     \n1                  Warm temperate     \n2                  Warm temperate     \n3  High humidity summer, warm winter  \n4                  Cool temperate     ",
      "text/html": "<div>\n<style scoped>\n    .dataframe tbody tr th:only-of-type {\n        vertical-align: middle;\n    }\n\n    .dataframe tbody tr th {\n        vertical-align: top;\n    }\n\n    .dataframe thead th {\n        text-align: right;\n    }\n</style>\n<table border=\"1\" class=\"dataframe\">\n  <thead>\n    <tr style=\"text-align: right;\">\n      <th></th>\n      <th>City</th>\n      <th>Latitudenum</th>\n      <th>Longitudenum</th>\n      <th>elat</th>\n      <th>elon</th>\n      <th>closest_city</th>\n      <th>climate</th>\n    </tr>\n  </thead>\n  <tbody>\n    <tr>\n      <th>0</th>\n      <td>Canberra</td>\n      <td>35.2809</td>\n      <td>149.1300</td>\n      <td>0.615768</td>\n      <td>2.602810</td>\n      <td>Canberra</td>\n      <td>Cool temperate</td>\n    </tr>\n    <tr>\n      <th>1</th>\n      <td>Sydney</td>\n      <td>33.8688</td>\n      <td>151.2093</td>\n      <td>0.591122</td>\n      <td>2.639100</td>\n      <td>Sydney</td>\n      <td>Warm temperate</td>\n    </tr>\n    <tr>\n      <th>2</th>\n      <td>Perth</td>\n      <td>31.9505</td>\n      <td>115.8605</td>\n      <td>0.557641</td>\n      <td>2.022147</td>\n      <td>Perth</td>\n      <td>Warm temperate</td>\n    </tr>\n    <tr>\n      <th>3</th>\n      <td>Darwin</td>\n      <td>12.4634</td>\n      <td>130.8456</td>\n      <td>0.217527</td>\n      <td>2.283687</td>\n      <td>Darwin</td>\n      <td>High humidity summer, warm winter</td>\n    </tr>\n    <tr>\n      <th>4</th>\n      <td>Hobart</td>\n      <td>42.8821</td>\n      <td>147.3272</td>\n      <td>0.748434</td>\n      <td>2.571345</td>\n      <td>Hobart</td>\n      <td>Cool temperate</td>\n    </tr>\n  </tbody>\n</table>\n</div>"
     },
     "execution_count": 55,
     "metadata": {},
     "output_type": "execute_result"
    }
   ],
   "source": [
    "#查看最后的结果，需要检查城市匹配是否基本正确\n",
    "samplecityd.head()"
   ],
   "metadata": {
    "collapsed": false,
    "ExecuteTime": {
     "start_time": "2023-07-01T14:42:18.955049Z",
     "end_time": "2023-07-01T14:42:19.052113Z"
    }
   }
  },
  {
   "cell_type": "code",
   "execution_count": 56,
   "outputs": [
    {
     "data": {
      "text/plain": "Warm temperate                       15\nMild temperate                       10\nCool temperate                        9\nHot dry summer, cool winter           6\nHigh humidity summer, warm winter     4\nHot dry summer, warm winter           3\nWarm humid summer, mild winter        2\nName: climate, dtype: int64"
     },
     "execution_count": 56,
     "metadata": {},
     "output_type": "execute_result"
    }
   ],
   "source": [
    "#查看气候的分布\n",
    "samplecityd[\"climate\"].value_counts()"
   ],
   "metadata": {
    "collapsed": false,
    "ExecuteTime": {
     "start_time": "2023-07-01T14:48:03.521554Z",
     "end_time": "2023-07-01T14:48:03.544259Z"
    }
   }
  },
  {
   "cell_type": "code",
   "execution_count": 57,
   "outputs": [
    {
     "data": {
      "text/plain": "       City                            climate\n0  Canberra                  Cool temperate   \n1    Sydney                  Warm temperate   \n2     Perth                  Warm temperate   \n3    Darwin  High humidity summer, warm winter\n4    Hobart                  Cool temperate   ",
      "text/html": "<div>\n<style scoped>\n    .dataframe tbody tr th:only-of-type {\n        vertical-align: middle;\n    }\n\n    .dataframe tbody tr th {\n        vertical-align: top;\n    }\n\n    .dataframe thead th {\n        text-align: right;\n    }\n</style>\n<table border=\"1\" class=\"dataframe\">\n  <thead>\n    <tr style=\"text-align: right;\">\n      <th></th>\n      <th>City</th>\n      <th>climate</th>\n    </tr>\n  </thead>\n  <tbody>\n    <tr>\n      <th>0</th>\n      <td>Canberra</td>\n      <td>Cool temperate</td>\n    </tr>\n    <tr>\n      <th>1</th>\n      <td>Sydney</td>\n      <td>Warm temperate</td>\n    </tr>\n    <tr>\n      <th>2</th>\n      <td>Perth</td>\n      <td>Warm temperate</td>\n    </tr>\n    <tr>\n      <th>3</th>\n      <td>Darwin</td>\n      <td>High humidity summer, warm winter</td>\n    </tr>\n    <tr>\n      <th>4</th>\n      <td>Hobart</td>\n      <td>Cool temperate</td>\n    </tr>\n  </tbody>\n</table>\n</div>"
     },
     "execution_count": 57,
     "metadata": {},
     "output_type": "execute_result"
    }
   ],
   "source": [
    "#确认无误后，取出样本城市所对应的气候，并保存\n",
    "locafinal = samplecityd.iloc[:, [0, -1]]\n",
    "locafinal.head()"
   ],
   "metadata": {
    "collapsed": false,
    "ExecuteTime": {
     "start_time": "2023-07-01T14:48:07.069876Z",
     "end_time": "2023-07-01T14:48:07.121908Z"
    }
   }
  },
  {
   "cell_type": "code",
   "execution_count": 58,
   "outputs": [],
   "source": [
    "locafinal.columns = [\"Location\", \"Climate\"]\n",
    "#在这里设定locafinal的索引为地点，是为了之后进行map的匹配\n",
    "locafinal = locafinal.set_index(keys=\"Location\")"
   ],
   "metadata": {
    "collapsed": false,
    "ExecuteTime": {
     "start_time": "2023-07-01T14:48:10.787223Z",
     "end_time": "2023-07-01T14:48:10.817064Z"
    }
   }
  },
  {
   "cell_type": "code",
   "execution_count": 59,
   "outputs": [],
   "source": [
    "locafinal.to_csv(r\"samplelocation.csv\")"
   ],
   "metadata": {
    "collapsed": false,
    "ExecuteTime": {
     "start_time": "2023-07-01T14:48:11.790862Z",
     "end_time": "2023-07-01T14:48:11.804951Z"
    }
   }
  },
  {
   "cell_type": "code",
   "execution_count": 60,
   "outputs": [
    {
     "data": {
      "text/plain": "                                    Climate\nLocation                                   \nCanberra                  Cool temperate   \nSydney                    Warm temperate   \nPerth                     Warm temperate   \nDarwin    High humidity summer, warm winter\nHobart                    Cool temperate   ",
      "text/html": "<div>\n<style scoped>\n    .dataframe tbody tr th:only-of-type {\n        vertical-align: middle;\n    }\n\n    .dataframe tbody tr th {\n        vertical-align: top;\n    }\n\n    .dataframe thead th {\n        text-align: right;\n    }\n</style>\n<table border=\"1\" class=\"dataframe\">\n  <thead>\n    <tr style=\"text-align: right;\">\n      <th></th>\n      <th>Climate</th>\n    </tr>\n    <tr>\n      <th>Location</th>\n      <th></th>\n    </tr>\n  </thead>\n  <tbody>\n    <tr>\n      <th>Canberra</th>\n      <td>Cool temperate</td>\n    </tr>\n    <tr>\n      <th>Sydney</th>\n      <td>Warm temperate</td>\n    </tr>\n    <tr>\n      <th>Perth</th>\n      <td>Warm temperate</td>\n    </tr>\n    <tr>\n      <th>Darwin</th>\n      <td>High humidity summer, warm winter</td>\n    </tr>\n    <tr>\n      <th>Hobart</th>\n      <td>Cool temperate</td>\n    </tr>\n  </tbody>\n</table>\n</div>"
     },
     "execution_count": 60,
     "metadata": {},
     "output_type": "execute_result"
    }
   ],
   "source": [
    "locafinal.head()"
   ],
   "metadata": {
    "collapsed": false,
    "ExecuteTime": {
     "start_time": "2023-07-01T14:48:12.515663Z",
     "end_time": "2023-07-01T14:48:12.591752Z"
    }
   }
  },
  {
   "cell_type": "code",
   "execution_count": 61,
   "outputs": [
    {
     "data": {
      "text/plain": "   Month     Location  MinTemp  MaxTemp  Rainfall  Evaporation  Sunshine  \\\n0      8    Katherine     17.5     36.0       0.0          8.8       NaN   \n1     12  Tuggeranong      9.5     25.0       0.0          NaN       NaN   \n2      4       Albany     13.0     22.6       0.0          3.8      10.4   \n3     11         Sale     13.9     29.8       0.0          5.8       5.1   \n4      4      Mildura      6.0     23.5       0.0          2.8       8.6   \n\n  WindGustDir  WindGustSpeed WindDir9am  ... WindSpeed3pm  Humidity9am  \\\n0         ESE           26.0        NNW  ...         15.0         57.0   \n1         NNW           33.0         NE  ...         17.0         59.0   \n2         NaN            NaN         NE  ...         31.0         79.0   \n3           S           37.0          N  ...         28.0         82.0   \n4         NNE           24.0          E  ...         15.0         58.0   \n\n   Humidity3pm  Pressure9am  Pressure3pm  Cloud9am  Cloud3pm  Temp9am  \\\n0          NaN       1016.8       1012.2       0.0       NaN     27.5   \n1         31.0       1020.4       1017.5       NaN       NaN     14.6   \n2         68.0       1020.3       1015.7       1.0       3.0     17.5   \n3         44.0       1012.5       1005.9       6.0       6.0     18.5   \n4         35.0       1019.8       1014.1       2.0       4.0     12.4   \n\n   Temp3pm  RainToday  \n0      NaN         No  \n1     23.6         No  \n2     20.8         No  \n3     27.5         No  \n4     22.4         No  \n\n[5 rows x 22 columns]",
      "text/html": "<div>\n<style scoped>\n    .dataframe tbody tr th:only-of-type {\n        vertical-align: middle;\n    }\n\n    .dataframe tbody tr th {\n        vertical-align: top;\n    }\n\n    .dataframe thead th {\n        text-align: right;\n    }\n</style>\n<table border=\"1\" class=\"dataframe\">\n  <thead>\n    <tr style=\"text-align: right;\">\n      <th></th>\n      <th>Month</th>\n      <th>Location</th>\n      <th>MinTemp</th>\n      <th>MaxTemp</th>\n      <th>Rainfall</th>\n      <th>Evaporation</th>\n      <th>Sunshine</th>\n      <th>WindGustDir</th>\n      <th>WindGustSpeed</th>\n      <th>WindDir9am</th>\n      <th>...</th>\n      <th>WindSpeed3pm</th>\n      <th>Humidity9am</th>\n      <th>Humidity3pm</th>\n      <th>Pressure9am</th>\n      <th>Pressure3pm</th>\n      <th>Cloud9am</th>\n      <th>Cloud3pm</th>\n      <th>Temp9am</th>\n      <th>Temp3pm</th>\n      <th>RainToday</th>\n    </tr>\n  </thead>\n  <tbody>\n    <tr>\n      <th>0</th>\n      <td>8</td>\n      <td>Katherine</td>\n      <td>17.5</td>\n      <td>36.0</td>\n      <td>0.0</td>\n      <td>8.8</td>\n      <td>NaN</td>\n      <td>ESE</td>\n      <td>26.0</td>\n      <td>NNW</td>\n      <td>...</td>\n      <td>15.0</td>\n      <td>57.0</td>\n      <td>NaN</td>\n      <td>1016.8</td>\n      <td>1012.2</td>\n      <td>0.0</td>\n      <td>NaN</td>\n      <td>27.5</td>\n      <td>NaN</td>\n      <td>No</td>\n    </tr>\n    <tr>\n      <th>1</th>\n      <td>12</td>\n      <td>Tuggeranong</td>\n      <td>9.5</td>\n      <td>25.0</td>\n      <td>0.0</td>\n      <td>NaN</td>\n      <td>NaN</td>\n      <td>NNW</td>\n      <td>33.0</td>\n      <td>NE</td>\n      <td>...</td>\n      <td>17.0</td>\n      <td>59.0</td>\n      <td>31.0</td>\n      <td>1020.4</td>\n      <td>1017.5</td>\n      <td>NaN</td>\n      <td>NaN</td>\n      <td>14.6</td>\n      <td>23.6</td>\n      <td>No</td>\n    </tr>\n    <tr>\n      <th>2</th>\n      <td>4</td>\n      <td>Albany</td>\n      <td>13.0</td>\n      <td>22.6</td>\n      <td>0.0</td>\n      <td>3.8</td>\n      <td>10.4</td>\n      <td>NaN</td>\n      <td>NaN</td>\n      <td>NE</td>\n      <td>...</td>\n      <td>31.0</td>\n      <td>79.0</td>\n      <td>68.0</td>\n      <td>1020.3</td>\n      <td>1015.7</td>\n      <td>1.0</td>\n      <td>3.0</td>\n      <td>17.5</td>\n      <td>20.8</td>\n      <td>No</td>\n    </tr>\n    <tr>\n      <th>3</th>\n      <td>11</td>\n      <td>Sale</td>\n      <td>13.9</td>\n      <td>29.8</td>\n      <td>0.0</td>\n      <td>5.8</td>\n      <td>5.1</td>\n      <td>S</td>\n      <td>37.0</td>\n      <td>N</td>\n      <td>...</td>\n      <td>28.0</td>\n      <td>82.0</td>\n      <td>44.0</td>\n      <td>1012.5</td>\n      <td>1005.9</td>\n      <td>6.0</td>\n      <td>6.0</td>\n      <td>18.5</td>\n      <td>27.5</td>\n      <td>No</td>\n    </tr>\n    <tr>\n      <th>4</th>\n      <td>4</td>\n      <td>Mildura</td>\n      <td>6.0</td>\n      <td>23.5</td>\n      <td>0.0</td>\n      <td>2.8</td>\n      <td>8.6</td>\n      <td>NNE</td>\n      <td>24.0</td>\n      <td>E</td>\n      <td>...</td>\n      <td>15.0</td>\n      <td>58.0</td>\n      <td>35.0</td>\n      <td>1019.8</td>\n      <td>1014.1</td>\n      <td>2.0</td>\n      <td>4.0</td>\n      <td>12.4</td>\n      <td>22.4</td>\n      <td>No</td>\n    </tr>\n  </tbody>\n</table>\n<p>5 rows × 22 columns</p>\n</div>"
     },
     "execution_count": 61,
     "metadata": {},
     "output_type": "execute_result"
    }
   ],
   "source": [
    "#是否还记得训练集长什么样呢？\n",
    "Xtrain.head()"
   ],
   "metadata": {
    "collapsed": false,
    "ExecuteTime": {
     "start_time": "2023-07-01T14:51:40.498603Z",
     "end_time": "2023-07-01T14:51:40.539158Z"
    }
   }
  },
  {
   "cell_type": "code",
   "execution_count": 62,
   "outputs": [],
   "source": [
    "#将location中的内容替换，并且确保匹配进入的气候字符串中不含有逗号，气候两边不含有空格\n",
    "#我们使用re这个模块来消除逗号\n",
    "#re.sub(希望替换的值，希望被替换成的值，要操作的字符串)\n",
    "#x.strip()是去掉空格的函数\n",
    "import re\n",
    "\n",
    "Xtrain[\"Location\"] = Xtrain[\"Location\"].map(locafinal.iloc[:, 0]).apply(lambda x: re.sub(\",\", \"\", x.strip()))\n",
    "Xtest[\"Location\"] = Xtest[\"Location\"].map(locafinal.iloc[:, 0]).apply(lambda x: re.sub(\",\", \"\", x.strip()))"
   ],
   "metadata": {
    "collapsed": false,
    "ExecuteTime": {
     "start_time": "2023-07-01T14:55:43.192714Z",
     "end_time": "2023-07-01T14:55:43.208751Z"
    }
   }
  },
  {
   "cell_type": "code",
   "execution_count": 63,
   "outputs": [],
   "source": [
    "#修改特征内容之后，我们使用新列名“Climate”来替换之前的列名“Location”\n",
    "#注意这个命令一旦执行之后，就再没有列\"Location\"了，使用索引时要特别注意\n",
    "Xtrain = Xtrain.rename(columns={\"Location\": \"Climate\"})\n",
    "Xtest = Xtest.rename(columns={\"Location\": \"Climate\"})"
   ],
   "metadata": {
    "collapsed": false,
    "ExecuteTime": {
     "start_time": "2023-07-01T14:55:44.775157Z",
     "end_time": "2023-07-01T14:55:44.805968Z"
    }
   }
  },
  {
   "cell_type": "code",
   "execution_count": 64,
   "outputs": [
    {
     "data": {
      "text/plain": "   Month                           Climate  MinTemp  MaxTemp  Rainfall  \\\n0      8  High humidity summer warm winter     17.5     36.0       0.0   \n1     12                    Cool temperate      9.5     25.0       0.0   \n2      4                    Mild temperate     13.0     22.6       0.0   \n3     11                    Mild temperate     13.9     29.8       0.0   \n4      4        Hot dry summer cool winter      6.0     23.5       0.0   \n\n   Evaporation  Sunshine WindGustDir  WindGustSpeed WindDir9am  ...  \\\n0          8.8       NaN         ESE           26.0        NNW  ...   \n1          NaN       NaN         NNW           33.0         NE  ...   \n2          3.8      10.4         NaN            NaN         NE  ...   \n3          5.8       5.1           S           37.0          N  ...   \n4          2.8       8.6         NNE           24.0          E  ...   \n\n  WindSpeed3pm  Humidity9am  Humidity3pm  Pressure9am  Pressure3pm  Cloud9am  \\\n0         15.0         57.0          NaN       1016.8       1012.2       0.0   \n1         17.0         59.0         31.0       1020.4       1017.5       NaN   \n2         31.0         79.0         68.0       1020.3       1015.7       1.0   \n3         28.0         82.0         44.0       1012.5       1005.9       6.0   \n4         15.0         58.0         35.0       1019.8       1014.1       2.0   \n\n   Cloud3pm  Temp9am  Temp3pm  RainToday  \n0       NaN     27.5      NaN         No  \n1       NaN     14.6     23.6         No  \n2       3.0     17.5     20.8         No  \n3       6.0     18.5     27.5         No  \n4       4.0     12.4     22.4         No  \n\n[5 rows x 22 columns]",
      "text/html": "<div>\n<style scoped>\n    .dataframe tbody tr th:only-of-type {\n        vertical-align: middle;\n    }\n\n    .dataframe tbody tr th {\n        vertical-align: top;\n    }\n\n    .dataframe thead th {\n        text-align: right;\n    }\n</style>\n<table border=\"1\" class=\"dataframe\">\n  <thead>\n    <tr style=\"text-align: right;\">\n      <th></th>\n      <th>Month</th>\n      <th>Climate</th>\n      <th>MinTemp</th>\n      <th>MaxTemp</th>\n      <th>Rainfall</th>\n      <th>Evaporation</th>\n      <th>Sunshine</th>\n      <th>WindGustDir</th>\n      <th>WindGustSpeed</th>\n      <th>WindDir9am</th>\n      <th>...</th>\n      <th>WindSpeed3pm</th>\n      <th>Humidity9am</th>\n      <th>Humidity3pm</th>\n      <th>Pressure9am</th>\n      <th>Pressure3pm</th>\n      <th>Cloud9am</th>\n      <th>Cloud3pm</th>\n      <th>Temp9am</th>\n      <th>Temp3pm</th>\n      <th>RainToday</th>\n    </tr>\n  </thead>\n  <tbody>\n    <tr>\n      <th>0</th>\n      <td>8</td>\n      <td>High humidity summer warm winter</td>\n      <td>17.5</td>\n      <td>36.0</td>\n      <td>0.0</td>\n      <td>8.8</td>\n      <td>NaN</td>\n      <td>ESE</td>\n      <td>26.0</td>\n      <td>NNW</td>\n      <td>...</td>\n      <td>15.0</td>\n      <td>57.0</td>\n      <td>NaN</td>\n      <td>1016.8</td>\n      <td>1012.2</td>\n      <td>0.0</td>\n      <td>NaN</td>\n      <td>27.5</td>\n      <td>NaN</td>\n      <td>No</td>\n    </tr>\n    <tr>\n      <th>1</th>\n      <td>12</td>\n      <td>Cool temperate</td>\n      <td>9.5</td>\n      <td>25.0</td>\n      <td>0.0</td>\n      <td>NaN</td>\n      <td>NaN</td>\n      <td>NNW</td>\n      <td>33.0</td>\n      <td>NE</td>\n      <td>...</td>\n      <td>17.0</td>\n      <td>59.0</td>\n      <td>31.0</td>\n      <td>1020.4</td>\n      <td>1017.5</td>\n      <td>NaN</td>\n      <td>NaN</td>\n      <td>14.6</td>\n      <td>23.6</td>\n      <td>No</td>\n    </tr>\n    <tr>\n      <th>2</th>\n      <td>4</td>\n      <td>Mild temperate</td>\n      <td>13.0</td>\n      <td>22.6</td>\n      <td>0.0</td>\n      <td>3.8</td>\n      <td>10.4</td>\n      <td>NaN</td>\n      <td>NaN</td>\n      <td>NE</td>\n      <td>...</td>\n      <td>31.0</td>\n      <td>79.0</td>\n      <td>68.0</td>\n      <td>1020.3</td>\n      <td>1015.7</td>\n      <td>1.0</td>\n      <td>3.0</td>\n      <td>17.5</td>\n      <td>20.8</td>\n      <td>No</td>\n    </tr>\n    <tr>\n      <th>3</th>\n      <td>11</td>\n      <td>Mild temperate</td>\n      <td>13.9</td>\n      <td>29.8</td>\n      <td>0.0</td>\n      <td>5.8</td>\n      <td>5.1</td>\n      <td>S</td>\n      <td>37.0</td>\n      <td>N</td>\n      <td>...</td>\n      <td>28.0</td>\n      <td>82.0</td>\n      <td>44.0</td>\n      <td>1012.5</td>\n      <td>1005.9</td>\n      <td>6.0</td>\n      <td>6.0</td>\n      <td>18.5</td>\n      <td>27.5</td>\n      <td>No</td>\n    </tr>\n    <tr>\n      <th>4</th>\n      <td>4</td>\n      <td>Hot dry summer cool winter</td>\n      <td>6.0</td>\n      <td>23.5</td>\n      <td>0.0</td>\n      <td>2.8</td>\n      <td>8.6</td>\n      <td>NNE</td>\n      <td>24.0</td>\n      <td>E</td>\n      <td>...</td>\n      <td>15.0</td>\n      <td>58.0</td>\n      <td>35.0</td>\n      <td>1019.8</td>\n      <td>1014.1</td>\n      <td>2.0</td>\n      <td>4.0</td>\n      <td>12.4</td>\n      <td>22.4</td>\n      <td>No</td>\n    </tr>\n  </tbody>\n</table>\n<p>5 rows × 22 columns</p>\n</div>"
     },
     "execution_count": 64,
     "metadata": {},
     "output_type": "execute_result"
    }
   ],
   "source": [
    "Xtrain.head()"
   ],
   "metadata": {
    "collapsed": false,
    "ExecuteTime": {
     "start_time": "2023-07-01T14:55:45.724160Z",
     "end_time": "2023-07-01T14:55:45.765800Z"
    }
   }
  },
  {
   "cell_type": "code",
   "execution_count": 65,
   "outputs": [
    {
     "data": {
      "text/plain": "   Month         Climate  MinTemp  MaxTemp  Rainfall  Evaporation  Sunshine  \\\n0      1  Cool temperate     22.0     27.8      25.2          NaN       NaN   \n1      3  Mild temperate     12.0     18.6       2.2          3.0       7.8   \n2      3  Cool temperate      9.1     13.3       NaN          NaN       NaN   \n3     10  Warm temperate     13.1     20.3       0.0          NaN       NaN   \n4     11  Mild temperate     12.2     20.0       0.4          NaN       NaN   \n\n  WindGustDir  WindGustSpeed WindDir9am  ... WindSpeed3pm  Humidity9am  \\\n0         SSW           57.0          S  ...         37.0         91.0   \n1          SW           52.0         SW  ...         28.0         88.0   \n2          NE           41.0        NaN  ...          NaN          NaN   \n3          SW           33.0          W  ...         24.0         40.0   \n4           E           33.0         SW  ...         19.0         92.0   \n\n   Humidity3pm  Pressure9am  Pressure3pm  Cloud9am  Cloud3pm  Temp9am  \\\n0         86.0       1006.6       1008.1       NaN       NaN     26.2   \n1         62.0       1020.2       1019.9       8.0       7.0     14.8   \n2          NaN          NaN          NaN       NaN       NaN      NaN   \n3         51.0       1021.3       1019.5       NaN       NaN     16.8   \n4         69.0       1015.6       1013.2       8.0       4.0     13.6   \n\n   Temp3pm  RainToday  \n0     23.1        Yes  \n1     17.5        Yes  \n2      NaN        NaN  \n3     19.6         No  \n4     19.0         No  \n\n[5 rows x 22 columns]",
      "text/html": "<div>\n<style scoped>\n    .dataframe tbody tr th:only-of-type {\n        vertical-align: middle;\n    }\n\n    .dataframe tbody tr th {\n        vertical-align: top;\n    }\n\n    .dataframe thead th {\n        text-align: right;\n    }\n</style>\n<table border=\"1\" class=\"dataframe\">\n  <thead>\n    <tr style=\"text-align: right;\">\n      <th></th>\n      <th>Month</th>\n      <th>Climate</th>\n      <th>MinTemp</th>\n      <th>MaxTemp</th>\n      <th>Rainfall</th>\n      <th>Evaporation</th>\n      <th>Sunshine</th>\n      <th>WindGustDir</th>\n      <th>WindGustSpeed</th>\n      <th>WindDir9am</th>\n      <th>...</th>\n      <th>WindSpeed3pm</th>\n      <th>Humidity9am</th>\n      <th>Humidity3pm</th>\n      <th>Pressure9am</th>\n      <th>Pressure3pm</th>\n      <th>Cloud9am</th>\n      <th>Cloud3pm</th>\n      <th>Temp9am</th>\n      <th>Temp3pm</th>\n      <th>RainToday</th>\n    </tr>\n  </thead>\n  <tbody>\n    <tr>\n      <th>0</th>\n      <td>1</td>\n      <td>Cool temperate</td>\n      <td>22.0</td>\n      <td>27.8</td>\n      <td>25.2</td>\n      <td>NaN</td>\n      <td>NaN</td>\n      <td>SSW</td>\n      <td>57.0</td>\n      <td>S</td>\n      <td>...</td>\n      <td>37.0</td>\n      <td>91.0</td>\n      <td>86.0</td>\n      <td>1006.6</td>\n      <td>1008.1</td>\n      <td>NaN</td>\n      <td>NaN</td>\n      <td>26.2</td>\n      <td>23.1</td>\n      <td>Yes</td>\n    </tr>\n    <tr>\n      <th>1</th>\n      <td>3</td>\n      <td>Mild temperate</td>\n      <td>12.0</td>\n      <td>18.6</td>\n      <td>2.2</td>\n      <td>3.0</td>\n      <td>7.8</td>\n      <td>SW</td>\n      <td>52.0</td>\n      <td>SW</td>\n      <td>...</td>\n      <td>28.0</td>\n      <td>88.0</td>\n      <td>62.0</td>\n      <td>1020.2</td>\n      <td>1019.9</td>\n      <td>8.0</td>\n      <td>7.0</td>\n      <td>14.8</td>\n      <td>17.5</td>\n      <td>Yes</td>\n    </tr>\n    <tr>\n      <th>2</th>\n      <td>3</td>\n      <td>Cool temperate</td>\n      <td>9.1</td>\n      <td>13.3</td>\n      <td>NaN</td>\n      <td>NaN</td>\n      <td>NaN</td>\n      <td>NE</td>\n      <td>41.0</td>\n      <td>NaN</td>\n      <td>...</td>\n      <td>NaN</td>\n      <td>NaN</td>\n      <td>NaN</td>\n      <td>NaN</td>\n      <td>NaN</td>\n      <td>NaN</td>\n      <td>NaN</td>\n      <td>NaN</td>\n      <td>NaN</td>\n      <td>NaN</td>\n    </tr>\n    <tr>\n      <th>3</th>\n      <td>10</td>\n      <td>Warm temperate</td>\n      <td>13.1</td>\n      <td>20.3</td>\n      <td>0.0</td>\n      <td>NaN</td>\n      <td>NaN</td>\n      <td>SW</td>\n      <td>33.0</td>\n      <td>W</td>\n      <td>...</td>\n      <td>24.0</td>\n      <td>40.0</td>\n      <td>51.0</td>\n      <td>1021.3</td>\n      <td>1019.5</td>\n      <td>NaN</td>\n      <td>NaN</td>\n      <td>16.8</td>\n      <td>19.6</td>\n      <td>No</td>\n    </tr>\n    <tr>\n      <th>4</th>\n      <td>11</td>\n      <td>Mild temperate</td>\n      <td>12.2</td>\n      <td>20.0</td>\n      <td>0.4</td>\n      <td>NaN</td>\n      <td>NaN</td>\n      <td>E</td>\n      <td>33.0</td>\n      <td>SW</td>\n      <td>...</td>\n      <td>19.0</td>\n      <td>92.0</td>\n      <td>69.0</td>\n      <td>1015.6</td>\n      <td>1013.2</td>\n      <td>8.0</td>\n      <td>4.0</td>\n      <td>13.6</td>\n      <td>19.0</td>\n      <td>No</td>\n    </tr>\n  </tbody>\n</table>\n<p>5 rows × 22 columns</p>\n</div>"
     },
     "execution_count": 65,
     "metadata": {},
     "output_type": "execute_result"
    }
   ],
   "source": [
    "Xtest.head()"
   ],
   "metadata": {
    "collapsed": false,
    "ExecuteTime": {
     "start_time": "2023-07-01T14:55:47.495886Z",
     "end_time": "2023-07-01T14:55:47.569800Z"
    }
   }
  },
  {
   "cell_type": "code",
   "execution_count": 66,
   "outputs": [
    {
     "data": {
      "text/plain": "Month            0.000000\nClimate          0.000000\nMinTemp          0.004000\nMaxTemp          0.003143\nRainfall         0.009429\nEvaporation      0.433429\nSunshine         0.488571\nWindGustDir      0.067714\nWindGustSpeed    0.067714\nWindDir9am       0.067429\nWindDir3pm       0.024286\nWindSpeed9am     0.009714\nWindSpeed3pm     0.018000\nHumidity9am      0.011714\nHumidity3pm      0.026286\nPressure9am      0.098857\nPressure3pm      0.098857\nCloud9am         0.379714\nCloud3pm         0.401429\nTemp9am          0.005429\nTemp3pm          0.019714\nRainToday        0.009429\ndtype: float64"
     },
     "execution_count": 66,
     "metadata": {},
     "output_type": "execute_result"
    }
   ],
   "source": [
    "#查看缺失值的缺失情况\n",
    "Xtrain.isnull().mean()"
   ],
   "metadata": {
    "collapsed": false,
    "ExecuteTime": {
     "start_time": "2023-07-01T15:08:01.013037Z",
     "end_time": "2023-07-01T15:08:01.041061Z"
    }
   }
  },
  {
   "cell_type": "code",
   "execution_count": 67,
   "outputs": [],
   "source": [
    "#首先找出，分类型特征都有哪些\n",
    "cate = Xtrain.columns[Xtrain.dtypes == \"object\"].tolist()"
   ],
   "metadata": {
    "collapsed": false,
    "ExecuteTime": {
     "start_time": "2023-07-01T15:08:04.095678Z",
     "end_time": "2023-07-01T15:08:04.123118Z"
    }
   }
  },
  {
   "cell_type": "code",
   "execution_count": 68,
   "outputs": [
    {
     "data": {
      "text/plain": "['Climate',\n 'WindGustDir',\n 'WindDir9am',\n 'WindDir3pm',\n 'RainToday',\n 'Cloud9am',\n 'Cloud3pm']"
     },
     "execution_count": 68,
     "metadata": {},
     "output_type": "execute_result"
    }
   ],
   "source": [
    "#除了特征类型为\"object\"的特征们，还有虽然用数字表示，但是本质为分类型特征的云层遮蔽程度\n",
    "cloud = [\"Cloud9am\", \"Cloud3pm\"]\n",
    "cate = cate + cloud\n",
    "cate"
   ],
   "metadata": {
    "collapsed": false,
    "ExecuteTime": {
     "start_time": "2023-07-01T15:08:04.891733Z",
     "end_time": "2023-07-01T15:08:04.938350Z"
    }
   }
  },
  {
   "cell_type": "code",
   "execution_count": 69,
   "outputs": [],
   "source": [
    "#对于分类型特征，我们使用众数来进行填补\n",
    "from sklearn.impute import SimpleImputer\n",
    "\n",
    "si = SimpleImputer(missing_values=np.nan, strategy=\"most_frequent\")\n",
    "#注意，我们使用训练集数据来训练我们的填补器，本质是在生成训练集中的众数\n",
    "si.fit(Xtrain.loc[:, cate])\n",
    "#然后我们用训练集中的众数来同时填补训练集和测试集\n",
    "Xtrain.loc[:, cate] = si.transform(Xtrain.loc[:, cate])\n",
    "Xtest.loc[:, cate] = si.transform(Xtest.loc[:, cate])"
   ],
   "metadata": {
    "collapsed": false,
    "ExecuteTime": {
     "start_time": "2023-07-01T15:08:56.701261Z",
     "end_time": "2023-07-01T15:08:57.197975Z"
    }
   }
  },
  {
   "cell_type": "code",
   "execution_count": 70,
   "outputs": [
    {
     "data": {
      "text/plain": "   Month                           Climate  MinTemp  MaxTemp  Rainfall  \\\n0      8  High humidity summer warm winter     17.5     36.0       0.0   \n1     12                    Cool temperate      9.5     25.0       0.0   \n2      4                    Mild temperate     13.0     22.6       0.0   \n3     11                    Mild temperate     13.9     29.8       0.0   \n4      4        Hot dry summer cool winter      6.0     23.5       0.0   \n\n   Evaporation  Sunshine WindGustDir  WindGustSpeed WindDir9am  ...  \\\n0          8.8       NaN         ESE           26.0        NNW  ...   \n1          NaN       NaN         NNW           33.0         NE  ...   \n2          3.8      10.4           W            NaN         NE  ...   \n3          5.8       5.1           S           37.0          N  ...   \n4          2.8       8.6         NNE           24.0          E  ...   \n\n  WindSpeed3pm  Humidity9am  Humidity3pm  Pressure9am  Pressure3pm  Cloud9am  \\\n0         15.0         57.0          NaN       1016.8       1012.2       0.0   \n1         17.0         59.0         31.0       1020.4       1017.5       7.0   \n2         31.0         79.0         68.0       1020.3       1015.7       1.0   \n3         28.0         82.0         44.0       1012.5       1005.9       6.0   \n4         15.0         58.0         35.0       1019.8       1014.1       2.0   \n\n   Cloud3pm  Temp9am  Temp3pm  RainToday  \n0       7.0     27.5      NaN         No  \n1       7.0     14.6     23.6         No  \n2       3.0     17.5     20.8         No  \n3       6.0     18.5     27.5         No  \n4       4.0     12.4     22.4         No  \n\n[5 rows x 22 columns]",
      "text/html": "<div>\n<style scoped>\n    .dataframe tbody tr th:only-of-type {\n        vertical-align: middle;\n    }\n\n    .dataframe tbody tr th {\n        vertical-align: top;\n    }\n\n    .dataframe thead th {\n        text-align: right;\n    }\n</style>\n<table border=\"1\" class=\"dataframe\">\n  <thead>\n    <tr style=\"text-align: right;\">\n      <th></th>\n      <th>Month</th>\n      <th>Climate</th>\n      <th>MinTemp</th>\n      <th>MaxTemp</th>\n      <th>Rainfall</th>\n      <th>Evaporation</th>\n      <th>Sunshine</th>\n      <th>WindGustDir</th>\n      <th>WindGustSpeed</th>\n      <th>WindDir9am</th>\n      <th>...</th>\n      <th>WindSpeed3pm</th>\n      <th>Humidity9am</th>\n      <th>Humidity3pm</th>\n      <th>Pressure9am</th>\n      <th>Pressure3pm</th>\n      <th>Cloud9am</th>\n      <th>Cloud3pm</th>\n      <th>Temp9am</th>\n      <th>Temp3pm</th>\n      <th>RainToday</th>\n    </tr>\n  </thead>\n  <tbody>\n    <tr>\n      <th>0</th>\n      <td>8</td>\n      <td>High humidity summer warm winter</td>\n      <td>17.5</td>\n      <td>36.0</td>\n      <td>0.0</td>\n      <td>8.8</td>\n      <td>NaN</td>\n      <td>ESE</td>\n      <td>26.0</td>\n      <td>NNW</td>\n      <td>...</td>\n      <td>15.0</td>\n      <td>57.0</td>\n      <td>NaN</td>\n      <td>1016.8</td>\n      <td>1012.2</td>\n      <td>0.0</td>\n      <td>7.0</td>\n      <td>27.5</td>\n      <td>NaN</td>\n      <td>No</td>\n    </tr>\n    <tr>\n      <th>1</th>\n      <td>12</td>\n      <td>Cool temperate</td>\n      <td>9.5</td>\n      <td>25.0</td>\n      <td>0.0</td>\n      <td>NaN</td>\n      <td>NaN</td>\n      <td>NNW</td>\n      <td>33.0</td>\n      <td>NE</td>\n      <td>...</td>\n      <td>17.0</td>\n      <td>59.0</td>\n      <td>31.0</td>\n      <td>1020.4</td>\n      <td>1017.5</td>\n      <td>7.0</td>\n      <td>7.0</td>\n      <td>14.6</td>\n      <td>23.6</td>\n      <td>No</td>\n    </tr>\n    <tr>\n      <th>2</th>\n      <td>4</td>\n      <td>Mild temperate</td>\n      <td>13.0</td>\n      <td>22.6</td>\n      <td>0.0</td>\n      <td>3.8</td>\n      <td>10.4</td>\n      <td>W</td>\n      <td>NaN</td>\n      <td>NE</td>\n      <td>...</td>\n      <td>31.0</td>\n      <td>79.0</td>\n      <td>68.0</td>\n      <td>1020.3</td>\n      <td>1015.7</td>\n      <td>1.0</td>\n      <td>3.0</td>\n      <td>17.5</td>\n      <td>20.8</td>\n      <td>No</td>\n    </tr>\n    <tr>\n      <th>3</th>\n      <td>11</td>\n      <td>Mild temperate</td>\n      <td>13.9</td>\n      <td>29.8</td>\n      <td>0.0</td>\n      <td>5.8</td>\n      <td>5.1</td>\n      <td>S</td>\n      <td>37.0</td>\n      <td>N</td>\n      <td>...</td>\n      <td>28.0</td>\n      <td>82.0</td>\n      <td>44.0</td>\n      <td>1012.5</td>\n      <td>1005.9</td>\n      <td>6.0</td>\n      <td>6.0</td>\n      <td>18.5</td>\n      <td>27.5</td>\n      <td>No</td>\n    </tr>\n    <tr>\n      <th>4</th>\n      <td>4</td>\n      <td>Hot dry summer cool winter</td>\n      <td>6.0</td>\n      <td>23.5</td>\n      <td>0.0</td>\n      <td>2.8</td>\n      <td>8.6</td>\n      <td>NNE</td>\n      <td>24.0</td>\n      <td>E</td>\n      <td>...</td>\n      <td>15.0</td>\n      <td>58.0</td>\n      <td>35.0</td>\n      <td>1019.8</td>\n      <td>1014.1</td>\n      <td>2.0</td>\n      <td>4.0</td>\n      <td>12.4</td>\n      <td>22.4</td>\n      <td>No</td>\n    </tr>\n  </tbody>\n</table>\n<p>5 rows × 22 columns</p>\n</div>"
     },
     "execution_count": 70,
     "metadata": {},
     "output_type": "execute_result"
    }
   ],
   "source": [
    "Xtrain.head()"
   ],
   "metadata": {
    "collapsed": false,
    "ExecuteTime": {
     "start_time": "2023-07-01T15:08:58.422432Z",
     "end_time": "2023-07-01T15:08:58.440714Z"
    }
   }
  },
  {
   "cell_type": "code",
   "execution_count": 71,
   "outputs": [
    {
     "data": {
      "text/plain": "   Month         Climate  MinTemp  MaxTemp  Rainfall  Evaporation  Sunshine  \\\n0      1  Cool temperate     22.0     27.8      25.2          NaN       NaN   \n1      3  Mild temperate     12.0     18.6       2.2          3.0       7.8   \n2      3  Cool temperate      9.1     13.3       NaN          NaN       NaN   \n3     10  Warm temperate     13.1     20.3       0.0          NaN       NaN   \n4     11  Mild temperate     12.2     20.0       0.4          NaN       NaN   \n\n  WindGustDir  WindGustSpeed WindDir9am  ... WindSpeed3pm  Humidity9am  \\\n0         SSW           57.0          S  ...         37.0         91.0   \n1          SW           52.0         SW  ...         28.0         88.0   \n2          NE           41.0          N  ...          NaN          NaN   \n3          SW           33.0          W  ...         24.0         40.0   \n4           E           33.0         SW  ...         19.0         92.0   \n\n   Humidity3pm  Pressure9am  Pressure3pm  Cloud9am  Cloud3pm  Temp9am  \\\n0         86.0       1006.6       1008.1       7.0       7.0     26.2   \n1         62.0       1020.2       1019.9       8.0       7.0     14.8   \n2          NaN          NaN          NaN       7.0       7.0      NaN   \n3         51.0       1021.3       1019.5       7.0       7.0     16.8   \n4         69.0       1015.6       1013.2       8.0       4.0     13.6   \n\n   Temp3pm  RainToday  \n0     23.1        Yes  \n1     17.5        Yes  \n2      NaN         No  \n3     19.6         No  \n4     19.0         No  \n\n[5 rows x 22 columns]",
      "text/html": "<div>\n<style scoped>\n    .dataframe tbody tr th:only-of-type {\n        vertical-align: middle;\n    }\n\n    .dataframe tbody tr th {\n        vertical-align: top;\n    }\n\n    .dataframe thead th {\n        text-align: right;\n    }\n</style>\n<table border=\"1\" class=\"dataframe\">\n  <thead>\n    <tr style=\"text-align: right;\">\n      <th></th>\n      <th>Month</th>\n      <th>Climate</th>\n      <th>MinTemp</th>\n      <th>MaxTemp</th>\n      <th>Rainfall</th>\n      <th>Evaporation</th>\n      <th>Sunshine</th>\n      <th>WindGustDir</th>\n      <th>WindGustSpeed</th>\n      <th>WindDir9am</th>\n      <th>...</th>\n      <th>WindSpeed3pm</th>\n      <th>Humidity9am</th>\n      <th>Humidity3pm</th>\n      <th>Pressure9am</th>\n      <th>Pressure3pm</th>\n      <th>Cloud9am</th>\n      <th>Cloud3pm</th>\n      <th>Temp9am</th>\n      <th>Temp3pm</th>\n      <th>RainToday</th>\n    </tr>\n  </thead>\n  <tbody>\n    <tr>\n      <th>0</th>\n      <td>1</td>\n      <td>Cool temperate</td>\n      <td>22.0</td>\n      <td>27.8</td>\n      <td>25.2</td>\n      <td>NaN</td>\n      <td>NaN</td>\n      <td>SSW</td>\n      <td>57.0</td>\n      <td>S</td>\n      <td>...</td>\n      <td>37.0</td>\n      <td>91.0</td>\n      <td>86.0</td>\n      <td>1006.6</td>\n      <td>1008.1</td>\n      <td>7.0</td>\n      <td>7.0</td>\n      <td>26.2</td>\n      <td>23.1</td>\n      <td>Yes</td>\n    </tr>\n    <tr>\n      <th>1</th>\n      <td>3</td>\n      <td>Mild temperate</td>\n      <td>12.0</td>\n      <td>18.6</td>\n      <td>2.2</td>\n      <td>3.0</td>\n      <td>7.8</td>\n      <td>SW</td>\n      <td>52.0</td>\n      <td>SW</td>\n      <td>...</td>\n      <td>28.0</td>\n      <td>88.0</td>\n      <td>62.0</td>\n      <td>1020.2</td>\n      <td>1019.9</td>\n      <td>8.0</td>\n      <td>7.0</td>\n      <td>14.8</td>\n      <td>17.5</td>\n      <td>Yes</td>\n    </tr>\n    <tr>\n      <th>2</th>\n      <td>3</td>\n      <td>Cool temperate</td>\n      <td>9.1</td>\n      <td>13.3</td>\n      <td>NaN</td>\n      <td>NaN</td>\n      <td>NaN</td>\n      <td>NE</td>\n      <td>41.0</td>\n      <td>N</td>\n      <td>...</td>\n      <td>NaN</td>\n      <td>NaN</td>\n      <td>NaN</td>\n      <td>NaN</td>\n      <td>NaN</td>\n      <td>7.0</td>\n      <td>7.0</td>\n      <td>NaN</td>\n      <td>NaN</td>\n      <td>No</td>\n    </tr>\n    <tr>\n      <th>3</th>\n      <td>10</td>\n      <td>Warm temperate</td>\n      <td>13.1</td>\n      <td>20.3</td>\n      <td>0.0</td>\n      <td>NaN</td>\n      <td>NaN</td>\n      <td>SW</td>\n      <td>33.0</td>\n      <td>W</td>\n      <td>...</td>\n      <td>24.0</td>\n      <td>40.0</td>\n      <td>51.0</td>\n      <td>1021.3</td>\n      <td>1019.5</td>\n      <td>7.0</td>\n      <td>7.0</td>\n      <td>16.8</td>\n      <td>19.6</td>\n      <td>No</td>\n    </tr>\n    <tr>\n      <th>4</th>\n      <td>11</td>\n      <td>Mild temperate</td>\n      <td>12.2</td>\n      <td>20.0</td>\n      <td>0.4</td>\n      <td>NaN</td>\n      <td>NaN</td>\n      <td>E</td>\n      <td>33.0</td>\n      <td>SW</td>\n      <td>...</td>\n      <td>19.0</td>\n      <td>92.0</td>\n      <td>69.0</td>\n      <td>1015.6</td>\n      <td>1013.2</td>\n      <td>8.0</td>\n      <td>4.0</td>\n      <td>13.6</td>\n      <td>19.0</td>\n      <td>No</td>\n    </tr>\n  </tbody>\n</table>\n<p>5 rows × 22 columns</p>\n</div>"
     },
     "execution_count": 71,
     "metadata": {},
     "output_type": "execute_result"
    }
   ],
   "source": [
    "Xtest.head()"
   ],
   "metadata": {
    "collapsed": false,
    "ExecuteTime": {
     "start_time": "2023-07-01T15:09:17.257725Z",
     "end_time": "2023-07-01T15:09:17.361846Z"
    }
   }
  },
  {
   "cell_type": "code",
   "execution_count": 72,
   "outputs": [
    {
     "data": {
      "text/plain": "Climate        0.0\nWindGustDir    0.0\nWindDir9am     0.0\nWindDir3pm     0.0\nRainToday      0.0\nCloud9am       0.0\nCloud3pm       0.0\ndtype: float64"
     },
     "execution_count": 72,
     "metadata": {},
     "output_type": "execute_result"
    }
   ],
   "source": [
    "#查看分类型特征是否依然存在缺失值\n",
    "Xtrain.loc[:, cate].isnull().mean()"
   ],
   "metadata": {
    "collapsed": false,
    "ExecuteTime": {
     "start_time": "2023-07-01T15:10:25.207221Z",
     "end_time": "2023-07-01T15:10:25.240790Z"
    }
   }
  },
  {
   "cell_type": "code",
   "execution_count": 73,
   "outputs": [
    {
     "data": {
      "text/plain": "Climate        0.0\nWindGustDir    0.0\nWindDir9am     0.0\nWindDir3pm     0.0\nRainToday      0.0\nCloud9am       0.0\nCloud3pm       0.0\ndtype: float64"
     },
     "execution_count": 73,
     "metadata": {},
     "output_type": "execute_result"
    }
   ],
   "source": [
    "Xtest.loc[:, cate].isnull().mean()"
   ],
   "metadata": {
    "collapsed": false,
    "ExecuteTime": {
     "start_time": "2023-07-01T15:10:26.581666Z",
     "end_time": "2023-07-01T15:10:26.632010Z"
    }
   }
  },
  {
   "cell_type": "code",
   "execution_count": 74,
   "outputs": [],
   "source": [
    "#将所有的分类型变量编码为数字，一个类别是一个数字\n",
    "from sklearn.preprocessing import OrdinalEncoder\n",
    "\n",
    "oe = OrdinalEncoder()"
   ],
   "metadata": {
    "collapsed": false,
    "ExecuteTime": {
     "start_time": "2023-07-01T15:13:22.646480Z",
     "end_time": "2023-07-01T15:13:22.665378Z"
    }
   }
  },
  {
   "cell_type": "code",
   "execution_count": 75,
   "outputs": [],
   "source": [
    "#利用训练集进行fit\n",
    "oe = oe.fit(Xtrain.loc[:, cate])"
   ],
   "metadata": {
    "collapsed": false,
    "ExecuteTime": {
     "start_time": "2023-07-01T15:13:23.231895Z",
     "end_time": "2023-07-01T15:13:23.243001Z"
    }
   }
  },
  {
   "cell_type": "code",
   "execution_count": 76,
   "outputs": [],
   "source": [
    "#用训练集的编码结果来编码训练和测试特征矩阵\n",
    "#在这里如果测试特征矩阵报错，就说明测试集中出现了训练集中从未见过的类别\n",
    "Xtrain.loc[:, cate] = oe.transform(Xtrain.loc[:, cate])\n",
    "Xtest.loc[:, cate] = oe.transform(Xtest.loc[:, cate])"
   ],
   "metadata": {
    "collapsed": false,
    "ExecuteTime": {
     "start_time": "2023-07-01T15:13:24.086323Z",
     "end_time": "2023-07-01T15:13:24.130562Z"
    }
   }
  },
  {
   "cell_type": "code",
   "execution_count": 77,
   "outputs": [
    {
     "data": {
      "text/plain": "   Climate  WindGustDir  WindDir9am  WindDir3pm  RainToday  Cloud9am  Cloud3pm\n0      1.0          2.0         6.0         0.0        0.0       0.0       7.0\n1      0.0          6.0         4.0         6.0        0.0       7.0       7.0\n2      4.0         13.0         4.0         0.0        0.0       1.0       3.0\n3      4.0          8.0         3.0         8.0        0.0       6.0       6.0\n4      2.0          5.0         0.0         6.0        0.0       2.0       4.0",
      "text/html": "<div>\n<style scoped>\n    .dataframe tbody tr th:only-of-type {\n        vertical-align: middle;\n    }\n\n    .dataframe tbody tr th {\n        vertical-align: top;\n    }\n\n    .dataframe thead th {\n        text-align: right;\n    }\n</style>\n<table border=\"1\" class=\"dataframe\">\n  <thead>\n    <tr style=\"text-align: right;\">\n      <th></th>\n      <th>Climate</th>\n      <th>WindGustDir</th>\n      <th>WindDir9am</th>\n      <th>WindDir3pm</th>\n      <th>RainToday</th>\n      <th>Cloud9am</th>\n      <th>Cloud3pm</th>\n    </tr>\n  </thead>\n  <tbody>\n    <tr>\n      <th>0</th>\n      <td>1.0</td>\n      <td>2.0</td>\n      <td>6.0</td>\n      <td>0.0</td>\n      <td>0.0</td>\n      <td>0.0</td>\n      <td>7.0</td>\n    </tr>\n    <tr>\n      <th>1</th>\n      <td>0.0</td>\n      <td>6.0</td>\n      <td>4.0</td>\n      <td>6.0</td>\n      <td>0.0</td>\n      <td>7.0</td>\n      <td>7.0</td>\n    </tr>\n    <tr>\n      <th>2</th>\n      <td>4.0</td>\n      <td>13.0</td>\n      <td>4.0</td>\n      <td>0.0</td>\n      <td>0.0</td>\n      <td>1.0</td>\n      <td>3.0</td>\n    </tr>\n    <tr>\n      <th>3</th>\n      <td>4.0</td>\n      <td>8.0</td>\n      <td>3.0</td>\n      <td>8.0</td>\n      <td>0.0</td>\n      <td>6.0</td>\n      <td>6.0</td>\n    </tr>\n    <tr>\n      <th>4</th>\n      <td>2.0</td>\n      <td>5.0</td>\n      <td>0.0</td>\n      <td>6.0</td>\n      <td>0.0</td>\n      <td>2.0</td>\n      <td>4.0</td>\n    </tr>\n  </tbody>\n</table>\n</div>"
     },
     "execution_count": 77,
     "metadata": {},
     "output_type": "execute_result"
    }
   ],
   "source": [
    "Xtrain.loc[:, cate].head()"
   ],
   "metadata": {
    "collapsed": false,
    "ExecuteTime": {
     "start_time": "2023-07-01T15:13:24.759695Z",
     "end_time": "2023-07-01T15:13:24.783631Z"
    }
   }
  },
  {
   "cell_type": "code",
   "execution_count": 78,
   "outputs": [
    {
     "data": {
      "text/plain": "   Climate  WindGustDir  WindDir9am  WindDir3pm  RainToday  Cloud9am  Cloud3pm\n0      0.0         11.0         8.0        11.0        1.0       7.0       7.0\n1      4.0         12.0        12.0         8.0        1.0       8.0       7.0\n2      0.0          4.0         3.0         9.0        0.0       7.0       7.0\n3      6.0         12.0        13.0         9.0        0.0       7.0       7.0\n4      4.0          0.0        12.0         0.0        0.0       8.0       4.0",
      "text/html": "<div>\n<style scoped>\n    .dataframe tbody tr th:only-of-type {\n        vertical-align: middle;\n    }\n\n    .dataframe tbody tr th {\n        vertical-align: top;\n    }\n\n    .dataframe thead th {\n        text-align: right;\n    }\n</style>\n<table border=\"1\" class=\"dataframe\">\n  <thead>\n    <tr style=\"text-align: right;\">\n      <th></th>\n      <th>Climate</th>\n      <th>WindGustDir</th>\n      <th>WindDir9am</th>\n      <th>WindDir3pm</th>\n      <th>RainToday</th>\n      <th>Cloud9am</th>\n      <th>Cloud3pm</th>\n    </tr>\n  </thead>\n  <tbody>\n    <tr>\n      <th>0</th>\n      <td>0.0</td>\n      <td>11.0</td>\n      <td>8.0</td>\n      <td>11.0</td>\n      <td>1.0</td>\n      <td>7.0</td>\n      <td>7.0</td>\n    </tr>\n    <tr>\n      <th>1</th>\n      <td>4.0</td>\n      <td>12.0</td>\n      <td>12.0</td>\n      <td>8.0</td>\n      <td>1.0</td>\n      <td>8.0</td>\n      <td>7.0</td>\n    </tr>\n    <tr>\n      <th>2</th>\n      <td>0.0</td>\n      <td>4.0</td>\n      <td>3.0</td>\n      <td>9.0</td>\n      <td>0.0</td>\n      <td>7.0</td>\n      <td>7.0</td>\n    </tr>\n    <tr>\n      <th>3</th>\n      <td>6.0</td>\n      <td>12.0</td>\n      <td>13.0</td>\n      <td>9.0</td>\n      <td>0.0</td>\n      <td>7.0</td>\n      <td>7.0</td>\n    </tr>\n    <tr>\n      <th>4</th>\n      <td>4.0</td>\n      <td>0.0</td>\n      <td>12.0</td>\n      <td>0.0</td>\n      <td>0.0</td>\n      <td>8.0</td>\n      <td>4.0</td>\n    </tr>\n  </tbody>\n</table>\n</div>"
     },
     "execution_count": 78,
     "metadata": {},
     "output_type": "execute_result"
    }
   ],
   "source": [
    "Xtest.loc[:, cate].head()"
   ],
   "metadata": {
    "collapsed": false,
    "ExecuteTime": {
     "start_time": "2023-07-01T15:13:25.340997Z",
     "end_time": "2023-07-01T15:13:25.455694Z"
    }
   }
  },
  {
   "cell_type": "code",
   "execution_count": 79,
   "outputs": [],
   "source": [
    "col = Xtrain.columns.tolist()"
   ],
   "metadata": {
    "collapsed": false,
    "ExecuteTime": {
     "start_time": "2023-07-01T15:20:41.294832Z",
     "end_time": "2023-07-01T15:20:41.345831Z"
    }
   }
  },
  {
   "cell_type": "code",
   "execution_count": 80,
   "outputs": [],
   "source": [
    "for i in cate:\n",
    "    col.remove(i)"
   ],
   "metadata": {
    "collapsed": false,
    "ExecuteTime": {
     "start_time": "2023-07-01T15:20:56.645869Z",
     "end_time": "2023-07-01T15:20:56.696870Z"
    }
   }
  },
  {
   "cell_type": "code",
   "execution_count": 81,
   "outputs": [
    {
     "data": {
      "text/plain": "['Month',\n 'MinTemp',\n 'MaxTemp',\n 'Rainfall',\n 'Evaporation',\n 'Sunshine',\n 'WindGustSpeed',\n 'WindSpeed9am',\n 'WindSpeed3pm',\n 'Humidity9am',\n 'Humidity3pm',\n 'Pressure9am',\n 'Pressure3pm',\n 'Temp9am',\n 'Temp3pm']"
     },
     "execution_count": 81,
     "metadata": {},
     "output_type": "execute_result"
    }
   ],
   "source": [
    "col"
   ],
   "metadata": {
    "collapsed": false,
    "ExecuteTime": {
     "start_time": "2023-07-01T15:20:58.382689Z",
     "end_time": "2023-07-01T15:20:58.443762Z"
    }
   }
  },
  {
   "cell_type": "code",
   "execution_count": 82,
   "outputs": [],
   "source": [
    "impmean = SimpleImputer(missing_values=np.nan, strategy=\"mean\")"
   ],
   "metadata": {
    "collapsed": false,
    "ExecuteTime": {
     "start_time": "2023-07-01T15:21:39.492793Z",
     "end_time": "2023-07-01T15:21:39.525145Z"
    }
   }
  },
  {
   "cell_type": "code",
   "execution_count": 83,
   "outputs": [],
   "source": [
    "#用训练集来fit模型\n",
    "impmean = impmean.fit(Xtrain.loc[:, col])"
   ],
   "metadata": {
    "collapsed": false,
    "ExecuteTime": {
     "start_time": "2023-07-01T15:21:40.451043Z",
     "end_time": "2023-07-01T15:21:40.469042Z"
    }
   }
  },
  {
   "cell_type": "code",
   "execution_count": 84,
   "outputs": [],
   "source": [
    "#分别在训练集和测试集上进行均值填补\n",
    "Xtrain.loc[:, col] = impmean.transform(Xtrain.loc[:, col])\n",
    "Xtest.loc[:, col] = impmean.transform(Xtest.loc[:, col])"
   ],
   "metadata": {
    "collapsed": false,
    "ExecuteTime": {
     "start_time": "2023-07-01T15:21:46.966677Z",
     "end_time": "2023-07-01T15:21:47.010275Z"
    }
   }
  },
  {
   "cell_type": "code",
   "execution_count": 85,
   "outputs": [
    {
     "data": {
      "text/plain": "   Month  Climate  MinTemp  MaxTemp  Rainfall  Evaporation   Sunshine  \\\n0    8.0      1.0     17.5     36.0       0.0     8.800000   7.508659   \n1   12.0      0.0      9.5     25.0       0.0     5.619163   7.508659   \n2    4.0      4.0     13.0     22.6       0.0     3.800000  10.400000   \n3   11.0      4.0     13.9     29.8       0.0     5.800000   5.100000   \n4    4.0      2.0      6.0     23.5       0.0     2.800000   8.600000   \n\n   WindGustDir  WindGustSpeed  WindDir9am  ...  WindSpeed3pm  Humidity9am  \\\n0          2.0      26.000000         6.0  ...          15.0         57.0   \n1          6.0      33.000000         4.0  ...          17.0         59.0   \n2         13.0      39.858413         4.0  ...          31.0         79.0   \n3          8.0      37.000000         3.0  ...          28.0         82.0   \n4          5.0      24.000000         0.0  ...          15.0         58.0   \n\n   Humidity3pm  Pressure9am  Pressure3pm  Cloud9am  Cloud3pm  Temp9am  \\\n0    51.651995       1016.8       1012.2       0.0       7.0     27.5   \n1    31.000000       1020.4       1017.5       7.0       7.0     14.6   \n2    68.000000       1020.3       1015.7       1.0       3.0     17.5   \n3    44.000000       1012.5       1005.9       6.0       6.0     18.5   \n4    35.000000       1019.8       1014.1       2.0       4.0     12.4   \n\n     Temp3pm  RainToday  \n0  21.719003        0.0  \n1  23.600000        0.0  \n2  20.800000        0.0  \n3  27.500000        0.0  \n4  22.400000        0.0  \n\n[5 rows x 22 columns]",
      "text/html": "<div>\n<style scoped>\n    .dataframe tbody tr th:only-of-type {\n        vertical-align: middle;\n    }\n\n    .dataframe tbody tr th {\n        vertical-align: top;\n    }\n\n    .dataframe thead th {\n        text-align: right;\n    }\n</style>\n<table border=\"1\" class=\"dataframe\">\n  <thead>\n    <tr style=\"text-align: right;\">\n      <th></th>\n      <th>Month</th>\n      <th>Climate</th>\n      <th>MinTemp</th>\n      <th>MaxTemp</th>\n      <th>Rainfall</th>\n      <th>Evaporation</th>\n      <th>Sunshine</th>\n      <th>WindGustDir</th>\n      <th>WindGustSpeed</th>\n      <th>WindDir9am</th>\n      <th>...</th>\n      <th>WindSpeed3pm</th>\n      <th>Humidity9am</th>\n      <th>Humidity3pm</th>\n      <th>Pressure9am</th>\n      <th>Pressure3pm</th>\n      <th>Cloud9am</th>\n      <th>Cloud3pm</th>\n      <th>Temp9am</th>\n      <th>Temp3pm</th>\n      <th>RainToday</th>\n    </tr>\n  </thead>\n  <tbody>\n    <tr>\n      <th>0</th>\n      <td>8.0</td>\n      <td>1.0</td>\n      <td>17.5</td>\n      <td>36.0</td>\n      <td>0.0</td>\n      <td>8.800000</td>\n      <td>7.508659</td>\n      <td>2.0</td>\n      <td>26.000000</td>\n      <td>6.0</td>\n      <td>...</td>\n      <td>15.0</td>\n      <td>57.0</td>\n      <td>51.651995</td>\n      <td>1016.8</td>\n      <td>1012.2</td>\n      <td>0.0</td>\n      <td>7.0</td>\n      <td>27.5</td>\n      <td>21.719003</td>\n      <td>0.0</td>\n    </tr>\n    <tr>\n      <th>1</th>\n      <td>12.0</td>\n      <td>0.0</td>\n      <td>9.5</td>\n      <td>25.0</td>\n      <td>0.0</td>\n      <td>5.619163</td>\n      <td>7.508659</td>\n      <td>6.0</td>\n      <td>33.000000</td>\n      <td>4.0</td>\n      <td>...</td>\n      <td>17.0</td>\n      <td>59.0</td>\n      <td>31.000000</td>\n      <td>1020.4</td>\n      <td>1017.5</td>\n      <td>7.0</td>\n      <td>7.0</td>\n      <td>14.6</td>\n      <td>23.600000</td>\n      <td>0.0</td>\n    </tr>\n    <tr>\n      <th>2</th>\n      <td>4.0</td>\n      <td>4.0</td>\n      <td>13.0</td>\n      <td>22.6</td>\n      <td>0.0</td>\n      <td>3.800000</td>\n      <td>10.400000</td>\n      <td>13.0</td>\n      <td>39.858413</td>\n      <td>4.0</td>\n      <td>...</td>\n      <td>31.0</td>\n      <td>79.0</td>\n      <td>68.000000</td>\n      <td>1020.3</td>\n      <td>1015.7</td>\n      <td>1.0</td>\n      <td>3.0</td>\n      <td>17.5</td>\n      <td>20.800000</td>\n      <td>0.0</td>\n    </tr>\n    <tr>\n      <th>3</th>\n      <td>11.0</td>\n      <td>4.0</td>\n      <td>13.9</td>\n      <td>29.8</td>\n      <td>0.0</td>\n      <td>5.800000</td>\n      <td>5.100000</td>\n      <td>8.0</td>\n      <td>37.000000</td>\n      <td>3.0</td>\n      <td>...</td>\n      <td>28.0</td>\n      <td>82.0</td>\n      <td>44.000000</td>\n      <td>1012.5</td>\n      <td>1005.9</td>\n      <td>6.0</td>\n      <td>6.0</td>\n      <td>18.5</td>\n      <td>27.500000</td>\n      <td>0.0</td>\n    </tr>\n    <tr>\n      <th>4</th>\n      <td>4.0</td>\n      <td>2.0</td>\n      <td>6.0</td>\n      <td>23.5</td>\n      <td>0.0</td>\n      <td>2.800000</td>\n      <td>8.600000</td>\n      <td>5.0</td>\n      <td>24.000000</td>\n      <td>0.0</td>\n      <td>...</td>\n      <td>15.0</td>\n      <td>58.0</td>\n      <td>35.000000</td>\n      <td>1019.8</td>\n      <td>1014.1</td>\n      <td>2.0</td>\n      <td>4.0</td>\n      <td>12.4</td>\n      <td>22.400000</td>\n      <td>0.0</td>\n    </tr>\n  </tbody>\n</table>\n<p>5 rows × 22 columns</p>\n</div>"
     },
     "execution_count": 85,
     "metadata": {},
     "output_type": "execute_result"
    }
   ],
   "source": [
    "Xtrain.head()"
   ],
   "metadata": {
    "collapsed": false,
    "ExecuteTime": {
     "start_time": "2023-07-01T15:21:47.628245Z",
     "end_time": "2023-07-01T15:21:47.644543Z"
    }
   }
  },
  {
   "cell_type": "code",
   "execution_count": 86,
   "outputs": [
    {
     "data": {
      "text/plain": "   Month  Climate  MinTemp  MaxTemp   Rainfall  Evaporation  Sunshine  \\\n0    1.0      0.0     22.0     27.8  25.200000     5.619163  7.508659   \n1    3.0      4.0     12.0     18.6   2.200000     3.000000  7.800000   \n2    3.0      0.0      9.1     13.3   2.487049     5.619163  7.508659   \n3   10.0      6.0     13.1     20.3   0.000000     5.619163  7.508659   \n4   11.0      4.0     12.2     20.0   0.400000     5.619163  7.508659   \n\n   WindGustDir  WindGustSpeed  WindDir9am  ...  WindSpeed3pm  Humidity9am  \\\n0         11.0           57.0         8.0  ...      37.00000    91.000000   \n1         12.0           52.0        12.0  ...      28.00000    88.000000   \n2          4.0           41.0         3.0  ...      18.55339    69.069095   \n3         12.0           33.0        13.0  ...      24.00000    40.000000   \n4          0.0           33.0        12.0  ...      19.00000    92.000000   \n\n   Humidity3pm  Pressure9am  Pressure3pm  Cloud9am  Cloud3pm    Temp9am  \\\n0    86.000000  1006.600000  1008.100000       7.0       7.0  26.200000   \n1    62.000000  1020.200000  1019.900000       8.0       7.0  14.800000   \n2    51.651995  1017.622067  1015.227077       7.0       7.0  16.989859   \n3    51.000000  1021.300000  1019.500000       7.0       7.0  16.800000   \n4    69.000000  1015.600000  1013.200000       8.0       4.0  13.600000   \n\n     Temp3pm  RainToday  \n0  23.100000        1.0  \n1  17.500000        1.0  \n2  21.719003        0.0  \n3  19.600000        0.0  \n4  19.000000        0.0  \n\n[5 rows x 22 columns]",
      "text/html": "<div>\n<style scoped>\n    .dataframe tbody tr th:only-of-type {\n        vertical-align: middle;\n    }\n\n    .dataframe tbody tr th {\n        vertical-align: top;\n    }\n\n    .dataframe thead th {\n        text-align: right;\n    }\n</style>\n<table border=\"1\" class=\"dataframe\">\n  <thead>\n    <tr style=\"text-align: right;\">\n      <th></th>\n      <th>Month</th>\n      <th>Climate</th>\n      <th>MinTemp</th>\n      <th>MaxTemp</th>\n      <th>Rainfall</th>\n      <th>Evaporation</th>\n      <th>Sunshine</th>\n      <th>WindGustDir</th>\n      <th>WindGustSpeed</th>\n      <th>WindDir9am</th>\n      <th>...</th>\n      <th>WindSpeed3pm</th>\n      <th>Humidity9am</th>\n      <th>Humidity3pm</th>\n      <th>Pressure9am</th>\n      <th>Pressure3pm</th>\n      <th>Cloud9am</th>\n      <th>Cloud3pm</th>\n      <th>Temp9am</th>\n      <th>Temp3pm</th>\n      <th>RainToday</th>\n    </tr>\n  </thead>\n  <tbody>\n    <tr>\n      <th>0</th>\n      <td>1.0</td>\n      <td>0.0</td>\n      <td>22.0</td>\n      <td>27.8</td>\n      <td>25.200000</td>\n      <td>5.619163</td>\n      <td>7.508659</td>\n      <td>11.0</td>\n      <td>57.0</td>\n      <td>8.0</td>\n      <td>...</td>\n      <td>37.00000</td>\n      <td>91.000000</td>\n      <td>86.000000</td>\n      <td>1006.600000</td>\n      <td>1008.100000</td>\n      <td>7.0</td>\n      <td>7.0</td>\n      <td>26.200000</td>\n      <td>23.100000</td>\n      <td>1.0</td>\n    </tr>\n    <tr>\n      <th>1</th>\n      <td>3.0</td>\n      <td>4.0</td>\n      <td>12.0</td>\n      <td>18.6</td>\n      <td>2.200000</td>\n      <td>3.000000</td>\n      <td>7.800000</td>\n      <td>12.0</td>\n      <td>52.0</td>\n      <td>12.0</td>\n      <td>...</td>\n      <td>28.00000</td>\n      <td>88.000000</td>\n      <td>62.000000</td>\n      <td>1020.200000</td>\n      <td>1019.900000</td>\n      <td>8.0</td>\n      <td>7.0</td>\n      <td>14.800000</td>\n      <td>17.500000</td>\n      <td>1.0</td>\n    </tr>\n    <tr>\n      <th>2</th>\n      <td>3.0</td>\n      <td>0.0</td>\n      <td>9.1</td>\n      <td>13.3</td>\n      <td>2.487049</td>\n      <td>5.619163</td>\n      <td>7.508659</td>\n      <td>4.0</td>\n      <td>41.0</td>\n      <td>3.0</td>\n      <td>...</td>\n      <td>18.55339</td>\n      <td>69.069095</td>\n      <td>51.651995</td>\n      <td>1017.622067</td>\n      <td>1015.227077</td>\n      <td>7.0</td>\n      <td>7.0</td>\n      <td>16.989859</td>\n      <td>21.719003</td>\n      <td>0.0</td>\n    </tr>\n    <tr>\n      <th>3</th>\n      <td>10.0</td>\n      <td>6.0</td>\n      <td>13.1</td>\n      <td>20.3</td>\n      <td>0.000000</td>\n      <td>5.619163</td>\n      <td>7.508659</td>\n      <td>12.0</td>\n      <td>33.0</td>\n      <td>13.0</td>\n      <td>...</td>\n      <td>24.00000</td>\n      <td>40.000000</td>\n      <td>51.000000</td>\n      <td>1021.300000</td>\n      <td>1019.500000</td>\n      <td>7.0</td>\n      <td>7.0</td>\n      <td>16.800000</td>\n      <td>19.600000</td>\n      <td>0.0</td>\n    </tr>\n    <tr>\n      <th>4</th>\n      <td>11.0</td>\n      <td>4.0</td>\n      <td>12.2</td>\n      <td>20.0</td>\n      <td>0.400000</td>\n      <td>5.619163</td>\n      <td>7.508659</td>\n      <td>0.0</td>\n      <td>33.0</td>\n      <td>12.0</td>\n      <td>...</td>\n      <td>19.00000</td>\n      <td>92.000000</td>\n      <td>69.000000</td>\n      <td>1015.600000</td>\n      <td>1013.200000</td>\n      <td>8.0</td>\n      <td>4.0</td>\n      <td>13.600000</td>\n      <td>19.000000</td>\n      <td>0.0</td>\n    </tr>\n  </tbody>\n</table>\n<p>5 rows × 22 columns</p>\n</div>"
     },
     "execution_count": 86,
     "metadata": {},
     "output_type": "execute_result"
    }
   ],
   "source": [
    "Xtest.head()"
   ],
   "metadata": {
    "collapsed": false,
    "ExecuteTime": {
     "start_time": "2023-07-01T15:21:48.597991Z",
     "end_time": "2023-07-01T15:21:48.625542Z"
    }
   }
  },
  {
   "cell_type": "code",
   "execution_count": 89,
   "outputs": [
    {
     "data": {
      "text/plain": "Month            0.0\nClimate          0.0\nMinTemp          0.0\nMaxTemp          0.0\nRainfall         0.0\nEvaporation      0.0\nSunshine         0.0\nWindGustDir      0.0\nWindGustSpeed    0.0\nWindDir9am       0.0\nWindDir3pm       0.0\nWindSpeed9am     0.0\nWindSpeed3pm     0.0\nHumidity9am      0.0\nHumidity3pm      0.0\nPressure9am      0.0\nPressure3pm      0.0\nCloud9am         0.0\nCloud3pm         0.0\nTemp9am          0.0\nTemp3pm          0.0\nRainToday        0.0\ndtype: float64"
     },
     "execution_count": 89,
     "metadata": {},
     "output_type": "execute_result"
    }
   ],
   "source": [
    "Xtrain.isnull().mean()"
   ],
   "metadata": {
    "collapsed": false,
    "ExecuteTime": {
     "start_time": "2023-07-01T15:23:48.089774Z",
     "end_time": "2023-07-01T15:23:48.116309Z"
    }
   }
  },
  {
   "cell_type": "code",
   "execution_count": 90,
   "outputs": [
    {
     "data": {
      "text/plain": "Month            0.0\nClimate          0.0\nMinTemp          0.0\nMaxTemp          0.0\nRainfall         0.0\nEvaporation      0.0\nSunshine         0.0\nWindGustDir      0.0\nWindGustSpeed    0.0\nWindDir9am       0.0\nWindDir3pm       0.0\nWindSpeed9am     0.0\nWindSpeed3pm     0.0\nHumidity9am      0.0\nHumidity3pm      0.0\nPressure9am      0.0\nPressure3pm      0.0\nCloud9am         0.0\nCloud3pm         0.0\nTemp9am          0.0\nTemp3pm          0.0\nRainToday        0.0\ndtype: float64"
     },
     "execution_count": 90,
     "metadata": {},
     "output_type": "execute_result"
    }
   ],
   "source": [
    "Xtest.isnull().mean()"
   ],
   "metadata": {
    "collapsed": false,
    "ExecuteTime": {
     "start_time": "2023-07-01T15:24:00.429235Z",
     "end_time": "2023-07-01T15:24:00.503621Z"
    }
   }
  },
  {
   "cell_type": "code",
   "execution_count": 91,
   "outputs": [
    {
     "data": {
      "text/plain": "['MinTemp',\n 'MaxTemp',\n 'Rainfall',\n 'Evaporation',\n 'Sunshine',\n 'WindGustSpeed',\n 'WindSpeed9am',\n 'WindSpeed3pm',\n 'Humidity9am',\n 'Humidity3pm',\n 'Pressure9am',\n 'Pressure3pm',\n 'Temp9am',\n 'Temp3pm']"
     },
     "execution_count": 91,
     "metadata": {},
     "output_type": "execute_result"
    }
   ],
   "source": [
    "col.remove(\"Month\")\n",
    "col"
   ],
   "metadata": {
    "collapsed": false,
    "ExecuteTime": {
     "start_time": "2023-07-01T15:26:31.087686Z",
     "end_time": "2023-07-01T15:26:31.133189Z"
    }
   }
  },
  {
   "cell_type": "code",
   "execution_count": 92,
   "outputs": [],
   "source": [
    "from sklearn.preprocessing import StandardScaler\n",
    "\n",
    "ss = StandardScaler()\n",
    "ss = ss.fit(Xtrain.loc[:, col])\n",
    "Xtrain.loc[:, col] = ss.transform(Xtrain.loc[:, col])\n",
    "Xtest.loc[:, col] = ss.transform(Xtest.loc[:, col])"
   ],
   "metadata": {
    "collapsed": false,
    "ExecuteTime": {
     "start_time": "2023-07-01T15:26:32.196728Z",
     "end_time": "2023-07-01T15:26:32.254644Z"
    }
   }
  },
  {
   "cell_type": "code",
   "execution_count": 93,
   "outputs": [
    {
     "data": {
      "text/plain": "   Month  Climate   MinTemp   MaxTemp  Rainfall  Evaporation  Sunshine  \\\n0    8.0      1.0  0.826375  1.774044 -0.314379     0.964367  0.000000   \n1   12.0      0.0 -0.427048  0.244031 -0.314379     0.000000  0.000000   \n2    4.0      4.0  0.121324 -0.089790 -0.314379    -0.551534  1.062619   \n3   11.0      4.0  0.262334  0.911673 -0.314379     0.054826 -0.885225   \n4    4.0      2.0 -0.975421  0.035393 -0.314379    -0.854715  0.401087   \n\n   WindGustDir  WindGustSpeed  WindDir9am  ...  WindSpeed3pm  Humidity9am  \\\n0          2.0  -1.085893e+00         6.0  ...     -0.416443    -0.646283   \n1          6.0  -5.373993e-01         4.0  ...     -0.182051    -0.539186   \n2         13.0  -1.113509e-15         4.0  ...      1.458692     0.531786   \n3          8.0  -2.239744e-01         3.0  ...      1.107105     0.692432   \n4          5.0  -1.242605e+00         0.0  ...     -0.416443    -0.592734   \n\n   Humidity3pm  Pressure9am  Pressure3pm  Cloud9am  Cloud3pm   Temp9am  \\\n0     0.000000    -0.122589    -0.453507       0.0       7.0  1.612270   \n1    -1.011310     0.414254     0.340522       7.0       7.0 -0.366608   \n2     0.800547     0.399342     0.070852       1.0       3.0  0.078256   \n3    -0.374711    -0.763819    -1.397352       6.0       6.0  0.231658   \n4    -0.815433     0.324780    -0.168855       2.0       4.0 -0.704091   \n\n    Temp3pm  RainToday  \n0  0.000000        0.0  \n1  0.270238        0.0  \n2 -0.132031        0.0  \n3  0.830540        0.0  \n4  0.097837        0.0  \n\n[5 rows x 22 columns]",
      "text/html": "<div>\n<style scoped>\n    .dataframe tbody tr th:only-of-type {\n        vertical-align: middle;\n    }\n\n    .dataframe tbody tr th {\n        vertical-align: top;\n    }\n\n    .dataframe thead th {\n        text-align: right;\n    }\n</style>\n<table border=\"1\" class=\"dataframe\">\n  <thead>\n    <tr style=\"text-align: right;\">\n      <th></th>\n      <th>Month</th>\n      <th>Climate</th>\n      <th>MinTemp</th>\n      <th>MaxTemp</th>\n      <th>Rainfall</th>\n      <th>Evaporation</th>\n      <th>Sunshine</th>\n      <th>WindGustDir</th>\n      <th>WindGustSpeed</th>\n      <th>WindDir9am</th>\n      <th>...</th>\n      <th>WindSpeed3pm</th>\n      <th>Humidity9am</th>\n      <th>Humidity3pm</th>\n      <th>Pressure9am</th>\n      <th>Pressure3pm</th>\n      <th>Cloud9am</th>\n      <th>Cloud3pm</th>\n      <th>Temp9am</th>\n      <th>Temp3pm</th>\n      <th>RainToday</th>\n    </tr>\n  </thead>\n  <tbody>\n    <tr>\n      <th>0</th>\n      <td>8.0</td>\n      <td>1.0</td>\n      <td>0.826375</td>\n      <td>1.774044</td>\n      <td>-0.314379</td>\n      <td>0.964367</td>\n      <td>0.000000</td>\n      <td>2.0</td>\n      <td>-1.085893e+00</td>\n      <td>6.0</td>\n      <td>...</td>\n      <td>-0.416443</td>\n      <td>-0.646283</td>\n      <td>0.000000</td>\n      <td>-0.122589</td>\n      <td>-0.453507</td>\n      <td>0.0</td>\n      <td>7.0</td>\n      <td>1.612270</td>\n      <td>0.000000</td>\n      <td>0.0</td>\n    </tr>\n    <tr>\n      <th>1</th>\n      <td>12.0</td>\n      <td>0.0</td>\n      <td>-0.427048</td>\n      <td>0.244031</td>\n      <td>-0.314379</td>\n      <td>0.000000</td>\n      <td>0.000000</td>\n      <td>6.0</td>\n      <td>-5.373993e-01</td>\n      <td>4.0</td>\n      <td>...</td>\n      <td>-0.182051</td>\n      <td>-0.539186</td>\n      <td>-1.011310</td>\n      <td>0.414254</td>\n      <td>0.340522</td>\n      <td>7.0</td>\n      <td>7.0</td>\n      <td>-0.366608</td>\n      <td>0.270238</td>\n      <td>0.0</td>\n    </tr>\n    <tr>\n      <th>2</th>\n      <td>4.0</td>\n      <td>4.0</td>\n      <td>0.121324</td>\n      <td>-0.089790</td>\n      <td>-0.314379</td>\n      <td>-0.551534</td>\n      <td>1.062619</td>\n      <td>13.0</td>\n      <td>-1.113509e-15</td>\n      <td>4.0</td>\n      <td>...</td>\n      <td>1.458692</td>\n      <td>0.531786</td>\n      <td>0.800547</td>\n      <td>0.399342</td>\n      <td>0.070852</td>\n      <td>1.0</td>\n      <td>3.0</td>\n      <td>0.078256</td>\n      <td>-0.132031</td>\n      <td>0.0</td>\n    </tr>\n    <tr>\n      <th>3</th>\n      <td>11.0</td>\n      <td>4.0</td>\n      <td>0.262334</td>\n      <td>0.911673</td>\n      <td>-0.314379</td>\n      <td>0.054826</td>\n      <td>-0.885225</td>\n      <td>8.0</td>\n      <td>-2.239744e-01</td>\n      <td>3.0</td>\n      <td>...</td>\n      <td>1.107105</td>\n      <td>0.692432</td>\n      <td>-0.374711</td>\n      <td>-0.763819</td>\n      <td>-1.397352</td>\n      <td>6.0</td>\n      <td>6.0</td>\n      <td>0.231658</td>\n      <td>0.830540</td>\n      <td>0.0</td>\n    </tr>\n    <tr>\n      <th>4</th>\n      <td>4.0</td>\n      <td>2.0</td>\n      <td>-0.975421</td>\n      <td>0.035393</td>\n      <td>-0.314379</td>\n      <td>-0.854715</td>\n      <td>0.401087</td>\n      <td>5.0</td>\n      <td>-1.242605e+00</td>\n      <td>0.0</td>\n      <td>...</td>\n      <td>-0.416443</td>\n      <td>-0.592734</td>\n      <td>-0.815433</td>\n      <td>0.324780</td>\n      <td>-0.168855</td>\n      <td>2.0</td>\n      <td>4.0</td>\n      <td>-0.704091</td>\n      <td>0.097837</td>\n      <td>0.0</td>\n    </tr>\n  </tbody>\n</table>\n<p>5 rows × 22 columns</p>\n</div>"
     },
     "execution_count": 93,
     "metadata": {},
     "output_type": "execute_result"
    }
   ],
   "source": [
    "Xtrain.head()"
   ],
   "metadata": {
    "collapsed": false,
    "ExecuteTime": {
     "start_time": "2023-07-01T15:26:32.899380Z",
     "end_time": "2023-07-01T15:26:32.941622Z"
    }
   }
  },
  {
   "cell_type": "code",
   "execution_count": 94,
   "outputs": [
    {
     "data": {
      "text/plain": "   Month  Climate   MinTemp   MaxTemp  Rainfall  Evaporation  Sunshine  \\\n0    1.0      0.0  1.531425  0.633489  2.871067     0.000000  0.000000   \n1    3.0      4.0 -0.035354 -0.646158 -0.036285    -0.794079  0.107073   \n2    3.0      0.0 -0.489720 -1.383346  0.000000     0.000000  0.000000   \n3   10.0      6.0  0.136992 -0.409702 -0.314379     0.000000  0.000000   \n4   11.0      4.0 -0.004018 -0.451429 -0.263817     0.000000  0.000000   \n\n   WindGustDir  WindGustSpeed  WindDir9am  ...  WindSpeed3pm  Humidity9am  \\\n0         11.0       1.343150         8.0  ...  2.161868e+00     1.174369   \n1         12.0       0.951369        12.0  ...  1.107105e+00     1.013723   \n2          4.0       0.089450         3.0  ... -4.163637e-16     0.000000   \n3         12.0      -0.537399        13.0  ...  6.383207e-01    -1.556609   \n4          0.0      -0.537399        12.0  ...  5.234093e-02     1.227917   \n\n   Humidity3pm  Pressure9am  Pressure3pm  Cloud9am  Cloud3pm   Temp9am  \\\n0     1.681991    -1.643646    -1.067755       7.0       7.0  1.412848   \n1     0.506733     0.384430     0.700082       8.0       7.0 -0.335927   \n2     0.000000     0.000000     0.000000       7.0       7.0  0.000000   \n3    -0.031928     0.548465     0.640155       7.0       7.0 -0.029125   \n4     0.849516    -0.301537    -0.303690       8.0       4.0 -0.520009   \n\n    Temp3pm  RainToday  \n0  0.198404        1.0  \n1 -0.606132        1.0  \n2  0.000000        0.0  \n3 -0.304431        0.0  \n4 -0.390632        0.0  \n\n[5 rows x 22 columns]",
      "text/html": "<div>\n<style scoped>\n    .dataframe tbody tr th:only-of-type {\n        vertical-align: middle;\n    }\n\n    .dataframe tbody tr th {\n        vertical-align: top;\n    }\n\n    .dataframe thead th {\n        text-align: right;\n    }\n</style>\n<table border=\"1\" class=\"dataframe\">\n  <thead>\n    <tr style=\"text-align: right;\">\n      <th></th>\n      <th>Month</th>\n      <th>Climate</th>\n      <th>MinTemp</th>\n      <th>MaxTemp</th>\n      <th>Rainfall</th>\n      <th>Evaporation</th>\n      <th>Sunshine</th>\n      <th>WindGustDir</th>\n      <th>WindGustSpeed</th>\n      <th>WindDir9am</th>\n      <th>...</th>\n      <th>WindSpeed3pm</th>\n      <th>Humidity9am</th>\n      <th>Humidity3pm</th>\n      <th>Pressure9am</th>\n      <th>Pressure3pm</th>\n      <th>Cloud9am</th>\n      <th>Cloud3pm</th>\n      <th>Temp9am</th>\n      <th>Temp3pm</th>\n      <th>RainToday</th>\n    </tr>\n  </thead>\n  <tbody>\n    <tr>\n      <th>0</th>\n      <td>1.0</td>\n      <td>0.0</td>\n      <td>1.531425</td>\n      <td>0.633489</td>\n      <td>2.871067</td>\n      <td>0.000000</td>\n      <td>0.000000</td>\n      <td>11.0</td>\n      <td>1.343150</td>\n      <td>8.0</td>\n      <td>...</td>\n      <td>2.161868e+00</td>\n      <td>1.174369</td>\n      <td>1.681991</td>\n      <td>-1.643646</td>\n      <td>-1.067755</td>\n      <td>7.0</td>\n      <td>7.0</td>\n      <td>1.412848</td>\n      <td>0.198404</td>\n      <td>1.0</td>\n    </tr>\n    <tr>\n      <th>1</th>\n      <td>3.0</td>\n      <td>4.0</td>\n      <td>-0.035354</td>\n      <td>-0.646158</td>\n      <td>-0.036285</td>\n      <td>-0.794079</td>\n      <td>0.107073</td>\n      <td>12.0</td>\n      <td>0.951369</td>\n      <td>12.0</td>\n      <td>...</td>\n      <td>1.107105e+00</td>\n      <td>1.013723</td>\n      <td>0.506733</td>\n      <td>0.384430</td>\n      <td>0.700082</td>\n      <td>8.0</td>\n      <td>7.0</td>\n      <td>-0.335927</td>\n      <td>-0.606132</td>\n      <td>1.0</td>\n    </tr>\n    <tr>\n      <th>2</th>\n      <td>3.0</td>\n      <td>0.0</td>\n      <td>-0.489720</td>\n      <td>-1.383346</td>\n      <td>0.000000</td>\n      <td>0.000000</td>\n      <td>0.000000</td>\n      <td>4.0</td>\n      <td>0.089450</td>\n      <td>3.0</td>\n      <td>...</td>\n      <td>-4.163637e-16</td>\n      <td>0.000000</td>\n      <td>0.000000</td>\n      <td>0.000000</td>\n      <td>0.000000</td>\n      <td>7.0</td>\n      <td>7.0</td>\n      <td>0.000000</td>\n      <td>0.000000</td>\n      <td>0.0</td>\n    </tr>\n    <tr>\n      <th>3</th>\n      <td>10.0</td>\n      <td>6.0</td>\n      <td>0.136992</td>\n      <td>-0.409702</td>\n      <td>-0.314379</td>\n      <td>0.000000</td>\n      <td>0.000000</td>\n      <td>12.0</td>\n      <td>-0.537399</td>\n      <td>13.0</td>\n      <td>...</td>\n      <td>6.383207e-01</td>\n      <td>-1.556609</td>\n      <td>-0.031928</td>\n      <td>0.548465</td>\n      <td>0.640155</td>\n      <td>7.0</td>\n      <td>7.0</td>\n      <td>-0.029125</td>\n      <td>-0.304431</td>\n      <td>0.0</td>\n    </tr>\n    <tr>\n      <th>4</th>\n      <td>11.0</td>\n      <td>4.0</td>\n      <td>-0.004018</td>\n      <td>-0.451429</td>\n      <td>-0.263817</td>\n      <td>0.000000</td>\n      <td>0.000000</td>\n      <td>0.0</td>\n      <td>-0.537399</td>\n      <td>12.0</td>\n      <td>...</td>\n      <td>5.234093e-02</td>\n      <td>1.227917</td>\n      <td>0.849516</td>\n      <td>-0.301537</td>\n      <td>-0.303690</td>\n      <td>8.0</td>\n      <td>4.0</td>\n      <td>-0.520009</td>\n      <td>-0.390632</td>\n      <td>0.0</td>\n    </tr>\n  </tbody>\n</table>\n<p>5 rows × 22 columns</p>\n</div>"
     },
     "execution_count": 94,
     "metadata": {},
     "output_type": "execute_result"
    }
   ],
   "source": [
    "Xtest.head()"
   ],
   "metadata": {
    "collapsed": false,
    "ExecuteTime": {
     "start_time": "2023-07-01T15:26:34.055738Z",
     "end_time": "2023-07-01T15:26:34.094241Z"
    }
   }
  },
  {
   "cell_type": "code",
   "execution_count": 95,
   "outputs": [
    {
     "data": {
      "text/plain": "   0\n0  0\n1  0\n2  0\n3  1\n4  0",
      "text/html": "<div>\n<style scoped>\n    .dataframe tbody tr th:only-of-type {\n        vertical-align: middle;\n    }\n\n    .dataframe tbody tr th {\n        vertical-align: top;\n    }\n\n    .dataframe thead th {\n        text-align: right;\n    }\n</style>\n<table border=\"1\" class=\"dataframe\">\n  <thead>\n    <tr style=\"text-align: right;\">\n      <th></th>\n      <th>0</th>\n    </tr>\n  </thead>\n  <tbody>\n    <tr>\n      <th>0</th>\n      <td>0</td>\n    </tr>\n    <tr>\n      <th>1</th>\n      <td>0</td>\n    </tr>\n    <tr>\n      <th>2</th>\n      <td>0</td>\n    </tr>\n    <tr>\n      <th>3</th>\n      <td>1</td>\n    </tr>\n    <tr>\n      <th>4</th>\n      <td>0</td>\n    </tr>\n  </tbody>\n</table>\n</div>"
     },
     "execution_count": 95,
     "metadata": {},
     "output_type": "execute_result"
    }
   ],
   "source": [
    "Ytrain.head()"
   ],
   "metadata": {
    "collapsed": false,
    "ExecuteTime": {
     "start_time": "2023-07-01T15:26:34.655869Z",
     "end_time": "2023-07-01T15:26:34.696950Z"
    }
   }
  },
  {
   "cell_type": "code",
   "execution_count": 96,
   "outputs": [
    {
     "data": {
      "text/plain": "   0\n0  0\n1  0\n2  1\n3  0\n4  0",
      "text/html": "<div>\n<style scoped>\n    .dataframe tbody tr th:only-of-type {\n        vertical-align: middle;\n    }\n\n    .dataframe tbody tr th {\n        vertical-align: top;\n    }\n\n    .dataframe thead th {\n        text-align: right;\n    }\n</style>\n<table border=\"1\" class=\"dataframe\">\n  <thead>\n    <tr style=\"text-align: right;\">\n      <th></th>\n      <th>0</th>\n    </tr>\n  </thead>\n  <tbody>\n    <tr>\n      <th>0</th>\n      <td>0</td>\n    </tr>\n    <tr>\n      <th>1</th>\n      <td>0</td>\n    </tr>\n    <tr>\n      <th>2</th>\n      <td>1</td>\n    </tr>\n    <tr>\n      <th>3</th>\n      <td>0</td>\n    </tr>\n    <tr>\n      <th>4</th>\n      <td>0</td>\n    </tr>\n  </tbody>\n</table>\n</div>"
     },
     "execution_count": 96,
     "metadata": {},
     "output_type": "execute_result"
    }
   ],
   "source": [
    "Ytest.head()"
   ],
   "metadata": {
    "collapsed": false,
    "ExecuteTime": {
     "start_time": "2023-07-01T15:26:35.239592Z",
     "end_time": "2023-07-01T15:26:35.328941Z"
    }
   }
  },
  {
   "cell_type": "code",
   "execution_count": 97,
   "outputs": [],
   "source": [
    "from time import time\n",
    "import datetime\n",
    "from sklearn.svm import SVC\n",
    "from sklearn.model_selection import cross_val_score\n",
    "from sklearn.metrics import roc_auc_score, recall_score"
   ],
   "metadata": {
    "collapsed": false,
    "ExecuteTime": {
     "start_time": "2023-07-01T15:29:35.491057Z",
     "end_time": "2023-07-01T15:29:35.597480Z"
    }
   }
  },
  {
   "cell_type": "code",
   "execution_count": 98,
   "outputs": [],
   "source": [
    "Ytrain = Ytrain.iloc[:, 0].ravel()\n",
    "Ytest = Ytest.iloc[:, 0].ravel()"
   ],
   "metadata": {
    "collapsed": false,
    "ExecuteTime": {
     "start_time": "2023-07-01T15:33:44.346229Z",
     "end_time": "2023-07-01T15:33:44.417796Z"
    }
   }
  },
  {
   "cell_type": "code",
   "execution_count": 101,
   "outputs": [
    {
     "name": "stdout",
     "output_type": "stream",
     "text": [
      "linear 's testing accuracy 0.844000, recall is 0.469388', auc is 0.869029\n",
      "00:02:706729\n",
      "poly 's testing accuracy 0.840667, recall is 0.457726', auc is 0.868157\n",
      "00:03:082922\n",
      "rbf 's testing accuracy 0.813333, recall is 0.306122', auc is 0.814873\n",
      "00:04:520111\n",
      "sigmoid 's testing accuracy 0.655333, recall is 0.154519', auc is 0.437308\n",
      "00:04:937778\n"
     ]
    }
   ],
   "source": [
    "#建模选择自然是我们的支持向量机SVC，首先用核函数的学习曲线来选择核函数\n",
    "#我们希望同时观察，精确性，recall以及AUC分数\n",
    "times = time()  #因为SVM是计算量很大的模型，所以我们需要时刻监控我们的模型运行时间\n",
    "for kernel in [\"linear\", \"poly\", \"rbf\", \"sigmoid\"]:\n",
    "    clf = SVC(kernel=kernel\n",
    "              , gamma=\"auto\"\n",
    "              , degree=1\n",
    "              , cache_size=5000\n",
    "              ).fit(Xtrain, Ytrain)\n",
    "    result = clf.predict(Xtest)\n",
    "    score = clf.score(Xtest, Ytest)\n",
    "    recall = recall_score(Ytest, result)\n",
    "    auc = roc_auc_score(Ytest, clf.decision_function(Xtest))\n",
    "    print(\"%s 's testing accuracy %f, recall is %f', auc is %f\" % (kernel, score, recall, auc))\n",
    "    print(datetime.datetime.fromtimestamp(time() - times).strftime(\"%M:%S:%f\"))"
   ],
   "metadata": {
    "collapsed": false,
    "ExecuteTime": {
     "start_time": "2023-07-01T15:47:48.885929Z",
     "end_time": "2023-07-01T15:47:53.837507Z"
    }
   }
  },
  {
   "cell_type": "code",
   "execution_count": 102,
   "outputs": [
    {
     "name": "stdout",
     "output_type": "stream",
     "text": [
      "linear 's testing accuracy 0.796667, recall is 0.775510', auc is 0.870062\n",
      "00:03:064313\n",
      "poly 's testing accuracy 0.793333, recall is 0.763848', auc is 0.871448\n",
      "00:03:592064\n",
      "rbf 's testing accuracy 0.803333, recall is 0.600583', auc is 0.819713\n",
      "00:05:265564\n",
      "sigmoid 's testing accuracy 0.562000, recall is 0.282799', auc is 0.437119\n",
      "00:06:292608\n"
     ]
    }
   ],
   "source": [
    "times = time()\n",
    "for kernel in [\"linear\", \"poly\", \"rbf\", \"sigmoid\"]:\n",
    "    clf = SVC(kernel=kernel\n",
    "              , gamma=\"auto\"\n",
    "              , degree=1\n",
    "              , cache_size=5000\n",
    "              , class_weight=\"balanced\"\n",
    "              ).fit(Xtrain, Ytrain)\n",
    "    result = clf.predict(Xtest)\n",
    "    score = clf.score(Xtest, Ytest)\n",
    "    recall = recall_score(Ytest, result)\n",
    "    auc = roc_auc_score(Ytest, clf.decision_function(Xtest))\n",
    "    print(\"%s 's testing accuracy %f, recall is %f', auc is %f\" %\n",
    "          (kernel, score, recall, auc))\n",
    "    print(datetime.datetime.fromtimestamp(time() - times).strftime(\"%M:%S:%f\"))"
   ],
   "metadata": {
    "collapsed": false,
    "ExecuteTime": {
     "start_time": "2023-07-01T15:55:09.638119Z",
     "end_time": "2023-07-01T15:55:15.947179Z"
    }
   }
  },
  {
   "cell_type": "code",
   "execution_count": 103,
   "outputs": [
    {
     "name": "stdout",
     "output_type": "stream",
     "text": [
      "testing accuracy 0.636667, recall is 0.912536', auc is 0.866360\n",
      "00:05:615061\n"
     ]
    }
   ],
   "source": [
    "times = time()\n",
    "clf = SVC(kernel=\"linear\"\n",
    "          , gamma=\"auto\"\n",
    "          , cache_size=5000\n",
    "          , class_weight={1: 10}  #注意，这里写的其实是，类别1：10，隐藏了类别0：1这个比例\n",
    "          ).fit(Xtrain, Ytrain)\n",
    "result = clf.predict(Xtest)\n",
    "score = clf.score(Xtest, Ytest)\n",
    "recall = recall_score(Ytest, result)\n",
    "auc = roc_auc_score(Ytest, clf.decision_function(Xtest))\n",
    "print(\"testing accuracy %f, recall is %f', auc is %f\" % (score, recall, auc))\n",
    "print(datetime.datetime.fromtimestamp(time() - times).strftime(\"%M:%S:%f\"))"
   ],
   "metadata": {
    "collapsed": false,
    "ExecuteTime": {
     "start_time": "2023-07-01T16:01:06.364967Z",
     "end_time": "2023-07-01T16:01:11.981580Z"
    }
   }
  },
  {
   "cell_type": "code",
   "execution_count": 104,
   "outputs": [],
   "source": [
    "valuec = pd.Series(Ytest).value_counts()"
   ],
   "metadata": {
    "collapsed": false,
    "ExecuteTime": {
     "start_time": "2023-07-01T16:08:55.185142Z",
     "end_time": "2023-07-01T16:08:55.208431Z"
    }
   }
  },
  {
   "cell_type": "code",
   "execution_count": 105,
   "outputs": [
    {
     "data": {
      "text/plain": "0    1157\n1     343\ndtype: int64"
     },
     "execution_count": 105,
     "metadata": {},
     "output_type": "execute_result"
    }
   ],
   "source": [
    "valuec"
   ],
   "metadata": {
    "collapsed": false,
    "ExecuteTime": {
     "start_time": "2023-07-01T16:08:55.779824Z",
     "end_time": "2023-07-01T16:08:55.804617Z"
    }
   }
  },
  {
   "cell_type": "code",
   "execution_count": 106,
   "outputs": [
    {
     "data": {
      "text/plain": "0.7713333333333333"
     },
     "execution_count": 106,
     "metadata": {},
     "output_type": "execute_result"
    }
   ],
   "source": [
    "valuec[0] / valuec.sum()"
   ],
   "metadata": {
    "collapsed": false,
    "ExecuteTime": {
     "start_time": "2023-07-01T16:08:56.386664Z",
     "end_time": "2023-07-01T16:08:56.414577Z"
    }
   }
  },
  {
   "cell_type": "code",
   "execution_count": 107,
   "outputs": [
    {
     "data": {
      "text/plain": "array([[ 161,  182],\n       [  52, 1105]], dtype=int64)"
     },
     "execution_count": 107,
     "metadata": {},
     "output_type": "execute_result"
    }
   ],
   "source": [
    "from sklearn.metrics import confusion_matrix as CM\n",
    "\n",
    "clf = SVC(kernel=\"linear\"\n",
    "          , gamma=\"auto\"\n",
    "          , cache_size=5000\n",
    "          ).fit(Xtrain, Ytrain)\n",
    "result = clf.predict(Xtest)\n",
    "cm = CM(Ytest, result, labels=(1, 0))\n",
    "cm"
   ],
   "metadata": {
    "collapsed": false,
    "ExecuteTime": {
     "start_time": "2023-07-01T16:10:08.803955Z",
     "end_time": "2023-07-01T16:10:11.595126Z"
    }
   }
  },
  {
   "cell_type": "code",
   "execution_count": 108,
   "outputs": [
    {
     "data": {
      "text/plain": "0.9550561797752809"
     },
     "execution_count": 108,
     "metadata": {},
     "output_type": "execute_result"
    }
   ],
   "source": [
    "specificity = cm[1, 1] / cm[1, :].sum()\n",
    "specificity  #几乎所有的0都被判断正确了，还有不少1也被判断正确了"
   ],
   "metadata": {
    "collapsed": false,
    "ExecuteTime": {
     "start_time": "2023-07-01T16:10:19.087127Z",
     "end_time": "2023-07-01T16:10:19.162550Z"
    }
   }
  },
  {
   "cell_type": "code",
   "execution_count": 110,
   "outputs": [],
   "source": [
    "irange = np.linspace(0.01, 0.05, 10)"
   ],
   "metadata": {
    "collapsed": false,
    "ExecuteTime": {
     "start_time": "2023-07-01T16:15:39.988317Z",
     "end_time": "2023-07-01T16:15:40.017832Z"
    }
   }
  },
  {
   "cell_type": "code",
   "execution_count": 111,
   "outputs": [
    {
     "name": "stdout",
     "output_type": "stream",
     "text": [
      "under ratio 1:1.010000 testing accuracy 0.844667, recall is 0.475219', auc is 0.869157\n",
      "00:03:705749\n",
      "under ratio 1:1.014444 testing accuracy 0.844667, recall is 0.478134', auc is 0.869195\n",
      "00:03:518813\n",
      "under ratio 1:1.018889 testing accuracy 0.844667, recall is 0.478134', auc is 0.869200\n",
      "00:03:436722\n",
      "under ratio 1:1.023333 testing accuracy 0.845333, recall is 0.481050', auc is 0.869183\n",
      "00:03:436992\n",
      "under ratio 1:1.027778 testing accuracy 0.844000, recall is 0.481050', auc is 0.869394\n",
      "00:03:479432\n",
      "under ratio 1:1.032222 testing accuracy 0.844000, recall is 0.481050', auc is 0.869528\n",
      "00:03:363077\n",
      "under ratio 1:1.036667 testing accuracy 0.844000, recall is 0.481050', auc is 0.869659\n",
      "00:03:551142\n",
      "under ratio 1:1.041111 testing accuracy 0.844667, recall is 0.483965', auc is 0.869629\n",
      "00:03:404495\n",
      "under ratio 1:1.045556 testing accuracy 0.844667, recall is 0.483965', auc is 0.869712\n",
      "00:03:415671\n",
      "under ratio 1:1.050000 testing accuracy 0.845333, recall is 0.486880', auc is 0.869863\n",
      "00:04:024431\n"
     ]
    }
   ],
   "source": [
    "for i in irange:\n",
    "    times = time()\n",
    "    clf = SVC(kernel=\"linear\"\n",
    "              , gamma=\"auto\"\n",
    "              , cache_size=5000\n",
    "              , class_weight={1: 1 + i}\n",
    "              ).fit(Xtrain, Ytrain)\n",
    "    result = clf.predict(Xtest)\n",
    "    score = clf.score(Xtest, Ytest)\n",
    "    recall = recall_score(Ytest, result)\n",
    "    auc = roc_auc_score(Ytest, clf.decision_function(Xtest))\n",
    "    print(\"under ratio 1:%f testing accuracy %f, recall is %f', auc is %f\" %\n",
    "          (1 + i, score, recall, auc))\n",
    "    print(datetime.datetime.fromtimestamp(time() - times).strftime(\"%M:%S:%f\"))"
   ],
   "metadata": {
    "collapsed": false,
    "ExecuteTime": {
     "start_time": "2023-07-01T16:15:40.744626Z",
     "end_time": "2023-07-01T16:16:16.083161Z"
    }
   }
  },
  {
   "cell_type": "code",
   "execution_count": 112,
   "outputs": [
    {
     "name": "stdout",
     "output_type": "stream",
     "text": [
      "under ratio 1:1.018889 testing accuracy 0.844667, recall is 0.478134', auc is 0.869225\n",
      "00:04:064657\n",
      "under ratio 1:1.019877 testing accuracy 0.844000, recall is 0.478134', auc is 0.869228\n",
      "00:03:561695\n",
      "under ratio 1:1.020864 testing accuracy 0.844000, recall is 0.478134', auc is 0.869218\n",
      "00:03:445432\n",
      "under ratio 1:1.021852 testing accuracy 0.844667, recall is 0.478134', auc is 0.869188\n",
      "00:03:295498\n",
      "under ratio 1:1.022840 testing accuracy 0.844667, recall is 0.478134', auc is 0.869220\n",
      "00:03:439694\n",
      "under ratio 1:1.023827 testing accuracy 0.844667, recall is 0.481050', auc is 0.869188\n",
      "00:03:426189\n",
      "under ratio 1:1.024815 testing accuracy 0.844667, recall is 0.481050', auc is 0.869231\n",
      "00:03:342199\n",
      "under ratio 1:1.025803 testing accuracy 0.844000, recall is 0.481050', auc is 0.869253\n",
      "00:03:517746\n",
      "under ratio 1:1.026790 testing accuracy 0.844000, recall is 0.481050', auc is 0.869233\n",
      "00:03:396531\n",
      "under ratio 1:1.027778 testing accuracy 0.844000, recall is 0.481050', auc is 0.869326\n",
      "00:03:441518\n"
     ]
    }
   ],
   "source": [
    "irange_ = np.linspace(0.018889, 0.027778, 10)\n",
    "for i in irange_:\n",
    "    times = time()\n",
    "    clf = SVC(kernel=\"linear\"\n",
    "              , gamma=\"auto\"\n",
    "              , cache_size=5000\n",
    "              , class_weight={1: 1 + i}\n",
    "              ).fit(Xtrain, Ytrain)\n",
    "    result = clf.predict(Xtest)\n",
    "    score = clf.score(Xtest, Ytest)\n",
    "    recall = recall_score(Ytest, result)\n",
    "    auc = roc_auc_score(Ytest, clf.decision_function(Xtest))\n",
    "    print(\"under ratio 1:%f testing accuracy %f, recall is %f', auc is %f\" %\n",
    "          (1 + i, score, recall, auc))\n",
    "    print(datetime.datetime.fromtimestamp(time() - times).strftime(\"%M:%S:%f\"))"
   ],
   "metadata": {
    "collapsed": false,
    "ExecuteTime": {
     "start_time": "2023-07-01T16:18:15.419231Z",
     "end_time": "2023-07-01T16:18:50.377148Z"
    }
   }
  },
  {
   "cell_type": "code",
   "execution_count": 113,
   "outputs": [],
   "source": [
    "from sklearn.linear_model import LogisticRegression as LR"
   ],
   "metadata": {
    "collapsed": false,
    "ExecuteTime": {
     "start_time": "2023-07-01T16:21:16.937541Z",
     "end_time": "2023-07-01T16:21:17.030490Z"
    }
   }
  },
  {
   "cell_type": "code",
   "execution_count": 114,
   "outputs": [
    {
     "data": {
      "text/plain": "0.8486666666666667"
     },
     "execution_count": 114,
     "metadata": {},
     "output_type": "execute_result"
    }
   ],
   "source": [
    "logclf = LR(solver='liblinear').fit(Xtrain, Ytrain)\n",
    "logclf.score(Xtest, Ytest)"
   ],
   "metadata": {
    "collapsed": false,
    "ExecuteTime": {
     "start_time": "2023-07-01T16:22:11.866797Z",
     "end_time": "2023-07-01T16:22:11.995463Z"
    }
   }
  },
  {
   "cell_type": "code",
   "execution_count": 115,
   "outputs": [
    {
     "name": "stdout",
     "output_type": "stream",
     "text": [
      "3.0 0.8493333333333334\n",
      "3.2222222222222223 0.8493333333333334\n",
      "3.4444444444444446 0.8493333333333334\n",
      "3.6666666666666665 0.8493333333333334\n",
      "3.888888888888889 0.8493333333333334\n",
      "4.111111111111111 0.8493333333333334\n",
      "4.333333333333333 0.8493333333333334\n",
      "4.555555555555555 0.8493333333333334\n",
      "4.777777777777778 0.8493333333333334\n",
      "5.0 0.8493333333333334\n"
     ]
    }
   ],
   "source": [
    "C_range = np.linspace(3, 5, 10)\n",
    "\n",
    "for C in C_range:\n",
    "    logclf = LR(solver='liblinear', C=C).fit(Xtrain, Ytrain)\n",
    "    print(C, logclf.score(Xtest, Ytest))"
   ],
   "metadata": {
    "collapsed": false,
    "ExecuteTime": {
     "start_time": "2023-07-01T16:23:31.823608Z",
     "end_time": "2023-07-01T16:23:32.144223Z"
    }
   }
  },
  {
   "cell_type": "code",
   "execution_count": 116,
   "outputs": [
    {
     "data": {
      "text/plain": "<Figure size 640x480 with 1 Axes>",
      "image/png": "[encoded data removed]"
     },
     "metadata": {},
     "output_type": "display_data"
    }
   ],
   "source": [
    "from sklearn.metrics import roc_curve as ROC\n",
    "import matplotlib.pyplot as plt\n",
    "\n",
    "FPR, Recall, thresholds = ROC(Ytest, clf.decision_function(Xtest), pos_label=1)\n",
    "area = roc_auc_score(Ytest, clf.decision_function(Xtest))\n",
    "plt.figure()\n",
    "plt.plot(FPR, Recall, color='red',\n",
    "         label='ROC curve (area = %0.2f)' % area)\n",
    "plt.plot([0, 1], [0, 1], color='black', linestyle='--')\n",
    "plt.xlim([-0.05, 1.05])\n",
    "plt.ylim([-0.05, 1.05])\n",
    "plt.xlabel('False Positive Rate')\n",
    "plt.ylabel('Recall')\n",
    "plt.title('Receiver operating characteristic example')\n",
    "plt.legend(loc=\"lower right\")\n",
    "plt.show()"
   ],
   "metadata": {
    "collapsed": false,
    "ExecuteTime": {
     "start_time": "2023-07-01T16:30:17.970556Z",
     "end_time": "2023-07-01T16:30:20.450335Z"
    }
   }
  },
  {
   "cell_type": "code",
   "execution_count": 117,
   "outputs": [
    {
     "data": {
      "text/plain": "-0.8663844038182453"
     },
     "execution_count": 117,
     "metadata": {},
     "output_type": "execute_result"
    }
   ],
   "source": [
    "maxindex = (Recall - FPR).tolist().index(max(Recall - FPR))\n",
    "thresholds[maxindex]"
   ],
   "metadata": {
    "collapsed": false,
    "ExecuteTime": {
     "start_time": "2023-07-01T16:39:04.255339Z",
     "end_time": "2023-07-01T16:39:04.372627Z"
    }
   }
  },
  {
   "cell_type": "code",
   "execution_count": 118,
   "outputs": [
    {
     "data": {
      "text/plain": "0"
     },
     "execution_count": 118,
     "metadata": {},
     "output_type": "execute_result"
    }
   ],
   "source": [
    "from sklearn.metrics import accuracy_score as AC\n",
    "\n",
    "clf = SVC(kernel=\"linear\", C=3.1663157894736838, cache_size=5000\n",
    "          , class_weight=\"balanced\"\n",
    "          ).fit(Xtrain, Ytrain)\n",
    "prob = pd.DataFrame(clf.decision_function(Xtest))\n",
    "prob.loc[prob.iloc[:, 0] >= thresholds[maxindex], \"y_pred\"] = 1\n",
    "prob.loc[prob.iloc[:, 0] < thresholds[maxindex], \"y_pred\"] = 0\n",
    "prob.loc[:, \"y_pred\"].isnull().sum()"
   ],
   "metadata": {
    "collapsed": false,
    "ExecuteTime": {
     "start_time": "2023-07-01T16:41:00.256681Z",
     "end_time": "2023-07-01T16:41:12.282814Z"
    }
   }
  },
  {
   "cell_type": "code",
   "execution_count": 119,
   "outputs": [
    {
     "name": "stdout",
     "output_type": "stream",
     "text": [
      "testing accuracy 0.642000,recall is 0.927114\n",
      "00:00:005265\n"
     ]
    }
   ],
   "source": [
    "times = time()\n",
    "#检查模型本身的准确度\n",
    "score = AC(Ytest, prob.loc[:, \"y_pred\"].values)\n",
    "recall = recall_score(Ytest, prob.loc[:, \"y_pred\"])\n",
    "print(\"testing accuracy %f,recall is %f\" % (score, recall))\n",
    "print(datetime.datetime.fromtimestamp(time() - times).strftime(\"%M:%S:%f\"))"
   ],
   "metadata": {
    "collapsed": false,
    "ExecuteTime": {
     "start_time": "2023-07-01T16:41:41.050411Z",
     "end_time": "2023-07-01T16:41:41.206417Z"
    }
   }
  },
  {
   "cell_type": "code",
   "execution_count": null,
   "outputs": [],
   "source": [],
   "metadata": {
    "collapsed": false
   }
  }
 ],
 "metadata": {
  "kernelspec": {
   "display_name": "Python 3",
   "language": "python",
   "name": "python3"
  },
  "language_info": {
   "codemirror_mode": {
    "name": "ipython",
    "version": 2
   },
   "file_extension": ".py",
   "mimetype": "text/x-python",
   "name": "python",
   "nbconvert_exporter": "python",
   "pygments_lexer": "ipython2",
   "version": "2.7.6"
  }
 },
 "nbformat": 4,
 "nbformat_minor": 0
}
