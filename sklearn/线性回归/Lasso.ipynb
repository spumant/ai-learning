{
 "cells": [
  {
   "cell_type": "code",
   "execution_count": 1,
   "outputs": [],
   "source": [
    "import numpy as np\n",
    "import pandas as pd\n",
    "from sklearn.linear_model import Ridge, LinearRegression, Lasso\n",
    "from sklearn.model_selection import train_test_split as TTS\n",
    "from sklearn.datasets import fetch_california_housing as fch\n",
    "import matplotlib.pyplot as plt"
   ],
   "metadata": {
    "collapsed": false,
    "pycharm": {
     "name": "#%%\n"
    }
   }
  },
  {
   "cell_type": "code",
   "execution_count": 2,
   "outputs": [],
   "source": [
    "housevalue = fch()\n",
    "\n",
    "X = pd.DataFrame(housevalue.data)\n",
    "y = housevalue.target\n",
    "X.columns = [\"住户收入中位数\",\"房屋使用年代中位数\",\"平均房间数目\"\n",
    "           ,\"平均卧室数目\",\"街区人口\",\"平均入住率\",\"街区的纬度\",\"街区的经度\"]"
   ],
   "metadata": {
    "collapsed": false,
    "pycharm": {
     "name": "#%%\n"
    }
   }
  },
  {
   "cell_type": "code",
   "execution_count": 3,
   "outputs": [
    {
     "data": {
      "text/plain": "   住户收入中位数  房屋使用年代中位数    平均房间数目    平均卧室数目    街区人口     平均入住率  街区的纬度   街区的经度\n0   8.3252       41.0  6.984127  1.023810   322.0  2.555556  37.88 -122.23\n1   8.3014       21.0  6.238137  0.971880  2401.0  2.109842  37.86 -122.22\n2   7.2574       52.0  8.288136  1.073446   496.0  2.802260  37.85 -122.24\n3   5.6431       52.0  5.817352  1.073059   558.0  2.547945  37.85 -122.25\n4   3.8462       52.0  6.281853  1.081081   565.0  2.181467  37.85 -122.25",
      "text/html": "<div>\n<style scoped>\n    .dataframe tbody tr th:only-of-type {\n        vertical-align: middle;\n    }\n\n    .dataframe tbody tr th {\n        vertical-align: top;\n    }\n\n    .dataframe thead th {\n        text-align: right;\n    }\n</style>\n<table border=\"1\" class=\"dataframe\">\n  <thead>\n    <tr style=\"text-align: right;\">\n      <th></th>\n      <th>住户收入中位数</th>\n      <th>房屋使用年代中位数</th>\n      <th>平均房间数目</th>\n      <th>平均卧室数目</th>\n      <th>街区人口</th>\n      <th>平均入住率</th>\n      <th>街区的纬度</th>\n      <th>街区的经度</th>\n    </tr>\n  </thead>\n  <tbody>\n    <tr>\n      <th>0</th>\n      <td>8.3252</td>\n      <td>41.0</td>\n      <td>6.984127</td>\n      <td>1.023810</td>\n      <td>322.0</td>\n      <td>2.555556</td>\n      <td>37.88</td>\n      <td>-122.23</td>\n    </tr>\n    <tr>\n      <th>1</th>\n      <td>8.3014</td>\n      <td>21.0</td>\n      <td>6.238137</td>\n      <td>0.971880</td>\n      <td>2401.0</td>\n      <td>2.109842</td>\n      <td>37.86</td>\n      <td>-122.22</td>\n    </tr>\n    <tr>\n      <th>2</th>\n      <td>7.2574</td>\n      <td>52.0</td>\n      <td>8.288136</td>\n      <td>1.073446</td>\n      <td>496.0</td>\n      <td>2.802260</td>\n      <td>37.85</td>\n      <td>-122.24</td>\n    </tr>\n    <tr>\n      <th>3</th>\n      <td>5.6431</td>\n      <td>52.0</td>\n      <td>5.817352</td>\n      <td>1.073059</td>\n      <td>558.0</td>\n      <td>2.547945</td>\n      <td>37.85</td>\n      <td>-122.25</td>\n    </tr>\n    <tr>\n      <th>4</th>\n      <td>3.8462</td>\n      <td>52.0</td>\n      <td>6.281853</td>\n      <td>1.081081</td>\n      <td>565.0</td>\n      <td>2.181467</td>\n      <td>37.85</td>\n      <td>-122.25</td>\n    </tr>\n  </tbody>\n</table>\n</div>"
     },
     "execution_count": 3,
     "metadata": {},
     "output_type": "execute_result"
    }
   ],
   "source": [
    "X.head()"
   ],
   "metadata": {
    "collapsed": false,
    "pycharm": {
     "name": "#%%\n"
    }
   }
  },
  {
   "cell_type": "code",
   "execution_count": 4,
   "outputs": [],
   "source": [
    "Xtrain,Xtest,Ytrain,Ytest = TTS(X,y,test_size=0.3,random_state=420)\n",
    "\n",
    "#恢复索引\n",
    "for i in [Xtrain,Xtest]:\n",
    "    i.index = range(i.shape[0])"
   ],
   "metadata": {
    "collapsed": false,
    "pycharm": {
     "name": "#%%\n"
    }
   }
  },
  {
   "cell_type": "code",
   "execution_count": 5,
   "outputs": [
    {
     "data": {
      "text/plain": "[43.735893059683974,\n 1.0211268294493991,\n -10.780721617317642,\n 62.64338275363765,\n 5.2161253532314694e-05,\n -0.3348509646333584,\n -41.30959378947724,\n -42.6210953620847]"
     },
     "execution_count": 5,
     "metadata": {},
     "output_type": "execute_result"
    }
   ],
   "source": [
    "#线性回归进行拟合\n",
    "reg = LinearRegression().fit(Xtrain,Ytrain)\n",
    "(reg.coef_*100).tolist()"
   ],
   "metadata": {
    "collapsed": false,
    "pycharm": {
     "name": "#%%\n"
    }
   }
  },
  {
   "cell_type": "code",
   "execution_count": 6,
   "outputs": [
    {
     "data": {
      "text/plain": "[43.735893059684,\n 1.021126829449409,\n -10.780721617317585,\n 62.64338275363737,\n 5.21612535326829e-05,\n -0.33485096463335806,\n -41.30959378947712,\n -42.6210953620847]"
     },
     "execution_count": 6,
     "metadata": {},
     "output_type": "execute_result"
    }
   ],
   "source": [
    "#岭回归进行拟合\n",
    "Ridge_ = Ridge(alpha=0).fit(Xtrain,Ytrain)\n",
    "(Ridge_.coef_*100).tolist()"
   ],
   "metadata": {
    "collapsed": false,
    "pycharm": {
     "name": "#%%\n"
    }
   }
  },
  {
   "cell_type": "code",
   "execution_count": 7,
   "outputs": [
    {
     "name": "stderr",
     "output_type": "stream",
     "text": [
      "C:\\Users\\25338\\AppData\\Local\\Temp\\ipykernel_12556\\1028009299.py:2: UserWarning: With alpha=0, this algorithm does not converge well. You are advised to use the LinearRegression estimator\n",
      "  lasso_ = Lasso(alpha=0).fit(Xtrain,Ytrain)\n",
      "D:\\IDE\\Anaconda\\A\\envs\\dproject\\lib\\site-packages\\sklearn\\linear_model\\_coordinate_descent.py:631: UserWarning: Coordinate descent with no regularization may lead to unexpected results and is discouraged.\n",
      "  model = cd_fast.enet_coordinate_descent(\n",
      "D:\\IDE\\Anaconda\\A\\envs\\dproject\\lib\\site-packages\\sklearn\\linear_model\\_coordinate_descent.py:631: ConvergenceWarning: Objective did not converge. You might want to increase the number of iterations, check the scale of the features or consider increasing regularisation. Duality gap: 3.770e+03, tolerance: 1.917e+00 Linear regression models with null weight for the l1 regularization term are more efficiently fitted using one of the solvers implemented in sklearn.linear_model.Ridge/RidgeCV instead.\n",
      "  model = cd_fast.enet_coordinate_descent(\n"
     ]
    },
    {
     "data": {
      "text/plain": "[43.73589305968405,\n 1.0211268294494078,\n -10.780721617317694,\n 62.64338275363788,\n 5.216125353267918e-05,\n -0.33485096463335795,\n -41.30959378947714,\n -42.62109536208472]"
     },
     "execution_count": 7,
     "metadata": {},
     "output_type": "execute_result"
    }
   ],
   "source": [
    "#Lasso进行拟合\n",
    "lasso_ = Lasso(alpha=0).fit(Xtrain,Ytrain)\n",
    "(lasso_.coef_*100).tolist()"
   ],
   "metadata": {
    "collapsed": false,
    "pycharm": {
     "name": "#%%\n"
    }
   }
  },
  {
   "cell_type": "code",
   "execution_count": 8,
   "outputs": [
    {
     "data": {
      "text/plain": "[43.73575720621587,\n 1.0211292318121714,\n -10.780460336251531,\n 62.642023207756324,\n 5.217068073239262e-05,\n -0.3348506517067611,\n -41.309571432291854,\n -42.621053889324536]"
     },
     "execution_count": 8,
     "metadata": {},
     "output_type": "execute_result"
    }
   ],
   "source": [
    "#岭回归进行拟合\n",
    "Ridge_ = Ridge(alpha=0.01).fit(Xtrain,Ytrain)\n",
    "(Ridge_.coef_*100).tolist()"
   ],
   "metadata": {
    "collapsed": false,
    "pycharm": {
     "name": "#%%\n"
    }
   }
  },
  {
   "cell_type": "code",
   "execution_count": 10,
   "outputs": [
    {
     "data": {
      "text/plain": "[39.08851438329683,\n 1.6054695654279874,\n -0.0,\n 0.0,\n 0.0023777014839091366,\n -0.3050186895638113,\n -10.771509301655534,\n -9.29434447795807]"
     },
     "execution_count": 10,
     "metadata": {},
     "output_type": "execute_result"
    }
   ],
   "source": [
    "#Lasso进行拟合\n",
    "lasso_ = Lasso(alpha=0.1).fit(Xtrain,Ytrain)\n",
    "(lasso_.coef_*100).tolist()"
   ],
   "metadata": {
    "collapsed": false,
    "pycharm": {
     "name": "#%%\n"
    }
   }
  },
  {
   "cell_type": "code",
   "execution_count": 11,
   "outputs": [
    {
     "data": {
      "text/plain": "[34.62081517607693,\n 1.51961708692387,\n 0.39686105292101836,\n 0.9151812510354851,\n 0.002173923801224847,\n -0.34768660148101055,\n -14.736963474215292,\n -13.435576102526953]"
     },
     "execution_count": 11,
     "metadata": {},
     "output_type": "execute_result"
    }
   ],
   "source": [
    "#加大正则项系数，观察模型的系数发生了什么变化\n",
    "Ridge_ = Ridge(alpha=10**4).fit(Xtrain,Ytrain)\n",
    "(Ridge_.coef_*100).tolist()"
   ],
   "metadata": {
    "collapsed": false,
    "pycharm": {
     "name": "#%%\n"
    }
   }
  },
  {
   "cell_type": "code",
   "execution_count": 12,
   "outputs": [
    {
     "data": {
      "text/plain": "[0.0, 0.0, 0.0, -0.0, -0.0, -0.0, -0.0, -0.0]"
     },
     "execution_count": 12,
     "metadata": {},
     "output_type": "execute_result"
    }
   ],
   "source": [
    "lasso_ = Lasso(alpha=10**4).fit(Xtrain,Ytrain)\n",
    "(lasso_.coef_*100).tolist()\n",
    "#看来10**4对于Lasso来说是一个过于大的取值"
   ],
   "metadata": {
    "collapsed": false,
    "pycharm": {
     "name": "#%%\n"
    }
   }
  },
  {
   "cell_type": "code",
   "execution_count": 13,
   "outputs": [
    {
     "data": {
      "text/plain": "[14.58114124762943,\n 0.6209347344423877,\n 0.0,\n -0.0,\n -0.0002806598632900989,\n -0.0,\n -0.0,\n -0.0]"
     },
     "execution_count": 13,
     "metadata": {},
     "output_type": "execute_result"
    }
   ],
   "source": [
    "lasso_ = Lasso(alpha=1).fit(Xtrain,Ytrain)\n",
    "(lasso_.coef_*100).tolist()"
   ],
   "metadata": {
    "collapsed": false,
    "pycharm": {
     "name": "#%%\n"
    }
   }
  },
  {
   "cell_type": "code",
   "execution_count": 14,
   "outputs": [
    {
     "data": {
      "text/plain": "<Figure size 640x480 with 1 Axes>",
      "image/png": "[encoded data removed]"
     },
     "metadata": {},
     "output_type": "display_data"
    }
   ],
   "source": [
    "#将系数进行绘图\n",
    "plt.plot(range(1,9),(reg.coef_*100).tolist(),color=\"red\",label=\"LR\")\n",
    "plt.plot(range(1,9),(Ridge_.coef_*100).tolist(),color=\"orange\",label=\"Ridge\")\n",
    "plt.plot(range(1,9),(lasso_.coef_*100).tolist(),color=\"k\",label=\"Lasso\")\n",
    "plt.plot(range(1,9),[0]*8,color=\"grey\",linestyle=\"--\")\n",
    "plt.xlabel('w') #横坐标是每一个特征所对应的系数\n",
    "plt.legend()\n",
    "plt.show()"
   ],
   "metadata": {
    "collapsed": false,
    "pycharm": {
     "name": "#%%\n"
    }
   }
  },
  {
   "cell_type": "code",
   "execution_count": 15,
   "outputs": [],
   "source": [
    "from sklearn.linear_model import LassoCV"
   ],
   "metadata": {
    "collapsed": false,
    "pycharm": {
     "name": "#%%\n"
    }
   }
  },
  {
   "cell_type": "code",
   "execution_count": 16,
   "outputs": [],
   "source": [
    "#自己建立Lasso进行alpha选择的范围\n",
    "alpharange = np.logspace(-10, -2, 200,base=10)"
   ],
   "metadata": {
    "collapsed": false,
    "pycharm": {
     "name": "#%%\n"
    }
   }
  },
  {
   "cell_type": "code",
   "execution_count": 17,
   "outputs": [
    {
     "data": {
      "text/plain": "(200,)"
     },
     "execution_count": 17,
     "metadata": {},
     "output_type": "execute_result"
    }
   ],
   "source": [
    "#其实是形成10为底的指数函数\n",
    "#10**(-10)到10**(-2)次方\n",
    "alpharange.shape"
   ],
   "metadata": {
    "collapsed": false,
    "pycharm": {
     "name": "#%%\n"
    }
   }
  },
  {
   "cell_type": "code",
   "execution_count": 18,
   "outputs": [
    {
     "data": {
      "text/plain": "   住户收入中位数  房屋使用年代中位数    平均房间数目    平均卧室数目    街区人口     平均入住率  街区的纬度   街区的经度\n0   4.1776       35.0  4.425172  1.030683  5380.0  3.368817  37.48 -122.19\n1   5.3261       38.0  6.267516  1.089172   429.0  2.732484  37.53 -122.30\n2   1.9439       26.0  5.768977  1.141914   891.0  2.940594  36.02 -119.08\n3   2.5000       22.0  4.916000  1.012000   733.0  2.932000  38.57 -121.31\n4   3.8250       34.0  5.036765  1.098039  1134.0  2.779412  33.91 -118.35",
      "text/html": "<div>\n<style scoped>\n    .dataframe tbody tr th:only-of-type {\n        vertical-align: middle;\n    }\n\n    .dataframe tbody tr th {\n        vertical-align: top;\n    }\n\n    .dataframe thead th {\n        text-align: right;\n    }\n</style>\n<table border=\"1\" class=\"dataframe\">\n  <thead>\n    <tr style=\"text-align: right;\">\n      <th></th>\n      <th>住户收入中位数</th>\n      <th>房屋使用年代中位数</th>\n      <th>平均房间数目</th>\n      <th>平均卧室数目</th>\n      <th>街区人口</th>\n      <th>平均入住率</th>\n      <th>街区的纬度</th>\n      <th>街区的经度</th>\n    </tr>\n  </thead>\n  <tbody>\n    <tr>\n      <th>0</th>\n      <td>4.1776</td>\n      <td>35.0</td>\n      <td>4.425172</td>\n      <td>1.030683</td>\n      <td>5380.0</td>\n      <td>3.368817</td>\n      <td>37.48</td>\n      <td>-122.19</td>\n    </tr>\n    <tr>\n      <th>1</th>\n      <td>5.3261</td>\n      <td>38.0</td>\n      <td>6.267516</td>\n      <td>1.089172</td>\n      <td>429.0</td>\n      <td>2.732484</td>\n      <td>37.53</td>\n      <td>-122.30</td>\n    </tr>\n    <tr>\n      <th>2</th>\n      <td>1.9439</td>\n      <td>26.0</td>\n      <td>5.768977</td>\n      <td>1.141914</td>\n      <td>891.0</td>\n      <td>2.940594</td>\n      <td>36.02</td>\n      <td>-119.08</td>\n    </tr>\n    <tr>\n      <th>3</th>\n      <td>2.5000</td>\n      <td>22.0</td>\n      <td>4.916000</td>\n      <td>1.012000</td>\n      <td>733.0</td>\n      <td>2.932000</td>\n      <td>38.57</td>\n      <td>-121.31</td>\n    </tr>\n    <tr>\n      <th>4</th>\n      <td>3.8250</td>\n      <td>34.0</td>\n      <td>5.036765</td>\n      <td>1.098039</td>\n      <td>1134.0</td>\n      <td>2.779412</td>\n      <td>33.91</td>\n      <td>-118.35</td>\n    </tr>\n  </tbody>\n</table>\n</div>"
     },
     "execution_count": 18,
     "metadata": {},
     "output_type": "execute_result"
    }
   ],
   "source": [
    "Xtrain.head()"
   ],
   "metadata": {
    "collapsed": false,
    "pycharm": {
     "name": "#%%\n"
    }
   }
  },
  {
   "cell_type": "code",
   "execution_count": 19,
   "outputs": [
    {
     "data": {
      "text/plain": "0.0020729217795953697"
     },
     "execution_count": 19,
     "metadata": {},
     "output_type": "execute_result"
    }
   ],
   "source": [
    "lasso_ = LassoCV(alphas=alpharange #自行输入的alpha的取值范围\n",
    "               ,cv=5 #交叉验证的折数\n",
    "               ).fit(Xtrain, Ytrain)\n",
    "#查看被选择出来的最佳正则化系数\n",
    "lasso_.alpha_"
   ],
   "metadata": {
    "collapsed": false,
    "pycharm": {
     "name": "#%%\n"
    }
   }
  },
  {
   "cell_type": "code",
   "execution_count": 20,
   "outputs": [
    {
     "data": {
      "text/plain": "array([[0.52454913, 0.49856261, 0.55984312, 0.50526576, 0.55262557],\n       [0.52361933, 0.49748809, 0.55887637, 0.50429373, 0.55283734],\n       [0.52281927, 0.49655113, 0.55803797, 0.5034594 , 0.55320522],\n       [0.52213811, 0.49574741, 0.55731858, 0.50274517, 0.55367515],\n       [0.52155715, 0.49505688, 0.55669995, 0.50213252, 0.55421553],\n       [0.52106069, 0.49446226, 0.55616707, 0.50160604, 0.55480104],\n       [0.5206358 , 0.49394903, 0.55570702, 0.50115266, 0.55541214],\n       [0.52027135, 0.49350539, 0.55530895, 0.50076146, 0.55603333],\n       [0.51995825, 0.49312085, 0.5549639 , 0.50042318, 0.55665306],\n       [0.5196886 , 0.49278705, 0.55466406, 0.50013007, 0.55726225],\n       [0.51945602, 0.49249647, 0.55440306, 0.49987554, 0.55785451],\n       [0.51925489, 0.49224316, 0.55417527, 0.49965404, 0.55842496],\n       [0.51908068, 0.49202169, 0.55397615, 0.49946088, 0.55897049],\n       [0.51892938, 0.49182782, 0.55380162, 0.49929206, 0.55948886],\n       [0.51879778, 0.49165759, 0.55364841, 0.49914421, 0.55997905],\n       [0.51868299, 0.49150788, 0.55351357, 0.49901446, 0.5604405 ],\n       [0.51858268, 0.49137604, 0.55339469, 0.49890035, 0.56087323],\n       [0.51849488, 0.49125956, 0.55328972, 0.4987998 , 0.56127784],\n       [0.5184178 , 0.49115652, 0.55319678, 0.49871101, 0.56165507],\n       [0.51835002, 0.49106526, 0.55311438, 0.49863248, 0.5620059 ],\n       [0.51829033, 0.49098418, 0.55304118, 0.49856287, 0.56233145],\n       [0.51823761, 0.49091208, 0.55297609, 0.49850108, 0.56263308],\n       [0.51819098, 0.49084785, 0.55291806, 0.49844612, 0.56291204],\n       [0.51814966, 0.49079058, 0.55286626, 0.49839716, 0.56316966],\n       [0.51811298, 0.49073937, 0.55281996, 0.49835348, 0.56340721],\n       [0.51808038, 0.49069355, 0.55277854, 0.49831445, 0.5636261 ],\n       [0.51805132, 0.49065249, 0.5527414 , 0.49827953, 0.56382754],\n       [0.5180254 , 0.49061566, 0.55270806, 0.49824828, 0.56401276],\n       [0.51800224, 0.49058258, 0.55267812, 0.49822015, 0.56418292],\n       [0.51798152, 0.49055285, 0.55265118, 0.49819493, 0.56433912],\n       [0.51796296, 0.49052608, 0.55262693, 0.49817225, 0.56448243],\n       [0.5179463 , 0.49050195, 0.55260507, 0.49815185, 0.56461379],\n       [0.51793135, 0.49048019, 0.55258536, 0.49813345, 0.5647342 ],\n       [0.51791791, 0.49046055, 0.55256757, 0.49811687, 0.56484448],\n       [0.5179058 , 0.49044281, 0.55255149, 0.4981019 , 0.56494544],\n       [0.5178949 , 0.49042677, 0.55253695, 0.49808838, 0.56503784],\n       [0.51788506, 0.49041226, 0.55252379, 0.49807615, 0.56512236],\n       [0.51787619, 0.49039913, 0.55251189, 0.4980651 , 0.56519967],\n       [0.51786817, 0.49038724, 0.5525011 , 0.49805509, 0.56527034],\n       [0.51786092, 0.49037646, 0.55249132, 0.49804603, 0.56533494],\n       [0.51785437, 0.49036669, 0.55248246, 0.49803782, 0.56539397],\n       [0.51784843, 0.49035783, 0.55247442, 0.49803037, 0.5654479 ],\n       [0.51784306, 0.49034979, 0.55246712, 0.49802362, 0.56549716],\n       [0.51783819, 0.49034249, 0.5524605 , 0.49801749, 0.56554215],\n       [0.51783377, 0.49033586, 0.55245448, 0.49801193, 0.56558322],\n       [0.51782977, 0.49032984, 0.55244901, 0.49800688, 0.56562073],\n       [0.51782614, 0.49032437, 0.55244405, 0.49800229, 0.56565496],\n       [0.51782284, 0.49031939, 0.55243953, 0.49799812, 0.56568621],\n       [0.51781984, 0.49031487, 0.55243543, 0.49799434, 0.56571472],\n       [0.51781712, 0.49031076, 0.55243169, 0.49799089, 0.56574074],\n       [0.51781465, 0.49030702, 0.5524283 , 0.49798776, 0.56576449],\n       [0.5178124 , 0.49030362, 0.55242521, 0.49798491, 0.56578615],\n       [0.51781036, 0.49030052, 0.5524224 , 0.49798232, 0.56580591],\n       [0.5178085 , 0.4902977 , 0.55241984, 0.49797996, 0.56582394],\n       [0.51780681, 0.49029514, 0.55241751, 0.49797781, 0.56584039],\n       [0.51780528, 0.4902928 , 0.55241539, 0.49797586, 0.56585539],\n       [0.51780388, 0.49029068, 0.55241346, 0.49797408, 0.56586907],\n       [0.51780261, 0.49028874, 0.55241171, 0.49797246, 0.56588155],\n       [0.51780145, 0.49028698, 0.55241011, 0.49797099, 0.56589293],\n       [0.51780039, 0.49028538, 0.55240865, 0.49796965, 0.56590331],\n       [0.51779943, 0.49028392, 0.55240732, 0.49796843, 0.56591277],\n       [0.51779856, 0.49028258, 0.55240611, 0.49796731, 0.5659214 ],\n       [0.51779777, 0.49028137, 0.55240501, 0.4979663 , 0.56592927],\n       [0.51779704, 0.49028027, 0.55240401, 0.49796538, 0.56593645],\n       [0.51779638, 0.49027926, 0.5524031 , 0.49796454, 0.56594299],\n       [0.51779578, 0.49027834, 0.55240226, 0.49796377, 0.56594896],\n       [0.51779523, 0.49027751, 0.55240151, 0.49796307, 0.5659544 ],\n       [0.51779473, 0.49027675, 0.55240081, 0.49796243, 0.56595936],\n       [0.51779428, 0.49027605, 0.55240018, 0.49796185, 0.56596388],\n       [0.51779386, 0.49027542, 0.55239961, 0.49796133, 0.565968  ],\n       [0.51779349, 0.49027485, 0.55239909, 0.49796085, 0.56597176],\n       [0.51779314, 0.49027432, 0.55239861, 0.49796041, 0.56597519],\n       [0.51779283, 0.49027384, 0.55239818, 0.49796001, 0.56597831],\n       [0.51779254, 0.49027341, 0.55239778, 0.49795964, 0.56598116],\n       [0.51779228, 0.49027301, 0.55239742, 0.49795931, 0.56598376],\n       [0.51779205, 0.49027265, 0.55239709, 0.49795901, 0.56598613],\n       [0.51779183, 0.49027232, 0.55239679, 0.49795873, 0.56598828],\n       [0.51779163, 0.49027202, 0.55239652, 0.49795848, 0.56599025],\n       [0.51779146, 0.49027174, 0.55239627, 0.49795825, 0.56599205],\n       [0.51779129, 0.49027149, 0.55239604, 0.49795804, 0.56599368],\n       [0.51779114, 0.49027127, 0.55239584, 0.49795785, 0.56599517],\n       [0.51779101, 0.49027106, 0.55239565, 0.49795768, 0.56599653],\n       [0.51779088, 0.49027087, 0.55239548, 0.49795752, 0.56599777],\n       [0.51779077, 0.4902707 , 0.55239532, 0.49795738, 0.5659989 ],\n       [0.51779067, 0.49027054, 0.55239518, 0.49795725, 0.56599993],\n       [0.51779057, 0.4902704 , 0.55239505, 0.49795713, 0.56600087],\n       [0.51779049, 0.49027027, 0.55239493, 0.49795702, 0.56600172],\n       [0.51779041, 0.49027015, 0.55239482, 0.49795692, 0.5660025 ],\n       [0.51779034, 0.49027004, 0.55239472, 0.49795683, 0.56600322],\n       [0.51779027, 0.49026994, 0.55239463, 0.49795675, 0.56600386],\n       [0.51779022, 0.49026985, 0.55239455, 0.49795667, 0.56600446],\n       [0.51779016, 0.49026977, 0.55239448, 0.4979566 , 0.56600499],\n       [0.51779011, 0.49026969, 0.55239441, 0.49795654, 0.56600549],\n       [0.51779007, 0.49026962, 0.55239435, 0.49795648, 0.56600593],\n       [0.51779003, 0.49026956, 0.55239429, 0.49795643, 0.56600634],\n       [0.51778999, 0.49026951, 0.55239424, 0.49795638, 0.56600671],\n       [0.51778996, 0.49026945, 0.55239419, 0.49795634, 0.56600705],\n       [0.51778993, 0.49026941, 0.55239415, 0.4979563 , 0.56600736],\n       [0.5177899 , 0.49026936, 0.55239411, 0.49795626, 0.56600764],\n       [0.51778987, 0.49026932, 0.55239407, 0.49795623, 0.5660079 ],\n       [0.51778985, 0.49026929, 0.55239404, 0.4979562 , 0.56600813],\n       [0.51778983, 0.49026926, 0.55239401, 0.49795617, 0.56600835],\n       [0.51778981, 0.49026923, 0.55239398, 0.49795615, 0.56600854],\n       [0.51778979, 0.4902692 , 0.55239396, 0.49795613, 0.56600872],\n       [0.51778977, 0.49026918, 0.55239394, 0.49795611, 0.56600888],\n       [0.51778976, 0.49026915, 0.55239392, 0.49795609, 0.56600903],\n       [0.51778975, 0.49026913, 0.5523939 , 0.49795607, 0.56600916],\n       [0.51778973, 0.49026911, 0.55239388, 0.49795605, 0.56600929],\n       [0.51778972, 0.4902691 , 0.55239387, 0.49795604, 0.5660094 ],\n       [0.51778971, 0.49026908, 0.55239385, 0.49795603, 0.5660095 ],\n       [0.5177897 , 0.49026907, 0.55239384, 0.49795602, 0.56600959],\n       [0.5177897 , 0.49026905, 0.55239383, 0.49795601, 0.56600968],\n       [0.51778969, 0.49026904, 0.55239382, 0.497956  , 0.56600975],\n       [0.51778968, 0.49026903, 0.55239381, 0.49795599, 0.56600983],\n       [0.51778967, 0.49026902, 0.5523938 , 0.49795598, 0.56600989],\n       [0.51778967, 0.49026901, 0.55239379, 0.49795597, 0.56600995],\n       [0.51778966, 0.490269  , 0.55239378, 0.49795596, 0.56601   ],\n       [0.51778966, 0.490269  , 0.55239378, 0.49795596, 0.56601005],\n       [0.51778965, 0.49026899, 0.55239377, 0.49795595, 0.56601009],\n       [0.51778965, 0.49026898, 0.55239376, 0.49795595, 0.56601013],\n       [0.51778965, 0.49026898, 0.55239376, 0.49795594, 0.56601017],\n       [0.51778964, 0.49026897, 0.55239375, 0.49795594, 0.5660102 ],\n       [0.51778964, 0.49026897, 0.55239375, 0.49795593, 0.56601023],\n       [0.51778964, 0.49026896, 0.55239375, 0.49795593, 0.56601026],\n       [0.51778963, 0.49026896, 0.55239374, 0.49795593, 0.56601029],\n       [0.51778963, 0.49026896, 0.55239374, 0.49795592, 0.56601031],\n       [0.51778963, 0.49026895, 0.55239374, 0.49795592, 0.56601033],\n       [0.51778963, 0.49026895, 0.55239373, 0.49795592, 0.56601035],\n       [0.51778963, 0.49026895, 0.55239373, 0.49795592, 0.56601037],\n       [0.51778962, 0.49026895, 0.55239373, 0.49795591, 0.56601039],\n       [0.51778962, 0.49026894, 0.55239373, 0.49795591, 0.5660104 ],\n       [0.51778962, 0.49026894, 0.55239372, 0.49795591, 0.56601041],\n       [0.51778962, 0.49026894, 0.55239372, 0.49795591, 0.56601043],\n       [0.51778962, 0.49026894, 0.55239372, 0.49795591, 0.56601044],\n       [0.51778962, 0.49026894, 0.55239372, 0.49795591, 0.56601045],\n       [0.51778962, 0.49026894, 0.55239372, 0.49795591, 0.56601046],\n       [0.51778962, 0.49026893, 0.55239372, 0.4979559 , 0.56601046],\n       [0.51778962, 0.49026893, 0.55239372, 0.4979559 , 0.56601047],\n       [0.51778962, 0.49026893, 0.55239372, 0.4979559 , 0.56601048],\n       [0.51778961, 0.49026893, 0.55239371, 0.4979559 , 0.56601048],\n       [0.51778961, 0.49026893, 0.55239371, 0.4979559 , 0.56601049],\n       [0.51778961, 0.49026893, 0.55239371, 0.4979559 , 0.5660105 ],\n       [0.51778961, 0.49026893, 0.55239371, 0.4979559 , 0.5660105 ],\n       [0.51778961, 0.49026893, 0.55239371, 0.4979559 , 0.5660105 ],\n       [0.51778961, 0.49026893, 0.55239371, 0.4979559 , 0.56601051],\n       [0.51778961, 0.49026893, 0.55239371, 0.4979559 , 0.56601051],\n       [0.51778961, 0.49026893, 0.55239371, 0.4979559 , 0.56601052],\n       [0.51778961, 0.49026893, 0.55239371, 0.4979559 , 0.56601052],\n       [0.51778961, 0.49026893, 0.55239371, 0.4979559 , 0.56601052],\n       [0.51778961, 0.49026892, 0.55239371, 0.4979559 , 0.56601052],\n       [0.51778961, 0.49026892, 0.55239371, 0.4979559 , 0.56601053],\n       [0.51778961, 0.49026892, 0.55239371, 0.4979559 , 0.56601053],\n       [0.51778961, 0.49026892, 0.55239371, 0.4979559 , 0.56601053],\n       [0.51778961, 0.49026892, 0.55239371, 0.4979559 , 0.56601053],\n       [0.51778961, 0.49026892, 0.55239371, 0.4979559 , 0.56601053],\n       [0.51778961, 0.49026892, 0.55239371, 0.4979559 , 0.56601054],\n       [0.51778961, 0.49026892, 0.55239371, 0.4979559 , 0.56601054],\n       [0.51778961, 0.49026892, 0.55239371, 0.4979559 , 0.56601054],\n       [0.51778961, 0.49026892, 0.55239371, 0.4979559 , 0.56601054],\n       [0.51778961, 0.49026892, 0.55239371, 0.4979559 , 0.56601054],\n       [0.51778961, 0.49026892, 0.55239371, 0.4979559 , 0.56601054],\n       [0.51778961, 0.49026892, 0.55239371, 0.4979559 , 0.56601054],\n       [0.51778961, 0.49026892, 0.55239371, 0.49795589, 0.56601054],\n       [0.51778961, 0.49026892, 0.55239371, 0.49795589, 0.56601054],\n       [0.51778961, 0.49026892, 0.55239371, 0.49795589, 0.56601054],\n       [0.51778961, 0.49026892, 0.55239371, 0.49795589, 0.56601054],\n       [0.51778961, 0.49026892, 0.55239371, 0.49795589, 0.56601054],\n       [0.51778961, 0.49026892, 0.55239371, 0.49795589, 0.56601055],\n       [0.51778961, 0.49026892, 0.55239371, 0.49795589, 0.56601055],\n       [0.51778961, 0.49026892, 0.55239371, 0.49795589, 0.56601055],\n       [0.51778961, 0.49026892, 0.55239371, 0.49795589, 0.56601055],\n       [0.51778961, 0.49026892, 0.55239371, 0.49795589, 0.56601055],\n       [0.51778961, 0.49026892, 0.55239371, 0.49795589, 0.56601055],\n       [0.51778961, 0.49026892, 0.55239371, 0.49795589, 0.56601055],\n       [0.51778961, 0.49026892, 0.55239371, 0.49795589, 0.56601055],\n       [0.51778961, 0.49026892, 0.55239371, 0.49795589, 0.56601055],\n       [0.51778961, 0.49026892, 0.55239371, 0.49795589, 0.56601055],\n       [0.51778961, 0.49026892, 0.55239371, 0.49795589, 0.56601055],\n       [0.51778961, 0.49026892, 0.55239371, 0.49795589, 0.56601055],\n       [0.51778961, 0.49026892, 0.55239371, 0.49795589, 0.56601055],\n       [0.51778961, 0.49026892, 0.55239371, 0.49795589, 0.56601055],\n       [0.51778961, 0.49026892, 0.55239371, 0.49795589, 0.56601055],\n       [0.51778961, 0.49026892, 0.55239371, 0.49795589, 0.56601055],\n       [0.51778961, 0.49026892, 0.55239371, 0.49795589, 0.56601055],\n       [0.51778961, 0.49026892, 0.55239371, 0.49795589, 0.56601055],\n       [0.51778961, 0.49026892, 0.55239371, 0.49795589, 0.56601055],\n       [0.51778961, 0.49026892, 0.55239371, 0.49795589, 0.56601055],\n       [0.51778961, 0.49026892, 0.55239371, 0.49795589, 0.56601055],\n       [0.51778961, 0.49026892, 0.55239371, 0.49795589, 0.56601055],\n       [0.51778961, 0.49026892, 0.55239371, 0.49795589, 0.56601055],\n       [0.51778961, 0.49026892, 0.55239371, 0.49795589, 0.56601055],\n       [0.51778961, 0.49026892, 0.55239371, 0.49795589, 0.56601055],\n       [0.51778961, 0.49026892, 0.55239371, 0.49795589, 0.56601055],\n       [0.51778961, 0.49026892, 0.55239371, 0.49795589, 0.56601055],\n       [0.51778961, 0.49026892, 0.55239371, 0.49795589, 0.56601055],\n       [0.51778961, 0.49026892, 0.55239371, 0.49795589, 0.56601055],\n       [0.51778961, 0.49026892, 0.55239371, 0.49795589, 0.56601055],\n       [0.51778961, 0.49026892, 0.55239371, 0.49795589, 0.56601055],\n       [0.51778961, 0.49026892, 0.55239371, 0.49795589, 0.56601055],\n       [0.51778961, 0.49026892, 0.55239371, 0.49795589, 0.56601055]])"
     },
     "execution_count": 20,
     "metadata": {},
     "output_type": "execute_result"
    }
   ],
   "source": [
    "#调用所有交叉验证的结果\n",
    "lasso_.mse_path_"
   ],
   "metadata": {
    "collapsed": false,
    "pycharm": {
     "name": "#%%\n"
    }
   }
  },
  {
   "cell_type": "code",
   "execution_count": 21,
   "outputs": [
    {
     "data": {
      "text/plain": "(200, 5)"
     },
     "execution_count": 21,
     "metadata": {},
     "output_type": "execute_result"
    }
   ],
   "source": [
    "lasso_.mse_path_.shape #返回每个alpha下的五折交叉验证结果"
   ],
   "metadata": {
    "collapsed": false,
    "pycharm": {
     "name": "#%%\n"
    }
   }
  },
  {
   "cell_type": "code",
   "execution_count": 22,
   "outputs": [
    {
     "data": {
      "text/plain": "array([0.52816924, 0.52742297, 0.5268146 , 0.52632488, 0.52593241,\n       0.52561942, 0.52537133, 0.5251761 , 0.52502385, 0.52490641,\n       0.52481712, 0.52475046, 0.52470198, 0.52466795, 0.52464541,\n       0.52463188, 0.5246254 , 0.52462436, 0.52462744, 0.52463361,\n       0.52464201, 0.52465199, 0.52466301, 0.52467466, 0.5246866 ,\n       0.5246986 , 0.52471046, 0.52472203, 0.5247332 , 0.52474392,\n       0.52475413, 0.52476379, 0.52477291, 0.52478147, 0.52478949,\n       0.52479697, 0.52480393, 0.52481039, 0.52481639, 0.52482193,\n       0.52482706, 0.52483179, 0.52483615, 0.52484016, 0.52484385,\n       0.52484725, 0.52485036, 0.52485322, 0.52485584, 0.52485824,\n       0.52486044, 0.52486246, 0.5248643 , 0.52486599, 0.52486753,\n       0.52486895, 0.52487024, 0.52487141, 0.52487249, 0.52487348,\n       0.52487437, 0.52487519, 0.52487594, 0.52487663, 0.52487725,\n       0.52487782, 0.52487834, 0.52487882, 0.52487925, 0.52487965,\n       0.52488001, 0.52488033, 0.52488063, 0.52488091, 0.52488116,\n       0.52488138, 0.52488159, 0.52488178, 0.52488195, 0.52488211,\n       0.52488225, 0.52488239, 0.5248825 , 0.52488261, 0.52488271,\n       0.5248828 , 0.52488289, 0.52488296, 0.52488303, 0.52488309,\n       0.52488315, 0.5248832 , 0.52488325, 0.52488329, 0.52488333,\n       0.52488337, 0.5248834 , 0.52488343, 0.52488346, 0.52488348,\n       0.5248835 , 0.52488352, 0.52488354, 0.52488356, 0.52488357,\n       0.52488359, 0.5248836 , 0.52488361, 0.52488362, 0.52488363,\n       0.52488364, 0.52488365, 0.52488366, 0.52488367, 0.52488367,\n       0.52488368, 0.52488368, 0.52488369, 0.52488369, 0.5248837 ,\n       0.5248837 , 0.5248837 , 0.52488371, 0.52488371, 0.52488371,\n       0.52488371, 0.52488371, 0.52488372, 0.52488372, 0.52488372,\n       0.52488372, 0.52488372, 0.52488372, 0.52488372, 0.52488373,\n       0.52488373, 0.52488373, 0.52488373, 0.52488373, 0.52488373,\n       0.52488373, 0.52488373, 0.52488373, 0.52488373, 0.52488373,\n       0.52488373, 0.52488373, 0.52488373, 0.52488373, 0.52488373,\n       0.52488373, 0.52488373, 0.52488373, 0.52488373, 0.52488373,\n       0.52488373, 0.52488373, 0.52488373, 0.52488373, 0.52488373,\n       0.52488373, 0.52488373, 0.52488374, 0.52488374, 0.52488374,\n       0.52488374, 0.52488374, 0.52488374, 0.52488374, 0.52488374,\n       0.52488374, 0.52488374, 0.52488374, 0.52488374, 0.52488374,\n       0.52488374, 0.52488374, 0.52488374, 0.52488374, 0.52488374,\n       0.52488374, 0.52488374, 0.52488374, 0.52488374, 0.52488374,\n       0.52488374, 0.52488374, 0.52488374, 0.52488374, 0.52488374,\n       0.52488374, 0.52488374, 0.52488374, 0.52488374, 0.52488374,\n       0.52488374, 0.52488374, 0.52488374, 0.52488374, 0.52488374])"
     },
     "execution_count": 22,
     "metadata": {},
     "output_type": "execute_result"
    }
   ],
   "source": [
    "lasso_.mse_path_.mean(axis=1) #有注意到在岭回归中我们的轴向是axis=0吗？\n",
    "#在岭回归当中，我们是留一验证，因此我们的交叉验证结果返回的是，每一个样本在每个alpha下的交叉验证结果\n",
    "#因此我们要求每个alpha下的交叉验证均值，就是axis=0，跨行求均值\n",
    "#而在这里，我们返回的是，每一个alpha取值下，每一折交叉验证的结果\n",
    "#因此我们要求每个alpha下的交叉验证均值，就是axis=1，跨列求均值"
   ],
   "metadata": {
    "collapsed": false,
    "pycharm": {
     "name": "#%%\n"
    }
   }
  },
  {
   "cell_type": "code",
   "execution_count": 23,
   "outputs": [
    {
     "data": {
      "text/plain": "array([ 4.29867301e-01,  1.03623683e-02, -9.32648616e-02,  5.51755252e-01,\n        1.14732262e-06, -3.31941716e-03, -4.10451223e-01, -4.22410330e-01])"
     },
     "execution_count": 23,
     "metadata": {},
     "output_type": "execute_result"
    }
   ],
   "source": [
    "#最佳正则化系数下获得的模型的系数结果\n",
    "lasso_.coef_"
   ],
   "metadata": {
    "collapsed": false,
    "pycharm": {
     "name": "#%%\n"
    }
   }
  },
  {
   "cell_type": "code",
   "execution_count": 24,
   "outputs": [
    {
     "data": {
      "text/plain": "0.6038982670571436"
     },
     "execution_count": 24,
     "metadata": {},
     "output_type": "execute_result"
    }
   ],
   "source": [
    "lasso_.score(Xtest,Ytest)"
   ],
   "metadata": {
    "collapsed": false,
    "pycharm": {
     "name": "#%%\n"
    }
   }
  },
  {
   "cell_type": "code",
   "execution_count": 25,
   "outputs": [
    {
     "data": {
      "text/plain": "0.6043668160178817"
     },
     "execution_count": 25,
     "metadata": {},
     "output_type": "execute_result"
    }
   ],
   "source": [
    "#与线性回归相比如何？\n",
    "reg = LinearRegression().fit(Xtrain,Ytrain)\n",
    "reg.score(Xtest,Ytest)"
   ],
   "metadata": {
    "collapsed": false,
    "pycharm": {
     "name": "#%%\n"
    }
   }
  },
  {
   "cell_type": "code",
   "execution_count": 26,
   "outputs": [],
   "source": [
    "#使用lassoCV自带的正则化路径长度和路径中的alpha个数来自动建立alpha选择的范围\n",
    "ls_ = LassoCV(eps=0.00001\n",
    "             ,n_alphas=300\n",
    "             ,cv=5\n",
    "               ).fit(Xtrain, Ytrain)"
   ],
   "metadata": {
    "collapsed": false,
    "pycharm": {
     "name": "#%%\n"
    }
   }
  },
  {
   "cell_type": "code",
   "execution_count": 27,
   "outputs": [
    {
     "data": {
      "text/plain": "0.0020954551690628535"
     },
     "execution_count": 27,
     "metadata": {},
     "output_type": "execute_result"
    }
   ],
   "source": [
    "ls_.alpha_"
   ],
   "metadata": {
    "collapsed": false,
    "pycharm": {
     "name": "#%%\n"
    }
   }
  },
  {
   "cell_type": "code",
   "execution_count": 28,
   "outputs": [
    {
     "data": {
      "text/plain": "array([2.94059737e+01, 2.82952253e+01, 2.72264331e+01, 2.61980122e+01,\n       2.52084378e+01, 2.42562424e+01, 2.33400142e+01, 2.24583946e+01,\n       2.16100763e+01, 2.07938014e+01, 2.00083596e+01, 1.92525862e+01,\n       1.85253605e+01, 1.78256042e+01, 1.71522798e+01, 1.65043887e+01,\n       1.58809704e+01, 1.52811004e+01, 1.47038891e+01, 1.41484809e+01,\n       1.36140520e+01, 1.30998100e+01, 1.26049924e+01, 1.21288655e+01,\n       1.16707233e+01, 1.12298864e+01, 1.08057012e+01, 1.03975388e+01,\n       1.00047937e+01, 9.62688384e+00, 9.26324869e+00, 8.91334908e+00,\n       8.57666619e+00, 8.25270079e+00, 7.94097249e+00, 7.64101907e+00,\n       7.35239575e+00, 7.07467457e+00, 6.80744372e+00, 6.55030695e+00,\n       6.30288297e+00, 6.06480491e+00, 5.83571975e+00, 5.61528779e+00,\n       5.40318218e+00, 5.19908842e+00, 5.00270386e+00, 4.81373731e+00,\n       4.63190858e+00, 4.45694804e+00, 4.28859627e+00, 4.12660362e+00,\n       3.97072991e+00, 3.82074399e+00, 3.67642348e+00, 3.53755437e+00,\n       3.40393074e+00, 3.27535446e+00, 3.15163488e+00, 3.03258855e+00,\n       2.91803894e+00, 2.80781620e+00, 2.70175688e+00, 2.59970374e+00,\n       2.50150543e+00, 2.40701636e+00, 2.31609642e+00, 2.22861078e+00,\n       2.14442973e+00, 2.06342843e+00, 1.98548679e+00, 1.91048923e+00,\n       1.83832455e+00, 1.76888573e+00, 1.70206982e+00, 1.63777773e+00,\n       1.57591415e+00, 1.51638733e+00, 1.45910901e+00, 1.40399425e+00,\n       1.35096134e+00, 1.29993164e+00, 1.25082947e+00, 1.20358204e+00,\n       1.15811928e+00, 1.11437377e+00, 1.07228066e+00, 1.03177753e+00,\n       9.92804320e-01, 9.55303239e-01, 9.19218682e-01, 8.84497142e-01,\n       8.51087135e-01, 8.18939121e-01, 7.88005430e-01, 7.58240193e-01,\n       7.29599275e-01, 7.02040207e-01, 6.75522125e-01, 6.50005707e-01,\n       6.25453118e-01, 6.01827951e-01, 5.79095174e-01, 5.57221080e-01,\n       5.36173234e-01, 5.15920425e-01, 4.96432623e-01, 4.77680932e-01,\n       4.59637546e-01, 4.42275711e-01, 4.25569683e-01, 4.09494689e-01,\n       3.94026894e-01, 3.79143363e-01, 3.64822025e-01, 3.51041645e-01,\n       3.37781790e-01, 3.25022798e-01, 3.12745750e-01, 3.00932442e-01,\n       2.89565356e-01, 2.78627638e-01, 2.68103069e-01, 2.57976043e-01,\n       2.48231544e-01, 2.38855123e-01, 2.29832877e-01, 2.21151426e-01,\n       2.12797900e-01, 2.04759910e-01, 1.97025538e-01, 1.89583315e-01,\n       1.82422207e-01, 1.75531594e-01, 1.68901260e-01, 1.62521372e-01,\n       1.56382472e-01, 1.50475455e-01, 1.44791563e-01, 1.39322368e-01,\n       1.34059761e-01, 1.28995937e-01, 1.24123389e-01, 1.19434891e-01,\n       1.14923491e-01, 1.10582499e-01, 1.06405479e-01, 1.02386238e-01,\n       9.85188143e-02, 9.47974747e-02, 9.12167008e-02, 8.77711831e-02,\n       8.44558125e-02, 8.12656730e-02, 7.81960343e-02, 7.52423447e-02,\n       7.24002244e-02, 6.96654592e-02, 6.70339940e-02, 6.45019268e-02,\n       6.20655031e-02, 5.97211101e-02, 5.74652717e-02, 5.52946427e-02,\n       5.32060046e-02, 5.11962605e-02, 4.92624301e-02, 4.74016461e-02,\n       4.56111493e-02, 4.38882847e-02, 4.22304977e-02, 4.06353301e-02,\n       3.91004165e-02, 3.76234811e-02, 3.62023337e-02, 3.48348672e-02,\n       3.35190539e-02, 3.22529426e-02, 3.10346560e-02, 2.98623876e-02,\n       2.87343991e-02, 2.76490180e-02, 2.66046349e-02, 2.55997012e-02,\n       2.46327267e-02, 2.37022776e-02, 2.28069742e-02, 2.19454891e-02,\n       2.11165447e-02, 2.03189119e-02, 1.95514080e-02, 1.88128950e-02,\n       1.81022777e-02, 1.74185025e-02, 1.67605555e-02, 1.61274610e-02,\n       1.55182803e-02, 1.49321101e-02, 1.43680812e-02, 1.38253574e-02,\n       1.33031338e-02, 1.28006361e-02, 1.23171192e-02, 1.18518661e-02,\n       1.14041869e-02, 1.09734179e-02, 1.05589203e-02, 1.01600794e-02,\n       9.77630394e-03, 9.40702475e-03, 9.05169431e-03, 8.70978573e-03,\n       8.38079201e-03, 8.06422534e-03, 7.75961630e-03, 7.46651323e-03,\n       7.18448150e-03, 6.91310292e-03, 6.65197510e-03, 6.40071082e-03,\n       6.15893752e-03, 5.92629670e-03, 5.70244339e-03, 5.48704566e-03,\n       5.27978413e-03, 5.08035147e-03, 4.88845195e-03, 4.70380102e-03,\n       4.52612490e-03, 4.35516012e-03, 4.19065316e-03, 4.03236011e-03,\n       3.88004625e-03, 3.73348572e-03, 3.59246120e-03, 3.45676358e-03,\n       3.32619166e-03, 3.20055181e-03, 3.07965774e-03, 2.96333019e-03,\n       2.85139667e-03, 2.74369120e-03, 2.64005407e-03, 2.54033162e-03,\n       2.44437597e-03, 2.35204484e-03, 2.26320133e-03, 2.17771369e-03,\n       2.09545517e-03, 2.01630379e-03, 1.94014218e-03, 1.86685742e-03,\n       1.79634083e-03, 1.72848786e-03, 1.66319789e-03, 1.60037411e-03,\n       1.53992337e-03, 1.48175602e-03, 1.42578583e-03, 1.37192979e-03,\n       1.32010804e-03, 1.27024376e-03, 1.22226299e-03, 1.17609459e-03,\n       1.13167011e-03, 1.08892367e-03, 1.04779188e-03, 1.00821376e-03,\n       9.70130622e-04, 9.33485992e-04, 8.98225535e-04, 8.64296967e-04,\n       8.31649980e-04, 8.00236162e-04, 7.70008936e-04, 7.40923479e-04,\n       7.12936663e-04, 6.86006990e-04, 6.60094529e-04, 6.35160855e-04,\n       6.11168999e-04, 5.88083384e-04, 5.65869780e-04, 5.44495247e-04,\n       5.23928092e-04, 5.04137817e-04, 4.85095079e-04, 4.66771639e-04,\n       4.49140329e-04, 4.32175004e-04, 4.15850508e-04, 4.00142636e-04,\n       3.85028095e-04, 3.70484474e-04, 3.56490207e-04, 3.43024545e-04,\n       3.30067519e-04, 3.17599917e-04, 3.05603253e-04, 2.94059737e-04])"
     },
     "execution_count": 28,
     "metadata": {},
     "output_type": "execute_result"
    }
   ],
   "source": [
    "ls_.alphas_ #查看所有自动生成的alpha取值"
   ],
   "metadata": {
    "collapsed": false,
    "pycharm": {
     "name": "#%%\n"
    }
   }
  },
  {
   "cell_type": "code",
   "execution_count": 29,
   "outputs": [
    {
     "data": {
      "text/plain": "(300,)"
     },
     "execution_count": 29,
     "metadata": {},
     "output_type": "execute_result"
    }
   ],
   "source": [
    "ls_.alphas_.shape"
   ],
   "metadata": {
    "collapsed": false,
    "pycharm": {
     "name": "#%%\n"
    }
   }
  },
  {
   "cell_type": "code",
   "execution_count": 30,
   "outputs": [
    {
     "data": {
      "text/plain": "0.6038915423819201"
     },
     "execution_count": 30,
     "metadata": {},
     "output_type": "execute_result"
    }
   ],
   "source": [
    "ls_.score(Xtest,Ytest)"
   ],
   "metadata": {
    "collapsed": false,
    "pycharm": {
     "name": "#%%\n"
    }
   }
  },
  {
   "cell_type": "code",
   "execution_count": 31,
   "outputs": [
    {
     "data": {
      "text/plain": "array([ 4.29785372e-01,  1.03639989e-02, -9.31060823e-02,  5.50940621e-01,\n        1.15407943e-06, -3.31909776e-03, -4.10423420e-01, -4.22369926e-01])"
     },
     "execution_count": 31,
     "metadata": {},
     "output_type": "execute_result"
    }
   ],
   "source": [
    "ls_.coef_"
   ],
   "metadata": {
    "collapsed": false,
    "pycharm": {
     "name": "#%%\n"
    }
   }
  },
  {
   "cell_type": "code",
   "execution_count": null,
   "outputs": [],
   "source": [],
   "metadata": {
    "collapsed": false,
    "pycharm": {
     "name": "#%%\n"
    }
   }
  }
 ],
 "metadata": {
  "kernelspec": {
   "display_name": "Python 3",
   "language": "python",
   "name": "python3"
  },
  "language_info": {
   "codemirror_mode": {
    "name": "ipython",
    "version": 2
   },
   "file_extension": ".py",
   "mimetype": "text/x-python",
   "name": "python",
   "nbconvert_exporter": "python",
   "pygments_lexer": "ipython2",
   "version": "2.7.6"
  }
 },
 "nbformat": 4,
 "nbformat_minor": 0
}